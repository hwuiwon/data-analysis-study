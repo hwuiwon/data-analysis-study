{
  "nbformat": 4,
  "nbformat_minor": 0,
  "metadata": {
    "colab": {
      "name": "Big Data (Data Analysis) Study",
      "provenance": [],
      "collapsed_sections": [],
      "authorship_tag": "ABX9TyMWf7m/xrWrCA/u6VrIAkRb",
      "include_colab_link": true
    },
    "kernelspec": {
      "name": "ir",
      "display_name": "R"
    }
  },
  "cells": [
    {
      "cell_type": "markdown",
      "metadata": {
        "id": "view-in-github",
        "colab_type": "text"
      },
      "source": [
        "<a href=\"https://colab.research.google.com/github/hwuiwon/data-analysis-study/blob/master/Data_Analysis_Study.ipynb\" target=\"_parent\"><img src=\"https://colab.research.google.com/assets/colab-badge.svg\" alt=\"Open In Colab\"/></a>"
      ]
    },
    {
      "cell_type": "markdown",
      "metadata": {
        "id": "dJsHhHDFEXr8",
        "colab_type": "text"
      },
      "source": [
        "# **Big-data-study**\n",
        "\n",
        "https://kbig.kr/"
      ]
    },
    {
      "cell_type": "markdown",
      "metadata": {
        "id": "rhWJVo997kwo",
        "colab_type": "text"
      },
      "source": [
        "Click [this](https://colab.research.google.com/notebook#create=true&language=r) to create new R-Notebook."
      ]
    },
    {
      "cell_type": "code",
      "metadata": {
        "id": "avxTxKJy7JYT",
        "colab_type": "code",
        "colab": {}
      },
      "source": [
        "library(IRdisplay)"
      ],
      "execution_count": 0,
      "outputs": []
    },
    {
      "cell_type": "markdown",
      "metadata": {
        "id": "ip_Vrvh_GNkD",
        "colab_type": "text"
      },
      "source": [
        "## **Basics**"
      ]
    },
    {
      "cell_type": "markdown",
      "metadata": {
        "id": "WdwnI-JaICa6",
        "colab_type": "text"
      },
      "source": [
        "### **Coding (R)**"
      ]
    },
    {
      "cell_type": "markdown",
      "metadata": {
        "id": "IaU19kT6GQFo",
        "colab_type": "text"
      },
      "source": [
        "#### **Entering & Printing Values**"
      ]
    },
    {
      "cell_type": "code",
      "metadata": {
        "id": "RdYotdrG8d6k",
        "colab_type": "code",
        "outputId": "e4114d64-dfff-4d82-8512-1b2108d9c6ce",
        "colab": {
          "base_uri": "https://localhost:8080/",
          "height": 119
        }
      },
      "source": [
        "x <- 7\n",
        "user_name <- 'Hwuiwon'\n",
        "bool <- TRUE\n",
        "\n",
        "x\n",
        "user_name\n",
        "bool\n",
        "\n",
        "# use ; to list together\n",
        "class(x); class(user_name); class(bool)"
      ],
      "execution_count": 40,
      "outputs": [
        {
          "output_type": "display_data",
          "data": {
            "text/plain": [
              "[1] 7"
            ],
            "text/latex": "7",
            "text/markdown": "7",
            "text/html": [
              "7"
            ]
          },
          "metadata": {
            "tags": []
          }
        },
        {
          "output_type": "display_data",
          "data": {
            "text/plain": [
              "[1] \"Hwuiwon\""
            ],
            "text/latex": "'Hwuiwon'",
            "text/markdown": "'Hwuiwon'",
            "text/html": [
              "'Hwuiwon'"
            ]
          },
          "metadata": {
            "tags": []
          }
        },
        {
          "output_type": "display_data",
          "data": {
            "text/plain": [
              "[1] TRUE"
            ],
            "text/latex": "TRUE",
            "text/markdown": "TRUE",
            "text/html": [
              "TRUE"
            ]
          },
          "metadata": {
            "tags": []
          }
        },
        {
          "output_type": "display_data",
          "data": {
            "text/plain": [
              "[1] \"numeric\""
            ],
            "text/latex": "'numeric'",
            "text/markdown": "'numeric'",
            "text/html": [
              "'numeric'"
            ]
          },
          "metadata": {
            "tags": []
          }
        },
        {
          "output_type": "display_data",
          "data": {
            "text/plain": [
              "[1] \"character\""
            ],
            "text/latex": "'character'",
            "text/markdown": "'character'",
            "text/html": [
              "'character'"
            ]
          },
          "metadata": {
            "tags": []
          }
        },
        {
          "output_type": "display_data",
          "data": {
            "text/plain": [
              "[1] \"logical\""
            ],
            "text/latex": "'logical'",
            "text/markdown": "'logical'",
            "text/html": [
              "'logical'"
            ]
          },
          "metadata": {
            "tags": []
          }
        }
      ]
    },
    {
      "cell_type": "markdown",
      "metadata": {
        "id": "iTPbXGonGY0F",
        "colab_type": "text"
      },
      "source": [
        "#### **See List of Objects**"
      ]
    },
    {
      "cell_type": "code",
      "metadata": {
        "id": "wKQV4mO-GdcY",
        "colab_type": "code",
        "outputId": "802734ad-e83d-4214-db68-90fcc47ca9f4",
        "colab": {
          "base_uri": "https://localhost:8080/",
          "height": 34
        }
      },
      "source": [
        "ls()"
      ],
      "execution_count": 41,
      "outputs": [
        {
          "output_type": "display_data",
          "data": {
            "text/plain": [
              " [1] \"a\"         \"arr1\"      \"b\"         \"bool\"      \"c\"         \"col1\"     \n",
              " [7] \"grade\"     \"layer1\"    \"m1\"        \"m2\"        \"mx\"        \"mx2\"      \n",
              "[13] \"mx3\"       \"mx4\"       \"raw\"       \"raw1\"      \"raw2\"      \"raw3\"     \n",
              "[19] \"row1\"      \"user_name\" \"x\"         \"y\"         \"z\"        "
            ],
            "text/latex": "\\begin{enumerate*}\n\\item 'a'\n\\item 'arr1'\n\\item 'b'\n\\item 'bool'\n\\item 'c'\n\\item 'col1'\n\\item 'grade'\n\\item 'layer1'\n\\item 'm1'\n\\item 'm2'\n\\item 'mx'\n\\item 'mx2'\n\\item 'mx3'\n\\item 'mx4'\n\\item 'raw'\n\\item 'raw1'\n\\item 'raw2'\n\\item 'raw3'\n\\item 'row1'\n\\item 'user\\_name'\n\\item 'x'\n\\item 'y'\n\\item 'z'\n\\end{enumerate*}\n",
            "text/markdown": "1. 'a'\n2. 'arr1'\n3. 'b'\n4. 'bool'\n5. 'c'\n6. 'col1'\n7. 'grade'\n8. 'layer1'\n9. 'm1'\n10. 'm2'\n11. 'mx'\n12. 'mx2'\n13. 'mx3'\n14. 'mx4'\n15. 'raw'\n16. 'raw1'\n17. 'raw2'\n18. 'raw3'\n19. 'row1'\n20. 'user_name'\n21. 'x'\n22. 'y'\n23. 'z'\n\n\n",
            "text/html": [
              "<style>\n",
              ".list-inline {list-style: none; margin:0; padding: 0}\n",
              ".list-inline>li {display: inline-block}\n",
              ".list-inline>li:not(:last-child)::after {content: \"\\00b7\"; padding: 0 .5ex}\n",
              "</style>\n",
              "<ol class=list-inline><li>'a'</li><li>'arr1'</li><li>'b'</li><li>'bool'</li><li>'c'</li><li>'col1'</li><li>'grade'</li><li>'layer1'</li><li>'m1'</li><li>'m2'</li><li>'mx'</li><li>'mx2'</li><li>'mx3'</li><li>'mx4'</li><li>'raw'</li><li>'raw1'</li><li>'raw2'</li><li>'raw3'</li><li>'row1'</li><li>'user_name'</li><li>'x'</li><li>'y'</li><li>'z'</li></ol>\n"
            ]
          },
          "metadata": {
            "tags": []
          }
        }
      ]
    },
    {
      "cell_type": "markdown",
      "metadata": {
        "id": "a-PMvZztGili",
        "colab_type": "text"
      },
      "source": [
        "#### **Creating Graph**"
      ]
    },
    {
      "cell_type": "code",
      "metadata": {
        "id": "uYVgxU0SF5UJ",
        "colab_type": "code",
        "outputId": "2b29c42d-3a2f-4e7e-8d4f-4f4d79d0076e",
        "colab": {
          "base_uri": "https://localhost:8080/",
          "height": 437
        }
      },
      "source": [
        "# type: coordinate shape, col: color\n",
        "y <- c(1, 2, 3, 4)\n",
        "z <- c(5, 7, 10, 14)\n",
        "plot(y, z, type = \"o\", col = \"red\")"
      ],
      "execution_count": 42,
      "outputs": [
        {
          "output_type": "display_data",
          "data": {
            "image/png": "[encoded data removed]",
            "text/plain": [
              "plot without title"
            ]
          },
          "metadata": {
            "tags": [],
            "image/png": {
              "width": 420,
              "height": 420
            },
            "text/plain": {
              "width": 420,
              "height": 420
            }
          }
        }
      ]
    },
    {
      "cell_type": "markdown",
      "metadata": {
        "id": "i941A3B8Oivd",
        "colab_type": "text"
      },
      "source": [
        "#### **Data Object Types**"
      ]
    },
    {
      "cell_type": "markdown",
      "metadata": {
        "id": "8OHy5P_ZOmma",
        "colab_type": "text"
      },
      "source": [
        "Object Type | Element | Dimension | Data Type | Code\n",
        "--- | --- | --- | --- | ---\n",
        "Scalar | Single | 1 | numeric/character/logical | x <- 3\n",
        "Vector | Single/Multiple | 1 | numeric/character/logical | x <- c()\n",
        "Matrix | Single/Multiple | 2 | numeric/character/logical | x <- matrix()\n",
        "Array | Single/Multiple | 3 | numeric/character/logical | x <- array()\n",
        "Factor | Single/Multiple | 1 | numeric/character/logical | x <- factor()\n",
        "DataFrame | Single/Multiple | 2 | numeric/character/logical | x <- data.frame()\n",
        "List | Single/Multiple | Multi-dimensional | ALL DATA | x <- list()\n",
        "\n",
        "<br>\n",
        "x axis: column<br>y axis: row"
      ]
    },
    {
      "cell_type": "markdown",
      "metadata": {
        "id": "oPraKg7_wEez",
        "colab_type": "text"
      },
      "source": [
        "##### **Scalar**"
      ]
    },
    {
      "cell_type": "code",
      "metadata": {
        "id": "AUz469tXwGEn",
        "colab_type": "code",
        "colab": {
          "base_uri": "https://localhost:8080/",
          "height": 51
        },
        "outputId": "5c3c5b91-de92-49c0-9405-549fa8442fdb"
      },
      "source": [
        "x <- 5\n",
        "y <- 'Hello'\n",
        "\n",
        "x; y"
      ],
      "execution_count": 43,
      "outputs": [
        {
          "output_type": "display_data",
          "data": {
            "text/plain": [
              "[1] 5"
            ],
            "text/latex": "5",
            "text/markdown": "5",
            "text/html": [
              "5"
            ]
          },
          "metadata": {
            "tags": []
          }
        },
        {
          "output_type": "display_data",
          "data": {
            "text/plain": [
              "[1] \"Hello\""
            ],
            "text/latex": "'Hello'",
            "text/markdown": "'Hello'",
            "text/html": [
              "'Hello'"
            ]
          },
          "metadata": {
            "tags": []
          }
        }
      ]
    },
    {
      "cell_type": "markdown",
      "metadata": {
        "id": "VhkZDyTkSYKe",
        "colab_type": "text"
      },
      "source": [
        "##### **Vector**"
      ]
    },
    {
      "cell_type": "code",
      "metadata": {
        "id": "1Kkp2zweQk0v",
        "colab_type": "code",
        "outputId": "5bca612b-1cab-422e-d55d-9dd7694f4880",
        "colab": {
          "base_uri": "https://localhost:8080/",
          "height": 136
        }
      },
      "source": [
        "# NA: Not available\n",
        "a <- c(1, 3, 5, 7, NA, 9)\n",
        "b <- c(2, 4, 6, 8)\n",
        "\n",
        "# Indexing Vector\n",
        "a[2]\n",
        "a[c(5, 1)]\n",
        "a[c(1, 3:4, 6)]\n",
        "\n",
        "# Complementary set\n",
        "a[-5]\n",
        "a[-c(2, 4:6)]\n",
        "\n",
        "# Arithmetic operations\n",
        "a + 2\n",
        "\n",
        "# Combining vectors\n",
        "c <- c(a, b)\n",
        "c"
      ],
      "execution_count": 44,
      "outputs": [
        {
          "output_type": "display_data",
          "data": {
            "text/plain": [
              "[1] 3"
            ],
            "text/latex": "3",
            "text/markdown": "3",
            "text/html": [
              "3"
            ]
          },
          "metadata": {
            "tags": []
          }
        },
        {
          "output_type": "display_data",
          "data": {
            "text/plain": [
              "[1] NA  1"
            ],
            "text/latex": "\\begin{enumerate*}\n\\item <NA>\n\\item 1\n\\end{enumerate*}\n",
            "text/markdown": "1. &lt;NA&gt;\n2. 1\n\n\n",
            "text/html": [
              "<style>\n",
              ".list-inline {list-style: none; margin:0; padding: 0}\n",
              ".list-inline>li {display: inline-block}\n",
              ".list-inline>li:not(:last-child)::after {content: \"\\00b7\"; padding: 0 .5ex}\n",
              "</style>\n",
              "<ol class=list-inline><li>&lt;NA&gt;</li><li>1</li></ol>\n"
            ]
          },
          "metadata": {
            "tags": []
          }
        },
        {
          "output_type": "display_data",
          "data": {
            "text/plain": [
              "[1] 1 5 7 9"
            ],
            "text/latex": "\\begin{enumerate*}\n\\item 1\n\\item 5\n\\item 7\n\\item 9\n\\end{enumerate*}\n",
            "text/markdown": "1. 1\n2. 5\n3. 7\n4. 9\n\n\n",
            "text/html": [
              "<style>\n",
              ".list-inline {list-style: none; margin:0; padding: 0}\n",
              ".list-inline>li {display: inline-block}\n",
              ".list-inline>li:not(:last-child)::after {content: \"\\00b7\"; padding: 0 .5ex}\n",
              "</style>\n",
              "<ol class=list-inline><li>1</li><li>5</li><li>7</li><li>9</li></ol>\n"
            ]
          },
          "metadata": {
            "tags": []
          }
        },
        {
          "output_type": "display_data",
          "data": {
            "text/plain": [
              "[1] 1 3 5 7 9"
            ],
            "text/latex": "\\begin{enumerate*}\n\\item 1\n\\item 3\n\\item 5\n\\item 7\n\\item 9\n\\end{enumerate*}\n",
            "text/markdown": "1. 1\n2. 3\n3. 5\n4. 7\n5. 9\n\n\n",
            "text/html": [
              "<style>\n",
              ".list-inline {list-style: none; margin:0; padding: 0}\n",
              ".list-inline>li {display: inline-block}\n",
              ".list-inline>li:not(:last-child)::after {content: \"\\00b7\"; padding: 0 .5ex}\n",
              "</style>\n",
              "<ol class=list-inline><li>1</li><li>3</li><li>5</li><li>7</li><li>9</li></ol>\n"
            ]
          },
          "metadata": {
            "tags": []
          }
        },
        {
          "output_type": "display_data",
          "data": {
            "text/plain": [
              "[1] 1 5"
            ],
            "text/latex": "\\begin{enumerate*}\n\\item 1\n\\item 5\n\\end{enumerate*}\n",
            "text/markdown": "1. 1\n2. 5\n\n\n",
            "text/html": [
              "<style>\n",
              ".list-inline {list-style: none; margin:0; padding: 0}\n",
              ".list-inline>li {display: inline-block}\n",
              ".list-inline>li:not(:last-child)::after {content: \"\\00b7\"; padding: 0 .5ex}\n",
              "</style>\n",
              "<ol class=list-inline><li>1</li><li>5</li></ol>\n"
            ]
          },
          "metadata": {
            "tags": []
          }
        },
        {
          "output_type": "display_data",
          "data": {
            "text/plain": [
              "[1]  3  5  7  9 NA 11"
            ],
            "text/latex": "\\begin{enumerate*}\n\\item 3\n\\item 5\n\\item 7\n\\item 9\n\\item <NA>\n\\item 11\n\\end{enumerate*}\n",
            "text/markdown": "1. 3\n2. 5\n3. 7\n4. 9\n5. &lt;NA&gt;\n6. 11\n\n\n",
            "text/html": [
              "<style>\n",
              ".list-inline {list-style: none; margin:0; padding: 0}\n",
              ".list-inline>li {display: inline-block}\n",
              ".list-inline>li:not(:last-child)::after {content: \"\\00b7\"; padding: 0 .5ex}\n",
              "</style>\n",
              "<ol class=list-inline><li>3</li><li>5</li><li>7</li><li>9</li><li>&lt;NA&gt;</li><li>11</li></ol>\n"
            ]
          },
          "metadata": {
            "tags": []
          }
        },
        {
          "output_type": "display_data",
          "data": {
            "text/plain": [
              " [1]  1  3  5  7 NA  9  2  4  6  8"
            ],
            "text/latex": "\\begin{enumerate*}\n\\item 1\n\\item 3\n\\item 5\n\\item 7\n\\item <NA>\n\\item 9\n\\item 2\n\\item 4\n\\item 6\n\\item 8\n\\end{enumerate*}\n",
            "text/markdown": "1. 1\n2. 3\n3. 5\n4. 7\n5. &lt;NA&gt;\n6. 9\n7. 2\n8. 4\n9. 6\n10. 8\n\n\n",
            "text/html": [
              "<style>\n",
              ".list-inline {list-style: none; margin:0; padding: 0}\n",
              ".list-inline>li {display: inline-block}\n",
              ".list-inline>li:not(:last-child)::after {content: \"\\00b7\"; padding: 0 .5ex}\n",
              "</style>\n",
              "<ol class=list-inline><li>1</li><li>3</li><li>5</li><li>7</li><li>&lt;NA&gt;</li><li>9</li><li>2</li><li>4</li><li>6</li><li>8</li></ol>\n"
            ]
          },
          "metadata": {
            "tags": []
          }
        }
      ]
    },
    {
      "cell_type": "markdown",
      "metadata": {
        "id": "hIZaf0p1SdoS",
        "colab_type": "text"
      },
      "source": [
        "##### **Matrix**"
      ]
    },
    {
      "cell_type": "code",
      "metadata": {
        "id": "sOlvuavZSe7Q",
        "colab_type": "code",
        "outputId": "dcd764ea-9281-41b8-e03e-4ebc33219fd9",
        "colab": {
          "base_uri": "https://localhost:8080/",
          "height": 939
        }
      },
      "source": [
        "mx <- matrix(data = c(1, 2, 3, 4, 5, 6), nrow = 2)\n",
        "mx ; class(mx)\n",
        "\n",
        "# byrow: fill matrix row by row\n",
        "grade <- c('A+', 'A0', 'A-', 'B+', 'B0', 'B-', 'C+', 'C0', 'C-', 'D+', 'D0', 'D-')\n",
        "mx2 <- matrix(data = grade, ncol = 3, byrow = T)\n",
        "mx2\n",
        "\n",
        "# Bind by row\n",
        "m1 <- c(5, -2, 9:11)\n",
        "m2 <- c(1, -6:-3)\n",
        "mx3 <- rbind(m1, m2)\n",
        "mx3\n",
        "\n",
        "# Bind by column\n",
        "mx4 <- cbind(m1, m2)\n",
        "mx4\n",
        "\n",
        "# See names\n",
        "rownames(mx4); colnames(mx4)\n",
        "\n",
        "# Set names\n",
        "rownames(mx4) <- c('One', 'Two', 'Three', 'Four', 'Five')\n",
        "colnames(mx4) <- c('Uno', 'Dos')\n",
        "mx4\n",
        "\n",
        "# Indexing particular row & columns\n",
        "mx4[c('One', 'Four'), ]\n",
        "mx4[, 'Dos']\n",
        "mx4[1, 2] ; mx4['Two', 'Uno']"
      ],
      "execution_count": 45,
      "outputs": [
        {
          "output_type": "display_data",
          "data": {
            "text/plain": [
              "     [,1] [,2] [,3]\n",
              "[1,] 1    3    5   \n",
              "[2,] 2    4    6   "
            ],
            "text/latex": "A matrix: 2 × 3 of type dbl\n\\begin{tabular}{lll}\n\t 1 & 3 & 5\\\\\n\t 2 & 4 & 6\\\\\n\\end{tabular}\n",
            "text/markdown": "\nA matrix: 2 × 3 of type dbl\n\n| 1 | 3 | 5 |\n| 2 | 4 | 6 |\n\n",
            "text/html": [
              "<table>\n",
              "<caption>A matrix: 2 × 3 of type dbl</caption>\n",
              "<tbody>\n",
              "\t<tr><td>1</td><td>3</td><td>5</td></tr>\n",
              "\t<tr><td>2</td><td>4</td><td>6</td></tr>\n",
              "</tbody>\n",
              "</table>\n"
            ]
          },
          "metadata": {
            "tags": []
          }
        },
        {
          "output_type": "display_data",
          "data": {
            "text/plain": [
              "[1] \"matrix\""
            ],
            "text/latex": "'matrix'",
            "text/markdown": "'matrix'",
            "text/html": [
              "'matrix'"
            ]
          },
          "metadata": {
            "tags": []
          }
        },
        {
          "output_type": "display_data",
          "data": {
            "text/plain": [
              "     [,1] [,2] [,3]\n",
              "[1,] A+   A0   A-  \n",
              "[2,] B+   B0   B-  \n",
              "[3,] C+   C0   C-  \n",
              "[4,] D+   D0   D-  "
            ],
            "text/latex": "A matrix: 4 × 3 of type chr\n\\begin{tabular}{lll}\n\t A+ & A0 & A-\\\\\n\t B+ & B0 & B-\\\\\n\t C+ & C0 & C-\\\\\n\t D+ & D0 & D-\\\\\n\\end{tabular}\n",
            "text/markdown": "\nA matrix: 4 × 3 of type chr\n\n| A+ | A0 | A- |\n| B+ | B0 | B- |\n| C+ | C0 | C- |\n| D+ | D0 | D- |\n\n",
            "text/html": [
              "<table>\n",
              "<caption>A matrix: 4 × 3 of type chr</caption>\n",
              "<tbody>\n",
              "\t<tr><td>A+</td><td>A0</td><td>A-</td></tr>\n",
              "\t<tr><td>B+</td><td>B0</td><td>B-</td></tr>\n",
              "\t<tr><td>C+</td><td>C0</td><td>C-</td></tr>\n",
              "\t<tr><td>D+</td><td>D0</td><td>D-</td></tr>\n",
              "</tbody>\n",
              "</table>\n"
            ]
          },
          "metadata": {
            "tags": []
          }
        },
        {
          "output_type": "display_data",
          "data": {
            "text/plain": [
              "   [,1] [,2] [,3] [,4] [,5]\n",
              "m1 5    -2    9   10   11  \n",
              "m2 1    -6   -5   -4   -3  "
            ],
            "text/latex": "A matrix: 2 × 5 of type dbl\n\\begin{tabular}{r|lllll}\n\tm1 & 5 & -2 &  9 & 10 & 11\\\\\n\tm2 & 1 & -6 & -5 & -4 & -3\\\\\n\\end{tabular}\n",
            "text/markdown": "\nA matrix: 2 × 5 of type dbl\n\n| m1 | 5 | -2 |  9 | 10 | 11 |\n| m2 | 1 | -6 | -5 | -4 | -3 |\n\n",
            "text/html": [
              "<table>\n",
              "<caption>A matrix: 2 × 5 of type dbl</caption>\n",
              "<tbody>\n",
              "\t<tr><th scope=row>m1</th><td>5</td><td>-2</td><td> 9</td><td>10</td><td>11</td></tr>\n",
              "\t<tr><th scope=row>m2</th><td>1</td><td>-6</td><td>-5</td><td>-4</td><td>-3</td></tr>\n",
              "</tbody>\n",
              "</table>\n"
            ]
          },
          "metadata": {
            "tags": []
          }
        },
        {
          "output_type": "display_data",
          "data": {
            "text/plain": [
              "     m1 m2\n",
              "[1,]  5  1\n",
              "[2,] -2 -6\n",
              "[3,]  9 -5\n",
              "[4,] 10 -4\n",
              "[5,] 11 -3"
            ],
            "text/latex": "A matrix: 5 × 2 of type dbl\n\\begin{tabular}{ll}\n m1 & m2\\\\\n\\hline\n\t  5 &  1\\\\\n\t -2 & -6\\\\\n\t  9 & -5\\\\\n\t 10 & -4\\\\\n\t 11 & -3\\\\\n\\end{tabular}\n",
            "text/markdown": "\nA matrix: 5 × 2 of type dbl\n\n| m1 | m2 |\n|---|---|\n|  5 |  1 |\n| -2 | -6 |\n|  9 | -5 |\n| 10 | -4 |\n| 11 | -3 |\n\n",
            "text/html": [
              "<table>\n",
              "<caption>A matrix: 5 × 2 of type dbl</caption>\n",
              "<thead>\n",
              "\t<tr><th scope=col>m1</th><th scope=col>m2</th></tr>\n",
              "</thead>\n",
              "<tbody>\n",
              "\t<tr><td> 5</td><td> 1</td></tr>\n",
              "\t<tr><td>-2</td><td>-6</td></tr>\n",
              "\t<tr><td> 9</td><td>-5</td></tr>\n",
              "\t<tr><td>10</td><td>-4</td></tr>\n",
              "\t<tr><td>11</td><td>-3</td></tr>\n",
              "</tbody>\n",
              "</table>\n"
            ]
          },
          "metadata": {
            "tags": []
          }
        },
        {
          "output_type": "display_data",
          "data": {
            "text/plain": [
              "NULL"
            ]
          },
          "metadata": {
            "tags": []
          }
        },
        {
          "output_type": "display_data",
          "data": {
            "text/plain": [
              "[1] \"m1\" \"m2\""
            ],
            "text/latex": "\\begin{enumerate*}\n\\item 'm1'\n\\item 'm2'\n\\end{enumerate*}\n",
            "text/markdown": "1. 'm1'\n2. 'm2'\n\n\n",
            "text/html": [
              "<style>\n",
              ".list-inline {list-style: none; margin:0; padding: 0}\n",
              ".list-inline>li {display: inline-block}\n",
              ".list-inline>li:not(:last-child)::after {content: \"\\00b7\"; padding: 0 .5ex}\n",
              "</style>\n",
              "<ol class=list-inline><li>'m1'</li><li>'m2'</li></ol>\n"
            ]
          },
          "metadata": {
            "tags": []
          }
        },
        {
          "output_type": "display_data",
          "data": {
            "text/plain": [
              "      Uno Dos\n",
              "One    5   1 \n",
              "Two   -2  -6 \n",
              "Three  9  -5 \n",
              "Four  10  -4 \n",
              "Five  11  -3 "
            ],
            "text/latex": "A matrix: 5 × 2 of type dbl\n\\begin{tabular}{r|ll}\n  & Uno & Dos\\\\\n\\hline\n\tOne &  5 &  1\\\\\n\tTwo & -2 & -6\\\\\n\tThree &  9 & -5\\\\\n\tFour & 10 & -4\\\\\n\tFive & 11 & -3\\\\\n\\end{tabular}\n",
            "text/markdown": "\nA matrix: 5 × 2 of type dbl\n\n| <!--/--> | Uno | Dos |\n|---|---|---|\n| One |  5 |  1 |\n| Two | -2 | -6 |\n| Three |  9 | -5 |\n| Four | 10 | -4 |\n| Five | 11 | -3 |\n\n",
            "text/html": [
              "<table>\n",
              "<caption>A matrix: 5 × 2 of type dbl</caption>\n",
              "<thead>\n",
              "\t<tr><th></th><th scope=col>Uno</th><th scope=col>Dos</th></tr>\n",
              "</thead>\n",
              "<tbody>\n",
              "\t<tr><th scope=row>One</th><td> 5</td><td> 1</td></tr>\n",
              "\t<tr><th scope=row>Two</th><td>-2</td><td>-6</td></tr>\n",
              "\t<tr><th scope=row>Three</th><td> 9</td><td>-5</td></tr>\n",
              "\t<tr><th scope=row>Four</th><td>10</td><td>-4</td></tr>\n",
              "\t<tr><th scope=row>Five</th><td>11</td><td>-3</td></tr>\n",
              "</tbody>\n",
              "</table>\n"
            ]
          },
          "metadata": {
            "tags": []
          }
        },
        {
          "output_type": "display_data",
          "data": {
            "text/plain": [
              "     Uno Dos\n",
              "One   5   1 \n",
              "Four 10  -4 "
            ],
            "text/latex": "A matrix: 2 × 2 of type dbl\n\\begin{tabular}{r|ll}\n  & Uno & Dos\\\\\n\\hline\n\tOne &  5 &  1\\\\\n\tFour & 10 & -4\\\\\n\\end{tabular}\n",
            "text/markdown": "\nA matrix: 2 × 2 of type dbl\n\n| <!--/--> | Uno | Dos |\n|---|---|---|\n| One |  5 |  1 |\n| Four | 10 | -4 |\n\n",
            "text/html": [
              "<table>\n",
              "<caption>A matrix: 2 × 2 of type dbl</caption>\n",
              "<thead>\n",
              "\t<tr><th></th><th scope=col>Uno</th><th scope=col>Dos</th></tr>\n",
              "</thead>\n",
              "<tbody>\n",
              "\t<tr><th scope=row>One</th><td> 5</td><td> 1</td></tr>\n",
              "\t<tr><th scope=row>Four</th><td>10</td><td>-4</td></tr>\n",
              "</tbody>\n",
              "</table>\n"
            ]
          },
          "metadata": {
            "tags": []
          }
        },
        {
          "output_type": "display_data",
          "data": {
            "text/plain": [
              "  One   Two Three  Four  Five \n",
              "    1    -6    -5    -4    -3 "
            ],
            "text/latex": "\\begin{description*}\n\\item[One] 1\n\\item[Two] -6\n\\item[Three] -5\n\\item[Four] -4\n\\item[Five] -3\n\\end{description*}\n",
            "text/markdown": "One\n:   1Two\n:   -6Three\n:   -5Four\n:   -4Five\n:   -3\n\n",
            "text/html": [
              "<style>\n",
              ".dl-inline {width: auto; margin:0; padding: 0}\n",
              ".dl-inline>dt, .dl-inline>dd {float: none; width: auto; display: inline-block}\n",
              ".dl-inline>dt::after {content: \":\\0020\"; padding-right: .5ex}\n",
              ".dl-inline>dt:not(:first-of-type) {padding-left: .5ex}\n",
              "</style><dl class=dl-inline><dt>One</dt><dd>1</dd><dt>Two</dt><dd>-6</dd><dt>Three</dt><dd>-5</dd><dt>Four</dt><dd>-4</dd><dt>Five</dt><dd>-3</dd></dl>\n"
            ]
          },
          "metadata": {
            "tags": []
          }
        },
        {
          "output_type": "display_data",
          "data": {
            "text/plain": [
              "[1] 1"
            ],
            "text/latex": "1",
            "text/markdown": "1",
            "text/html": [
              "1"
            ]
          },
          "metadata": {
            "tags": []
          }
        },
        {
          "output_type": "display_data",
          "data": {
            "text/plain": [
              "[1] -2"
            ],
            "text/latex": "-2",
            "text/markdown": "-2",
            "text/html": [
              "-2"
            ]
          },
          "metadata": {
            "tags": []
          }
        }
      ]
    },
    {
      "cell_type": "markdown",
      "metadata": {
        "id": "SuHT-a4YstRN",
        "colab_type": "text"
      },
      "source": [
        "##### **Array**"
      ]
    },
    {
      "cell_type": "code",
      "metadata": {
        "id": "EHUMp5XEsu5c",
        "colab_type": "code",
        "colab": {
          "base_uri": "https://localhost:8080/",
          "height": 260
        },
        "outputId": "a7b1cc60-6da7-4855-bbe1-cb397825034b"
      },
      "source": [
        "raw1 <- c(0, 1, 2, NA, 4, 5, 6, 7)\n",
        "raw2 <- c(8, 9, 10, 11, NA, 13, 14, 15)\n",
        "raw3 <- c(16, 17, 18, 19, 20, NA, 22, 23)\n",
        "\n",
        "raw <- c(raw1, raw2, raw3)\n",
        "raw\n",
        "\n",
        "# Create array with vector\n",
        "# dim: row, column, layer\n",
        "arr1 <- array(data = raw, dim = c(4, 2, 3))\n",
        "arr1; class(arr1)\n",
        "\n",
        "# Make names\n",
        "layer1 <- c('US', 'EU', 'AP')\n",
        "row1 <- c('One', 'Two', 'Three', 'Four')\n",
        "col1 <- c('Uno', 'Dos')\n",
        "\n",
        "# Set dimension names\n",
        "dimnames(arr1) <- list(row1, col1, layer1)\n",
        "arr1\n",
        "\n",
        "# Index particular layer\n",
        "arr1[1, , 'US']\n",
        "arr1[, , c('US', 'AP')]\n",
        "arr1[1:4, 'Uno', ]"
      ],
      "execution_count": 46,
      "outputs": [
        {
          "output_type": "display_data",
          "data": {
            "text/plain": [
              " [1]  0  1  2 NA  4  5  6  7  8  9 10 11 NA 13 14 15 16 17 18 19 20 NA 22 23"
            ],
            "text/latex": "\\begin{enumerate*}\n\\item 0\n\\item 1\n\\item 2\n\\item <NA>\n\\item 4\n\\item 5\n\\item 6\n\\item 7\n\\item 8\n\\item 9\n\\item 10\n\\item 11\n\\item <NA>\n\\item 13\n\\item 14\n\\item 15\n\\item 16\n\\item 17\n\\item 18\n\\item 19\n\\item 20\n\\item <NA>\n\\item 22\n\\item 23\n\\end{enumerate*}\n",
            "text/markdown": "1. 0\n2. 1\n3. 2\n4. &lt;NA&gt;\n5. 4\n6. 5\n7. 6\n8. 7\n9. 8\n10. 9\n11. 10\n12. 11\n13. &lt;NA&gt;\n14. 13\n15. 14\n16. 15\n17. 16\n18. 17\n19. 18\n20. 19\n21. 20\n22. &lt;NA&gt;\n23. 22\n24. 23\n\n\n",
            "text/html": [
              "<style>\n",
              ".list-inline {list-style: none; margin:0; padding: 0}\n",
              ".list-inline>li {display: inline-block}\n",
              ".list-inline>li:not(:last-child)::after {content: \"\\00b7\"; padding: 0 .5ex}\n",
              "</style>\n",
              "<ol class=list-inline><li>0</li><li>1</li><li>2</li><li>&lt;NA&gt;</li><li>4</li><li>5</li><li>6</li><li>7</li><li>8</li><li>9</li><li>10</li><li>11</li><li>&lt;NA&gt;</li><li>13</li><li>14</li><li>15</li><li>16</li><li>17</li><li>18</li><li>19</li><li>20</li><li>&lt;NA&gt;</li><li>22</li><li>23</li></ol>\n"
            ]
          },
          "metadata": {
            "tags": []
          }
        },
        {
          "output_type": "display_data",
          "data": {
            "text/plain": [
              ", , 1\n",
              "\n",
              "     [,1] [,2]\n",
              "[1,]    0    4\n",
              "[2,]    1    5\n",
              "[3,]    2    6\n",
              "[4,]   NA    7\n",
              "\n",
              ", , 2\n",
              "\n",
              "     [,1] [,2]\n",
              "[1,]    8   NA\n",
              "[2,]    9   13\n",
              "[3,]   10   14\n",
              "[4,]   11   15\n",
              "\n",
              ", , 3\n",
              "\n",
              "     [,1] [,2]\n",
              "[1,]   16   20\n",
              "[2,]   17   NA\n",
              "[3,]   18   22\n",
              "[4,]   19   23\n"
            ],
            "text/latex": "\\begin{enumerate*}\n\\item 0\n\\item 1\n\\item 2\n\\item <NA>\n\\item 4\n\\item 5\n\\item 6\n\\item 7\n\\item 8\n\\item 9\n\\item 10\n\\item 11\n\\item <NA>\n\\item 13\n\\item 14\n\\item 15\n\\item 16\n\\item 17\n\\item 18\n\\item 19\n\\item 20\n\\item <NA>\n\\item 22\n\\item 23\n\\end{enumerate*}\n",
            "text/markdown": "1. 0\n2. 1\n3. 2\n4. &lt;NA&gt;\n5. 4\n6. 5\n7. 6\n8. 7\n9. 8\n10. 9\n11. 10\n12. 11\n13. &lt;NA&gt;\n14. 13\n15. 14\n16. 15\n17. 16\n18. 17\n19. 18\n20. 19\n21. 20\n22. &lt;NA&gt;\n23. 22\n24. 23\n\n\n",
            "text/html": [
              "<style>\n",
              ".list-inline {list-style: none; margin:0; padding: 0}\n",
              ".list-inline>li {display: inline-block}\n",
              ".list-inline>li:not(:last-child)::after {content: \"\\00b7\"; padding: 0 .5ex}\n",
              "</style>\n",
              "<ol class=list-inline><li>0</li><li>1</li><li>2</li><li>&lt;NA&gt;</li><li>4</li><li>5</li><li>6</li><li>7</li><li>8</li><li>9</li><li>10</li><li>11</li><li>&lt;NA&gt;</li><li>13</li><li>14</li><li>15</li><li>16</li><li>17</li><li>18</li><li>19</li><li>20</li><li>&lt;NA&gt;</li><li>22</li><li>23</li></ol>\n"
            ]
          },
          "metadata": {
            "tags": []
          }
        },
        {
          "output_type": "display_data",
          "data": {
            "text/plain": [
              "[1] \"array\""
            ],
            "text/latex": "'array'",
            "text/markdown": "'array'",
            "text/html": [
              "'array'"
            ]
          },
          "metadata": {
            "tags": []
          }
        },
        {
          "output_type": "display_data",
          "data": {
            "text/plain": [
              ", , US\n",
              "\n",
              "      Uno Dos\n",
              "One     0   4\n",
              "Two     1   5\n",
              "Three   2   6\n",
              "Four   NA   7\n",
              "\n",
              ", , EU\n",
              "\n",
              "      Uno Dos\n",
              "One     8  NA\n",
              "Two     9  13\n",
              "Three  10  14\n",
              "Four   11  15\n",
              "\n",
              ", , AP\n",
              "\n",
              "      Uno Dos\n",
              "One    16  20\n",
              "Two    17  NA\n",
              "Three  18  22\n",
              "Four   19  23\n"
            ],
            "text/latex": "\\begin{enumerate*}\n\\item 0\n\\item 1\n\\item 2\n\\item <NA>\n\\item 4\n\\item 5\n\\item 6\n\\item 7\n\\item 8\n\\item 9\n\\item 10\n\\item 11\n\\item <NA>\n\\item 13\n\\item 14\n\\item 15\n\\item 16\n\\item 17\n\\item 18\n\\item 19\n\\item 20\n\\item <NA>\n\\item 22\n\\item 23\n\\end{enumerate*}\n",
            "text/markdown": "1. 0\n2. 1\n3. 2\n4. &lt;NA&gt;\n5. 4\n6. 5\n7. 6\n8. 7\n9. 8\n10. 9\n11. 10\n12. 11\n13. &lt;NA&gt;\n14. 13\n15. 14\n16. 15\n17. 16\n18. 17\n19. 18\n20. 19\n21. 20\n22. &lt;NA&gt;\n23. 22\n24. 23\n\n\n",
            "text/html": [
              "<style>\n",
              ".list-inline {list-style: none; margin:0; padding: 0}\n",
              ".list-inline>li {display: inline-block}\n",
              ".list-inline>li:not(:last-child)::after {content: \"\\00b7\"; padding: 0 .5ex}\n",
              "</style>\n",
              "<ol class=list-inline><li>0</li><li>1</li><li>2</li><li>&lt;NA&gt;</li><li>4</li><li>5</li><li>6</li><li>7</li><li>8</li><li>9</li><li>10</li><li>11</li><li>&lt;NA&gt;</li><li>13</li><li>14</li><li>15</li><li>16</li><li>17</li><li>18</li><li>19</li><li>20</li><li>&lt;NA&gt;</li><li>22</li><li>23</li></ol>\n"
            ]
          },
          "metadata": {
            "tags": []
          }
        },
        {
          "output_type": "display_data",
          "data": {
            "text/plain": [
              "Uno Dos \n",
              "  0   4 "
            ],
            "text/latex": "\\begin{description*}\n\\item[Uno] 0\n\\item[Dos] 4\n\\end{description*}\n",
            "text/markdown": "Uno\n:   0Dos\n:   4\n\n",
            "text/html": [
              "<style>\n",
              ".dl-inline {width: auto; margin:0; padding: 0}\n",
              ".dl-inline>dt, .dl-inline>dd {float: none; width: auto; display: inline-block}\n",
              ".dl-inline>dt::after {content: \":\\0020\"; padding-right: .5ex}\n",
              ".dl-inline>dt:not(:first-of-type) {padding-left: .5ex}\n",
              "</style><dl class=dl-inline><dt>Uno</dt><dd>0</dd><dt>Dos</dt><dd>4</dd></dl>\n"
            ]
          },
          "metadata": {
            "tags": []
          }
        },
        {
          "output_type": "display_data",
          "data": {
            "text/plain": [
              ", , US\n",
              "\n",
              "      Uno Dos\n",
              "One     0   4\n",
              "Two     1   5\n",
              "Three   2   6\n",
              "Four   NA   7\n",
              "\n",
              ", , AP\n",
              "\n",
              "      Uno Dos\n",
              "One    16  20\n",
              "Two    17  NA\n",
              "Three  18  22\n",
              "Four   19  23\n"
            ],
            "text/latex": "\\begin{enumerate*}\n\\item 0\n\\item 1\n\\item 2\n\\item <NA>\n\\item 4\n\\item 5\n\\item 6\n\\item 7\n\\item 16\n\\item 17\n\\item 18\n\\item 19\n\\item 20\n\\item <NA>\n\\item 22\n\\item 23\n\\end{enumerate*}\n",
            "text/markdown": "1. 0\n2. 1\n3. 2\n4. &lt;NA&gt;\n5. 4\n6. 5\n7. 6\n8. 7\n9. 16\n10. 17\n11. 18\n12. 19\n13. 20\n14. &lt;NA&gt;\n15. 22\n16. 23\n\n\n",
            "text/html": [
              "<style>\n",
              ".list-inline {list-style: none; margin:0; padding: 0}\n",
              ".list-inline>li {display: inline-block}\n",
              ".list-inline>li:not(:last-child)::after {content: \"\\00b7\"; padding: 0 .5ex}\n",
              "</style>\n",
              "<ol class=list-inline><li>0</li><li>1</li><li>2</li><li>&lt;NA&gt;</li><li>4</li><li>5</li><li>6</li><li>7</li><li>16</li><li>17</li><li>18</li><li>19</li><li>20</li><li>&lt;NA&gt;</li><li>22</li><li>23</li></ol>\n"
            ]
          },
          "metadata": {
            "tags": []
          }
        },
        {
          "output_type": "display_data",
          "data": {
            "text/plain": [
              "      US EU AP\n",
              "One    0  8 16\n",
              "Two    1  9 17\n",
              "Three  2 10 18\n",
              "Four  NA 11 19"
            ],
            "text/latex": "A matrix: 4 × 3 of type dbl\n\\begin{tabular}{r|lll}\n  & US & EU & AP\\\\\n\\hline\n\tOne &  0 &  8 & 16\\\\\n\tTwo &  1 &  9 & 17\\\\\n\tThree &  2 & 10 & 18\\\\\n\tFour & NA & 11 & 19\\\\\n\\end{tabular}\n",
            "text/markdown": "\nA matrix: 4 × 3 of type dbl\n\n| <!--/--> | US | EU | AP |\n|---|---|---|---|\n| One |  0 |  8 | 16 |\n| Two |  1 |  9 | 17 |\n| Three |  2 | 10 | 18 |\n| Four | NA | 11 | 19 |\n\n",
            "text/html": [
              "<table>\n",
              "<caption>A matrix: 4 × 3 of type dbl</caption>\n",
              "<thead>\n",
              "\t<tr><th></th><th scope=col>US</th><th scope=col>EU</th><th scope=col>AP</th></tr>\n",
              "</thead>\n",
              "<tbody>\n",
              "\t<tr><th scope=row>One</th><td> 0</td><td> 8</td><td>16</td></tr>\n",
              "\t<tr><th scope=row>Two</th><td> 1</td><td> 9</td><td>17</td></tr>\n",
              "\t<tr><th scope=row>Three</th><td> 2</td><td>10</td><td>18</td></tr>\n",
              "\t<tr><th scope=row>Four</th><td>NA</td><td>11</td><td>19</td></tr>\n",
              "</tbody>\n",
              "</table>\n"
            ]
          },
          "metadata": {
            "tags": []
          }
        }
      ]
    },
    {
      "cell_type": "markdown",
      "metadata": {
        "id": "O1c2-nEpINSM",
        "colab_type": "text"
      },
      "source": [
        "### **Types of Dataset**"
      ]
    },
    {
      "cell_type": "markdown",
      "metadata": {
        "id": "UialdcifKGU5",
        "colab_type": "text"
      },
      "source": [
        "We need to convert data into **structured data** form to analyze."
      ]
    },
    {
      "cell_type": "markdown",
      "metadata": {
        "id": "UvML-Jg7IShX",
        "colab_type": "text"
      },
      "source": [
        "#### **Structured Data**\n",
        "\n",
        "1. Plain text file\n",
        "2. Excel file (xlsx, csv, ...)\n",
        "3. Dataset file format used in commercial softwares (SAS, SPSS, Stata, Matlab, ...)\n",
        "4. DB files"
      ]
    },
    {
      "cell_type": "markdown",
      "metadata": {
        "id": "Zq5s8GloIiUY",
        "colab_type": "text"
      },
      "source": [
        "#### **Semi-Structured Data**\n",
        "\n",
        "1. JSON (JavaScript Object Notation) File\n",
        "2. XML File"
      ]
    },
    {
      "cell_type": "markdown",
      "metadata": {
        "id": "Zg1O_jGXInaA",
        "colab_type": "text"
      },
      "source": [
        "#### **Atypical Data**\n",
        "\n",
        "1. Not structured text file\n",
        "2. Image file\n",
        "3. Audio or Video file\n",
        "4. Data files that could only be open with exclusive software (Rdata, ...)"
      ]
    },
    {
      "cell_type": "markdown",
      "metadata": {
        "id": "ProS1vMHK2Mz",
        "colab_type": "text"
      },
      "source": [
        "**Dataset Sources**\n",
        "\n",
        "> [Kaggle](https://www.kaggle.com/)<br>\n",
        "> [UCI Machine Learning Repository](https://archive.ics.uci.edu/ml/index.php)<br>\n",
        "> [Data.gov](http://data.gov/)<br>\n",
        "> [공공데이터포털](http://data.go.kr/) | [서울 열린데이터 광장](http://data.seoul.go.kr/) | [K-ICT 빅데이터 센터](https://kbig.kr/portal/)<br>\n",
        "> [SK Big Data Hub](https://www.bigdatahub.co.kr/) | [Naver DataLab](https://datalab.naver.com/) | [Daum SomeTrend](https://some.co.kr/)<br>\n",
        "> Web scraping"
      ]
    }
  ]
}