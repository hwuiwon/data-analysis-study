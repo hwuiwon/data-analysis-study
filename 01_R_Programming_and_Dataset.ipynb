{
  "nbformat": 4,
  "nbformat_minor": 0,
  "metadata": {
    "colab": {
      "name": "01. R Programming and Dataset",
      "provenance": [],
      "collapsed_sections": [],
      "authorship_tag": "ABX9TyPcPwSs06mjGZGSDvj17obe",
      "include_colab_link": true
    },
    "kernelspec": {
      "name": "ir",
      "display_name": "R"
    }
  },
  "cells": [
    {
      "cell_type": "markdown",
      "metadata": {
        "id": "view-in-github",
        "colab_type": "text"
      },
      "source": [
        "<a href=\"https://colab.research.google.com/github/hwuiwon/data-analysis-study/blob/master/01_R_Programming_and_Dataset.ipynb\" target=\"_parent\"><img src=\"https://colab.research.google.com/assets/colab-badge.svg\" alt=\"Open In Colab\"/></a>"
      ]
    },
    {
      "cell_type": "markdown",
      "metadata": {
        "id": "dJsHhHDFEXr8",
        "colab_type": "text"
      },
      "source": [
        "# **01-R-Programming-and-Dataset**\n",
        "\n",
        "https://kbig.kr/"
      ]
    },
    {
      "cell_type": "markdown",
      "metadata": {
        "id": "rhWJVo997kwo",
        "colab_type": "text"
      },
      "source": [
        "Click [this](https://colab.research.google.com/notebook#create=true&language=r) to create new R-Notebook."
      ]
    },
    {
      "cell_type": "code",
      "metadata": {
        "id": "avxTxKJy7JYT",
        "colab_type": "code",
        "colab": {}
      },
      "source": [
        "library(IRdisplay)"
      ],
      "execution_count": 0,
      "outputs": []
    },
    {
      "cell_type": "markdown",
      "metadata": {
        "id": "WdwnI-JaICa6",
        "colab_type": "text"
      },
      "source": [
        "## **Coding Basics (R)**"
      ]
    },
    {
      "cell_type": "markdown",
      "metadata": {
        "id": "IaU19kT6GQFo",
        "colab_type": "text"
      },
      "source": [
        "### **Entering & Printing Values**"
      ]
    },
    {
      "cell_type": "code",
      "metadata": {
        "id": "RdYotdrG8d6k",
        "colab_type": "code",
        "outputId": "223b409a-cbd3-4b03-e387-39322bdba7bd",
        "colab": {
          "base_uri": "https://localhost:8080/",
          "height": 119
        }
      },
      "source": [
        "x <- 7\n",
        "user_name <- 'Hwuiwon'\n",
        "bool <- TRUE\n",
        "\n",
        "x\n",
        "user_name\n",
        "bool\n",
        "\n",
        "# use ; to list together\n",
        "class(x); class(user_name); class(bool)"
      ],
      "execution_count": 32,
      "outputs": [
        {
          "output_type": "display_data",
          "data": {
            "text/plain": [
              "[1] 7"
            ],
            "text/latex": "7",
            "text/markdown": "7",
            "text/html": [
              "7"
            ]
          },
          "metadata": {
            "tags": []
          }
        },
        {
          "output_type": "display_data",
          "data": {
            "text/plain": [
              "[1] \"Hwuiwon\""
            ],
            "text/latex": "'Hwuiwon'",
            "text/markdown": "'Hwuiwon'",
            "text/html": [
              "'Hwuiwon'"
            ]
          },
          "metadata": {
            "tags": []
          }
        },
        {
          "output_type": "display_data",
          "data": {
            "text/plain": [
              "[1] TRUE"
            ],
            "text/latex": "TRUE",
            "text/markdown": "TRUE",
            "text/html": [
              "TRUE"
            ]
          },
          "metadata": {
            "tags": []
          }
        },
        {
          "output_type": "display_data",
          "data": {
            "text/plain": [
              "[1] \"numeric\""
            ],
            "text/latex": "'numeric'",
            "text/markdown": "'numeric'",
            "text/html": [
              "'numeric'"
            ]
          },
          "metadata": {
            "tags": []
          }
        },
        {
          "output_type": "display_data",
          "data": {
            "text/plain": [
              "[1] \"character\""
            ],
            "text/latex": "'character'",
            "text/markdown": "'character'",
            "text/html": [
              "'character'"
            ]
          },
          "metadata": {
            "tags": []
          }
        },
        {
          "output_type": "display_data",
          "data": {
            "text/plain": [
              "[1] \"logical\""
            ],
            "text/latex": "'logical'",
            "text/markdown": "'logical'",
            "text/html": [
              "'logical'"
            ]
          },
          "metadata": {
            "tags": []
          }
        }
      ]
    },
    {
      "cell_type": "markdown",
      "metadata": {
        "id": "iTPbXGonGY0F",
        "colab_type": "text"
      },
      "source": [
        "### **See List of Objects**"
      ]
    },
    {
      "cell_type": "code",
      "metadata": {
        "id": "wKQV4mO-GdcY",
        "colab_type": "code",
        "outputId": "d044f81b-c782-40c5-d2ab-171668cbe3bc",
        "colab": {
          "base_uri": "https://localhost:8080/",
          "height": 51
        }
      },
      "source": [
        "ls()"
      ],
      "execution_count": 33,
      "outputs": [
        {
          "output_type": "display_data",
          "data": {
            "text/plain": [
              " [1] \"a\"           \"age\"         \"airquality\"  \"arr1\"        \"b\"          \n",
              " [6] \"bool\"        \"c\"           \"col1\"        \"cs\"          \"cs_js\"      \n",
              "[11] \"cs_xl\"       \"cs2\"         \"cs2_xl\"      \"customer\"    \"customer_nf\"\n",
              "[16] \"gender\"      \"grade\"       \"job\"         \"layer1\"      \"m1\"         \n",
              "[21] \"m2\"          \"mpg\"         \"mx\"          \"mx2\"         \"mx3\"        \n",
              "[26] \"mx4\"         \"mydata\"      \"name\"        \"raw\"         \"raw1\"       \n",
              "[31] \"raw2\"        \"raw3\"        \"result\"      \"row1\"        \"survey\"     \n",
              "[36] \"url\"         \"user_name\"   \"wine\"        \"x\"           \"y\"          \n",
              "[41] \"z\"          "
            ],
            "text/latex": "\\begin{enumerate*}\n\\item 'a'\n\\item 'age'\n\\item 'airquality'\n\\item 'arr1'\n\\item 'b'\n\\item 'bool'\n\\item 'c'\n\\item 'col1'\n\\item 'cs'\n\\item 'cs\\_js'\n\\item 'cs\\_xl'\n\\item 'cs2'\n\\item 'cs2\\_xl'\n\\item 'customer'\n\\item 'customer\\_nf'\n\\item 'gender'\n\\item 'grade'\n\\item 'job'\n\\item 'layer1'\n\\item 'm1'\n\\item 'm2'\n\\item 'mpg'\n\\item 'mx'\n\\item 'mx2'\n\\item 'mx3'\n\\item 'mx4'\n\\item 'mydata'\n\\item 'name'\n\\item 'raw'\n\\item 'raw1'\n\\item 'raw2'\n\\item 'raw3'\n\\item 'result'\n\\item 'row1'\n\\item 'survey'\n\\item 'url'\n\\item 'user\\_name'\n\\item 'wine'\n\\item 'x'\n\\item 'y'\n\\item 'z'\n\\end{enumerate*}\n",
            "text/markdown": "1. 'a'\n2. 'age'\n3. 'airquality'\n4. 'arr1'\n5. 'b'\n6. 'bool'\n7. 'c'\n8. 'col1'\n9. 'cs'\n10. 'cs_js'\n11. 'cs_xl'\n12. 'cs2'\n13. 'cs2_xl'\n14. 'customer'\n15. 'customer_nf'\n16. 'gender'\n17. 'grade'\n18. 'job'\n19. 'layer1'\n20. 'm1'\n21. 'm2'\n22. 'mpg'\n23. 'mx'\n24. 'mx2'\n25. 'mx3'\n26. 'mx4'\n27. 'mydata'\n28. 'name'\n29. 'raw'\n30. 'raw1'\n31. 'raw2'\n32. 'raw3'\n33. 'result'\n34. 'row1'\n35. 'survey'\n36. 'url'\n37. 'user_name'\n38. 'wine'\n39. 'x'\n40. 'y'\n41. 'z'\n\n\n",
            "text/html": [
              "<style>\n",
              ".list-inline {list-style: none; margin:0; padding: 0}\n",
              ".list-inline>li {display: inline-block}\n",
              ".list-inline>li:not(:last-child)::after {content: \"\\00b7\"; padding: 0 .5ex}\n",
              "</style>\n",
              "<ol class=list-inline><li>'a'</li><li>'age'</li><li>'airquality'</li><li>'arr1'</li><li>'b'</li><li>'bool'</li><li>'c'</li><li>'col1'</li><li>'cs'</li><li>'cs_js'</li><li>'cs_xl'</li><li>'cs2'</li><li>'cs2_xl'</li><li>'customer'</li><li>'customer_nf'</li><li>'gender'</li><li>'grade'</li><li>'job'</li><li>'layer1'</li><li>'m1'</li><li>'m2'</li><li>'mpg'</li><li>'mx'</li><li>'mx2'</li><li>'mx3'</li><li>'mx4'</li><li>'mydata'</li><li>'name'</li><li>'raw'</li><li>'raw1'</li><li>'raw2'</li><li>'raw3'</li><li>'result'</li><li>'row1'</li><li>'survey'</li><li>'url'</li><li>'user_name'</li><li>'wine'</li><li>'x'</li><li>'y'</li><li>'z'</li></ol>\n"
            ]
          },
          "metadata": {
            "tags": []
          }
        }
      ]
    },
    {
      "cell_type": "markdown",
      "metadata": {
        "id": "a-PMvZztGili",
        "colab_type": "text"
      },
      "source": [
        "### **Creating Graph**"
      ]
    },
    {
      "cell_type": "code",
      "metadata": {
        "id": "uYVgxU0SF5UJ",
        "colab_type": "code",
        "outputId": "c84a4444-6c11-48fd-93a9-177a346087d2",
        "colab": {
          "base_uri": "https://localhost:8080/",
          "height": 437
        }
      },
      "source": [
        "# type: coordinate shape, col: color\n",
        "y <- c(1, 2, 3, 4)\n",
        "z <- c(5, 7, 10, 14)\n",
        "plot(y, z, type = \"o\", col = \"red\")"
      ],
      "execution_count": 34,
      "outputs": [
        {
          "output_type": "display_data",
          "data": {
            "image/png": "[encoded data removed]",
            "text/plain": [
              "plot without title"
            ]
          },
          "metadata": {
            "tags": [],
            "image/png": {
              "width": 420,
              "height": 420
            },
            "text/plain": {
              "width": 420,
              "height": 420
            }
          }
        }
      ]
    },
    {
      "cell_type": "markdown",
      "metadata": {
        "id": "i941A3B8Oivd",
        "colab_type": "text"
      },
      "source": [
        "### **Data Object Types**"
      ]
    },
    {
      "cell_type": "markdown",
      "metadata": {
        "id": "8OHy5P_ZOmma",
        "colab_type": "text"
      },
      "source": [
        "Object Type | Element | Dimension | Data Type | Code\n",
        "--- | --- | --- | --- | ---\n",
        "Scalar | Single | 1 | numeric/character/logical | x <- 3\n",
        "Vector | Single/Multiple | 1 | numeric/character/logical | x <- c()\n",
        "Matrix | Single/Multiple | 2 | numeric/character/logical | x <- matrix()\n",
        "Array | Single/Multiple | 3 | numeric/character/logical | x <- array()\n",
        "Factor | Single/Multiple | 1 | numeric/character/logical | x <- factor()\n",
        "DataFrame | Single/Multiple | 2 | numeric/character/logical | x <- data.frame()\n",
        "List | Single/Multiple | Multi-dimensional | ALL DATA | x <- list()\n",
        "\n",
        "<br>\n",
        "x axis: column<br>y axis: row"
      ]
    },
    {
      "cell_type": "markdown",
      "metadata": {
        "id": "oPraKg7_wEez",
        "colab_type": "text"
      },
      "source": [
        "#### **Scalar**"
      ]
    },
    {
      "cell_type": "code",
      "metadata": {
        "id": "AUz469tXwGEn",
        "colab_type": "code",
        "outputId": "0986c294-8afc-4c56-e3a4-55a496316c6d",
        "colab": {
          "base_uri": "https://localhost:8080/",
          "height": 51
        }
      },
      "source": [
        "x <- 5\n",
        "y <- 'Hello'\n",
        "\n",
        "x; y"
      ],
      "execution_count": 35,
      "outputs": [
        {
          "output_type": "display_data",
          "data": {
            "text/plain": [
              "[1] 5"
            ],
            "text/latex": "5",
            "text/markdown": "5",
            "text/html": [
              "5"
            ]
          },
          "metadata": {
            "tags": []
          }
        },
        {
          "output_type": "display_data",
          "data": {
            "text/plain": [
              "[1] \"Hello\""
            ],
            "text/latex": "'Hello'",
            "text/markdown": "'Hello'",
            "text/html": [
              "'Hello'"
            ]
          },
          "metadata": {
            "tags": []
          }
        }
      ]
    },
    {
      "cell_type": "markdown",
      "metadata": {
        "id": "VhkZDyTkSYKe",
        "colab_type": "text"
      },
      "source": [
        "#### **Vector**"
      ]
    },
    {
      "cell_type": "code",
      "metadata": {
        "id": "1Kkp2zweQk0v",
        "colab_type": "code",
        "outputId": "0e20002d-818a-4d05-d6aa-30fb1f21e1dc",
        "colab": {
          "base_uri": "https://localhost:8080/",
          "height": 136
        }
      },
      "source": [
        "# NA: Not available\n",
        "a <- c(1, 3, 5, 7, NA, 9)\n",
        "b <- c(2, 4, 6, 8)\n",
        "\n",
        "# Indexing Vector\n",
        "a[2]\n",
        "a[c(5, 1)]\n",
        "a[c(1, 3:4, 6)]\n",
        "\n",
        "# Complementary set\n",
        "a[-5]\n",
        "a[-c(2, 4:6)]\n",
        "\n",
        "# Arithmetic operations\n",
        "a + 2\n",
        "\n",
        "# Combining vectors\n",
        "c <- c(a, b)\n",
        "c"
      ],
      "execution_count": 36,
      "outputs": [
        {
          "output_type": "display_data",
          "data": {
            "text/plain": [
              "[1] 3"
            ],
            "text/latex": "3",
            "text/markdown": "3",
            "text/html": [
              "3"
            ]
          },
          "metadata": {
            "tags": []
          }
        },
        {
          "output_type": "display_data",
          "data": {
            "text/plain": [
              "[1] NA  1"
            ],
            "text/latex": "\\begin{enumerate*}\n\\item <NA>\n\\item 1\n\\end{enumerate*}\n",
            "text/markdown": "1. &lt;NA&gt;\n2. 1\n\n\n",
            "text/html": [
              "<style>\n",
              ".list-inline {list-style: none; margin:0; padding: 0}\n",
              ".list-inline>li {display: inline-block}\n",
              ".list-inline>li:not(:last-child)::after {content: \"\\00b7\"; padding: 0 .5ex}\n",
              "</style>\n",
              "<ol class=list-inline><li>&lt;NA&gt;</li><li>1</li></ol>\n"
            ]
          },
          "metadata": {
            "tags": []
          }
        },
        {
          "output_type": "display_data",
          "data": {
            "text/plain": [
              "[1] 1 5 7 9"
            ],
            "text/latex": "\\begin{enumerate*}\n\\item 1\n\\item 5\n\\item 7\n\\item 9\n\\end{enumerate*}\n",
            "text/markdown": "1. 1\n2. 5\n3. 7\n4. 9\n\n\n",
            "text/html": [
              "<style>\n",
              ".list-inline {list-style: none; margin:0; padding: 0}\n",
              ".list-inline>li {display: inline-block}\n",
              ".list-inline>li:not(:last-child)::after {content: \"\\00b7\"; padding: 0 .5ex}\n",
              "</style>\n",
              "<ol class=list-inline><li>1</li><li>5</li><li>7</li><li>9</li></ol>\n"
            ]
          },
          "metadata": {
            "tags": []
          }
        },
        {
          "output_type": "display_data",
          "data": {
            "text/plain": [
              "[1] 1 3 5 7 9"
            ],
            "text/latex": "\\begin{enumerate*}\n\\item 1\n\\item 3\n\\item 5\n\\item 7\n\\item 9\n\\end{enumerate*}\n",
            "text/markdown": "1. 1\n2. 3\n3. 5\n4. 7\n5. 9\n\n\n",
            "text/html": [
              "<style>\n",
              ".list-inline {list-style: none; margin:0; padding: 0}\n",
              ".list-inline>li {display: inline-block}\n",
              ".list-inline>li:not(:last-child)::after {content: \"\\00b7\"; padding: 0 .5ex}\n",
              "</style>\n",
              "<ol class=list-inline><li>1</li><li>3</li><li>5</li><li>7</li><li>9</li></ol>\n"
            ]
          },
          "metadata": {
            "tags": []
          }
        },
        {
          "output_type": "display_data",
          "data": {
            "text/plain": [
              "[1] 1 5"
            ],
            "text/latex": "\\begin{enumerate*}\n\\item 1\n\\item 5\n\\end{enumerate*}\n",
            "text/markdown": "1. 1\n2. 5\n\n\n",
            "text/html": [
              "<style>\n",
              ".list-inline {list-style: none; margin:0; padding: 0}\n",
              ".list-inline>li {display: inline-block}\n",
              ".list-inline>li:not(:last-child)::after {content: \"\\00b7\"; padding: 0 .5ex}\n",
              "</style>\n",
              "<ol class=list-inline><li>1</li><li>5</li></ol>\n"
            ]
          },
          "metadata": {
            "tags": []
          }
        },
        {
          "output_type": "display_data",
          "data": {
            "text/plain": [
              "[1]  3  5  7  9 NA 11"
            ],
            "text/latex": "\\begin{enumerate*}\n\\item 3\n\\item 5\n\\item 7\n\\item 9\n\\item <NA>\n\\item 11\n\\end{enumerate*}\n",
            "text/markdown": "1. 3\n2. 5\n3. 7\n4. 9\n5. &lt;NA&gt;\n6. 11\n\n\n",
            "text/html": [
              "<style>\n",
              ".list-inline {list-style: none; margin:0; padding: 0}\n",
              ".list-inline>li {display: inline-block}\n",
              ".list-inline>li:not(:last-child)::after {content: \"\\00b7\"; padding: 0 .5ex}\n",
              "</style>\n",
              "<ol class=list-inline><li>3</li><li>5</li><li>7</li><li>9</li><li>&lt;NA&gt;</li><li>11</li></ol>\n"
            ]
          },
          "metadata": {
            "tags": []
          }
        },
        {
          "output_type": "display_data",
          "data": {
            "text/plain": [
              " [1]  1  3  5  7 NA  9  2  4  6  8"
            ],
            "text/latex": "\\begin{enumerate*}\n\\item 1\n\\item 3\n\\item 5\n\\item 7\n\\item <NA>\n\\item 9\n\\item 2\n\\item 4\n\\item 6\n\\item 8\n\\end{enumerate*}\n",
            "text/markdown": "1. 1\n2. 3\n3. 5\n4. 7\n5. &lt;NA&gt;\n6. 9\n7. 2\n8. 4\n9. 6\n10. 8\n\n\n",
            "text/html": [
              "<style>\n",
              ".list-inline {list-style: none; margin:0; padding: 0}\n",
              ".list-inline>li {display: inline-block}\n",
              ".list-inline>li:not(:last-child)::after {content: \"\\00b7\"; padding: 0 .5ex}\n",
              "</style>\n",
              "<ol class=list-inline><li>1</li><li>3</li><li>5</li><li>7</li><li>&lt;NA&gt;</li><li>9</li><li>2</li><li>4</li><li>6</li><li>8</li></ol>\n"
            ]
          },
          "metadata": {
            "tags": []
          }
        }
      ]
    },
    {
      "cell_type": "markdown",
      "metadata": {
        "id": "hIZaf0p1SdoS",
        "colab_type": "text"
      },
      "source": [
        "#### **Matrix**"
      ]
    },
    {
      "cell_type": "code",
      "metadata": {
        "id": "sOlvuavZSe7Q",
        "colab_type": "code",
        "outputId": "831a76a0-fb99-4cf0-c726-9ca96779de8d",
        "colab": {
          "base_uri": "https://localhost:8080/",
          "height": 938
        }
      },
      "source": [
        "mx <- matrix(data = c(1, 2, 3, 4, 5, 6), nrow = 2)\n",
        "mx ; class(mx)\n",
        "\n",
        "# byrow: fill matrix row by row\n",
        "grade <- c('A+', 'A0', 'A-', 'B+', 'B0', 'B-', 'C+', 'C0', 'C-', 'D+', 'D0', 'D-')\n",
        "mx2 <- matrix(data = grade, ncol = 3, byrow = T)\n",
        "mx2\n",
        "\n",
        "# Bind by row\n",
        "m1 <- c(5, -2, 9:11)\n",
        "m2 <- c(1, -6:-3)\n",
        "mx3 <- rbind(m1, m2)\n",
        "mx3\n",
        "\n",
        "# Bind by column\n",
        "mx4 <- cbind(m1, m2)\n",
        "mx4\n",
        "\n",
        "# See names\n",
        "rownames(mx4); colnames(mx4)\n",
        "\n",
        "# Set names\n",
        "rownames(mx4) <- c('One', 'Two', 'Three', 'Four', 'Five')\n",
        "colnames(mx4) <- c('Uno', 'Dos')\n",
        "mx4\n",
        "\n",
        "# Indexing particular row & columns\n",
        "mx4[c('One', 'Four'), ]\n",
        "mx4[, 'Dos']\n",
        "mx4[1, 2] ; mx4['Two', 'Uno']"
      ],
      "execution_count": 37,
      "outputs": [
        {
          "output_type": "display_data",
          "data": {
            "text/plain": [
              "     [,1] [,2] [,3]\n",
              "[1,] 1    3    5   \n",
              "[2,] 2    4    6   "
            ],
            "text/latex": "A matrix: 2 × 3 of type dbl\n\\begin{tabular}{lll}\n\t 1 & 3 & 5\\\\\n\t 2 & 4 & 6\\\\\n\\end{tabular}\n",
            "text/markdown": "\nA matrix: 2 × 3 of type dbl\n\n| 1 | 3 | 5 |\n| 2 | 4 | 6 |\n\n",
            "text/html": [
              "<table>\n",
              "<caption>A matrix: 2 × 3 of type dbl</caption>\n",
              "<tbody>\n",
              "\t<tr><td>1</td><td>3</td><td>5</td></tr>\n",
              "\t<tr><td>2</td><td>4</td><td>6</td></tr>\n",
              "</tbody>\n",
              "</table>\n"
            ]
          },
          "metadata": {
            "tags": []
          }
        },
        {
          "output_type": "display_data",
          "data": {
            "text/plain": [
              "[1] \"matrix\""
            ],
            "text/latex": "'matrix'",
            "text/markdown": "'matrix'",
            "text/html": [
              "'matrix'"
            ]
          },
          "metadata": {
            "tags": []
          }
        },
        {
          "output_type": "display_data",
          "data": {
            "text/plain": [
              "     [,1] [,2] [,3]\n",
              "[1,] A+   A0   A-  \n",
              "[2,] B+   B0   B-  \n",
              "[3,] C+   C0   C-  \n",
              "[4,] D+   D0   D-  "
            ],
            "text/latex": "A matrix: 4 × 3 of type chr\n\\begin{tabular}{lll}\n\t A+ & A0 & A-\\\\\n\t B+ & B0 & B-\\\\\n\t C+ & C0 & C-\\\\\n\t D+ & D0 & D-\\\\\n\\end{tabular}\n",
            "text/markdown": "\nA matrix: 4 × 3 of type chr\n\n| A+ | A0 | A- |\n| B+ | B0 | B- |\n| C+ | C0 | C- |\n| D+ | D0 | D- |\n\n",
            "text/html": [
              "<table>\n",
              "<caption>A matrix: 4 × 3 of type chr</caption>\n",
              "<tbody>\n",
              "\t<tr><td>A+</td><td>A0</td><td>A-</td></tr>\n",
              "\t<tr><td>B+</td><td>B0</td><td>B-</td></tr>\n",
              "\t<tr><td>C+</td><td>C0</td><td>C-</td></tr>\n",
              "\t<tr><td>D+</td><td>D0</td><td>D-</td></tr>\n",
              "</tbody>\n",
              "</table>\n"
            ]
          },
          "metadata": {
            "tags": []
          }
        },
        {
          "output_type": "display_data",
          "data": {
            "text/plain": [
              "   [,1] [,2] [,3] [,4] [,5]\n",
              "m1 5    -2    9   10   11  \n",
              "m2 1    -6   -5   -4   -3  "
            ],
            "text/latex": "A matrix: 2 × 5 of type dbl\n\\begin{tabular}{r|lllll}\n\tm1 & 5 & -2 &  9 & 10 & 11\\\\\n\tm2 & 1 & -6 & -5 & -4 & -3\\\\\n\\end{tabular}\n",
            "text/markdown": "\nA matrix: 2 × 5 of type dbl\n\n| m1 | 5 | -2 |  9 | 10 | 11 |\n| m2 | 1 | -6 | -5 | -4 | -3 |\n\n",
            "text/html": [
              "<table>\n",
              "<caption>A matrix: 2 × 5 of type dbl</caption>\n",
              "<tbody>\n",
              "\t<tr><th scope=row>m1</th><td>5</td><td>-2</td><td> 9</td><td>10</td><td>11</td></tr>\n",
              "\t<tr><th scope=row>m2</th><td>1</td><td>-6</td><td>-5</td><td>-4</td><td>-3</td></tr>\n",
              "</tbody>\n",
              "</table>\n"
            ]
          },
          "metadata": {
            "tags": []
          }
        },
        {
          "output_type": "display_data",
          "data": {
            "text/plain": [
              "     m1 m2\n",
              "[1,]  5  1\n",
              "[2,] -2 -6\n",
              "[3,]  9 -5\n",
              "[4,] 10 -4\n",
              "[5,] 11 -3"
            ],
            "text/latex": "A matrix: 5 × 2 of type dbl\n\\begin{tabular}{ll}\n m1 & m2\\\\\n\\hline\n\t  5 &  1\\\\\n\t -2 & -6\\\\\n\t  9 & -5\\\\\n\t 10 & -4\\\\\n\t 11 & -3\\\\\n\\end{tabular}\n",
            "text/markdown": "\nA matrix: 5 × 2 of type dbl\n\n| m1 | m2 |\n|---|---|\n|  5 |  1 |\n| -2 | -6 |\n|  9 | -5 |\n| 10 | -4 |\n| 11 | -3 |\n\n",
            "text/html": [
              "<table>\n",
              "<caption>A matrix: 5 × 2 of type dbl</caption>\n",
              "<thead>\n",
              "\t<tr><th scope=col>m1</th><th scope=col>m2</th></tr>\n",
              "</thead>\n",
              "<tbody>\n",
              "\t<tr><td> 5</td><td> 1</td></tr>\n",
              "\t<tr><td>-2</td><td>-6</td></tr>\n",
              "\t<tr><td> 9</td><td>-5</td></tr>\n",
              "\t<tr><td>10</td><td>-4</td></tr>\n",
              "\t<tr><td>11</td><td>-3</td></tr>\n",
              "</tbody>\n",
              "</table>\n"
            ]
          },
          "metadata": {
            "tags": []
          }
        },
        {
          "output_type": "display_data",
          "data": {
            "text/plain": [
              "NULL"
            ]
          },
          "metadata": {
            "tags": []
          }
        },
        {
          "output_type": "display_data",
          "data": {
            "text/plain": [
              "[1] \"m1\" \"m2\""
            ],
            "text/latex": "\\begin{enumerate*}\n\\item 'm1'\n\\item 'm2'\n\\end{enumerate*}\n",
            "text/markdown": "1. 'm1'\n2. 'm2'\n\n\n",
            "text/html": [
              "<style>\n",
              ".list-inline {list-style: none; margin:0; padding: 0}\n",
              ".list-inline>li {display: inline-block}\n",
              ".list-inline>li:not(:last-child)::after {content: \"\\00b7\"; padding: 0 .5ex}\n",
              "</style>\n",
              "<ol class=list-inline><li>'m1'</li><li>'m2'</li></ol>\n"
            ]
          },
          "metadata": {
            "tags": []
          }
        },
        {
          "output_type": "display_data",
          "data": {
            "text/plain": [
              "      Uno Dos\n",
              "One    5   1 \n",
              "Two   -2  -6 \n",
              "Three  9  -5 \n",
              "Four  10  -4 \n",
              "Five  11  -3 "
            ],
            "text/latex": "A matrix: 5 × 2 of type dbl\n\\begin{tabular}{r|ll}\n  & Uno & Dos\\\\\n\\hline\n\tOne &  5 &  1\\\\\n\tTwo & -2 & -6\\\\\n\tThree &  9 & -5\\\\\n\tFour & 10 & -4\\\\\n\tFive & 11 & -3\\\\\n\\end{tabular}\n",
            "text/markdown": "\nA matrix: 5 × 2 of type dbl\n\n| <!--/--> | Uno | Dos |\n|---|---|---|\n| One |  5 |  1 |\n| Two | -2 | -6 |\n| Three |  9 | -5 |\n| Four | 10 | -4 |\n| Five | 11 | -3 |\n\n",
            "text/html": [
              "<table>\n",
              "<caption>A matrix: 5 × 2 of type dbl</caption>\n",
              "<thead>\n",
              "\t<tr><th></th><th scope=col>Uno</th><th scope=col>Dos</th></tr>\n",
              "</thead>\n",
              "<tbody>\n",
              "\t<tr><th scope=row>One</th><td> 5</td><td> 1</td></tr>\n",
              "\t<tr><th scope=row>Two</th><td>-2</td><td>-6</td></tr>\n",
              "\t<tr><th scope=row>Three</th><td> 9</td><td>-5</td></tr>\n",
              "\t<tr><th scope=row>Four</th><td>10</td><td>-4</td></tr>\n",
              "\t<tr><th scope=row>Five</th><td>11</td><td>-3</td></tr>\n",
              "</tbody>\n",
              "</table>\n"
            ]
          },
          "metadata": {
            "tags": []
          }
        },
        {
          "output_type": "display_data",
          "data": {
            "text/plain": [
              "     Uno Dos\n",
              "One   5   1 \n",
              "Four 10  -4 "
            ],
            "text/latex": "A matrix: 2 × 2 of type dbl\n\\begin{tabular}{r|ll}\n  & Uno & Dos\\\\\n\\hline\n\tOne &  5 &  1\\\\\n\tFour & 10 & -4\\\\\n\\end{tabular}\n",
            "text/markdown": "\nA matrix: 2 × 2 of type dbl\n\n| <!--/--> | Uno | Dos |\n|---|---|---|\n| One |  5 |  1 |\n| Four | 10 | -4 |\n\n",
            "text/html": [
              "<table>\n",
              "<caption>A matrix: 2 × 2 of type dbl</caption>\n",
              "<thead>\n",
              "\t<tr><th></th><th scope=col>Uno</th><th scope=col>Dos</th></tr>\n",
              "</thead>\n",
              "<tbody>\n",
              "\t<tr><th scope=row>One</th><td> 5</td><td> 1</td></tr>\n",
              "\t<tr><th scope=row>Four</th><td>10</td><td>-4</td></tr>\n",
              "</tbody>\n",
              "</table>\n"
            ]
          },
          "metadata": {
            "tags": []
          }
        },
        {
          "output_type": "display_data",
          "data": {
            "text/plain": [
              "  One   Two Three  Four  Five \n",
              "    1    -6    -5    -4    -3 "
            ],
            "text/latex": "\\begin{description*}\n\\item[One] 1\n\\item[Two] -6\n\\item[Three] -5\n\\item[Four] -4\n\\item[Five] -3\n\\end{description*}\n",
            "text/markdown": "One\n:   1Two\n:   -6Three\n:   -5Four\n:   -4Five\n:   -3\n\n",
            "text/html": [
              "<style>\n",
              ".dl-inline {width: auto; margin:0; padding: 0}\n",
              ".dl-inline>dt, .dl-inline>dd {float: none; width: auto; display: inline-block}\n",
              ".dl-inline>dt::after {content: \":\\0020\"; padding-right: .5ex}\n",
              ".dl-inline>dt:not(:first-of-type) {padding-left: .5ex}\n",
              "</style><dl class=dl-inline><dt>One</dt><dd>1</dd><dt>Two</dt><dd>-6</dd><dt>Three</dt><dd>-5</dd><dt>Four</dt><dd>-4</dd><dt>Five</dt><dd>-3</dd></dl>\n"
            ]
          },
          "metadata": {
            "tags": []
          }
        },
        {
          "output_type": "display_data",
          "data": {
            "text/plain": [
              "[1] 1"
            ],
            "text/latex": "1",
            "text/markdown": "1",
            "text/html": [
              "1"
            ]
          },
          "metadata": {
            "tags": []
          }
        },
        {
          "output_type": "display_data",
          "data": {
            "text/plain": [
              "[1] -2"
            ],
            "text/latex": "-2",
            "text/markdown": "-2",
            "text/html": [
              "-2"
            ]
          },
          "metadata": {
            "tags": []
          }
        }
      ]
    },
    {
      "cell_type": "markdown",
      "metadata": {
        "id": "SuHT-a4YstRN",
        "colab_type": "text"
      },
      "source": [
        "#### **Array**"
      ]
    },
    {
      "cell_type": "code",
      "metadata": {
        "id": "EHUMp5XEsu5c",
        "colab_type": "code",
        "outputId": "92146350-e32b-4e45-b4eb-af098dfb9db9",
        "colab": {
          "base_uri": "https://localhost:8080/",
          "height": 260
        }
      },
      "source": [
        "raw1 <- c(0, 1, 2, NA, 4, 5, 6, 7)\n",
        "raw2 <- c(8, 9, 10, 11, NA, 13, 14, 15)\n",
        "raw3 <- c(16, 17, 18, 19, 20, NA, 22, 23)\n",
        "\n",
        "raw <- c(raw1, raw2, raw3)\n",
        "raw\n",
        "\n",
        "# Create array with vector\n",
        "# dim: row, column, layer\n",
        "arr1 <- array(data = raw, dim = c(4, 2, 3))\n",
        "arr1; class(arr1)\n",
        "\n",
        "# Make names\n",
        "layer1 <- c('US', 'EU', 'AP')\n",
        "row1 <- c('One', 'Two', 'Three', 'Four')\n",
        "col1 <- c('Uno', 'Dos')\n",
        "\n",
        "# Set dimension names\n",
        "dimnames(arr1) <- list(row1, col1, layer1)\n",
        "arr1\n",
        "\n",
        "# Index particular layer\n",
        "arr1[1, , 'US']\n",
        "arr1[, , c('US', 'AP')]\n",
        "arr1[1:4, 'Uno', ]"
      ],
      "execution_count": 38,
      "outputs": [
        {
          "output_type": "display_data",
          "data": {
            "text/plain": [
              " [1]  0  1  2 NA  4  5  6  7  8  9 10 11 NA 13 14 15 16 17 18 19 20 NA 22 23"
            ],
            "text/latex": "\\begin{enumerate*}\n\\item 0\n\\item 1\n\\item 2\n\\item <NA>\n\\item 4\n\\item 5\n\\item 6\n\\item 7\n\\item 8\n\\item 9\n\\item 10\n\\item 11\n\\item <NA>\n\\item 13\n\\item 14\n\\item 15\n\\item 16\n\\item 17\n\\item 18\n\\item 19\n\\item 20\n\\item <NA>\n\\item 22\n\\item 23\n\\end{enumerate*}\n",
            "text/markdown": "1. 0\n2. 1\n3. 2\n4. &lt;NA&gt;\n5. 4\n6. 5\n7. 6\n8. 7\n9. 8\n10. 9\n11. 10\n12. 11\n13. &lt;NA&gt;\n14. 13\n15. 14\n16. 15\n17. 16\n18. 17\n19. 18\n20. 19\n21. 20\n22. &lt;NA&gt;\n23. 22\n24. 23\n\n\n",
            "text/html": [
              "<style>\n",
              ".list-inline {list-style: none; margin:0; padding: 0}\n",
              ".list-inline>li {display: inline-block}\n",
              ".list-inline>li:not(:last-child)::after {content: \"\\00b7\"; padding: 0 .5ex}\n",
              "</style>\n",
              "<ol class=list-inline><li>0</li><li>1</li><li>2</li><li>&lt;NA&gt;</li><li>4</li><li>5</li><li>6</li><li>7</li><li>8</li><li>9</li><li>10</li><li>11</li><li>&lt;NA&gt;</li><li>13</li><li>14</li><li>15</li><li>16</li><li>17</li><li>18</li><li>19</li><li>20</li><li>&lt;NA&gt;</li><li>22</li><li>23</li></ol>\n"
            ]
          },
          "metadata": {
            "tags": []
          }
        },
        {
          "output_type": "display_data",
          "data": {
            "text/plain": [
              ", , 1\n",
              "\n",
              "     [,1] [,2]\n",
              "[1,]    0    4\n",
              "[2,]    1    5\n",
              "[3,]    2    6\n",
              "[4,]   NA    7\n",
              "\n",
              ", , 2\n",
              "\n",
              "     [,1] [,2]\n",
              "[1,]    8   NA\n",
              "[2,]    9   13\n",
              "[3,]   10   14\n",
              "[4,]   11   15\n",
              "\n",
              ", , 3\n",
              "\n",
              "     [,1] [,2]\n",
              "[1,]   16   20\n",
              "[2,]   17   NA\n",
              "[3,]   18   22\n",
              "[4,]   19   23\n"
            ],
            "text/latex": "\\begin{enumerate*}\n\\item 0\n\\item 1\n\\item 2\n\\item <NA>\n\\item 4\n\\item 5\n\\item 6\n\\item 7\n\\item 8\n\\item 9\n\\item 10\n\\item 11\n\\item <NA>\n\\item 13\n\\item 14\n\\item 15\n\\item 16\n\\item 17\n\\item 18\n\\item 19\n\\item 20\n\\item <NA>\n\\item 22\n\\item 23\n\\end{enumerate*}\n",
            "text/markdown": "1. 0\n2. 1\n3. 2\n4. &lt;NA&gt;\n5. 4\n6. 5\n7. 6\n8. 7\n9. 8\n10. 9\n11. 10\n12. 11\n13. &lt;NA&gt;\n14. 13\n15. 14\n16. 15\n17. 16\n18. 17\n19. 18\n20. 19\n21. 20\n22. &lt;NA&gt;\n23. 22\n24. 23\n\n\n",
            "text/html": [
              "<style>\n",
              ".list-inline {list-style: none; margin:0; padding: 0}\n",
              ".list-inline>li {display: inline-block}\n",
              ".list-inline>li:not(:last-child)::after {content: \"\\00b7\"; padding: 0 .5ex}\n",
              "</style>\n",
              "<ol class=list-inline><li>0</li><li>1</li><li>2</li><li>&lt;NA&gt;</li><li>4</li><li>5</li><li>6</li><li>7</li><li>8</li><li>9</li><li>10</li><li>11</li><li>&lt;NA&gt;</li><li>13</li><li>14</li><li>15</li><li>16</li><li>17</li><li>18</li><li>19</li><li>20</li><li>&lt;NA&gt;</li><li>22</li><li>23</li></ol>\n"
            ]
          },
          "metadata": {
            "tags": []
          }
        },
        {
          "output_type": "display_data",
          "data": {
            "text/plain": [
              "[1] \"array\""
            ],
            "text/latex": "'array'",
            "text/markdown": "'array'",
            "text/html": [
              "'array'"
            ]
          },
          "metadata": {
            "tags": []
          }
        },
        {
          "output_type": "display_data",
          "data": {
            "text/plain": [
              ", , US\n",
              "\n",
              "      Uno Dos\n",
              "One     0   4\n",
              "Two     1   5\n",
              "Three   2   6\n",
              "Four   NA   7\n",
              "\n",
              ", , EU\n",
              "\n",
              "      Uno Dos\n",
              "One     8  NA\n",
              "Two     9  13\n",
              "Three  10  14\n",
              "Four   11  15\n",
              "\n",
              ", , AP\n",
              "\n",
              "      Uno Dos\n",
              "One    16  20\n",
              "Two    17  NA\n",
              "Three  18  22\n",
              "Four   19  23\n"
            ],
            "text/latex": "\\begin{enumerate*}\n\\item 0\n\\item 1\n\\item 2\n\\item <NA>\n\\item 4\n\\item 5\n\\item 6\n\\item 7\n\\item 8\n\\item 9\n\\item 10\n\\item 11\n\\item <NA>\n\\item 13\n\\item 14\n\\item 15\n\\item 16\n\\item 17\n\\item 18\n\\item 19\n\\item 20\n\\item <NA>\n\\item 22\n\\item 23\n\\end{enumerate*}\n",
            "text/markdown": "1. 0\n2. 1\n3. 2\n4. &lt;NA&gt;\n5. 4\n6. 5\n7. 6\n8. 7\n9. 8\n10. 9\n11. 10\n12. 11\n13. &lt;NA&gt;\n14. 13\n15. 14\n16. 15\n17. 16\n18. 17\n19. 18\n20. 19\n21. 20\n22. &lt;NA&gt;\n23. 22\n24. 23\n\n\n",
            "text/html": [
              "<style>\n",
              ".list-inline {list-style: none; margin:0; padding: 0}\n",
              ".list-inline>li {display: inline-block}\n",
              ".list-inline>li:not(:last-child)::after {content: \"\\00b7\"; padding: 0 .5ex}\n",
              "</style>\n",
              "<ol class=list-inline><li>0</li><li>1</li><li>2</li><li>&lt;NA&gt;</li><li>4</li><li>5</li><li>6</li><li>7</li><li>8</li><li>9</li><li>10</li><li>11</li><li>&lt;NA&gt;</li><li>13</li><li>14</li><li>15</li><li>16</li><li>17</li><li>18</li><li>19</li><li>20</li><li>&lt;NA&gt;</li><li>22</li><li>23</li></ol>\n"
            ]
          },
          "metadata": {
            "tags": []
          }
        },
        {
          "output_type": "display_data",
          "data": {
            "text/plain": [
              "Uno Dos \n",
              "  0   4 "
            ],
            "text/latex": "\\begin{description*}\n\\item[Uno] 0\n\\item[Dos] 4\n\\end{description*}\n",
            "text/markdown": "Uno\n:   0Dos\n:   4\n\n",
            "text/html": [
              "<style>\n",
              ".dl-inline {width: auto; margin:0; padding: 0}\n",
              ".dl-inline>dt, .dl-inline>dd {float: none; width: auto; display: inline-block}\n",
              ".dl-inline>dt::after {content: \":\\0020\"; padding-right: .5ex}\n",
              ".dl-inline>dt:not(:first-of-type) {padding-left: .5ex}\n",
              "</style><dl class=dl-inline><dt>Uno</dt><dd>0</dd><dt>Dos</dt><dd>4</dd></dl>\n"
            ]
          },
          "metadata": {
            "tags": []
          }
        },
        {
          "output_type": "display_data",
          "data": {
            "text/plain": [
              ", , US\n",
              "\n",
              "      Uno Dos\n",
              "One     0   4\n",
              "Two     1   5\n",
              "Three   2   6\n",
              "Four   NA   7\n",
              "\n",
              ", , AP\n",
              "\n",
              "      Uno Dos\n",
              "One    16  20\n",
              "Two    17  NA\n",
              "Three  18  22\n",
              "Four   19  23\n"
            ],
            "text/latex": "\\begin{enumerate*}\n\\item 0\n\\item 1\n\\item 2\n\\item <NA>\n\\item 4\n\\item 5\n\\item 6\n\\item 7\n\\item 16\n\\item 17\n\\item 18\n\\item 19\n\\item 20\n\\item <NA>\n\\item 22\n\\item 23\n\\end{enumerate*}\n",
            "text/markdown": "1. 0\n2. 1\n3. 2\n4. &lt;NA&gt;\n5. 4\n6. 5\n7. 6\n8. 7\n9. 16\n10. 17\n11. 18\n12. 19\n13. 20\n14. &lt;NA&gt;\n15. 22\n16. 23\n\n\n",
            "text/html": [
              "<style>\n",
              ".list-inline {list-style: none; margin:0; padding: 0}\n",
              ".list-inline>li {display: inline-block}\n",
              ".list-inline>li:not(:last-child)::after {content: \"\\00b7\"; padding: 0 .5ex}\n",
              "</style>\n",
              "<ol class=list-inline><li>0</li><li>1</li><li>2</li><li>&lt;NA&gt;</li><li>4</li><li>5</li><li>6</li><li>7</li><li>16</li><li>17</li><li>18</li><li>19</li><li>20</li><li>&lt;NA&gt;</li><li>22</li><li>23</li></ol>\n"
            ]
          },
          "metadata": {
            "tags": []
          }
        },
        {
          "output_type": "display_data",
          "data": {
            "text/plain": [
              "      US EU AP\n",
              "One    0  8 16\n",
              "Two    1  9 17\n",
              "Three  2 10 18\n",
              "Four  NA 11 19"
            ],
            "text/latex": "A matrix: 4 × 3 of type dbl\n\\begin{tabular}{r|lll}\n  & US & EU & AP\\\\\n\\hline\n\tOne &  0 &  8 & 16\\\\\n\tTwo &  1 &  9 & 17\\\\\n\tThree &  2 & 10 & 18\\\\\n\tFour & NA & 11 & 19\\\\\n\\end{tabular}\n",
            "text/markdown": "\nA matrix: 4 × 3 of type dbl\n\n| <!--/--> | US | EU | AP |\n|---|---|---|---|\n| One |  0 |  8 | 16 |\n| Two |  1 |  9 | 17 |\n| Three |  2 | 10 | 18 |\n| Four | NA | 11 | 19 |\n\n",
            "text/html": [
              "<table>\n",
              "<caption>A matrix: 4 × 3 of type dbl</caption>\n",
              "<thead>\n",
              "\t<tr><th></th><th scope=col>US</th><th scope=col>EU</th><th scope=col>AP</th></tr>\n",
              "</thead>\n",
              "<tbody>\n",
              "\t<tr><th scope=row>One</th><td> 0</td><td> 8</td><td>16</td></tr>\n",
              "\t<tr><th scope=row>Two</th><td> 1</td><td> 9</td><td>17</td></tr>\n",
              "\t<tr><th scope=row>Three</th><td> 2</td><td>10</td><td>18</td></tr>\n",
              "\t<tr><th scope=row>Four</th><td>NA</td><td>11</td><td>19</td></tr>\n",
              "</tbody>\n",
              "</table>\n"
            ]
          },
          "metadata": {
            "tags": []
          }
        }
      ]
    },
    {
      "cell_type": "markdown",
      "metadata": {
        "id": "UvH0_bHL4OgC",
        "colab_type": "text"
      },
      "source": [
        "#### **DataFrame**"
      ]
    },
    {
      "cell_type": "markdown",
      "metadata": {
        "id": "Hc14c9DI5roQ",
        "colab_type": "text"
      },
      "source": [
        "**Row** of a dataset are often called as record, case, or observation.\n",
        "\n",
        "**Column** of a dataset are often called as variable, attribute, field, or feature."
      ]
    },
    {
      "cell_type": "code",
      "metadata": {
        "id": "KotUZWFm4SKn",
        "colab_type": "code",
        "outputId": "a9565557-7106-4bf1-c956-4c21dfef416c",
        "colab": {
          "base_uri": "https://localhost:8080/",
          "height": 255
        }
      },
      "source": [
        "name <- c('John', 'David', 'Kim', 'Janet', 'Lucy', 'William')\n",
        "gender <- c('M', 'M', 'M', 'F', 'F', 'F')\n",
        "job <- c('Student', 'Student', 'Worker', NA, 'Chef', 'Trader')\n",
        "age <- c(19, 23, 36, 22, 42, 39)\n",
        "survey <- c(3, 6, 12, 2, NA, 10)\n",
        "result <- c(TRUE, T, FALSE, FALSE, TRUE, NA)\n",
        "\n",
        "# There should be equal number of items to create dataframe\n",
        "customer <- data.frame(name, gender, job, age, survey, result)\n",
        "\n",
        "customer\n",
        "class(customer)\n",
        "colnames(customer); rownames(customer)"
      ],
      "execution_count": 39,
      "outputs": [
        {
          "output_type": "display_data",
          "data": {
            "text/plain": [
              "  name    gender job     age survey result\n",
              "1 John    M      Student 19   3      TRUE \n",
              "2 David   M      Student 23   6      TRUE \n",
              "3 Kim     M      Worker  36  12     FALSE \n",
              "4 Janet   F      NA      22   2     FALSE \n",
              "5 Lucy    F      Chef    42  NA      TRUE \n",
              "6 William F      Trader  39  10        NA "
            ],
            "text/latex": "A data.frame: 6 × 6\n\\begin{tabular}{llllll}\n name & gender & job & age & survey & result\\\\\n <fct> & <fct> & <fct> & <dbl> & <dbl> & <lgl>\\\\\n\\hline\n\t John    & M & Student & 19 &  3 &  TRUE\\\\\n\t David   & M & Student & 23 &  6 &  TRUE\\\\\n\t Kim     & M & Worker  & 36 & 12 & FALSE\\\\\n\t Janet   & F & NA      & 22 &  2 & FALSE\\\\\n\t Lucy    & F & Chef    & 42 & NA &  TRUE\\\\\n\t William & F & Trader  & 39 & 10 &    NA\\\\\n\\end{tabular}\n",
            "text/markdown": "\nA data.frame: 6 × 6\n\n| name &lt;fct&gt; | gender &lt;fct&gt; | job &lt;fct&gt; | age &lt;dbl&gt; | survey &lt;dbl&gt; | result &lt;lgl&gt; |\n|---|---|---|---|---|---|\n| John    | M | Student | 19 |  3 |  TRUE |\n| David   | M | Student | 23 |  6 |  TRUE |\n| Kim     | M | Worker  | 36 | 12 | FALSE |\n| Janet   | F | NA      | 22 |  2 | FALSE |\n| Lucy    | F | Chef    | 42 | NA |  TRUE |\n| William | F | Trader  | 39 | 10 |    NA |\n\n",
            "text/html": [
              "<table>\n",
              "<caption>A data.frame: 6 × 6</caption>\n",
              "<thead>\n",
              "\t<tr><th scope=col>name</th><th scope=col>gender</th><th scope=col>job</th><th scope=col>age</th><th scope=col>survey</th><th scope=col>result</th></tr>\n",
              "\t<tr><th scope=col>&lt;fct&gt;</th><th scope=col>&lt;fct&gt;</th><th scope=col>&lt;fct&gt;</th><th scope=col>&lt;dbl&gt;</th><th scope=col>&lt;dbl&gt;</th><th scope=col>&lt;lgl&gt;</th></tr>\n",
              "</thead>\n",
              "<tbody>\n",
              "\t<tr><td>John   </td><td>M</td><td>Student</td><td>19</td><td> 3</td><td> TRUE</td></tr>\n",
              "\t<tr><td>David  </td><td>M</td><td>Student</td><td>23</td><td> 6</td><td> TRUE</td></tr>\n",
              "\t<tr><td>Kim    </td><td>M</td><td>Worker </td><td>36</td><td>12</td><td>FALSE</td></tr>\n",
              "\t<tr><td>Janet  </td><td>F</td><td>NA     </td><td>22</td><td> 2</td><td>FALSE</td></tr>\n",
              "\t<tr><td>Lucy   </td><td>F</td><td>Chef   </td><td>42</td><td>NA</td><td> TRUE</td></tr>\n",
              "\t<tr><td>William</td><td>F</td><td>Trader </td><td>39</td><td>10</td><td>   NA</td></tr>\n",
              "</tbody>\n",
              "</table>\n"
            ]
          },
          "metadata": {
            "tags": []
          }
        },
        {
          "output_type": "display_data",
          "data": {
            "text/plain": [
              "[1] \"data.frame\""
            ],
            "text/latex": "'data.frame'",
            "text/markdown": "'data.frame'",
            "text/html": [
              "'data.frame'"
            ]
          },
          "metadata": {
            "tags": []
          }
        },
        {
          "output_type": "display_data",
          "data": {
            "text/plain": [
              "[1] \"name\"   \"gender\" \"job\"    \"age\"    \"survey\" \"result\""
            ],
            "text/latex": "\\begin{enumerate*}\n\\item 'name'\n\\item 'gender'\n\\item 'job'\n\\item 'age'\n\\item 'survey'\n\\item 'result'\n\\end{enumerate*}\n",
            "text/markdown": "1. 'name'\n2. 'gender'\n3. 'job'\n4. 'age'\n5. 'survey'\n6. 'result'\n\n\n",
            "text/html": [
              "<style>\n",
              ".list-inline {list-style: none; margin:0; padding: 0}\n",
              ".list-inline>li {display: inline-block}\n",
              ".list-inline>li:not(:last-child)::after {content: \"\\00b7\"; padding: 0 .5ex}\n",
              "</style>\n",
              "<ol class=list-inline><li>'name'</li><li>'gender'</li><li>'job'</li><li>'age'</li><li>'survey'</li><li>'result'</li></ol>\n"
            ]
          },
          "metadata": {
            "tags": []
          }
        },
        {
          "output_type": "display_data",
          "data": {
            "text/plain": [
              "[1] \"1\" \"2\" \"3\" \"4\" \"5\" \"6\""
            ],
            "text/latex": "\\begin{enumerate*}\n\\item '1'\n\\item '2'\n\\item '3'\n\\item '4'\n\\item '5'\n\\item '6'\n\\end{enumerate*}\n",
            "text/markdown": "1. '1'\n2. '2'\n3. '3'\n4. '4'\n5. '5'\n6. '6'\n\n\n",
            "text/html": [
              "<style>\n",
              ".list-inline {list-style: none; margin:0; padding: 0}\n",
              ".list-inline>li {display: inline-block}\n",
              ".list-inline>li:not(:last-child)::after {content: \"\\00b7\"; padding: 0 .5ex}\n",
              "</style>\n",
              "<ol class=list-inline><li>'1'</li><li>'2'</li><li>'3'</li><li>'4'</li><li>'5'</li><li>'6'</li></ol>\n"
            ]
          },
          "metadata": {
            "tags": []
          }
        }
      ]
    },
    {
      "cell_type": "code",
      "metadata": {
        "id": "dIc2CwHa6TWF",
        "colab_type": "code",
        "outputId": "979334c7-b88a-4d1d-f868-382bd313d1c3",
        "colab": {
          "base_uri": "https://localhost:8080/",
          "height": 1000
        }
      },
      "source": [
        "# Indexing DataFrame & Creating sub-dataset\n",
        "\n",
        "# Index column\n",
        "customer$name\n",
        "customer['age']\n",
        "customer[5]\n",
        "\n",
        "# Index multiple columns\n",
        "customer[c('name', 'job')]\n",
        "customer[2:4]\n",
        "\n",
        "# Minus-indexing\n",
        "customer[-c(4:5)]"
      ],
      "execution_count": 40,
      "outputs": [
        {
          "output_type": "display_data",
          "data": {
            "text/plain": [
              "[1] John    David   Kim     Janet   Lucy    William\n",
              "Levels: David Janet John Kim Lucy William"
            ],
            "text/latex": "\\begin{enumerate*}\n\\item John\n\\item David\n\\item Kim\n\\item Janet\n\\item Lucy\n\\item William\n\\end{enumerate*}\n\n\\emph{Levels}: \\begin{enumerate*}\n\\item 'David'\n\\item 'Janet'\n\\item 'John'\n\\item 'Kim'\n\\item 'Lucy'\n\\item 'William'\n\\end{enumerate*}\n",
            "text/markdown": "1. John\n2. David\n3. Kim\n4. Janet\n5. Lucy\n6. William\n\n\n\n**Levels**: 1. 'David'\n2. 'Janet'\n3. 'John'\n4. 'Kim'\n5. 'Lucy'\n6. 'William'\n\n\n",
            "text/html": [
              "<style>\n",
              ".list-inline {list-style: none; margin:0; padding: 0}\n",
              ".list-inline>li {display: inline-block}\n",
              ".list-inline>li:not(:last-child)::after {content: \"\\00b7\"; padding: 0 .5ex}\n",
              "</style>\n",
              "<ol class=list-inline><li>John</li><li>David</li><li>Kim</li><li>Janet</li><li>Lucy</li><li>William</li></ol>\n",
              "\n",
              "<details>\n",
              "\t<summary style=display:list-item;cursor:pointer>\n",
              "\t\t<strong>Levels</strong>:\n",
              "\t</summary>\n",
              "\t<style>\n",
              "\t.list-inline {list-style: none; margin:0; padding: 0}\n",
              "\t.list-inline>li {display: inline-block}\n",
              "\t.list-inline>li:not(:last-child)::after {content: \"\\00b7\"; padding: 0 .5ex}\n",
              "\t</style>\n",
              "\t<ol class=list-inline><li>'David'</li><li>'Janet'</li><li>'John'</li><li>'Kim'</li><li>'Lucy'</li><li>'William'</li></ol>\n",
              "</details>"
            ]
          },
          "metadata": {
            "tags": []
          }
        },
        {
          "output_type": "display_data",
          "data": {
            "text/plain": [
              "  age\n",
              "1 19 \n",
              "2 23 \n",
              "3 36 \n",
              "4 22 \n",
              "5 42 \n",
              "6 39 "
            ],
            "text/latex": "A data.frame: 6 × 1\n\\begin{tabular}{l}\n age\\\\\n <dbl>\\\\\n\\hline\n\t 19\\\\\n\t 23\\\\\n\t 36\\\\\n\t 22\\\\\n\t 42\\\\\n\t 39\\\\\n\\end{tabular}\n",
            "text/markdown": "\nA data.frame: 6 × 1\n\n| age &lt;dbl&gt; |\n|---|\n| 19 |\n| 23 |\n| 36 |\n| 22 |\n| 42 |\n| 39 |\n\n",
            "text/html": [
              "<table>\n",
              "<caption>A data.frame: 6 × 1</caption>\n",
              "<thead>\n",
              "\t<tr><th scope=col>age</th></tr>\n",
              "\t<tr><th scope=col>&lt;dbl&gt;</th></tr>\n",
              "</thead>\n",
              "<tbody>\n",
              "\t<tr><td>19</td></tr>\n",
              "\t<tr><td>23</td></tr>\n",
              "\t<tr><td>36</td></tr>\n",
              "\t<tr><td>22</td></tr>\n",
              "\t<tr><td>42</td></tr>\n",
              "\t<tr><td>39</td></tr>\n",
              "</tbody>\n",
              "</table>\n"
            ]
          },
          "metadata": {
            "tags": []
          }
        },
        {
          "output_type": "display_data",
          "data": {
            "text/plain": [
              "  survey\n",
              "1  3    \n",
              "2  6    \n",
              "3 12    \n",
              "4  2    \n",
              "5 NA    \n",
              "6 10    "
            ],
            "text/latex": "A data.frame: 6 × 1\n\\begin{tabular}{l}\n survey\\\\\n <dbl>\\\\\n\\hline\n\t  3\\\\\n\t  6\\\\\n\t 12\\\\\n\t  2\\\\\n\t NA\\\\\n\t 10\\\\\n\\end{tabular}\n",
            "text/markdown": "\nA data.frame: 6 × 1\n\n| survey &lt;dbl&gt; |\n|---|\n|  3 |\n|  6 |\n| 12 |\n|  2 |\n| NA |\n| 10 |\n\n",
            "text/html": [
              "<table>\n",
              "<caption>A data.frame: 6 × 1</caption>\n",
              "<thead>\n",
              "\t<tr><th scope=col>survey</th></tr>\n",
              "\t<tr><th scope=col>&lt;dbl&gt;</th></tr>\n",
              "</thead>\n",
              "<tbody>\n",
              "\t<tr><td> 3</td></tr>\n",
              "\t<tr><td> 6</td></tr>\n",
              "\t<tr><td>12</td></tr>\n",
              "\t<tr><td> 2</td></tr>\n",
              "\t<tr><td>NA</td></tr>\n",
              "\t<tr><td>10</td></tr>\n",
              "</tbody>\n",
              "</table>\n"
            ]
          },
          "metadata": {
            "tags": []
          }
        },
        {
          "output_type": "display_data",
          "data": {
            "text/plain": [
              "  name    job    \n",
              "1 John    Student\n",
              "2 David   Student\n",
              "3 Kim     Worker \n",
              "4 Janet   NA     \n",
              "5 Lucy    Chef   \n",
              "6 William Trader "
            ],
            "text/latex": "A data.frame: 6 × 2\n\\begin{tabular}{ll}\n name & job\\\\\n <fct> & <fct>\\\\\n\\hline\n\t John    & Student\\\\\n\t David   & Student\\\\\n\t Kim     & Worker \\\\\n\t Janet   & NA     \\\\\n\t Lucy    & Chef   \\\\\n\t William & Trader \\\\\n\\end{tabular}\n",
            "text/markdown": "\nA data.frame: 6 × 2\n\n| name &lt;fct&gt; | job &lt;fct&gt; |\n|---|---|\n| John    | Student |\n| David   | Student |\n| Kim     | Worker  |\n| Janet   | NA      |\n| Lucy    | Chef    |\n| William | Trader  |\n\n",
            "text/html": [
              "<table>\n",
              "<caption>A data.frame: 6 × 2</caption>\n",
              "<thead>\n",
              "\t<tr><th scope=col>name</th><th scope=col>job</th></tr>\n",
              "\t<tr><th scope=col>&lt;fct&gt;</th><th scope=col>&lt;fct&gt;</th></tr>\n",
              "</thead>\n",
              "<tbody>\n",
              "\t<tr><td>John   </td><td>Student</td></tr>\n",
              "\t<tr><td>David  </td><td>Student</td></tr>\n",
              "\t<tr><td>Kim    </td><td>Worker </td></tr>\n",
              "\t<tr><td>Janet  </td><td>NA     </td></tr>\n",
              "\t<tr><td>Lucy   </td><td>Chef   </td></tr>\n",
              "\t<tr><td>William</td><td>Trader </td></tr>\n",
              "</tbody>\n",
              "</table>\n"
            ]
          },
          "metadata": {
            "tags": []
          }
        },
        {
          "output_type": "display_data",
          "data": {
            "text/plain": [
              "  gender job     age\n",
              "1 M      Student 19 \n",
              "2 M      Student 23 \n",
              "3 M      Worker  36 \n",
              "4 F      NA      22 \n",
              "5 F      Chef    42 \n",
              "6 F      Trader  39 "
            ],
            "text/latex": "A data.frame: 6 × 3\n\\begin{tabular}{lll}\n gender & job & age\\\\\n <fct> & <fct> & <dbl>\\\\\n\\hline\n\t M & Student & 19\\\\\n\t M & Student & 23\\\\\n\t M & Worker  & 36\\\\\n\t F & NA      & 22\\\\\n\t F & Chef    & 42\\\\\n\t F & Trader  & 39\\\\\n\\end{tabular}\n",
            "text/markdown": "\nA data.frame: 6 × 3\n\n| gender &lt;fct&gt; | job &lt;fct&gt; | age &lt;dbl&gt; |\n|---|---|---|\n| M | Student | 19 |\n| M | Student | 23 |\n| M | Worker  | 36 |\n| F | NA      | 22 |\n| F | Chef    | 42 |\n| F | Trader  | 39 |\n\n",
            "text/html": [
              "<table>\n",
              "<caption>A data.frame: 6 × 3</caption>\n",
              "<thead>\n",
              "\t<tr><th scope=col>gender</th><th scope=col>job</th><th scope=col>age</th></tr>\n",
              "\t<tr><th scope=col>&lt;fct&gt;</th><th scope=col>&lt;fct&gt;</th><th scope=col>&lt;dbl&gt;</th></tr>\n",
              "</thead>\n",
              "<tbody>\n",
              "\t<tr><td>M</td><td>Student</td><td>19</td></tr>\n",
              "\t<tr><td>M</td><td>Student</td><td>23</td></tr>\n",
              "\t<tr><td>M</td><td>Worker </td><td>36</td></tr>\n",
              "\t<tr><td>F</td><td>NA     </td><td>22</td></tr>\n",
              "\t<tr><td>F</td><td>Chef   </td><td>42</td></tr>\n",
              "\t<tr><td>F</td><td>Trader </td><td>39</td></tr>\n",
              "</tbody>\n",
              "</table>\n"
            ]
          },
          "metadata": {
            "tags": []
          }
        },
        {
          "output_type": "display_data",
          "data": {
            "text/plain": [
              "  name    gender job     result\n",
              "1 John    M      Student  TRUE \n",
              "2 David   M      Student  TRUE \n",
              "3 Kim     M      Worker  FALSE \n",
              "4 Janet   F      NA      FALSE \n",
              "5 Lucy    F      Chef     TRUE \n",
              "6 William F      Trader     NA "
            ],
            "text/latex": "A data.frame: 6 × 4\n\\begin{tabular}{llll}\n name & gender & job & result\\\\\n <fct> & <fct> & <fct> & <lgl>\\\\\n\\hline\n\t John    & M & Student &  TRUE\\\\\n\t David   & M & Student &  TRUE\\\\\n\t Kim     & M & Worker  & FALSE\\\\\n\t Janet   & F & NA      & FALSE\\\\\n\t Lucy    & F & Chef    &  TRUE\\\\\n\t William & F & Trader  &    NA\\\\\n\\end{tabular}\n",
            "text/markdown": "\nA data.frame: 6 × 4\n\n| name &lt;fct&gt; | gender &lt;fct&gt; | job &lt;fct&gt; | result &lt;lgl&gt; |\n|---|---|---|---|\n| John    | M | Student |  TRUE |\n| David   | M | Student |  TRUE |\n| Kim     | M | Worker  | FALSE |\n| Janet   | F | NA      | FALSE |\n| Lucy    | F | Chef    |  TRUE |\n| William | F | Trader  |    NA |\n\n",
            "text/html": [
              "<table>\n",
              "<caption>A data.frame: 6 × 4</caption>\n",
              "<thead>\n",
              "\t<tr><th scope=col>name</th><th scope=col>gender</th><th scope=col>job</th><th scope=col>result</th></tr>\n",
              "\t<tr><th scope=col>&lt;fct&gt;</th><th scope=col>&lt;fct&gt;</th><th scope=col>&lt;fct&gt;</th><th scope=col>&lt;lgl&gt;</th></tr>\n",
              "</thead>\n",
              "<tbody>\n",
              "\t<tr><td>John   </td><td>M</td><td>Student</td><td> TRUE</td></tr>\n",
              "\t<tr><td>David  </td><td>M</td><td>Student</td><td> TRUE</td></tr>\n",
              "\t<tr><td>Kim    </td><td>M</td><td>Worker </td><td>FALSE</td></tr>\n",
              "\t<tr><td>Janet  </td><td>F</td><td>NA     </td><td>FALSE</td></tr>\n",
              "\t<tr><td>Lucy   </td><td>F</td><td>Chef   </td><td> TRUE</td></tr>\n",
              "\t<tr><td>William</td><td>F</td><td>Trader </td><td>   NA</td></tr>\n",
              "</tbody>\n",
              "</table>\n"
            ]
          },
          "metadata": {
            "tags": []
          }
        }
      ]
    },
    {
      "cell_type": "markdown",
      "metadata": {
        "id": "vki2L2px7YDh",
        "colab_type": "text"
      },
      "source": [
        "#### **Factor**"
      ]
    },
    {
      "cell_type": "markdown",
      "metadata": {
        "id": "bX-ibScb7ZVx",
        "colab_type": "text"
      },
      "source": [
        "Used to categorize the data and store it as levels"
      ]
    },
    {
      "cell_type": "code",
      "metadata": {
        "id": "kzQ1Cv_W8DC1",
        "colab_type": "code",
        "outputId": "a0153591-8bbe-4b1f-939e-78ce87d9e103",
        "colab": {
          "base_uri": "https://localhost:8080/",
          "height": 269
        }
      },
      "source": [
        "# Check structure\n",
        "# Levels: unique data\n",
        "str(customer)\n",
        "\n",
        "# stringsAsFactors: do not automatically encode strings to factors \n",
        "customer_nf <- data.frame(name, gender, job, age, survey, result, stringsAsFactors = FALSE)\n",
        "str(customer_nf)\n",
        "\n",
        "# Make specific column into Factor data\n",
        "customer_nf$gender <- factor(customer_nf$gender)\n",
        "\n",
        "# Turn specific column into general data type\n",
        "customer_nf$gender <- as.character(customer_nf$gender)"
      ],
      "execution_count": 41,
      "outputs": [
        {
          "output_type": "stream",
          "text": [
            "'data.frame':\t6 obs. of  6 variables:\n",
            " $ name  : Factor w/ 6 levels \"David\",\"Janet\",..: 3 1 4 2 5 6\n",
            " $ gender: Factor w/ 2 levels \"F\",\"M\": 2 2 2 1 1 1\n",
            " $ job   : Factor w/ 4 levels \"Chef\",\"Student\",..: 2 2 4 NA 1 3\n",
            " $ age   : num  19 23 36 22 42 39\n",
            " $ survey: num  3 6 12 2 NA 10\n",
            " $ result: logi  TRUE TRUE FALSE FALSE TRUE NA\n",
            "'data.frame':\t6 obs. of  6 variables:\n",
            " $ name  : chr  \"John\" \"David\" \"Kim\" \"Janet\" ...\n",
            " $ gender: chr  \"M\" \"M\" \"M\" \"F\" ...\n",
            " $ job   : chr  \"Student\" \"Student\" \"Worker\" NA ...\n",
            " $ age   : num  19 23 36 22 42 39\n",
            " $ survey: num  3 6 12 2 NA 10\n",
            " $ result: logi  TRUE TRUE FALSE FALSE TRUE NA\n"
          ],
          "name": "stdout"
        }
      ]
    },
    {
      "cell_type": "markdown",
      "metadata": {
        "id": "G_dw0W6P-iwb",
        "colab_type": "text"
      },
      "source": [
        "#### **List**"
      ]
    },
    {
      "cell_type": "markdown",
      "metadata": {
        "id": "0NjS5TyK-kY4",
        "colab_type": "text"
      },
      "source": [
        "Combines EVERYTHING."
      ]
    },
    {
      "cell_type": "code",
      "metadata": {
        "id": "Zg24hUuk-j_E",
        "colab_type": "code",
        "outputId": "54aa0cfb-9301-47f6-d3ea-dd0494989ad0",
        "colab": {
          "base_uri": "https://localhost:8080/",
          "height": 638
        }
      },
      "source": [
        "mydata <- list(d1 = a, d2 = customer, d3 = name, d4 = arr1)\n",
        "mydata\n",
        "\n",
        "# Show list of data objects in list\n",
        "names(mydata)\n",
        "\n",
        "# See structures of data objects in list\n",
        "str(mydata)"
      ],
      "execution_count": 42,
      "outputs": [
        {
          "output_type": "display_data",
          "data": {
            "text/plain": [
              "$d1\n",
              "[1]  1  3  5  7 NA  9\n",
              "\n",
              "$d2\n",
              "     name gender     job age survey result\n",
              "1    John      M Student  19      3   TRUE\n",
              "2   David      M Student  23      6   TRUE\n",
              "3     Kim      M  Worker  36     12  FALSE\n",
              "4   Janet      F    <NA>  22      2  FALSE\n",
              "5    Lucy      F    Chef  42     NA   TRUE\n",
              "6 William      F  Trader  39     10     NA\n",
              "\n",
              "$d3\n",
              "[1] \"John\"    \"David\"   \"Kim\"     \"Janet\"   \"Lucy\"    \"William\"\n",
              "\n",
              "$d4\n",
              ", , US\n",
              "\n",
              "      Uno Dos\n",
              "One     0   4\n",
              "Two     1   5\n",
              "Three   2   6\n",
              "Four   NA   7\n",
              "\n",
              ", , EU\n",
              "\n",
              "      Uno Dos\n",
              "One     8  NA\n",
              "Two     9  13\n",
              "Three  10  14\n",
              "Four   11  15\n",
              "\n",
              ", , AP\n",
              "\n",
              "      Uno Dos\n",
              "One    16  20\n",
              "Two    17  NA\n",
              "Three  18  22\n",
              "Four   19  23\n",
              "\n"
            ],
            "text/latex": "\\begin{description}\n\\item[\\$d1] \\begin{enumerate*}\n\\item 1\n\\item 3\n\\item 5\n\\item 7\n\\item <NA>\n\\item 9\n\\end{enumerate*}\n\n\\item[\\$d2] A data.frame: 6 × 6\n\\begin{tabular}{llllll}\n name & gender & job & age & survey & result\\\\\n <fct> & <fct> & <fct> & <dbl> & <dbl> & <lgl>\\\\\n\\hline\n\t John    & M & Student & 19 &  3 &  TRUE\\\\\n\t David   & M & Student & 23 &  6 &  TRUE\\\\\n\t Kim     & M & Worker  & 36 & 12 & FALSE\\\\\n\t Janet   & F & NA      & 22 &  2 & FALSE\\\\\n\t Lucy    & F & Chef    & 42 & NA &  TRUE\\\\\n\t William & F & Trader  & 39 & 10 &    NA\\\\\n\\end{tabular}\n\n\\item[\\$d3] \\begin{enumerate*}\n\\item 'John'\n\\item 'David'\n\\item 'Kim'\n\\item 'Janet'\n\\item 'Lucy'\n\\item 'William'\n\\end{enumerate*}\n\n\\item[\\$d4] \\begin{enumerate*}\n\\item 0\n\\item 1\n\\item 2\n\\item <NA>\n\\item 4\n\\item 5\n\\item 6\n\\item 7\n\\item 8\n\\item 9\n\\item 10\n\\item 11\n\\item <NA>\n\\item 13\n\\item 14\n\\item 15\n\\item 16\n\\item 17\n\\item 18\n\\item 19\n\\item 20\n\\item <NA>\n\\item 22\n\\item 23\n\\end{enumerate*}\n\n\\end{description}\n",
            "text/markdown": "$d1\n:   1. 1\n2. 3\n3. 5\n4. 7\n5. &lt;NA&gt;\n6. 9\n\n\n\n$d2\n:   \nA data.frame: 6 × 6\n\n| name &lt;fct&gt; | gender &lt;fct&gt; | job &lt;fct&gt; | age &lt;dbl&gt; | survey &lt;dbl&gt; | result &lt;lgl&gt; |\n|---|---|---|---|---|---|\n| John    | M | Student | 19 |  3 |  TRUE |\n| David   | M | Student | 23 |  6 |  TRUE |\n| Kim     | M | Worker  | 36 | 12 | FALSE |\n| Janet   | F | NA      | 22 |  2 | FALSE |\n| Lucy    | F | Chef    | 42 | NA |  TRUE |\n| William | F | Trader  | 39 | 10 |    NA |\n\n\n$d3\n:   1. 'John'\n2. 'David'\n3. 'Kim'\n4. 'Janet'\n5. 'Lucy'\n6. 'William'\n\n\n\n$d4\n:   1. 0\n2. 1\n3. 2\n4. &lt;NA&gt;\n5. 4\n6. 5\n7. 6\n8. 7\n9. 8\n10. 9\n11. 10\n12. 11\n13. &lt;NA&gt;\n14. 13\n15. 14\n16. 15\n17. 16\n18. 17\n19. 18\n20. 19\n21. 20\n22. &lt;NA&gt;\n23. 22\n24. 23\n\n\n\n\n\n",
            "text/html": [
              "<dl>\n",
              "\t<dt>$d1</dt>\n",
              "\t\t<dd><style>\n",
              ".list-inline {list-style: none; margin:0; padding: 0}\n",
              ".list-inline>li {display: inline-block}\n",
              ".list-inline>li:not(:last-child)::after {content: \"\\00b7\"; padding: 0 .5ex}\n",
              "</style>\n",
              "<ol class=list-inline><li>1</li><li>3</li><li>5</li><li>7</li><li>&lt;NA&gt;</li><li>9</li></ol>\n",
              "</dd>\n",
              "\t<dt>$d2</dt>\n",
              "\t\t<dd><table>\n",
              "<caption>A data.frame: 6 × 6</caption>\n",
              "<thead>\n",
              "\t<tr><th scope=col>name</th><th scope=col>gender</th><th scope=col>job</th><th scope=col>age</th><th scope=col>survey</th><th scope=col>result</th></tr>\n",
              "\t<tr><th scope=col>&lt;fct&gt;</th><th scope=col>&lt;fct&gt;</th><th scope=col>&lt;fct&gt;</th><th scope=col>&lt;dbl&gt;</th><th scope=col>&lt;dbl&gt;</th><th scope=col>&lt;lgl&gt;</th></tr>\n",
              "</thead>\n",
              "<tbody>\n",
              "\t<tr><td>John   </td><td>M</td><td>Student</td><td>19</td><td> 3</td><td> TRUE</td></tr>\n",
              "\t<tr><td>David  </td><td>M</td><td>Student</td><td>23</td><td> 6</td><td> TRUE</td></tr>\n",
              "\t<tr><td>Kim    </td><td>M</td><td>Worker </td><td>36</td><td>12</td><td>FALSE</td></tr>\n",
              "\t<tr><td>Janet  </td><td>F</td><td>NA     </td><td>22</td><td> 2</td><td>FALSE</td></tr>\n",
              "\t<tr><td>Lucy   </td><td>F</td><td>Chef   </td><td>42</td><td>NA</td><td> TRUE</td></tr>\n",
              "\t<tr><td>William</td><td>F</td><td>Trader </td><td>39</td><td>10</td><td>   NA</td></tr>\n",
              "</tbody>\n",
              "</table>\n",
              "</dd>\n",
              "\t<dt>$d3</dt>\n",
              "\t\t<dd><style>\n",
              ".list-inline {list-style: none; margin:0; padding: 0}\n",
              ".list-inline>li {display: inline-block}\n",
              ".list-inline>li:not(:last-child)::after {content: \"\\00b7\"; padding: 0 .5ex}\n",
              "</style>\n",
              "<ol class=list-inline><li>'John'</li><li>'David'</li><li>'Kim'</li><li>'Janet'</li><li>'Lucy'</li><li>'William'</li></ol>\n",
              "</dd>\n",
              "\t<dt>$d4</dt>\n",
              "\t\t<dd><style>\n",
              ".list-inline {list-style: none; margin:0; padding: 0}\n",
              ".list-inline>li {display: inline-block}\n",
              ".list-inline>li:not(:last-child)::after {content: \"\\00b7\"; padding: 0 .5ex}\n",
              "</style>\n",
              "<ol class=list-inline><li>0</li><li>1</li><li>2</li><li>&lt;NA&gt;</li><li>4</li><li>5</li><li>6</li><li>7</li><li>8</li><li>9</li><li>10</li><li>11</li><li>&lt;NA&gt;</li><li>13</li><li>14</li><li>15</li><li>16</li><li>17</li><li>18</li><li>19</li><li>20</li><li>&lt;NA&gt;</li><li>22</li><li>23</li></ol>\n",
              "</dd>\n",
              "</dl>\n"
            ]
          },
          "metadata": {
            "tags": []
          }
        },
        {
          "output_type": "display_data",
          "data": {
            "text/plain": [
              "[1] \"d1\" \"d2\" \"d3\" \"d4\""
            ],
            "text/latex": "\\begin{enumerate*}\n\\item 'd1'\n\\item 'd2'\n\\item 'd3'\n\\item 'd4'\n\\end{enumerate*}\n",
            "text/markdown": "1. 'd1'\n2. 'd2'\n3. 'd3'\n4. 'd4'\n\n\n",
            "text/html": [
              "<style>\n",
              ".list-inline {list-style: none; margin:0; padding: 0}\n",
              ".list-inline>li {display: inline-block}\n",
              ".list-inline>li:not(:last-child)::after {content: \"\\00b7\"; padding: 0 .5ex}\n",
              "</style>\n",
              "<ol class=list-inline><li>'d1'</li><li>'d2'</li><li>'d3'</li><li>'d4'</li></ol>\n"
            ]
          },
          "metadata": {
            "tags": []
          }
        },
        {
          "output_type": "stream",
          "text": [
            "List of 4\n",
            " $ d1: num [1:6] 1 3 5 7 NA 9\n",
            " $ d2:'data.frame':\t6 obs. of  6 variables:\n",
            "  ..$ name  : Factor w/ 6 levels \"David\",\"Janet\",..: 3 1 4 2 5 6\n",
            "  ..$ gender: Factor w/ 2 levels \"F\",\"M\": 2 2 2 1 1 1\n",
            "  ..$ job   : Factor w/ 4 levels \"Chef\",\"Student\",..: 2 2 4 NA 1 3\n",
            "  ..$ age   : num [1:6] 19 23 36 22 42 39\n",
            "  ..$ survey: num [1:6] 3 6 12 2 NA 10\n",
            "  ..$ result: logi [1:6] TRUE TRUE FALSE FALSE TRUE NA\n",
            " $ d3: chr [1:6] \"John\" \"David\" \"Kim\" \"Janet\" ...\n",
            " $ d4: num [1:4, 1:2, 1:3] 0 1 2 NA 4 5 6 7 8 9 ...\n",
            "  ..- attr(*, \"dimnames\")=List of 3\n",
            "  .. ..$ : chr [1:4] \"One\" \"Two\" \"Three\" \"Four\"\n",
            "  .. ..$ : chr [1:2] \"Uno\" \"Dos\"\n",
            "  .. ..$ : chr [1:3] \"US\" \"EU\" \"AP\"\n"
          ],
          "name": "stdout"
        }
      ]
    },
    {
      "cell_type": "code",
      "metadata": {
        "id": "DipjWH0k_UQ3",
        "colab_type": "code",
        "outputId": "336392f4-2031-4a22-ae2d-5b58506a1c08",
        "colab": {
          "base_uri": "https://localhost:8080/",
          "height": 770
        }
      },
      "source": [
        "# Indexing list object\n",
        "mydata$d2\n",
        "mydata[[3]]\n",
        "mydata[[2]]['name']\n",
        "\n",
        "mydata[[4]][, 2, ]\n",
        "mydata[[2]][, c(2:5)]"
      ],
      "execution_count": 43,
      "outputs": [
        {
          "output_type": "display_data",
          "data": {
            "text/plain": [
              "  name    gender job     age survey result\n",
              "1 John    M      Student 19   3      TRUE \n",
              "2 David   M      Student 23   6      TRUE \n",
              "3 Kim     M      Worker  36  12     FALSE \n",
              "4 Janet   F      NA      22   2     FALSE \n",
              "5 Lucy    F      Chef    42  NA      TRUE \n",
              "6 William F      Trader  39  10        NA "
            ],
            "text/latex": "A data.frame: 6 × 6\n\\begin{tabular}{llllll}\n name & gender & job & age & survey & result\\\\\n <fct> & <fct> & <fct> & <dbl> & <dbl> & <lgl>\\\\\n\\hline\n\t John    & M & Student & 19 &  3 &  TRUE\\\\\n\t David   & M & Student & 23 &  6 &  TRUE\\\\\n\t Kim     & M & Worker  & 36 & 12 & FALSE\\\\\n\t Janet   & F & NA      & 22 &  2 & FALSE\\\\\n\t Lucy    & F & Chef    & 42 & NA &  TRUE\\\\\n\t William & F & Trader  & 39 & 10 &    NA\\\\\n\\end{tabular}\n",
            "text/markdown": "\nA data.frame: 6 × 6\n\n| name &lt;fct&gt; | gender &lt;fct&gt; | job &lt;fct&gt; | age &lt;dbl&gt; | survey &lt;dbl&gt; | result &lt;lgl&gt; |\n|---|---|---|---|---|---|\n| John    | M | Student | 19 |  3 |  TRUE |\n| David   | M | Student | 23 |  6 |  TRUE |\n| Kim     | M | Worker  | 36 | 12 | FALSE |\n| Janet   | F | NA      | 22 |  2 | FALSE |\n| Lucy    | F | Chef    | 42 | NA |  TRUE |\n| William | F | Trader  | 39 | 10 |    NA |\n\n",
            "text/html": [
              "<table>\n",
              "<caption>A data.frame: 6 × 6</caption>\n",
              "<thead>\n",
              "\t<tr><th scope=col>name</th><th scope=col>gender</th><th scope=col>job</th><th scope=col>age</th><th scope=col>survey</th><th scope=col>result</th></tr>\n",
              "\t<tr><th scope=col>&lt;fct&gt;</th><th scope=col>&lt;fct&gt;</th><th scope=col>&lt;fct&gt;</th><th scope=col>&lt;dbl&gt;</th><th scope=col>&lt;dbl&gt;</th><th scope=col>&lt;lgl&gt;</th></tr>\n",
              "</thead>\n",
              "<tbody>\n",
              "\t<tr><td>John   </td><td>M</td><td>Student</td><td>19</td><td> 3</td><td> TRUE</td></tr>\n",
              "\t<tr><td>David  </td><td>M</td><td>Student</td><td>23</td><td> 6</td><td> TRUE</td></tr>\n",
              "\t<tr><td>Kim    </td><td>M</td><td>Worker </td><td>36</td><td>12</td><td>FALSE</td></tr>\n",
              "\t<tr><td>Janet  </td><td>F</td><td>NA     </td><td>22</td><td> 2</td><td>FALSE</td></tr>\n",
              "\t<tr><td>Lucy   </td><td>F</td><td>Chef   </td><td>42</td><td>NA</td><td> TRUE</td></tr>\n",
              "\t<tr><td>William</td><td>F</td><td>Trader </td><td>39</td><td>10</td><td>   NA</td></tr>\n",
              "</tbody>\n",
              "</table>\n"
            ]
          },
          "metadata": {
            "tags": []
          }
        },
        {
          "output_type": "display_data",
          "data": {
            "text/plain": [
              "[1] \"John\"    \"David\"   \"Kim\"     \"Janet\"   \"Lucy\"    \"William\""
            ],
            "text/latex": "\\begin{enumerate*}\n\\item 'John'\n\\item 'David'\n\\item 'Kim'\n\\item 'Janet'\n\\item 'Lucy'\n\\item 'William'\n\\end{enumerate*}\n",
            "text/markdown": "1. 'John'\n2. 'David'\n3. 'Kim'\n4. 'Janet'\n5. 'Lucy'\n6. 'William'\n\n\n",
            "text/html": [
              "<style>\n",
              ".list-inline {list-style: none; margin:0; padding: 0}\n",
              ".list-inline>li {display: inline-block}\n",
              ".list-inline>li:not(:last-child)::after {content: \"\\00b7\"; padding: 0 .5ex}\n",
              "</style>\n",
              "<ol class=list-inline><li>'John'</li><li>'David'</li><li>'Kim'</li><li>'Janet'</li><li>'Lucy'</li><li>'William'</li></ol>\n"
            ]
          },
          "metadata": {
            "tags": []
          }
        },
        {
          "output_type": "display_data",
          "data": {
            "text/plain": [
              "  name   \n",
              "1 John   \n",
              "2 David  \n",
              "3 Kim    \n",
              "4 Janet  \n",
              "5 Lucy   \n",
              "6 William"
            ],
            "text/latex": "A data.frame: 6 × 1\n\\begin{tabular}{l}\n name\\\\\n <fct>\\\\\n\\hline\n\t John   \\\\\n\t David  \\\\\n\t Kim    \\\\\n\t Janet  \\\\\n\t Lucy   \\\\\n\t William\\\\\n\\end{tabular}\n",
            "text/markdown": "\nA data.frame: 6 × 1\n\n| name &lt;fct&gt; |\n|---|\n| John    |\n| David   |\n| Kim     |\n| Janet   |\n| Lucy    |\n| William |\n\n",
            "text/html": [
              "<table>\n",
              "<caption>A data.frame: 6 × 1</caption>\n",
              "<thead>\n",
              "\t<tr><th scope=col>name</th></tr>\n",
              "\t<tr><th scope=col>&lt;fct&gt;</th></tr>\n",
              "</thead>\n",
              "<tbody>\n",
              "\t<tr><td>John   </td></tr>\n",
              "\t<tr><td>David  </td></tr>\n",
              "\t<tr><td>Kim    </td></tr>\n",
              "\t<tr><td>Janet  </td></tr>\n",
              "\t<tr><td>Lucy   </td></tr>\n",
              "\t<tr><td>William</td></tr>\n",
              "</tbody>\n",
              "</table>\n"
            ]
          },
          "metadata": {
            "tags": []
          }
        },
        {
          "output_type": "display_data",
          "data": {
            "text/plain": [
              "      US EU AP\n",
              "One   4  NA 20\n",
              "Two   5  13 NA\n",
              "Three 6  14 22\n",
              "Four  7  15 23"
            ],
            "text/latex": "A matrix: 4 × 3 of type dbl\n\\begin{tabular}{r|lll}\n  & US & EU & AP\\\\\n\\hline\n\tOne & 4 & NA & 20\\\\\n\tTwo & 5 & 13 & NA\\\\\n\tThree & 6 & 14 & 22\\\\\n\tFour & 7 & 15 & 23\\\\\n\\end{tabular}\n",
            "text/markdown": "\nA matrix: 4 × 3 of type dbl\n\n| <!--/--> | US | EU | AP |\n|---|---|---|---|\n| One | 4 | NA | 20 |\n| Two | 5 | 13 | NA |\n| Three | 6 | 14 | 22 |\n| Four | 7 | 15 | 23 |\n\n",
            "text/html": [
              "<table>\n",
              "<caption>A matrix: 4 × 3 of type dbl</caption>\n",
              "<thead>\n",
              "\t<tr><th></th><th scope=col>US</th><th scope=col>EU</th><th scope=col>AP</th></tr>\n",
              "</thead>\n",
              "<tbody>\n",
              "\t<tr><th scope=row>One</th><td>4</td><td>NA</td><td>20</td></tr>\n",
              "\t<tr><th scope=row>Two</th><td>5</td><td>13</td><td>NA</td></tr>\n",
              "\t<tr><th scope=row>Three</th><td>6</td><td>14</td><td>22</td></tr>\n",
              "\t<tr><th scope=row>Four</th><td>7</td><td>15</td><td>23</td></tr>\n",
              "</tbody>\n",
              "</table>\n"
            ]
          },
          "metadata": {
            "tags": []
          }
        },
        {
          "output_type": "display_data",
          "data": {
            "text/plain": [
              "  gender job     age survey\n",
              "1 M      Student 19   3    \n",
              "2 M      Student 23   6    \n",
              "3 M      Worker  36  12    \n",
              "4 F      NA      22   2    \n",
              "5 F      Chef    42  NA    \n",
              "6 F      Trader  39  10    "
            ],
            "text/latex": "A data.frame: 6 × 4\n\\begin{tabular}{llll}\n gender & job & age & survey\\\\\n <fct> & <fct> & <dbl> & <dbl>\\\\\n\\hline\n\t M & Student & 19 &  3\\\\\n\t M & Student & 23 &  6\\\\\n\t M & Worker  & 36 & 12\\\\\n\t F & NA      & 22 &  2\\\\\n\t F & Chef    & 42 & NA\\\\\n\t F & Trader  & 39 & 10\\\\\n\\end{tabular}\n",
            "text/markdown": "\nA data.frame: 6 × 4\n\n| gender &lt;fct&gt; | job &lt;fct&gt; | age &lt;dbl&gt; | survey &lt;dbl&gt; |\n|---|---|---|---|\n| M | Student | 19 |  3 |\n| M | Student | 23 |  6 |\n| M | Worker  | 36 | 12 |\n| F | NA      | 22 |  2 |\n| F | Chef    | 42 | NA |\n| F | Trader  | 39 | 10 |\n\n",
            "text/html": [
              "<table>\n",
              "<caption>A data.frame: 6 × 4</caption>\n",
              "<thead>\n",
              "\t<tr><th scope=col>gender</th><th scope=col>job</th><th scope=col>age</th><th scope=col>survey</th></tr>\n",
              "\t<tr><th scope=col>&lt;fct&gt;</th><th scope=col>&lt;fct&gt;</th><th scope=col>&lt;dbl&gt;</th><th scope=col>&lt;dbl&gt;</th></tr>\n",
              "</thead>\n",
              "<tbody>\n",
              "\t<tr><td>M</td><td>Student</td><td>19</td><td> 3</td></tr>\n",
              "\t<tr><td>M</td><td>Student</td><td>23</td><td> 6</td></tr>\n",
              "\t<tr><td>M</td><td>Worker </td><td>36</td><td>12</td></tr>\n",
              "\t<tr><td>F</td><td>NA     </td><td>22</td><td> 2</td></tr>\n",
              "\t<tr><td>F</td><td>Chef   </td><td>42</td><td>NA</td></tr>\n",
              "\t<tr><td>F</td><td>Trader </td><td>39</td><td>10</td></tr>\n",
              "</tbody>\n",
              "</table>\n"
            ]
          },
          "metadata": {
            "tags": []
          }
        }
      ]
    },
    {
      "cell_type": "markdown",
      "metadata": {
        "id": "O1c2-nEpINSM",
        "colab_type": "text"
      },
      "source": [
        "## **Types of Dataset**"
      ]
    },
    {
      "cell_type": "markdown",
      "metadata": {
        "id": "UialdcifKGU5",
        "colab_type": "text"
      },
      "source": [
        "We need to convert data into **structured data** form to analyze."
      ]
    },
    {
      "cell_type": "markdown",
      "metadata": {
        "id": "UvML-Jg7IShX",
        "colab_type": "text"
      },
      "source": [
        "### **Structured Data**\n",
        "\n",
        "1. Plain text file\n",
        "2. Excel file (xlsx, csv, ...)\n",
        "3. Dataset file format used in commercial softwares (SAS, SPSS, Stata, Matlab, ...)\n",
        "4. DB files"
      ]
    },
    {
      "cell_type": "markdown",
      "metadata": {
        "id": "Zq5s8GloIiUY",
        "colab_type": "text"
      },
      "source": [
        "### **Semi-Structured Data**\n",
        "\n",
        "1. JSON (JavaScript Object Notation) File\n",
        "2. XML File"
      ]
    },
    {
      "cell_type": "markdown",
      "metadata": {
        "id": "Zg1O_jGXInaA",
        "colab_type": "text"
      },
      "source": [
        "### **Atypical Data**\n",
        "\n",
        "1. Not structured text file\n",
        "2. Image file\n",
        "3. Audio or Video file\n",
        "4. Data files that could only be open with exclusive software (Rdata, ...)"
      ]
    },
    {
      "cell_type": "markdown",
      "metadata": {
        "id": "ProS1vMHK2Mz",
        "colab_type": "text"
      },
      "source": [
        "## **Dataset Sources**\n",
        "\n",
        "> [Kaggle](https://www.kaggle.com/)<br>\n",
        "> [UCI Machine Learning Repository](https://archive.ics.uci.edu/ml/index.php)<br>\n",
        "> [Data.gov](http://data.gov/)<br>\n",
        "> [공공데이터포털](http://data.go.kr/) | [서울 열린데이터 광장](http://data.seoul.go.kr/) | [K-ICT 빅데이터 센터](https://kbig.kr/portal/)<br>\n",
        "> [SK Big Data Hub](https://www.bigdatahub.co.kr/) | [Naver DataLab](https://datalab.naver.com/) | [Daum SomeTrend](https://some.co.kr/)<br>\n",
        "> Web scraping"
      ]
    },
    {
      "cell_type": "markdown",
      "metadata": {
        "id": "chB365mxAsN9",
        "colab_type": "text"
      },
      "source": [
        "## **Loading Dataset**"
      ]
    },
    {
      "cell_type": "code",
      "metadata": {
        "id": "dAyGPs1Dx0H-",
        "colab_type": "code",
        "outputId": "2d9a99db-1f8f-410b-e7b8-81dd60b04867",
        "colab": {
          "base_uri": "https://localhost:8080/",
          "height": 34
        }
      },
      "source": [
        "# See list of packages loaded in memory\n",
        "search()"
      ],
      "execution_count": 44,
      "outputs": [
        {
          "output_type": "display_data",
          "data": {
            "text/plain": [
              " [1] \".GlobalEnv\"         \"package:jsonlite\"   \"package:readxl\"    \n",
              " [4] \"package:readr\"      \"package:data.table\" \"package:ggplot2\"   \n",
              " [7] \"package:IRdisplay\"  \"jupyter:irkernel\"   \"package:stats\"     \n",
              "[10] \"package:graphics\"   \"package:grDevices\"  \"package:utils\"     \n",
              "[13] \"package:datasets\"   \"package:methods\"    \"Autoloads\"         \n",
              "[16] \"package:base\"      "
            ],
            "text/latex": "\\begin{enumerate*}\n\\item '.GlobalEnv'\n\\item 'package:jsonlite'\n\\item 'package:readxl'\n\\item 'package:readr'\n\\item 'package:data.table'\n\\item 'package:ggplot2'\n\\item 'package:IRdisplay'\n\\item 'jupyter:irkernel'\n\\item 'package:stats'\n\\item 'package:graphics'\n\\item 'package:grDevices'\n\\item 'package:utils'\n\\item 'package:datasets'\n\\item 'package:methods'\n\\item 'Autoloads'\n\\item 'package:base'\n\\end{enumerate*}\n",
            "text/markdown": "1. '.GlobalEnv'\n2. 'package:jsonlite'\n3. 'package:readxl'\n4. 'package:readr'\n5. 'package:data.table'\n6. 'package:ggplot2'\n7. 'package:IRdisplay'\n8. 'jupyter:irkernel'\n9. 'package:stats'\n10. 'package:graphics'\n11. 'package:grDevices'\n12. 'package:utils'\n13. 'package:datasets'\n14. 'package:methods'\n15. 'Autoloads'\n16. 'package:base'\n\n\n",
            "text/html": [
              "<style>\n",
              ".list-inline {list-style: none; margin:0; padding: 0}\n",
              ".list-inline>li {display: inline-block}\n",
              ".list-inline>li:not(:last-child)::after {content: \"\\00b7\"; padding: 0 .5ex}\n",
              "</style>\n",
              "<ol class=list-inline><li>'.GlobalEnv'</li><li>'package:jsonlite'</li><li>'package:readxl'</li><li>'package:readr'</li><li>'package:data.table'</li><li>'package:ggplot2'</li><li>'package:IRdisplay'</li><li>'jupyter:irkernel'</li><li>'package:stats'</li><li>'package:graphics'</li><li>'package:grDevices'</li><li>'package:utils'</li><li>'package:datasets'</li><li>'package:methods'</li><li>'Autoloads'</li><li>'package:base'</li></ol>\n"
            ]
          },
          "metadata": {
            "tags": []
          }
        }
      ]
    },
    {
      "cell_type": "markdown",
      "metadata": {
        "id": "WqZ8T-SYy_bG",
        "colab_type": "text"
      },
      "source": [
        "### **R Package Sample Dataset**"
      ]
    },
    {
      "cell_type": "code",
      "metadata": {
        "id": "m8HP_RP6yDsc",
        "colab_type": "code",
        "outputId": "95773c9e-d5f5-4d52-dcde-d909900bc766",
        "colab": {
          "base_uri": "https://localhost:8080/",
          "height": 204
        }
      },
      "source": [
        "# Use help(DATASET) to get information\n",
        "head(airquality)\n",
        "\n",
        "# Load in memory\n",
        "data(airquality)"
      ],
      "execution_count": 45,
      "outputs": [
        {
          "output_type": "display_data",
          "data": {
            "text/plain": [
              "  Ozone Solar.R Wind Temp Month Day\n",
              "1 41    190      7.4 67   5     1  \n",
              "2 36    118      8.0 72   5     2  \n",
              "3 12    149     12.6 74   5     3  \n",
              "4 18    313     11.5 62   5     4  \n",
              "5 NA     NA     14.3 56   5     5  \n",
              "6 28     NA     14.9 66   5     6  "
            ],
            "text/latex": "A data.frame: 6 × 6\n\\begin{tabular}{r|llllll}\n  & Ozone & Solar.R & Wind & Temp & Month & Day\\\\\n  & <int> & <int> & <dbl> & <int> & <int> & <int>\\\\\n\\hline\n\t1 & 41 & 190 &  7.4 & 67 & 5 & 1\\\\\n\t2 & 36 & 118 &  8.0 & 72 & 5 & 2\\\\\n\t3 & 12 & 149 & 12.6 & 74 & 5 & 3\\\\\n\t4 & 18 & 313 & 11.5 & 62 & 5 & 4\\\\\n\t5 & NA &  NA & 14.3 & 56 & 5 & 5\\\\\n\t6 & 28 &  NA & 14.9 & 66 & 5 & 6\\\\\n\\end{tabular}\n",
            "text/markdown": "\nA data.frame: 6 × 6\n\n| <!--/--> | Ozone &lt;int&gt; | Solar.R &lt;int&gt; | Wind &lt;dbl&gt; | Temp &lt;int&gt; | Month &lt;int&gt; | Day &lt;int&gt; |\n|---|---|---|---|---|---|---|\n| 1 | 41 | 190 |  7.4 | 67 | 5 | 1 |\n| 2 | 36 | 118 |  8.0 | 72 | 5 | 2 |\n| 3 | 12 | 149 | 12.6 | 74 | 5 | 3 |\n| 4 | 18 | 313 | 11.5 | 62 | 5 | 4 |\n| 5 | NA |  NA | 14.3 | 56 | 5 | 5 |\n| 6 | 28 |  NA | 14.9 | 66 | 5 | 6 |\n\n",
            "text/html": [
              "<table>\n",
              "<caption>A data.frame: 6 × 6</caption>\n",
              "<thead>\n",
              "\t<tr><th></th><th scope=col>Ozone</th><th scope=col>Solar.R</th><th scope=col>Wind</th><th scope=col>Temp</th><th scope=col>Month</th><th scope=col>Day</th></tr>\n",
              "\t<tr><th></th><th scope=col>&lt;int&gt;</th><th scope=col>&lt;int&gt;</th><th scope=col>&lt;dbl&gt;</th><th scope=col>&lt;int&gt;</th><th scope=col>&lt;int&gt;</th><th scope=col>&lt;int&gt;</th></tr>\n",
              "</thead>\n",
              "<tbody>\n",
              "\t<tr><th scope=row>1</th><td>41</td><td>190</td><td> 7.4</td><td>67</td><td>5</td><td>1</td></tr>\n",
              "\t<tr><th scope=row>2</th><td>36</td><td>118</td><td> 8.0</td><td>72</td><td>5</td><td>2</td></tr>\n",
              "\t<tr><th scope=row>3</th><td>12</td><td>149</td><td>12.6</td><td>74</td><td>5</td><td>3</td></tr>\n",
              "\t<tr><th scope=row>4</th><td>18</td><td>313</td><td>11.5</td><td>62</td><td>5</td><td>4</td></tr>\n",
              "\t<tr><th scope=row>5</th><td>NA</td><td> NA</td><td>14.3</td><td>56</td><td>5</td><td>5</td></tr>\n",
              "\t<tr><th scope=row>6</th><td>28</td><td> NA</td><td>14.9</td><td>66</td><td>5</td><td>6</td></tr>\n",
              "</tbody>\n",
              "</table>\n"
            ]
          },
          "metadata": {
            "tags": []
          }
        }
      ]
    },
    {
      "cell_type": "markdown",
      "metadata": {
        "id": "-0Wf5cNh0Dwf",
        "colab_type": "text"
      },
      "source": [
        "### **R Contributed Package Sample Dataset**"
      ]
    },
    {
      "cell_type": "code",
      "metadata": {
        "id": "IRc2NpZP0Fwb",
        "colab_type": "code",
        "outputId": "48c57cc6-b12f-456d-ea3f-77b414ff1d54",
        "colab": {
          "base_uri": "https://localhost:8080/",
          "height": 71
        }
      },
      "source": [
        "install.packages('ggplot2')\n",
        "library(ggplot2)"
      ],
      "execution_count": 46,
      "outputs": [
        {
          "output_type": "stream",
          "text": [
            "Installing package into ‘/usr/local/lib/R/site-library’\n",
            "(as ‘lib’ is unspecified)\n",
            "\n"
          ],
          "name": "stderr"
        }
      ]
    },
    {
      "cell_type": "code",
      "metadata": {
        "id": "SWzh3MxT0Y7s",
        "colab_type": "code",
        "outputId": "152d6f73-dbc2-4f3b-8ffb-795b5d9d0ead",
        "colab": {
          "base_uri": "https://localhost:8080/",
          "height": 204
        }
      },
      "source": [
        "# Lookup datasets in ggplot\n",
        "data(package = 'ggplot2')\n",
        "\n",
        "# Load dataset from package\n",
        "data(mpg, package = 'ggplot2')\n",
        "head(mpg)"
      ],
      "execution_count": 47,
      "outputs": [
        {
          "output_type": "display_data",
          "data": {
            "text/plain": [
              "  manufacturer model displ year cyl trans      drv cty hwy fl class  \n",
              "1 audi         a4    1.8   1999 4   auto(l5)   f   18  29  p  compact\n",
              "2 audi         a4    1.8   1999 4   manual(m5) f   21  29  p  compact\n",
              "3 audi         a4    2.0   2008 4   manual(m6) f   20  31  p  compact\n",
              "4 audi         a4    2.0   2008 4   auto(av)   f   21  30  p  compact\n",
              "5 audi         a4    2.8   1999 6   auto(l5)   f   16  26  p  compact\n",
              "6 audi         a4    2.8   1999 6   manual(m5) f   18  26  p  compact"
            ],
            "text/latex": "A tibble: 6 × 11\n\\begin{tabular}{lllllllllll}\n manufacturer & model & displ & year & cyl & trans & drv & cty & hwy & fl & class\\\\\n <chr> & <chr> & <dbl> & <int> & <int> & <chr> & <chr> & <int> & <int> & <chr> & <chr>\\\\\n\\hline\n\t audi & a4 & 1.8 & 1999 & 4 & auto(l5)   & f & 18 & 29 & p & compact\\\\\n\t audi & a4 & 1.8 & 1999 & 4 & manual(m5) & f & 21 & 29 & p & compact\\\\\n\t audi & a4 & 2.0 & 2008 & 4 & manual(m6) & f & 20 & 31 & p & compact\\\\\n\t audi & a4 & 2.0 & 2008 & 4 & auto(av)   & f & 21 & 30 & p & compact\\\\\n\t audi & a4 & 2.8 & 1999 & 6 & auto(l5)   & f & 16 & 26 & p & compact\\\\\n\t audi & a4 & 2.8 & 1999 & 6 & manual(m5) & f & 18 & 26 & p & compact\\\\\n\\end{tabular}\n",
            "text/markdown": "\nA tibble: 6 × 11\n\n| manufacturer &lt;chr&gt; | model &lt;chr&gt; | displ &lt;dbl&gt; | year &lt;int&gt; | cyl &lt;int&gt; | trans &lt;chr&gt; | drv &lt;chr&gt; | cty &lt;int&gt; | hwy &lt;int&gt; | fl &lt;chr&gt; | class &lt;chr&gt; |\n|---|---|---|---|---|---|---|---|---|---|---|\n| audi | a4 | 1.8 | 1999 | 4 | auto(l5)   | f | 18 | 29 | p | compact |\n| audi | a4 | 1.8 | 1999 | 4 | manual(m5) | f | 21 | 29 | p | compact |\n| audi | a4 | 2.0 | 2008 | 4 | manual(m6) | f | 20 | 31 | p | compact |\n| audi | a4 | 2.0 | 2008 | 4 | auto(av)   | f | 21 | 30 | p | compact |\n| audi | a4 | 2.8 | 1999 | 6 | auto(l5)   | f | 16 | 26 | p | compact |\n| audi | a4 | 2.8 | 1999 | 6 | manual(m5) | f | 18 | 26 | p | compact |\n\n",
            "text/html": [
              "<table>\n",
              "<caption>A tibble: 6 × 11</caption>\n",
              "<thead>\n",
              "\t<tr><th scope=col>manufacturer</th><th scope=col>model</th><th scope=col>displ</th><th scope=col>year</th><th scope=col>cyl</th><th scope=col>trans</th><th scope=col>drv</th><th scope=col>cty</th><th scope=col>hwy</th><th scope=col>fl</th><th scope=col>class</th></tr>\n",
              "\t<tr><th scope=col>&lt;chr&gt;</th><th scope=col>&lt;chr&gt;</th><th scope=col>&lt;dbl&gt;</th><th scope=col>&lt;int&gt;</th><th scope=col>&lt;int&gt;</th><th scope=col>&lt;chr&gt;</th><th scope=col>&lt;chr&gt;</th><th scope=col>&lt;int&gt;</th><th scope=col>&lt;int&gt;</th><th scope=col>&lt;chr&gt;</th><th scope=col>&lt;chr&gt;</th></tr>\n",
              "</thead>\n",
              "<tbody>\n",
              "\t<tr><td>audi</td><td>a4</td><td>1.8</td><td>1999</td><td>4</td><td>auto(l5)  </td><td>f</td><td>18</td><td>29</td><td>p</td><td>compact</td></tr>\n",
              "\t<tr><td>audi</td><td>a4</td><td>1.8</td><td>1999</td><td>4</td><td>manual(m5)</td><td>f</td><td>21</td><td>29</td><td>p</td><td>compact</td></tr>\n",
              "\t<tr><td>audi</td><td>a4</td><td>2.0</td><td>2008</td><td>4</td><td>manual(m6)</td><td>f</td><td>20</td><td>31</td><td>p</td><td>compact</td></tr>\n",
              "\t<tr><td>audi</td><td>a4</td><td>2.0</td><td>2008</td><td>4</td><td>auto(av)  </td><td>f</td><td>21</td><td>30</td><td>p</td><td>compact</td></tr>\n",
              "\t<tr><td>audi</td><td>a4</td><td>2.8</td><td>1999</td><td>6</td><td>auto(l5)  </td><td>f</td><td>16</td><td>26</td><td>p</td><td>compact</td></tr>\n",
              "\t<tr><td>audi</td><td>a4</td><td>2.8</td><td>1999</td><td>6</td><td>manual(m5)</td><td>f</td><td>18</td><td>26</td><td>p</td><td>compact</td></tr>\n",
              "</tbody>\n",
              "</table>\n"
            ]
          },
          "metadata": {
            "tags": []
          }
        }
      ]
    },
    {
      "cell_type": "markdown",
      "metadata": {
        "id": "AbuWIjYs2RHu",
        "colab_type": "text"
      },
      "source": [
        "### **Loading the Data**"
      ]
    },
    {
      "cell_type": "markdown",
      "metadata": {
        "id": "6iVsN9cR2rfi",
        "colab_type": "text"
      },
      "source": [
        "Data used in this example can be found [here](https://drive.google.com/open?id=17GRc4sLAe_gBR5ezJOUeU6Na5lX5OVby)."
      ]
    },
    {
      "cell_type": "code",
      "metadata": {
        "id": "zOxrGizipiBf",
        "colab_type": "code",
        "outputId": "61cd990c-91d9-4ee8-a103-427c055a72ed",
        "colab": {
          "base_uri": "https://localhost:8080/",
          "height": 107
        }
      },
      "source": [
        "# Install 'readr' package\n",
        "install.packages('readr')\n",
        "library(readr)"
      ],
      "execution_count": 48,
      "outputs": [
        {
          "output_type": "stream",
          "text": [
            "Installing package into ‘/usr/local/lib/R/site-library’\n",
            "(as ‘lib’ is unspecified)\n",
            "\n",
            "Warning message in install.packages(\"readr\"):\n",
            "“installation of package ‘readr’ had non-zero exit status”\n"
          ],
          "name": "stderr"
        }
      ]
    },
    {
      "cell_type": "code",
      "metadata": {
        "id": "839tjnp8rSlp",
        "colab_type": "code",
        "outputId": "01e8ad3a-96ad-4e84-a427-19aa15f56947",
        "colab": {
          "base_uri": "https://localhost:8080/",
          "height": 71
        }
      },
      "source": [
        "# Install 'data.table' package\n",
        "install.packages('data.table')\n",
        "library(data.table)"
      ],
      "execution_count": 49,
      "outputs": [
        {
          "output_type": "stream",
          "text": [
            "Installing package into ‘/usr/local/lib/R/site-library’\n",
            "(as ‘lib’ is unspecified)\n",
            "\n"
          ],
          "name": "stderr"
        }
      ]
    },
    {
      "cell_type": "markdown",
      "metadata": {
        "id": "I7yfJgwE9qTU",
        "colab_type": "text"
      },
      "source": [
        "#### **CSV File**"
      ]
    },
    {
      "cell_type": "code",
      "metadata": {
        "id": "6v-qcJqs250p",
        "colab_type": "code",
        "outputId": "5dbb1384-fd13-449e-8929-6ed04bd2172a",
        "colab": {
          "base_uri": "https://localhost:8080/",
          "height": 341
        }
      },
      "source": [
        "# Get & Set work directory\n",
        "getwd()\n",
        "setwd('/content/r_data')\n",
        "\n",
        "# Check files under work directory\n",
        "dir()\n",
        "\n",
        "# Identify encoding of a data\n",
        "guess_encoding('customer.csv')\n",
        "guess_encoding('customer2.csv')"
      ],
      "execution_count": 50,
      "outputs": [
        {
          "output_type": "display_data",
          "data": {
            "text/plain": [
              "[1] \"/content/r_data\""
            ],
            "text/latex": "'/content/r\\_data'",
            "text/markdown": "'/content/r_data'",
            "text/html": [
              "'/content/r_data'"
            ]
          },
          "metadata": {
            "tags": []
          }
        },
        {
          "output_type": "display_data",
          "data": {
            "text/plain": [
              "[1] \"customer.csv\"  \"customer.json\" \"customer.xlsx\" \"customer2.csv\""
            ],
            "text/latex": "\\begin{enumerate*}\n\\item 'customer.csv'\n\\item 'customer.json'\n\\item 'customer.xlsx'\n\\item 'customer2.csv'\n\\end{enumerate*}\n",
            "text/markdown": "1. 'customer.csv'\n2. 'customer.json'\n3. 'customer.xlsx'\n4. 'customer2.csv'\n\n\n",
            "text/html": [
              "<style>\n",
              ".list-inline {list-style: none; margin:0; padding: 0}\n",
              ".list-inline>li {display: inline-block}\n",
              ".list-inline>li:not(:last-child)::after {content: \"\\00b7\"; padding: 0 .5ex}\n",
              "</style>\n",
              "<ol class=list-inline><li>'customer.csv'</li><li>'customer.json'</li><li>'customer.xlsx'</li><li>'customer2.csv'</li></ol>\n"
            ]
          },
          "metadata": {
            "tags": []
          }
        },
        {
          "output_type": "display_data",
          "data": {
            "text/plain": [
              "  encoding   confidence\n",
              "1 EUC-KR     1.00      \n",
              "2 GB18030    0.44      \n",
              "3 ISO-8859-2 0.35      \n",
              "4 ISO-8859-1 0.25      "
            ],
            "text/latex": "A tibble: 4 × 2\n\\begin{tabular}{ll}\n encoding & confidence\\\\\n <chr> & <dbl>\\\\\n\\hline\n\t EUC-KR     & 1.00\\\\\n\t GB18030    & 0.44\\\\\n\t ISO-8859-2 & 0.35\\\\\n\t ISO-8859-1 & 0.25\\\\\n\\end{tabular}\n",
            "text/markdown": "\nA tibble: 4 × 2\n\n| encoding &lt;chr&gt; | confidence &lt;dbl&gt; |\n|---|---|\n| EUC-KR     | 1.00 |\n| GB18030    | 0.44 |\n| ISO-8859-2 | 0.35 |\n| ISO-8859-1 | 0.25 |\n\n",
            "text/html": [
              "<table>\n",
              "<caption>A tibble: 4 × 2</caption>\n",
              "<thead>\n",
              "\t<tr><th scope=col>encoding</th><th scope=col>confidence</th></tr>\n",
              "\t<tr><th scope=col>&lt;chr&gt;</th><th scope=col>&lt;dbl&gt;</th></tr>\n",
              "</thead>\n",
              "<tbody>\n",
              "\t<tr><td>EUC-KR    </td><td>1.00</td></tr>\n",
              "\t<tr><td>GB18030   </td><td>0.44</td></tr>\n",
              "\t<tr><td>ISO-8859-2</td><td>0.35</td></tr>\n",
              "\t<tr><td>ISO-8859-1</td><td>0.25</td></tr>\n",
              "</tbody>\n",
              "</table>\n"
            ]
          },
          "metadata": {
            "tags": []
          }
        },
        {
          "output_type": "display_data",
          "data": {
            "text/plain": [
              "  encoding   confidence\n",
              "1 EUC-KR     1.00      \n",
              "2 GB18030    0.54      \n",
              "3 Big5       0.54      \n",
              "4 ISO-8859-2 0.24      "
            ],
            "text/latex": "A tibble: 4 × 2\n\\begin{tabular}{ll}\n encoding & confidence\\\\\n <chr> & <dbl>\\\\\n\\hline\n\t EUC-KR     & 1.00\\\\\n\t GB18030    & 0.54\\\\\n\t Big5       & 0.54\\\\\n\t ISO-8859-2 & 0.24\\\\\n\\end{tabular}\n",
            "text/markdown": "\nA tibble: 4 × 2\n\n| encoding &lt;chr&gt; | confidence &lt;dbl&gt; |\n|---|---|\n| EUC-KR     | 1.00 |\n| GB18030    | 0.54 |\n| Big5       | 0.54 |\n| ISO-8859-2 | 0.24 |\n\n",
            "text/html": [
              "<table>\n",
              "<caption>A tibble: 4 × 2</caption>\n",
              "<thead>\n",
              "\t<tr><th scope=col>encoding</th><th scope=col>confidence</th></tr>\n",
              "\t<tr><th scope=col>&lt;chr&gt;</th><th scope=col>&lt;dbl&gt;</th></tr>\n",
              "</thead>\n",
              "<tbody>\n",
              "\t<tr><td>EUC-KR    </td><td>1.00</td></tr>\n",
              "\t<tr><td>GB18030   </td><td>0.54</td></tr>\n",
              "\t<tr><td>Big5      </td><td>0.54</td></tr>\n",
              "\t<tr><td>ISO-8859-2</td><td>0.24</td></tr>\n",
              "</tbody>\n",
              "</table>\n"
            ]
          },
          "metadata": {
            "tags": []
          }
        }
      ]
    },
    {
      "cell_type": "code",
      "metadata": {
        "id": "2VGLZqKp4xti",
        "colab_type": "code",
        "outputId": "ec15abe6-848d-4b51-a117-c80372b595be",
        "colab": {
          "base_uri": "https://localhost:8080/",
          "height": 391
        }
      },
      "source": [
        "# strip.white: prevent spaces\n",
        "# na.strings(): replace matching strings with NA\n",
        "\n",
        "# If data are seperated with tab, use \\t in sep parameter\n",
        "# (param) skip: the number of lines of the data file to skip before beginning to read data\n",
        "cs <- read.table(file = 'customer.csv', header = TRUE, sep = ',', \n",
        "                 fileEncoding='euc-kr', stringsAsFactors = FALSE,\n",
        "                 strip.white = TRUE, na.strings = c('.', '?', ' '))\n",
        "\n",
        "cs2 <- read.table(file = 'customer2.csv', header = FALSE, sep = '\\t',\n",
        "                  fileEncoding='euc-kr', stringsAsFactors = FALSE,\n",
        "                  strip.white = TRUE, na.strings = c('.', '?', ' '),\n",
        "                  skip = 3)\n",
        "cs\n",
        "cs2\n",
        "\n",
        "# Set column names\n",
        "names(cs2) <- c('name', 'gender', 'job', 'age', 'grade', 'survey', 'total', 'result')"
      ],
      "execution_count": 51,
      "outputs": [
        {
          "output_type": "display_data",
          "data": {
            "text/plain": [
              "  name    gender job    age grade survey total result\n",
              "1 홍길동  1      학생   19  A     3      NA    TRUE  \n",
              "2 Jessica 2      NA     55  C     4      18.5  TRUE  \n",
              "3 장그래  NA     직장인 23  B     2      23.7  FALSE \n",
              "4 제인    2      주부   35  NA    5      27    TRUE  \n",
              "5 NA      1      직장인 45  NA    5      13.5  NA    \n",
              "6 최강타  1      직장인 NA  A     3      47.2  FALSE "
            ],
            "text/latex": "A data.frame: 6 × 8\n\\begin{tabular}{llllllll}\n name & gender & job & age & grade & survey & total & result\\\\\n <chr> & <chr> & <chr> & <chr> & <chr> & <int> & <chr> & <chr>\\\\\n\\hline\n\t 홍길동  & 1  & 학생   & 19 & A  & 3 & NA   & TRUE \\\\\n\t Jessica & 2  & NA     & 55 & C  & 4 & 18.5 & TRUE \\\\\n\t 장그래  & NA & 직장인 & 23 & B  & 2 & 23.7 & FALSE\\\\\n\t 제인    & 2  & 주부   & 35 & NA & 5 & 27   & TRUE \\\\\n\t NA      & 1  & 직장인 & 45 & NA & 5 & 13.5 & NA   \\\\\n\t 최강타  & 1  & 직장인 & NA & A  & 3 & 47.2 & FALSE\\\\\n\\end{tabular}\n",
            "text/markdown": "\nA data.frame: 6 × 8\n\n| name &lt;chr&gt; | gender &lt;chr&gt; | job &lt;chr&gt; | age &lt;chr&gt; | grade &lt;chr&gt; | survey &lt;int&gt; | total &lt;chr&gt; | result &lt;chr&gt; |\n|---|---|---|---|---|---|---|---|\n| 홍길동  | 1  | 학생   | 19 | A  | 3 | NA   | TRUE  |\n| Jessica | 2  | NA     | 55 | C  | 4 | 18.5 | TRUE  |\n| 장그래  | NA | 직장인 | 23 | B  | 2 | 23.7 | FALSE |\n| 제인    | 2  | 주부   | 35 | NA | 5 | 27   | TRUE  |\n| NA      | 1  | 직장인 | 45 | NA | 5 | 13.5 | NA    |\n| 최강타  | 1  | 직장인 | NA | A  | 3 | 47.2 | FALSE |\n\n",
            "text/html": [
              "<table>\n",
              "<caption>A data.frame: 6 × 8</caption>\n",
              "<thead>\n",
              "\t<tr><th scope=col>name</th><th scope=col>gender</th><th scope=col>job</th><th scope=col>age</th><th scope=col>grade</th><th scope=col>survey</th><th scope=col>total</th><th scope=col>result</th></tr>\n",
              "\t<tr><th scope=col>&lt;chr&gt;</th><th scope=col>&lt;chr&gt;</th><th scope=col>&lt;chr&gt;</th><th scope=col>&lt;chr&gt;</th><th scope=col>&lt;chr&gt;</th><th scope=col>&lt;int&gt;</th><th scope=col>&lt;chr&gt;</th><th scope=col>&lt;chr&gt;</th></tr>\n",
              "</thead>\n",
              "<tbody>\n",
              "\t<tr><td>홍길동 </td><td>1 </td><td>학생  </td><td>19</td><td>A </td><td>3</td><td>NA  </td><td>TRUE </td></tr>\n",
              "\t<tr><td>Jessica</td><td>2 </td><td>NA    </td><td>55</td><td>C </td><td>4</td><td>18.5</td><td>TRUE </td></tr>\n",
              "\t<tr><td>장그래 </td><td>NA</td><td>직장인</td><td>23</td><td>B </td><td>2</td><td>23.7</td><td>FALSE</td></tr>\n",
              "\t<tr><td>제인   </td><td>2 </td><td>주부  </td><td>35</td><td>NA</td><td>5</td><td>27  </td><td>TRUE </td></tr>\n",
              "\t<tr><td>NA     </td><td>1 </td><td>직장인</td><td>45</td><td>NA</td><td>5</td><td>13.5</td><td>NA   </td></tr>\n",
              "\t<tr><td>최강타 </td><td>1 </td><td>직장인</td><td>NA</td><td>A </td><td>3</td><td>47.2</td><td>FALSE</td></tr>\n",
              "</tbody>\n",
              "</table>\n"
            ]
          },
          "metadata": {
            "tags": []
          }
        },
        {
          "output_type": "display_data",
          "data": {
            "text/plain": [
              "  V1      V2 V3     V4 V5 V6 V7   V8   \n",
              "1 홍길동  1  학생   19 A  3  NA   TRUE \n",
              "2 Jessica 2  NA     55 C  4  18.5 TRUE \n",
              "3 장그래  NA 직장인 23 B  2  23.7 FALSE\n",
              "4 제인    2  주부   35 NA 5  27   TRUE \n",
              "5 NA      1  직장인 45 NA 5  13.5 NA   \n",
              "6 최강타  1  직장인 NA A  3  47.2 FALSE"
            ],
            "text/latex": "A data.frame: 6 × 8\n\\begin{tabular}{llllllll}\n V1 & V2 & V3 & V4 & V5 & V6 & V7 & V8\\\\\n <chr> & <chr> & <chr> & <chr> & <chr> & <int> & <chr> & <chr>\\\\\n\\hline\n\t 홍길동  & 1  & 학생   & 19 & A  & 3 & NA   & TRUE \\\\\n\t Jessica & 2  & NA     & 55 & C  & 4 & 18.5 & TRUE \\\\\n\t 장그래  & NA & 직장인 & 23 & B  & 2 & 23.7 & FALSE\\\\\n\t 제인    & 2  & 주부   & 35 & NA & 5 & 27   & TRUE \\\\\n\t NA      & 1  & 직장인 & 45 & NA & 5 & 13.5 & NA   \\\\\n\t 최강타  & 1  & 직장인 & NA & A  & 3 & 47.2 & FALSE\\\\\n\\end{tabular}\n",
            "text/markdown": "\nA data.frame: 6 × 8\n\n| V1 &lt;chr&gt; | V2 &lt;chr&gt; | V3 &lt;chr&gt; | V4 &lt;chr&gt; | V5 &lt;chr&gt; | V6 &lt;int&gt; | V7 &lt;chr&gt; | V8 &lt;chr&gt; |\n|---|---|---|---|---|---|---|---|\n| 홍길동  | 1  | 학생   | 19 | A  | 3 | NA   | TRUE  |\n| Jessica | 2  | NA     | 55 | C  | 4 | 18.5 | TRUE  |\n| 장그래  | NA | 직장인 | 23 | B  | 2 | 23.7 | FALSE |\n| 제인    | 2  | 주부   | 35 | NA | 5 | 27   | TRUE  |\n| NA      | 1  | 직장인 | 45 | NA | 5 | 13.5 | NA    |\n| 최강타  | 1  | 직장인 | NA | A  | 3 | 47.2 | FALSE |\n\n",
            "text/html": [
              "<table>\n",
              "<caption>A data.frame: 6 × 8</caption>\n",
              "<thead>\n",
              "\t<tr><th scope=col>V1</th><th scope=col>V2</th><th scope=col>V3</th><th scope=col>V4</th><th scope=col>V5</th><th scope=col>V6</th><th scope=col>V7</th><th scope=col>V8</th></tr>\n",
              "\t<tr><th scope=col>&lt;chr&gt;</th><th scope=col>&lt;chr&gt;</th><th scope=col>&lt;chr&gt;</th><th scope=col>&lt;chr&gt;</th><th scope=col>&lt;chr&gt;</th><th scope=col>&lt;int&gt;</th><th scope=col>&lt;chr&gt;</th><th scope=col>&lt;chr&gt;</th></tr>\n",
              "</thead>\n",
              "<tbody>\n",
              "\t<tr><td>홍길동 </td><td>1 </td><td>학생  </td><td>19</td><td>A </td><td>3</td><td>NA  </td><td>TRUE </td></tr>\n",
              "\t<tr><td>Jessica</td><td>2 </td><td>NA    </td><td>55</td><td>C </td><td>4</td><td>18.5</td><td>TRUE </td></tr>\n",
              "\t<tr><td>장그래 </td><td>NA</td><td>직장인</td><td>23</td><td>B </td><td>2</td><td>23.7</td><td>FALSE</td></tr>\n",
              "\t<tr><td>제인   </td><td>2 </td><td>주부  </td><td>35</td><td>NA</td><td>5</td><td>27  </td><td>TRUE </td></tr>\n",
              "\t<tr><td>NA     </td><td>1 </td><td>직장인</td><td>45</td><td>NA</td><td>5</td><td>13.5</td><td>NA   </td></tr>\n",
              "\t<tr><td>최강타 </td><td>1 </td><td>직장인</td><td>NA</td><td>A </td><td>3</td><td>47.2</td><td>FALSE</td></tr>\n",
              "</tbody>\n",
              "</table>\n"
            ]
          },
          "metadata": {
            "tags": []
          }
        }
      ]
    },
    {
      "cell_type": "markdown",
      "metadata": {
        "id": "e-EM0tQ023uG",
        "colab_type": "text"
      },
      "source": [
        "Using **fread()** to load data.\n",
        "\n",
        "**File Encoding should always be UTF-8 or latin.**\n",
        "\n",
        "```\n",
        "cs_dt <- fread(input = 'SOME_UTF8_FILE', header = TRUE,\n",
        "               sep = ',', stringsAsFactors = FALSE, \n",
        "               strip.white = TRUE, na.strings = c('.', '?'),\n",
        "               encoding = 'UTF-8')\n",
        "```\n"
      ]
    },
    {
      "cell_type": "markdown",
      "metadata": {
        "id": "4hiGf_Ki9ycb",
        "colab_type": "text"
      },
      "source": [
        "#### **Excel File**"
      ]
    },
    {
      "cell_type": "code",
      "metadata": {
        "id": "TETgxEVW90tH",
        "colab_type": "code",
        "outputId": "93d69c3d-56e8-4fe6-cd47-89c19605583c",
        "colab": {
          "base_uri": "https://localhost:8080/",
          "height": 71
        }
      },
      "source": [
        "# Install 'readxl' package\n",
        "install.packages('readxl')\n",
        "library(readxl)"
      ],
      "execution_count": 52,
      "outputs": [
        {
          "output_type": "stream",
          "text": [
            "Installing package into ‘/usr/local/lib/R/site-library’\n",
            "(as ‘lib’ is unspecified)\n",
            "\n"
          ],
          "name": "stderr"
        }
      ]
    },
    {
      "cell_type": "code",
      "metadata": {
        "id": "gKUzwodx-Dsa",
        "colab_type": "code",
        "outputId": "d2e4188f-a5a4-4e0f-a058-fd88756957d5",
        "colab": {
          "base_uri": "https://localhost:8080/",
          "height": 34
        }
      },
      "source": [
        "excel_sheets('customer.xlsx')"
      ],
      "execution_count": 53,
      "outputs": [
        {
          "output_type": "display_data",
          "data": {
            "text/plain": [
              "[1] \"mycustomer\"  \"mycustomer2\""
            ],
            "text/latex": "\\begin{enumerate*}\n\\item 'mycustomer'\n\\item 'mycustomer2'\n\\end{enumerate*}\n",
            "text/markdown": "1. 'mycustomer'\n2. 'mycustomer2'\n\n\n",
            "text/html": [
              "<style>\n",
              ".list-inline {list-style: none; margin:0; padding: 0}\n",
              ".list-inline>li {display: inline-block}\n",
              ".list-inline>li:not(:last-child)::after {content: \"\\00b7\"; padding: 0 .5ex}\n",
              "</style>\n",
              "<ol class=list-inline><li>'mycustomer'</li><li>'mycustomer2'</li></ol>\n"
            ]
          },
          "metadata": {
            "tags": []
          }
        }
      ]
    },
    {
      "cell_type": "code",
      "metadata": {
        "id": "wE3qGipU-rsi",
        "colab_type": "code",
        "outputId": "ede0c83d-c020-4772-998b-b9f26e272633",
        "colab": {
          "base_uri": "https://localhost:8080/",
          "height": 731
        }
      },
      "source": [
        "# Loading 2 customer table in customer.xlsx\n",
        "cs_xl <- read_excel(path = 'customer.xlsx', sheet = 'mycustomer',\n",
        "                    col_names = TRUE, trim_ws = TRUE, na = c('.', '?'))\n",
        "cs_xl\n",
        "class(cs_xl); str(cs_xl)\n",
        "\n",
        "cs2_xl <- read_excel(path = 'customer.xlsx', sheet = 'mycustomer2',\n",
        "                    col_names = FALSE, trim_ws = TRUE, na = c('.', '?'),\n",
        "                    range = 'B5:I10')\n",
        "cs2_xl\n",
        "colnames(cs2_xl)"
      ],
      "execution_count": 54,
      "outputs": [
        {
          "output_type": "display_data",
          "data": {
            "text/plain": [
              "  name    gender job    age grade survey total result\n",
              "1 홍길동  1      학생   19  A     3      NA    TRUE  \n",
              "2 Jessica 2      NA     55  C     4      18.5  TRUE  \n",
              "3 장그래  NA     직장인 23  B     2      23.7  FALSE \n",
              "4 제인    2      주부   35  NA    5      27    TRUE  \n",
              "5 NA      1      직장인 45  NA    5      13.5  NA    \n",
              "6 최강타  1      직장인 NA  A     3      47.2  FALSE "
            ],
            "text/latex": "A tibble: 6 × 8\n\\begin{tabular}{llllllll}\n name & gender & job & age & grade & survey & total & result\\\\\n <chr> & <chr> & <chr> & <chr> & <chr> & <dbl> & <chr> & <chr>\\\\\n\\hline\n\t 홍길동  & 1  & 학생   & 19 & A  & 3 & NA   & TRUE \\\\\n\t Jessica & 2  & NA     & 55 & C  & 4 & 18.5 & TRUE \\\\\n\t 장그래  & NA & 직장인 & 23 & B  & 2 & 23.7 & FALSE\\\\\n\t 제인    & 2  & 주부   & 35 & NA & 5 & 27   & TRUE \\\\\n\t NA      & 1  & 직장인 & 45 & NA & 5 & 13.5 & NA   \\\\\n\t 최강타  & 1  & 직장인 & NA & A  & 3 & 47.2 & FALSE\\\\\n\\end{tabular}\n",
            "text/markdown": "\nA tibble: 6 × 8\n\n| name &lt;chr&gt; | gender &lt;chr&gt; | job &lt;chr&gt; | age &lt;chr&gt; | grade &lt;chr&gt; | survey &lt;dbl&gt; | total &lt;chr&gt; | result &lt;chr&gt; |\n|---|---|---|---|---|---|---|---|\n| 홍길동  | 1  | 학생   | 19 | A  | 3 | NA   | TRUE  |\n| Jessica | 2  | NA     | 55 | C  | 4 | 18.5 | TRUE  |\n| 장그래  | NA | 직장인 | 23 | B  | 2 | 23.7 | FALSE |\n| 제인    | 2  | 주부   | 35 | NA | 5 | 27   | TRUE  |\n| NA      | 1  | 직장인 | 45 | NA | 5 | 13.5 | NA    |\n| 최강타  | 1  | 직장인 | NA | A  | 3 | 47.2 | FALSE |\n\n",
            "text/html": [
              "<table>\n",
              "<caption>A tibble: 6 × 8</caption>\n",
              "<thead>\n",
              "\t<tr><th scope=col>name</th><th scope=col>gender</th><th scope=col>job</th><th scope=col>age</th><th scope=col>grade</th><th scope=col>survey</th><th scope=col>total</th><th scope=col>result</th></tr>\n",
              "\t<tr><th scope=col>&lt;chr&gt;</th><th scope=col>&lt;chr&gt;</th><th scope=col>&lt;chr&gt;</th><th scope=col>&lt;chr&gt;</th><th scope=col>&lt;chr&gt;</th><th scope=col>&lt;dbl&gt;</th><th scope=col>&lt;chr&gt;</th><th scope=col>&lt;chr&gt;</th></tr>\n",
              "</thead>\n",
              "<tbody>\n",
              "\t<tr><td>홍길동 </td><td>1 </td><td>학생  </td><td>19</td><td>A </td><td>3</td><td>NA  </td><td>TRUE </td></tr>\n",
              "\t<tr><td>Jessica</td><td>2 </td><td>NA    </td><td>55</td><td>C </td><td>4</td><td>18.5</td><td>TRUE </td></tr>\n",
              "\t<tr><td>장그래 </td><td>NA</td><td>직장인</td><td>23</td><td>B </td><td>2</td><td>23.7</td><td>FALSE</td></tr>\n",
              "\t<tr><td>제인   </td><td>2 </td><td>주부  </td><td>35</td><td>NA</td><td>5</td><td>27  </td><td>TRUE </td></tr>\n",
              "\t<tr><td>NA     </td><td>1 </td><td>직장인</td><td>45</td><td>NA</td><td>5</td><td>13.5</td><td>NA   </td></tr>\n",
              "\t<tr><td>최강타 </td><td>1 </td><td>직장인</td><td>NA</td><td>A </td><td>3</td><td>47.2</td><td>FALSE</td></tr>\n",
              "</tbody>\n",
              "</table>\n"
            ]
          },
          "metadata": {
            "tags": []
          }
        },
        {
          "output_type": "display_data",
          "data": {
            "text/plain": [
              "[1] \"tbl_df\"     \"tbl\"        \"data.frame\""
            ],
            "text/latex": "\\begin{enumerate*}\n\\item 'tbl\\_df'\n\\item 'tbl'\n\\item 'data.frame'\n\\end{enumerate*}\n",
            "text/markdown": "1. 'tbl_df'\n2. 'tbl'\n3. 'data.frame'\n\n\n",
            "text/html": [
              "<style>\n",
              ".list-inline {list-style: none; margin:0; padding: 0}\n",
              ".list-inline>li {display: inline-block}\n",
              ".list-inline>li:not(:last-child)::after {content: \"\\00b7\"; padding: 0 .5ex}\n",
              "</style>\n",
              "<ol class=list-inline><li>'tbl_df'</li><li>'tbl'</li><li>'data.frame'</li></ol>\n"
            ]
          },
          "metadata": {
            "tags": []
          }
        },
        {
          "output_type": "stream",
          "text": [
            "Classes ‘tbl_df’, ‘tbl’ and 'data.frame':\t6 obs. of  8 variables:\n",
            " $ name  : chr  \"홍길동\" \"Jessica\" \"장그래\" \"제인\" ...\n",
            " $ gender: chr  \"1\" \"2\" \"NA\" \"2\" ...\n",
            " $ job   : chr  \"학생\" \"NA\" \"직장인\" \"주부\" ...\n",
            " $ age   : chr  \"19\" \"55\" \"23\" \"35\" ...\n",
            " $ grade : chr  \"A\" \"C\" \"B\" \"NA\" ...\n",
            " $ survey: num  3 4 2 5 5 3\n",
            " $ total : chr  \"NA\" \"18.5\" \"23.7\" \"27\" ...\n",
            " $ result: chr  \"TRUE\" \"TRUE\" \"FALSE\" \"TRUE\" ...\n"
          ],
          "name": "stdout"
        },
        {
          "output_type": "stream",
          "text": [
            "New names:\n",
            "* `` -> ...1\n",
            "* `` -> ...2\n",
            "* `` -> ...3\n",
            "* `` -> ...4\n",
            "* `` -> ...5\n",
            "* … and 3 more problems\n",
            "\n"
          ],
          "name": "stderr"
        },
        {
          "output_type": "display_data",
          "data": {
            "text/plain": [
              "  ...1    ...2 ...3   ...4 ...5 ...6 ...7 ...8 \n",
              "1 홍길동  1    학생   19   A    3    NA   TRUE \n",
              "2 Jessica 2    NA     55   C    4    18.5 TRUE \n",
              "3 장그래  NA   직장인 23   B    2    23.7 FALSE\n",
              "4 제인    2    주부   35   NA   5    27   TRUE \n",
              "5 NA      1    직장인 45   NA   5    13.5 NA   \n",
              "6 최강타  1    직장인 NA   A    3    47.2 FALSE"
            ],
            "text/latex": "A tibble: 6 × 8\n\\begin{tabular}{llllllll}\n ...1 & ...2 & ...3 & ...4 & ...5 & ...6 & ...7 & ...8\\\\\n <chr> & <chr> & <chr> & <chr> & <chr> & <dbl> & <chr> & <chr>\\\\\n\\hline\n\t 홍길동  & 1  & 학생   & 19 & A  & 3 & NA   & TRUE \\\\\n\t Jessica & 2  & NA     & 55 & C  & 4 & 18.5 & TRUE \\\\\n\t 장그래  & NA & 직장인 & 23 & B  & 2 & 23.7 & FALSE\\\\\n\t 제인    & 2  & 주부   & 35 & NA & 5 & 27   & TRUE \\\\\n\t NA      & 1  & 직장인 & 45 & NA & 5 & 13.5 & NA   \\\\\n\t 최강타  & 1  & 직장인 & NA & A  & 3 & 47.2 & FALSE\\\\\n\\end{tabular}\n",
            "text/markdown": "\nA tibble: 6 × 8\n\n| ...1 &lt;chr&gt; | ...2 &lt;chr&gt; | ...3 &lt;chr&gt; | ...4 &lt;chr&gt; | ...5 &lt;chr&gt; | ...6 &lt;dbl&gt; | ...7 &lt;chr&gt; | ...8 &lt;chr&gt; |\n|---|---|---|---|---|---|---|---|\n| 홍길동  | 1  | 학생   | 19 | A  | 3 | NA   | TRUE  |\n| Jessica | 2  | NA     | 55 | C  | 4 | 18.5 | TRUE  |\n| 장그래  | NA | 직장인 | 23 | B  | 2 | 23.7 | FALSE |\n| 제인    | 2  | 주부   | 35 | NA | 5 | 27   | TRUE  |\n| NA      | 1  | 직장인 | 45 | NA | 5 | 13.5 | NA    |\n| 최강타  | 1  | 직장인 | NA | A  | 3 | 47.2 | FALSE |\n\n",
            "text/html": [
              "<table>\n",
              "<caption>A tibble: 6 × 8</caption>\n",
              "<thead>\n",
              "\t<tr><th scope=col>...1</th><th scope=col>...2</th><th scope=col>...3</th><th scope=col>...4</th><th scope=col>...5</th><th scope=col>...6</th><th scope=col>...7</th><th scope=col>...8</th></tr>\n",
              "\t<tr><th scope=col>&lt;chr&gt;</th><th scope=col>&lt;chr&gt;</th><th scope=col>&lt;chr&gt;</th><th scope=col>&lt;chr&gt;</th><th scope=col>&lt;chr&gt;</th><th scope=col>&lt;dbl&gt;</th><th scope=col>&lt;chr&gt;</th><th scope=col>&lt;chr&gt;</th></tr>\n",
              "</thead>\n",
              "<tbody>\n",
              "\t<tr><td>홍길동 </td><td>1 </td><td>학생  </td><td>19</td><td>A </td><td>3</td><td>NA  </td><td>TRUE </td></tr>\n",
              "\t<tr><td>Jessica</td><td>2 </td><td>NA    </td><td>55</td><td>C </td><td>4</td><td>18.5</td><td>TRUE </td></tr>\n",
              "\t<tr><td>장그래 </td><td>NA</td><td>직장인</td><td>23</td><td>B </td><td>2</td><td>23.7</td><td>FALSE</td></tr>\n",
              "\t<tr><td>제인   </td><td>2 </td><td>주부  </td><td>35</td><td>NA</td><td>5</td><td>27  </td><td>TRUE </td></tr>\n",
              "\t<tr><td>NA     </td><td>1 </td><td>직장인</td><td>45</td><td>NA</td><td>5</td><td>13.5</td><td>NA   </td></tr>\n",
              "\t<tr><td>최강타 </td><td>1 </td><td>직장인</td><td>NA</td><td>A </td><td>3</td><td>47.2</td><td>FALSE</td></tr>\n",
              "</tbody>\n",
              "</table>\n"
            ]
          },
          "metadata": {
            "tags": []
          }
        },
        {
          "output_type": "display_data",
          "data": {
            "text/plain": [
              "[1] \"...1\" \"...2\" \"...3\" \"...4\" \"...5\" \"...6\" \"...7\" \"...8\""
            ],
            "text/latex": "\\begin{enumerate*}\n\\item '...1'\n\\item '...2'\n\\item '...3'\n\\item '...4'\n\\item '...5'\n\\item '...6'\n\\item '...7'\n\\item '...8'\n\\end{enumerate*}\n",
            "text/markdown": "1. '...1'\n2. '...2'\n3. '...3'\n4. '...4'\n5. '...5'\n6. '...6'\n7. '...7'\n8. '...8'\n\n\n",
            "text/html": [
              "<style>\n",
              ".list-inline {list-style: none; margin:0; padding: 0}\n",
              ".list-inline>li {display: inline-block}\n",
              ".list-inline>li:not(:last-child)::after {content: \"\\00b7\"; padding: 0 .5ex}\n",
              "</style>\n",
              "<ol class=list-inline><li>'...1'</li><li>'...2'</li><li>'...3'</li><li>'...4'</li><li>'...5'</li><li>'...6'</li><li>'...7'</li><li>'...8'</li></ol>\n"
            ]
          },
          "metadata": {
            "tags": []
          }
        }
      ]
    },
    {
      "cell_type": "markdown",
      "metadata": {
        "id": "CHcjTLxtBN0a",
        "colab_type": "text"
      },
      "source": [
        "#### **JSON File**"
      ]
    },
    {
      "cell_type": "code",
      "metadata": {
        "id": "saPdKf4cBPbR",
        "colab_type": "code",
        "outputId": "3ae660ce-42af-48e5-b28e-060a0cae139c",
        "colab": {
          "base_uri": "https://localhost:8080/",
          "height": 71
        }
      },
      "source": [
        "install.packages('jsonlite')\n",
        "library(jsonlite)"
      ],
      "execution_count": 55,
      "outputs": [
        {
          "output_type": "stream",
          "text": [
            "Installing package into ‘/usr/local/lib/R/site-library’\n",
            "(as ‘lib’ is unspecified)\n",
            "\n"
          ],
          "name": "stderr"
        }
      ]
    },
    {
      "cell_type": "code",
      "metadata": {
        "id": "kwZfyyixBXoq",
        "colab_type": "code",
        "outputId": "26bebedc-8141-45a2-c226-af26b101f979",
        "colab": {
          "base_uri": "https://localhost:8080/",
          "height": 257
        }
      },
      "source": [
        "cs_js <- fromJSON(txt = 'customer.json')\n",
        "cs_js\n",
        "class(cs_js)"
      ],
      "execution_count": 56,
      "outputs": [
        {
          "output_type": "stream",
          "text": [
            "Warning message:\n",
            "“JSON string contains (illegal) UTF8 byte-order-mark!”\n"
          ],
          "name": "stderr"
        },
        {
          "output_type": "display_data",
          "data": {
            "text/plain": [
              "  name    gender job    age grade survey result total\n",
              "1 홍길동   1     학생   19  A     3       TRUE    NA \n",
              "2 Jessica  2     NA     55  C     4       TRUE  18.5 \n",
              "3 장그래  NA     직장인 23  B     2      FALSE  23.7 \n",
              "4 제인     2     주부   35  NA    5       TRUE  27.0 \n",
              "5 NA       1     직장인 45  NA    5         NA  13.5 \n",
              "6 최강타   1     직장인 NA  A     3      FALSE  47.2 "
            ],
            "text/latex": "A data.frame: 6 × 8\n\\begin{tabular}{r|llllllll}\n  & name & gender & job & age & grade & survey & result & total\\\\\n  & <chr> & <int> & <chr> & <int> & <chr> & <int> & <lgl> & <dbl>\\\\\n\\hline\n\t1 & 홍길동  &  1 & 학생   & 19 & A  & 3 &  TRUE &   NA\\\\\n\t2 & Jessica &  2 & NA     & 55 & C  & 4 &  TRUE & 18.5\\\\\n\t3 & 장그래  & NA & 직장인 & 23 & B  & 2 & FALSE & 23.7\\\\\n\t4 & 제인    &  2 & 주부   & 35 & NA & 5 &  TRUE & 27.0\\\\\n\t5 & NA      &  1 & 직장인 & 45 & NA & 5 &    NA & 13.5\\\\\n\t6 & 최강타  &  1 & 직장인 & NA & A  & 3 & FALSE & 47.2\\\\\n\\end{tabular}\n",
            "text/markdown": "\nA data.frame: 6 × 8\n\n| <!--/--> | name &lt;chr&gt; | gender &lt;int&gt; | job &lt;chr&gt; | age &lt;int&gt; | grade &lt;chr&gt; | survey &lt;int&gt; | result &lt;lgl&gt; | total &lt;dbl&gt; |\n|---|---|---|---|---|---|---|---|---|\n| 1 | 홍길동  |  1 | 학생   | 19 | A  | 3 |  TRUE |   NA |\n| 2 | Jessica |  2 | NA     | 55 | C  | 4 |  TRUE | 18.5 |\n| 3 | 장그래  | NA | 직장인 | 23 | B  | 2 | FALSE | 23.7 |\n| 4 | 제인    |  2 | 주부   | 35 | NA | 5 |  TRUE | 27.0 |\n| 5 | NA      |  1 | 직장인 | 45 | NA | 5 |    NA | 13.5 |\n| 6 | 최강타  |  1 | 직장인 | NA | A  | 3 | FALSE | 47.2 |\n\n",
            "text/html": [
              "<table>\n",
              "<caption>A data.frame: 6 × 8</caption>\n",
              "<thead>\n",
              "\t<tr><th></th><th scope=col>name</th><th scope=col>gender</th><th scope=col>job</th><th scope=col>age</th><th scope=col>grade</th><th scope=col>survey</th><th scope=col>result</th><th scope=col>total</th></tr>\n",
              "\t<tr><th></th><th scope=col>&lt;chr&gt;</th><th scope=col>&lt;int&gt;</th><th scope=col>&lt;chr&gt;</th><th scope=col>&lt;int&gt;</th><th scope=col>&lt;chr&gt;</th><th scope=col>&lt;int&gt;</th><th scope=col>&lt;lgl&gt;</th><th scope=col>&lt;dbl&gt;</th></tr>\n",
              "</thead>\n",
              "<tbody>\n",
              "\t<tr><th scope=row>1</th><td>홍길동 </td><td> 1</td><td>학생  </td><td>19</td><td>A </td><td>3</td><td> TRUE</td><td>  NA</td></tr>\n",
              "\t<tr><th scope=row>2</th><td>Jessica</td><td> 2</td><td>NA    </td><td>55</td><td>C </td><td>4</td><td> TRUE</td><td>18.5</td></tr>\n",
              "\t<tr><th scope=row>3</th><td>장그래 </td><td>NA</td><td>직장인</td><td>23</td><td>B </td><td>2</td><td>FALSE</td><td>23.7</td></tr>\n",
              "\t<tr><th scope=row>4</th><td>제인   </td><td> 2</td><td>주부  </td><td>35</td><td>NA</td><td>5</td><td> TRUE</td><td>27.0</td></tr>\n",
              "\t<tr><th scope=row>5</th><td>NA     </td><td> 1</td><td>직장인</td><td>45</td><td>NA</td><td>5</td><td>   NA</td><td>13.5</td></tr>\n",
              "\t<tr><th scope=row>6</th><td>최강타 </td><td> 1</td><td>직장인</td><td>NA</td><td>A </td><td>3</td><td>FALSE</td><td>47.2</td></tr>\n",
              "</tbody>\n",
              "</table>\n"
            ]
          },
          "metadata": {
            "tags": []
          }
        },
        {
          "output_type": "display_data",
          "data": {
            "text/plain": [
              "[1] \"data.frame\""
            ],
            "text/latex": "'data.frame'",
            "text/markdown": "'data.frame'",
            "text/html": [
              "'data.frame'"
            ]
          },
          "metadata": {
            "tags": []
          }
        }
      ]
    },
    {
      "cell_type": "markdown",
      "metadata": {
        "id": "x622BjMxB2AA",
        "colab_type": "text"
      },
      "source": [
        "#### **Online Dataset**"
      ]
    },
    {
      "cell_type": "code",
      "metadata": {
        "id": "pij5NcNmCHSs",
        "colab_type": "code",
        "outputId": "36556d69-246a-492f-d6d1-a7483ec81d81",
        "colab": {
          "base_uri": "https://localhost:8080/",
          "height": 391
        }
      },
      "source": [
        "url <- 'http://archive.ics.uci.edu/ml/machine-learning-databases/wine/wine.data'\n",
        "\n",
        "wine <- read.delim(file = url, header = FALSE, sep = ',')\n",
        "head(wine)\n",
        "\n",
        "names(wine) <- c('Identifier', 'Alcohol', 'Malic acid', 'Ash', 'Alcalinity of ash',\n",
        "                 'Magnesium', 'Total phenols', 'Flavanoids', 'Nonflavanoid phenols',\n",
        "                 'Proanthocyanins', 'Color intensity', 'Hue', 'OD280/OD315 of diluted wines',\n",
        "                 'Proline')\n",
        "head(wine)"
      ],
      "execution_count": 57,
      "outputs": [
        {
          "output_type": "display_data",
          "data": {
            "text/plain": [
              "  V1 V2    V3   V4   V5   V6  V7   V8   V9   V10  V11  V12  V13  V14 \n",
              "1 1  14.23 1.71 2.43 15.6 127 2.80 3.06 0.28 2.29 5.64 1.04 3.92 1065\n",
              "2 1  13.20 1.78 2.14 11.2 100 2.65 2.76 0.26 1.28 4.38 1.05 3.40 1050\n",
              "3 1  13.16 2.36 2.67 18.6 101 2.80 3.24 0.30 2.81 5.68 1.03 3.17 1185\n",
              "4 1  14.37 1.95 2.50 16.8 113 3.85 3.49 0.24 2.18 7.80 0.86 3.45 1480\n",
              "5 1  13.24 2.59 2.87 21.0 118 2.80 2.69 0.39 1.82 4.32 1.04 2.93  735\n",
              "6 1  14.20 1.76 2.45 15.2 112 3.27 3.39 0.34 1.97 6.75 1.05 2.85 1450"
            ],
            "text/latex": "A data.frame: 6 × 14\n\\begin{tabular}{r|llllllllllllll}\n  & V1 & V2 & V3 & V4 & V5 & V6 & V7 & V8 & V9 & V10 & V11 & V12 & V13 & V14\\\\\n  & <int> & <dbl> & <dbl> & <dbl> & <dbl> & <int> & <dbl> & <dbl> & <dbl> & <dbl> & <dbl> & <dbl> & <dbl> & <int>\\\\\n\\hline\n\t1 & 1 & 14.23 & 1.71 & 2.43 & 15.6 & 127 & 2.80 & 3.06 & 0.28 & 2.29 & 5.64 & 1.04 & 3.92 & 1065\\\\\n\t2 & 1 & 13.20 & 1.78 & 2.14 & 11.2 & 100 & 2.65 & 2.76 & 0.26 & 1.28 & 4.38 & 1.05 & 3.40 & 1050\\\\\n\t3 & 1 & 13.16 & 2.36 & 2.67 & 18.6 & 101 & 2.80 & 3.24 & 0.30 & 2.81 & 5.68 & 1.03 & 3.17 & 1185\\\\\n\t4 & 1 & 14.37 & 1.95 & 2.50 & 16.8 & 113 & 3.85 & 3.49 & 0.24 & 2.18 & 7.80 & 0.86 & 3.45 & 1480\\\\\n\t5 & 1 & 13.24 & 2.59 & 2.87 & 21.0 & 118 & 2.80 & 2.69 & 0.39 & 1.82 & 4.32 & 1.04 & 2.93 &  735\\\\\n\t6 & 1 & 14.20 & 1.76 & 2.45 & 15.2 & 112 & 3.27 & 3.39 & 0.34 & 1.97 & 6.75 & 1.05 & 2.85 & 1450\\\\\n\\end{tabular}\n",
            "text/markdown": "\nA data.frame: 6 × 14\n\n| <!--/--> | V1 &lt;int&gt; | V2 &lt;dbl&gt; | V3 &lt;dbl&gt; | V4 &lt;dbl&gt; | V5 &lt;dbl&gt; | V6 &lt;int&gt; | V7 &lt;dbl&gt; | V8 &lt;dbl&gt; | V9 &lt;dbl&gt; | V10 &lt;dbl&gt; | V11 &lt;dbl&gt; | V12 &lt;dbl&gt; | V13 &lt;dbl&gt; | V14 &lt;int&gt; |\n|---|---|---|---|---|---|---|---|---|---|---|---|---|---|---|\n| 1 | 1 | 14.23 | 1.71 | 2.43 | 15.6 | 127 | 2.80 | 3.06 | 0.28 | 2.29 | 5.64 | 1.04 | 3.92 | 1065 |\n| 2 | 1 | 13.20 | 1.78 | 2.14 | 11.2 | 100 | 2.65 | 2.76 | 0.26 | 1.28 | 4.38 | 1.05 | 3.40 | 1050 |\n| 3 | 1 | 13.16 | 2.36 | 2.67 | 18.6 | 101 | 2.80 | 3.24 | 0.30 | 2.81 | 5.68 | 1.03 | 3.17 | 1185 |\n| 4 | 1 | 14.37 | 1.95 | 2.50 | 16.8 | 113 | 3.85 | 3.49 | 0.24 | 2.18 | 7.80 | 0.86 | 3.45 | 1480 |\n| 5 | 1 | 13.24 | 2.59 | 2.87 | 21.0 | 118 | 2.80 | 2.69 | 0.39 | 1.82 | 4.32 | 1.04 | 2.93 |  735 |\n| 6 | 1 | 14.20 | 1.76 | 2.45 | 15.2 | 112 | 3.27 | 3.39 | 0.34 | 1.97 | 6.75 | 1.05 | 2.85 | 1450 |\n\n",
            "text/html": [
              "<table>\n",
              "<caption>A data.frame: 6 × 14</caption>\n",
              "<thead>\n",
              "\t<tr><th></th><th scope=col>V1</th><th scope=col>V2</th><th scope=col>V3</th><th scope=col>V4</th><th scope=col>V5</th><th scope=col>V6</th><th scope=col>V7</th><th scope=col>V8</th><th scope=col>V9</th><th scope=col>V10</th><th scope=col>V11</th><th scope=col>V12</th><th scope=col>V13</th><th scope=col>V14</th></tr>\n",
              "\t<tr><th></th><th scope=col>&lt;int&gt;</th><th scope=col>&lt;dbl&gt;</th><th scope=col>&lt;dbl&gt;</th><th scope=col>&lt;dbl&gt;</th><th scope=col>&lt;dbl&gt;</th><th scope=col>&lt;int&gt;</th><th scope=col>&lt;dbl&gt;</th><th scope=col>&lt;dbl&gt;</th><th scope=col>&lt;dbl&gt;</th><th scope=col>&lt;dbl&gt;</th><th scope=col>&lt;dbl&gt;</th><th scope=col>&lt;dbl&gt;</th><th scope=col>&lt;dbl&gt;</th><th scope=col>&lt;int&gt;</th></tr>\n",
              "</thead>\n",
              "<tbody>\n",
              "\t<tr><th scope=row>1</th><td>1</td><td>14.23</td><td>1.71</td><td>2.43</td><td>15.6</td><td>127</td><td>2.80</td><td>3.06</td><td>0.28</td><td>2.29</td><td>5.64</td><td>1.04</td><td>3.92</td><td>1065</td></tr>\n",
              "\t<tr><th scope=row>2</th><td>1</td><td>13.20</td><td>1.78</td><td>2.14</td><td>11.2</td><td>100</td><td>2.65</td><td>2.76</td><td>0.26</td><td>1.28</td><td>4.38</td><td>1.05</td><td>3.40</td><td>1050</td></tr>\n",
              "\t<tr><th scope=row>3</th><td>1</td><td>13.16</td><td>2.36</td><td>2.67</td><td>18.6</td><td>101</td><td>2.80</td><td>3.24</td><td>0.30</td><td>2.81</td><td>5.68</td><td>1.03</td><td>3.17</td><td>1185</td></tr>\n",
              "\t<tr><th scope=row>4</th><td>1</td><td>14.37</td><td>1.95</td><td>2.50</td><td>16.8</td><td>113</td><td>3.85</td><td>3.49</td><td>0.24</td><td>2.18</td><td>7.80</td><td>0.86</td><td>3.45</td><td>1480</td></tr>\n",
              "\t<tr><th scope=row>5</th><td>1</td><td>13.24</td><td>2.59</td><td>2.87</td><td>21.0</td><td>118</td><td>2.80</td><td>2.69</td><td>0.39</td><td>1.82</td><td>4.32</td><td>1.04</td><td>2.93</td><td> 735</td></tr>\n",
              "\t<tr><th scope=row>6</th><td>1</td><td>14.20</td><td>1.76</td><td>2.45</td><td>15.2</td><td>112</td><td>3.27</td><td>3.39</td><td>0.34</td><td>1.97</td><td>6.75</td><td>1.05</td><td>2.85</td><td>1450</td></tr>\n",
              "</tbody>\n",
              "</table>\n"
            ]
          },
          "metadata": {
            "tags": []
          }
        },
        {
          "output_type": "display_data",
          "data": {
            "text/plain": [
              "  Identifier Alcohol Malic acid Ash  Alcalinity of ash Magnesium Total phenols\n",
              "1 1          14.23   1.71       2.43 15.6              127       2.80         \n",
              "2 1          13.20   1.78       2.14 11.2              100       2.65         \n",
              "3 1          13.16   2.36       2.67 18.6              101       2.80         \n",
              "4 1          14.37   1.95       2.50 16.8              113       3.85         \n",
              "5 1          13.24   2.59       2.87 21.0              118       2.80         \n",
              "6 1          14.20   1.76       2.45 15.2              112       3.27         \n",
              "  Flavanoids Nonflavanoid phenols Proanthocyanins Color intensity Hue \n",
              "1 3.06       0.28                 2.29            5.64            1.04\n",
              "2 2.76       0.26                 1.28            4.38            1.05\n",
              "3 3.24       0.30                 2.81            5.68            1.03\n",
              "4 3.49       0.24                 2.18            7.80            0.86\n",
              "5 2.69       0.39                 1.82            4.32            1.04\n",
              "6 3.39       0.34                 1.97            6.75            1.05\n",
              "  OD280/OD315 of diluted wines Proline\n",
              "1 3.92                         1065   \n",
              "2 3.40                         1050   \n",
              "3 3.17                         1185   \n",
              "4 3.45                         1480   \n",
              "5 2.93                          735   \n",
              "6 2.85                         1450   "
            ],
            "text/latex": "A data.frame: 6 × 14\n\\begin{tabular}{r|llllllllllllll}\n  & Identifier & Alcohol & Malic acid & Ash & Alcalinity of ash & Magnesium & Total phenols & Flavanoids & Nonflavanoid phenols & Proanthocyanins & Color intensity & Hue & OD280/OD315 of diluted wines & Proline\\\\\n  & <int> & <dbl> & <dbl> & <dbl> & <dbl> & <int> & <dbl> & <dbl> & <dbl> & <dbl> & <dbl> & <dbl> & <dbl> & <int>\\\\\n\\hline\n\t1 & 1 & 14.23 & 1.71 & 2.43 & 15.6 & 127 & 2.80 & 3.06 & 0.28 & 2.29 & 5.64 & 1.04 & 3.92 & 1065\\\\\n\t2 & 1 & 13.20 & 1.78 & 2.14 & 11.2 & 100 & 2.65 & 2.76 & 0.26 & 1.28 & 4.38 & 1.05 & 3.40 & 1050\\\\\n\t3 & 1 & 13.16 & 2.36 & 2.67 & 18.6 & 101 & 2.80 & 3.24 & 0.30 & 2.81 & 5.68 & 1.03 & 3.17 & 1185\\\\\n\t4 & 1 & 14.37 & 1.95 & 2.50 & 16.8 & 113 & 3.85 & 3.49 & 0.24 & 2.18 & 7.80 & 0.86 & 3.45 & 1480\\\\\n\t5 & 1 & 13.24 & 2.59 & 2.87 & 21.0 & 118 & 2.80 & 2.69 & 0.39 & 1.82 & 4.32 & 1.04 & 2.93 &  735\\\\\n\t6 & 1 & 14.20 & 1.76 & 2.45 & 15.2 & 112 & 3.27 & 3.39 & 0.34 & 1.97 & 6.75 & 1.05 & 2.85 & 1450\\\\\n\\end{tabular}\n",
            "text/markdown": "\nA data.frame: 6 × 14\n\n| <!--/--> | Identifier &lt;int&gt; | Alcohol &lt;dbl&gt; | Malic acid &lt;dbl&gt; | Ash &lt;dbl&gt; | Alcalinity of ash &lt;dbl&gt; | Magnesium &lt;int&gt; | Total phenols &lt;dbl&gt; | Flavanoids &lt;dbl&gt; | Nonflavanoid phenols &lt;dbl&gt; | Proanthocyanins &lt;dbl&gt; | Color intensity &lt;dbl&gt; | Hue &lt;dbl&gt; | OD280/OD315 of diluted wines &lt;dbl&gt; | Proline &lt;int&gt; |\n|---|---|---|---|---|---|---|---|---|---|---|---|---|---|---|\n| 1 | 1 | 14.23 | 1.71 | 2.43 | 15.6 | 127 | 2.80 | 3.06 | 0.28 | 2.29 | 5.64 | 1.04 | 3.92 | 1065 |\n| 2 | 1 | 13.20 | 1.78 | 2.14 | 11.2 | 100 | 2.65 | 2.76 | 0.26 | 1.28 | 4.38 | 1.05 | 3.40 | 1050 |\n| 3 | 1 | 13.16 | 2.36 | 2.67 | 18.6 | 101 | 2.80 | 3.24 | 0.30 | 2.81 | 5.68 | 1.03 | 3.17 | 1185 |\n| 4 | 1 | 14.37 | 1.95 | 2.50 | 16.8 | 113 | 3.85 | 3.49 | 0.24 | 2.18 | 7.80 | 0.86 | 3.45 | 1480 |\n| 5 | 1 | 13.24 | 2.59 | 2.87 | 21.0 | 118 | 2.80 | 2.69 | 0.39 | 1.82 | 4.32 | 1.04 | 2.93 |  735 |\n| 6 | 1 | 14.20 | 1.76 | 2.45 | 15.2 | 112 | 3.27 | 3.39 | 0.34 | 1.97 | 6.75 | 1.05 | 2.85 | 1450 |\n\n",
            "text/html": [
              "<table>\n",
              "<caption>A data.frame: 6 × 14</caption>\n",
              "<thead>\n",
              "\t<tr><th></th><th scope=col>Identifier</th><th scope=col>Alcohol</th><th scope=col>Malic acid</th><th scope=col>Ash</th><th scope=col>Alcalinity of ash</th><th scope=col>Magnesium</th><th scope=col>Total phenols</th><th scope=col>Flavanoids</th><th scope=col>Nonflavanoid phenols</th><th scope=col>Proanthocyanins</th><th scope=col>Color intensity</th><th scope=col>Hue</th><th scope=col>OD280/OD315 of diluted wines</th><th scope=col>Proline</th></tr>\n",
              "\t<tr><th></th><th scope=col>&lt;int&gt;</th><th scope=col>&lt;dbl&gt;</th><th scope=col>&lt;dbl&gt;</th><th scope=col>&lt;dbl&gt;</th><th scope=col>&lt;dbl&gt;</th><th scope=col>&lt;int&gt;</th><th scope=col>&lt;dbl&gt;</th><th scope=col>&lt;dbl&gt;</th><th scope=col>&lt;dbl&gt;</th><th scope=col>&lt;dbl&gt;</th><th scope=col>&lt;dbl&gt;</th><th scope=col>&lt;dbl&gt;</th><th scope=col>&lt;dbl&gt;</th><th scope=col>&lt;int&gt;</th></tr>\n",
              "</thead>\n",
              "<tbody>\n",
              "\t<tr><th scope=row>1</th><td>1</td><td>14.23</td><td>1.71</td><td>2.43</td><td>15.6</td><td>127</td><td>2.80</td><td>3.06</td><td>0.28</td><td>2.29</td><td>5.64</td><td>1.04</td><td>3.92</td><td>1065</td></tr>\n",
              "\t<tr><th scope=row>2</th><td>1</td><td>13.20</td><td>1.78</td><td>2.14</td><td>11.2</td><td>100</td><td>2.65</td><td>2.76</td><td>0.26</td><td>1.28</td><td>4.38</td><td>1.05</td><td>3.40</td><td>1050</td></tr>\n",
              "\t<tr><th scope=row>3</th><td>1</td><td>13.16</td><td>2.36</td><td>2.67</td><td>18.6</td><td>101</td><td>2.80</td><td>3.24</td><td>0.30</td><td>2.81</td><td>5.68</td><td>1.03</td><td>3.17</td><td>1185</td></tr>\n",
              "\t<tr><th scope=row>4</th><td>1</td><td>14.37</td><td>1.95</td><td>2.50</td><td>16.8</td><td>113</td><td>3.85</td><td>3.49</td><td>0.24</td><td>2.18</td><td>7.80</td><td>0.86</td><td>3.45</td><td>1480</td></tr>\n",
              "\t<tr><th scope=row>5</th><td>1</td><td>13.24</td><td>2.59</td><td>2.87</td><td>21.0</td><td>118</td><td>2.80</td><td>2.69</td><td>0.39</td><td>1.82</td><td>4.32</td><td>1.04</td><td>2.93</td><td> 735</td></tr>\n",
              "\t<tr><th scope=row>6</th><td>1</td><td>14.20</td><td>1.76</td><td>2.45</td><td>15.2</td><td>112</td><td>3.27</td><td>3.39</td><td>0.34</td><td>1.97</td><td>6.75</td><td>1.05</td><td>2.85</td><td>1450</td></tr>\n",
              "</tbody>\n",
              "</table>\n"
            ]
          },
          "metadata": {
            "tags": []
          }
        }
      ]
    }
  ]
}