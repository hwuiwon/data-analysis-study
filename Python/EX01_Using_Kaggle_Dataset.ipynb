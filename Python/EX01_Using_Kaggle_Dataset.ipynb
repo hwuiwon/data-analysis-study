{
  "nbformat": 4,
  "nbformat_minor": 0,
  "metadata": {
    "colab": {
      "name": "Using Kaggle Dataset",
      "provenance": [],
      "collapsed_sections": [],
      "toc_visible": true
    },
    "kernelspec": {
      "name": "python3",
      "display_name": "Python 3"
    }
  },
  "cells": [
    {
      "cell_type": "markdown",
      "metadata": {
        "id": "EPREkIJZLDVd",
        "colab_type": "text"
      },
      "source": [
        "# **Use-Kaggle-Dataset**"
      ]
    },
    {
      "cell_type": "markdown",
      "metadata": {
        "id": "BG2Ay27rLOwJ",
        "colab_type": "text"
      },
      "source": [
        "### **Kaggle Basics**"
      ]
    },
    {
      "cell_type": "markdown",
      "metadata": {
        "id": "CCMTiPSEMMuQ",
        "colab_type": "text"
      },
      "source": [
        "### **Install Kaggle Library**"
      ]
    },
    {
      "cell_type": "code",
      "metadata": {
        "id": "IhSY6GPMKn0i",
        "colab_type": "code",
        "outputId": "8d156ac1-8037-447c-a4e6-071d6eb45c29",
        "colab": {
          "base_uri": "https://localhost:8080/",
          "height": 226
        }
      },
      "source": [
        "!pip install kaggle -U"
      ],
      "execution_count": 1,
      "outputs": [
        {
          "output_type": "stream",
          "text": [
            "Requirement already up-to-date: kaggle in /usr/local/lib/python3.6/dist-packages (1.5.6)\n",
            "Requirement already satisfied, skipping upgrade: urllib3<1.25,>=1.21.1 in /usr/local/lib/python3.6/dist-packages (from kaggle) (1.24.3)\n",
            "Requirement already satisfied, skipping upgrade: tqdm in /usr/local/lib/python3.6/dist-packages (from kaggle) (4.38.0)\n",
            "Requirement already satisfied, skipping upgrade: python-slugify in /usr/local/lib/python3.6/dist-packages (from kaggle) (4.0.0)\n",
            "Requirement already satisfied, skipping upgrade: python-dateutil in /usr/local/lib/python3.6/dist-packages (from kaggle) (2.8.1)\n",
            "Requirement already satisfied, skipping upgrade: six>=1.10 in /usr/local/lib/python3.6/dist-packages (from kaggle) (1.12.0)\n",
            "Requirement already satisfied, skipping upgrade: certifi in /usr/local/lib/python3.6/dist-packages (from kaggle) (2019.11.28)\n",
            "Requirement already satisfied, skipping upgrade: requests in /usr/local/lib/python3.6/dist-packages (from kaggle) (2.21.0)\n",
            "Requirement already satisfied, skipping upgrade: text-unidecode>=1.3 in /usr/local/lib/python3.6/dist-packages (from python-slugify->kaggle) (1.3)\n",
            "Requirement already satisfied, skipping upgrade: chardet<3.1.0,>=3.0.2 in /usr/local/lib/python3.6/dist-packages (from requests->kaggle) (3.0.4)\n",
            "Requirement already satisfied, skipping upgrade: idna<2.9,>=2.5 in /usr/local/lib/python3.6/dist-packages (from requests->kaggle) (2.8)\n"
          ],
          "name": "stdout"
        }
      ]
    },
    {
      "cell_type": "markdown",
      "metadata": {
        "id": "yo1kWezkMQ1Z",
        "colab_type": "text"
      },
      "source": [
        "### **Import kaggle.json**"
      ]
    },
    {
      "cell_type": "code",
      "metadata": {
        "id": "8E6xLdrbL4b1",
        "colab_type": "code",
        "colab": {}
      },
      "source": [
        "# Mount Google Drive before running the code\n",
        "\n",
        "import os\n",
        "os.environ['KAGGLE_CONFIG_DIR'] = \"/content/drive/My Drive/.kaggle/\""
      ],
      "execution_count": 0,
      "outputs": []
    },
    {
      "cell_type": "markdown",
      "metadata": {
        "id": "0PwEEd6KMUS5",
        "colab_type": "text"
      },
      "source": [
        "### **See Kaggle Lists (Competition)**"
      ]
    },
    {
      "cell_type": "markdown",
      "metadata": {
        "id": "CkmLN2X3QtOL",
        "colab_type": "text"
      },
      "source": [
        "#### **List Competitions**"
      ]
    },
    {
      "cell_type": "code",
      "metadata": {
        "id": "4Saz7hn4MaFA",
        "colab_type": "code",
        "outputId": "5069bfe4-7871-425e-9563-76f110b5eaa4",
        "colab": {
          "base_uri": "https://localhost:8080/",
          "height": 112
        }
      },
      "source": [
        "!kaggle competitions list -s tutorial "
      ],
      "execution_count": 3,
      "outputs": [
        {
          "output_type": "stream",
          "text": [
            "Warning: Looks like you're using an outdated API Version, please consider updating (server 1.5.6 / client 1.5.4)\n",
            "ref                    deadline             category            reward  teamCount  userHasEntered  \n",
            "---------------------  -------------------  ---------------  ---------  ---------  --------------  \n",
            "titanic                2030-01-01 00:00:00  Getting Started  Knowledge      17226            True  \n",
            "word2vec-nlp-tutorial  2015-06-30 23:59:00  Getting Started  Knowledge        578           False  \n"
          ],
          "name": "stdout"
        }
      ]
    },
    {
      "cell_type": "markdown",
      "metadata": {
        "id": "9LdHWxjOQxDy",
        "colab_type": "text"
      },
      "source": [
        "#### **List Competitions Files**"
      ]
    },
    {
      "cell_type": "code",
      "metadata": {
        "id": "KBvK7qZjQ0Mr",
        "colab_type": "code",
        "outputId": "29d8b600-19d5-444d-d53f-751ecad89db4",
        "colab": {
          "base_uri": "https://localhost:8080/",
          "height": 131
        }
      },
      "source": [
        "!kaggle competitions files -c titanic "
      ],
      "execution_count": 4,
      "outputs": [
        {
          "output_type": "stream",
          "text": [
            "Warning: Looks like you're using an outdated API Version, please consider updating (server 1.5.6 / client 1.5.4)\n",
            "name                   size  creationDate         \n",
            "---------------------  ----  -------------------  \n",
            "train.csv              60KB  2018-04-09 05:33:22  \n",
            "test.csv               28KB  2018-04-09 05:33:22  \n",
            "gender_submission.csv   3KB  2018-04-09 05:33:22  \n"
          ],
          "name": "stdout"
        }
      ]
    },
    {
      "cell_type": "markdown",
      "metadata": {
        "id": "pL1XOA6dRH-J",
        "colab_type": "text"
      },
      "source": [
        "#### **Download Competitions Files**"
      ]
    },
    {
      "cell_type": "code",
      "metadata": {
        "id": "nQ9wPksvRKqx",
        "colab_type": "code",
        "outputId": "e59e674a-d8b6-4554-8c3f-f4e7042c8d2a",
        "colab": {
          "base_uri": "https://localhost:8080/",
          "height": 207
        }
      },
      "source": [
        "# You need to accept the rules of the competition to download files\n",
        "# kaggle.com/c/COMPETITION_NAME/rules\n",
        "!kaggle competitions download -c titanic -p /content/titanic/"
      ],
      "execution_count": 5,
      "outputs": [
        {
          "output_type": "stream",
          "text": [
            "Warning: Looks like you're using an outdated API Version, please consider updating (server 1.5.6 / client 1.5.4)\n",
            "Downloading train.csv to /content/titanic\n",
            "  0% 0.00/59.8k [00:00<?, ?B/s]\n",
            "100% 59.8k/59.8k [00:00<00:00, 23.2MB/s]\n",
            "Downloading test.csv to /content/titanic\n",
            "  0% 0.00/28.0k [00:00<?, ?B/s]\n",
            "100% 28.0k/28.0k [00:00<00:00, 24.7MB/s]\n",
            "Downloading gender_submission.csv to /content/titanic\n",
            "  0% 0.00/3.18k [00:00<?, ?B/s]\n",
            "100% 3.18k/3.18k [00:00<00:00, 2.76MB/s]\n"
          ],
          "name": "stdout"
        }
      ]
    },
    {
      "cell_type": "markdown",
      "metadata": {
        "id": "3Vqynbr7TkiN",
        "colab_type": "text"
      },
      "source": [
        "#### **Submit Files**"
      ]
    },
    {
      "cell_type": "code",
      "metadata": {
        "id": "sEJrvFlnTn7b",
        "colab_type": "code",
        "outputId": "1e7108c1-0730-4aab-81a2-4675118bec1b",
        "colab": {
          "base_uri": "https://localhost:8080/",
          "height": 55
        }
      },
      "source": [
        "!kaggle competitions submissions -c COMPETITION_NAME -f FILE_NAME -m MESSAGE"
      ],
      "execution_count": 6,
      "outputs": [
        {
          "output_type": "stream",
          "text": [
            "usage: kaggle [-h] [-v] {competitions,c,datasets,d,kernels,k,config} ...\n",
            "kaggle: error: unrecognized arguments: -f -m MESSAGE\n"
          ],
          "name": "stdout"
        }
      ]
    },
    {
      "cell_type": "markdown",
      "metadata": {
        "id": "64i97zRfT6jq",
        "colab_type": "text"
      },
      "source": [
        "### **See Kaggle Lists (Dataset)**"
      ]
    },
    {
      "cell_type": "markdown",
      "metadata": {
        "id": "iHhpht_RUOc5",
        "colab_type": "text"
      },
      "source": [
        "#### **List Survey Datasets**"
      ]
    },
    {
      "cell_type": "code",
      "metadata": {
        "id": "5skfqJC4T-VN",
        "colab_type": "code",
        "outputId": "e108af8f-c45a-403c-e33d-91fed1dae182",
        "colab": {
          "base_uri": "https://localhost:8080/",
          "height": 454
        }
      },
      "source": [
        "!kaggle datasets list -s survey"
      ],
      "execution_count": 7,
      "outputs": [
        {
          "output_type": "stream",
          "text": [
            "Warning: Looks like you're using an outdated API Version, please consider updating (server 1.5.6 / client 1.5.4)\n",
            "ref                                                      title                                              size  lastUpdated          downloadCount  \n",
            "-------------------------------------------------------  ------------------------------------------------  -----  -------------------  -------------  \n",
            "miroslavsabo/young-people-survey                         Young People Survey                                84KB  2016-12-06 03:10:30          27144  \n",
            "kaggle/kaggle-survey-2018                                2018 Kaggle ML & DS Survey                          4MB  2018-11-03 22:35:07          12097  \n",
            "kaggle/kaggle-survey-2017                                2017 Kaggle ML & DS Survey                          4MB  2017-10-27 22:03:03          19024  \n",
            "osmi/mental-health-in-tech-survey                        Mental Health in Tech Survey                       49KB  2016-11-03 17:28:47          23359  \n",
            "ruslankl/european-union-lgbt-survey-2012                 EU LGBT Survey                                    610KB  2019-07-19 11:15:25           2968  \n",
            "stackoverflow/stack-overflow-2018-developer-survey       Stack Overflow 2018 Developer Survey               20MB  2018-05-15 16:59:54           8792  \n",
            "hackerrank/developer-survey-2018                         HackerRank Developer Survey 2018                    5MB  2018-03-19 21:42:43           3138  \n",
            "stackoverflow/so-survey-2017                             Stack Overflow Developer Survey, 2017              10MB  2017-06-15 14:15:47           4725  \n",
            "census/2013-american-community-survey                    2013 American Community Survey                    916MB  2017-05-01 19:10:03           4276  \n",
            "census/current-population-survey                         Current Population Survey                          22MB  2019-11-17 23:09:52           1465  \n",
            "lucidlenn/sloan-digital-sky-survey                       Sloan Digital Sky Survey DR14                     446KB  2018-09-20 00:23:41           2713  \n",
            "freecodecamp/2016-new-coder-survey-                      2016 New Coder Survey                               2MB  2016-06-03 00:27:28           4294  \n",
            "cdc/national-health-and-nutrition-examination-survey     National Health and Nutrition Examination Survey    7MB  2017-01-26 20:11:45           7911  \n",
            "jupyter/2015-notebook-ux-survey                          2015 Notebook UX Survey                           198KB  2017-05-01 17:56:25            909  \n",
            "bls/american-time-use-survey                             American Time Use Survey                          249MB  2017-06-15 16:32:54           1873  \n",
            "census/2015-american-community-survey                    2015 American Community Survey                    961MB  2019-11-17 23:14:49           1426  \n",
            "erikhambardzumyan/pubs                                   Armenian Pub Survey                                 4KB  2017-03-17 16:59:25            553  \n",
            "osmi/mental-health-in-tech-2016                          OSMI Mental Health in Tech Survey 2016             14MB  2019-11-17 21:22:10           5842  \n",
            "crawford/agricultural-survey-of-african-farm-households  Agricultural Survey of African Farm Households      4MB  2017-07-20 18:07:44           2397  \n",
            "fernandol/world-values-survey                            World Values Survey                                 1MB  2018-04-30 15:00:31            811  \n"
          ],
          "name": "stdout"
        }
      ]
    },
    {
      "cell_type": "markdown",
      "metadata": {
        "id": "Y8sNArrsUSKR",
        "colab_type": "text"
      },
      "source": [
        "#### **Download Survey Datasets**"
      ]
    },
    {
      "cell_type": "markdown",
      "metadata": {
        "id": "hM8HNWkHYx-o",
        "colab_type": "text"
      },
      "source": [
        "We will download **kaggle-survey-2017** dataset as an example."
      ]
    },
    {
      "cell_type": "code",
      "metadata": {
        "id": "bqlUYmIaUT7T",
        "colab_type": "code",
        "outputId": "a3344092-bfd4-448f-adc2-5b429ec8652f",
        "colab": {
          "base_uri": "https://localhost:8080/",
          "height": 74
        }
      },
      "source": [
        "!kaggle datasets download kaggle/kaggle-survey-2017 -p /content/kaggle-survey-2017/"
      ],
      "execution_count": 8,
      "outputs": [
        {
          "output_type": "stream",
          "text": [
            "Downloading kaggle-survey-2017.zip to /content/kaggle-survey-2017\n",
            "\r  0% 0.00/3.52M [00:00<?, ?B/s]\n",
            "\r100% 3.52M/3.52M [00:00<00:00, 116MB/s]\n"
          ],
          "name": "stdout"
        }
      ]
    }
  ]
}