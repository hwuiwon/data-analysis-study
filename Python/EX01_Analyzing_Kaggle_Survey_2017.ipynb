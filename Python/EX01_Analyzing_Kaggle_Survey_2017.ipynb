{
  "nbformat": 4,
  "nbformat_minor": 0,
  "metadata": {
    "colab": {
      "name": "Analyzing Kaggle Survey 2017",
      "provenance": [],
      "collapsed_sections": [],
      "toc_visible": true
    },
    "kernelspec": {
      "name": "python3",
      "display_name": "Python 3"
    }
  },
  "cells": [
    {
      "cell_type": "markdown",
      "metadata": {
        "id": "U1xKVHqkXPBy",
        "colab_type": "text"
      },
      "source": [
        "# **Analyzing Kaggle Survey 2017**"
      ]
    },
    {
      "cell_type": "markdown",
      "metadata": {
        "id": "GOPrT8uIXjTs",
        "colab_type": "text"
      },
      "source": [
        "## **Installing kaggle library**"
      ]
    },
    {
      "cell_type": "code",
      "metadata": {
        "id": "1GDnisLkXhSz",
        "colab_type": "code",
        "outputId": "2e8e1432-9882-4de3-e2f2-4d87350bc348",
        "colab": {
          "base_uri": "https://localhost:8080/",
          "height": 226
        }
      },
      "source": [
        "# Mount Google Drive before running the code\n",
        "!pip install kaggle -U\n",
        "\n",
        "import os\n",
        "os.environ['KAGGLE_CONFIG_DIR'] = \"/content/drive/My Drive/.kaggle/\""
      ],
      "execution_count": 1,
      "outputs": [
        {
          "output_type": "stream",
          "text": [
            "Requirement already up-to-date: kaggle in /usr/local/lib/python3.6/dist-packages (1.5.6)\n",
            "Requirement already satisfied, skipping upgrade: six>=1.10 in /usr/local/lib/python3.6/dist-packages (from kaggle) (1.12.0)\n",
            "Requirement already satisfied, skipping upgrade: tqdm in /usr/local/lib/python3.6/dist-packages (from kaggle) (4.38.0)\n",
            "Requirement already satisfied, skipping upgrade: urllib3<1.25,>=1.21.1 in /usr/local/lib/python3.6/dist-packages (from kaggle) (1.24.3)\n",
            "Requirement already satisfied, skipping upgrade: certifi in /usr/local/lib/python3.6/dist-packages (from kaggle) (2019.11.28)\n",
            "Requirement already satisfied, skipping upgrade: python-dateutil in /usr/local/lib/python3.6/dist-packages (from kaggle) (2.8.1)\n",
            "Requirement already satisfied, skipping upgrade: python-slugify in /usr/local/lib/python3.6/dist-packages (from kaggle) (4.0.0)\n",
            "Requirement already satisfied, skipping upgrade: requests in /usr/local/lib/python3.6/dist-packages (from kaggle) (2.21.0)\n",
            "Requirement already satisfied, skipping upgrade: text-unidecode>=1.3 in /usr/local/lib/python3.6/dist-packages (from python-slugify->kaggle) (1.3)\n",
            "Requirement already satisfied, skipping upgrade: idna<2.9,>=2.5 in /usr/local/lib/python3.6/dist-packages (from requests->kaggle) (2.8)\n",
            "Requirement already satisfied, skipping upgrade: chardet<3.1.0,>=3.0.2 in /usr/local/lib/python3.6/dist-packages (from requests->kaggle) (3.0.4)\n"
          ],
          "name": "stdout"
        }
      ]
    },
    {
      "cell_type": "markdown",
      "metadata": {
        "id": "bCNmjIkyXs28",
        "colab_type": "text"
      },
      "source": [
        "## **Downloading survey dataset**"
      ]
    },
    {
      "cell_type": "markdown",
      "metadata": {
        "id": "Xqd1hfVQXbIc",
        "colab_type": "text"
      },
      "source": [
        "Download the survey dataset by running below."
      ]
    },
    {
      "cell_type": "code",
      "metadata": {
        "id": "S2isfJMMXMEf",
        "colab_type": "code",
        "outputId": "cfa10c40-4b8d-46c5-c6f0-837ce71fd5e9",
        "colab": {
          "base_uri": "https://localhost:8080/",
          "height": 74
        }
      },
      "source": [
        "!kaggle datasets download kaggle/kaggle-survey-2017 -p /content/kaggle-survey-2017/"
      ],
      "execution_count": 2,
      "outputs": [
        {
          "output_type": "stream",
          "text": [
            "Downloading kaggle-survey-2017.zip to /content/kaggle-survey-2017\n",
            "\r  0% 0.00/3.52M [00:00<?, ?B/s]\n",
            "\r100% 3.52M/3.52M [00:00<00:00, 118MB/s]\n"
          ],
          "name": "stdout"
        }
      ]
    },
    {
      "cell_type": "markdown",
      "metadata": {
        "id": "lh2Rln3zYLsz",
        "colab_type": "text"
      },
      "source": [
        "## **List of Files**"
      ]
    },
    {
      "cell_type": "markdown",
      "metadata": {
        "id": "9kEoY6aEYNPD",
        "colab_type": "text"
      },
      "source": [
        "*   **schema.csv**\n",
        "*   **multipleChoiceResponses.csv**\n",
        "*   **freeformResponses.csv**\n",
        "*   **conversionRates.csv**\n",
        "*   **RespondentTypeREADME.txt**"
      ]
    },
    {
      "cell_type": "markdown",
      "metadata": {
        "id": "pPkF2DoSYPoU",
        "colab_type": "text"
      },
      "source": [
        "## **Analyzing Data**"
      ]
    },
    {
      "cell_type": "markdown",
      "metadata": {
        "id": "JyEpZFynYRx3",
        "colab_type": "text"
      },
      "source": [
        "Import required python libraries"
      ]
    },
    {
      "cell_type": "code",
      "metadata": {
        "id": "NRY43mv9YRHb",
        "colab_type": "code",
        "colab": {
          "base_uri": "https://localhost:8080/",
          "height": 75
        },
        "outputId": "35c617a9-dd94-4b33-b782-f98ead83896d"
      },
      "source": [
        "%matplotlib inline\n",
        "\n",
        "import pandas as pd\n",
        "import numpy as np\n",
        "from scipy import stats\n",
        "import matplotlib.pyplot as plt\n",
        "import seaborn as sns"
      ],
      "execution_count": 3,
      "outputs": [
        {
          "output_type": "stream",
          "text": [
            "/usr/local/lib/python3.6/dist-packages/statsmodels/tools/_testing.py:19: FutureWarning: pandas.util.testing is deprecated. Use the functions in the public API at pandas.testing instead.\n",
            "  import pandas.util.testing as tm\n"
          ],
          "name": "stderr"
        }
      ]
    },
    {
      "cell_type": "code",
      "metadata": {
        "id": "PqxQwaUhYadR",
        "colab_type": "code",
        "outputId": "9612fb65-0ae0-46af-ab13-c47f52548849",
        "colab": {
          "base_uri": "https://localhost:8080/",
          "height": 223
        }
      },
      "source": [
        "DIR_PATH = '/content/drive/My Drive/Colab Notebooks/data/kaggle-survey-2017/'\n",
        "\n",
        "# Get question schema\n",
        "question = pd.read_csv(os.path.join(DIR_PATH, 'schema.csv'))\n",
        "print(question.shape)\n",
        "question.head()"
      ],
      "execution_count": 4,
      "outputs": [
        {
          "output_type": "stream",
          "text": [
            "(290, 3)\n"
          ],
          "name": "stdout"
        },
        {
          "output_type": "execute_result",
          "data": {
            "text/html": [
              "<div>\n",
              "<style scoped>\n",
              "    .dataframe tbody tr th:only-of-type {\n",
              "        vertical-align: middle;\n",
              "    }\n",
              "\n",
              "    .dataframe tbody tr th {\n",
              "        vertical-align: top;\n",
              "    }\n",
              "\n",
              "    .dataframe thead th {\n",
              "        text-align: right;\n",
              "    }\n",
              "</style>\n",
              "<table border=\"1\" class=\"dataframe\">\n",
              "  <thead>\n",
              "    <tr style=\"text-align: right;\">\n",
              "      <th></th>\n",
              "      <th>Column</th>\n",
              "      <th>Question</th>\n",
              "      <th>Asked</th>\n",
              "    </tr>\n",
              "  </thead>\n",
              "  <tbody>\n",
              "    <tr>\n",
              "      <th>0</th>\n",
              "      <td>GenderSelect</td>\n",
              "      <td>Select your gender identity. - Selected Choice</td>\n",
              "      <td>All</td>\n",
              "    </tr>\n",
              "    <tr>\n",
              "      <th>1</th>\n",
              "      <td>GenderFreeForm</td>\n",
              "      <td>Select your gender identity. - A different ide...</td>\n",
              "      <td>All</td>\n",
              "    </tr>\n",
              "    <tr>\n",
              "      <th>2</th>\n",
              "      <td>Country</td>\n",
              "      <td>Select the country you currently live in.</td>\n",
              "      <td>All</td>\n",
              "    </tr>\n",
              "    <tr>\n",
              "      <th>3</th>\n",
              "      <td>Age</td>\n",
              "      <td>What's your age?</td>\n",
              "      <td>All</td>\n",
              "    </tr>\n",
              "    <tr>\n",
              "      <th>4</th>\n",
              "      <td>EmploymentStatus</td>\n",
              "      <td>What's your current employment status?</td>\n",
              "      <td>All</td>\n",
              "    </tr>\n",
              "  </tbody>\n",
              "</table>\n",
              "</div>"
            ],
            "text/plain": [
              "             Column                                           Question Asked\n",
              "0      GenderSelect     Select your gender identity. - Selected Choice   All\n",
              "1    GenderFreeForm  Select your gender identity. - A different ide...   All\n",
              "2           Country          Select the country you currently live in.   All\n",
              "3               Age                                   What's your age?   All\n",
              "4  EmploymentStatus             What's your current employment status?   All"
            ]
          },
          "metadata": {
            "tags": []
          },
          "execution_count": 4
        }
      ]
    },
    {
      "cell_type": "code",
      "metadata": {
        "id": "ZyjmB2gNYhOu",
        "colab_type": "code",
        "outputId": "6afffcc3-c19a-411b-e528-02500d8c431e",
        "colab": {
          "base_uri": "https://localhost:8080/",
          "height": 207
        }
      },
      "source": [
        "# Get multiple choice responses\n",
        "mcq = pd.read_csv(os.path.join(DIR_PATH, 'multipleChoiceResponses.csv'),\n",
        "                  encoding='ISO-8859-1', low_memory=False)\n",
        "print(mcq.shape)\n",
        "print(mcq.columns)"
      ],
      "execution_count": 5,
      "outputs": [
        {
          "output_type": "stream",
          "text": [
            "(16716, 228)\n",
            "Index(['GenderSelect', 'Country', 'Age', 'EmploymentStatus', 'StudentStatus',\n",
            "       'LearningDataScience', 'CodeWriter', 'CareerSwitcher',\n",
            "       'CurrentJobTitleSelect', 'TitleFit',\n",
            "       ...\n",
            "       'JobFactorExperienceLevel', 'JobFactorDepartment', 'JobFactorTitle',\n",
            "       'JobFactorCompanyFunding', 'JobFactorImpact', 'JobFactorRemote',\n",
            "       'JobFactorIndustry', 'JobFactorLeaderReputation', 'JobFactorDiversity',\n",
            "       'JobFactorPublishingOpportunity'],\n",
            "      dtype='object', length=228)\n"
          ],
          "name": "stdout"
        }
      ]
    },
    {
      "cell_type": "markdown",
      "metadata": {
        "id": "vkgsafLhYlDW",
        "colab_type": "text"
      },
      "source": [
        "### **Statistics & Graphs**"
      ]
    },
    {
      "cell_type": "code",
      "metadata": {
        "id": "ZXU17gf6YnIz",
        "colab_type": "code",
        "outputId": "93bf2592-7370-4688-a0be-8c4280aab5e8",
        "colab": {
          "base_uri": "https://localhost:8080/",
          "height": 450
        }
      },
      "source": [
        "# Formal Education\n",
        "# Add \"normalize=True\" parameter in value_counts method to get proportion\n",
        "print(mcq['FormalEducation'].value_counts())\n",
        "sns.countplot(y='FormalEducation', data=mcq)"
      ],
      "execution_count": 6,
      "outputs": [
        {
          "output_type": "stream",
          "text": [
            "Master's degree                                                      6273\n",
            "Bachelor's degree                                                    4811\n",
            "Doctoral degree                                                      2347\n",
            "Some college/university study without earning a bachelor's degree     786\n",
            "Professional degree                                                   451\n",
            "I did not complete any formal education past high school              257\n",
            "I prefer not to answer                                                 90\n",
            "Name: FormalEducation, dtype: int64\n"
          ],
          "name": "stdout"
        },
        {
          "output_type": "execute_result",
          "data": {
            "text/plain": [
              "<matplotlib.axes._subplots.AxesSubplot at 0x7f3313fdb048>"
            ]
          },
          "metadata": {
            "tags": []
          },
          "execution_count": 6
        },
        {
          "output_type": "display_data",
          "data": {
            "image/png": "[encoded data removed]",
            "text/plain": [
              "<Figure size 432x288 with 1 Axes>"
            ]
          },
          "metadata": {
            "tags": []
          }
        }
      ]
    },
    {
      "cell_type": "code",
      "metadata": {
        "id": "m3iLme2kYoae",
        "colab_type": "code",
        "outputId": "02584989-1b90-4c5e-c818-0ff5f93cf483",
        "colab": {
          "base_uri": "https://localhost:8080/",
          "height": 359
        }
      },
      "source": [
        "# Responses: by country\n",
        "con_df = pd.DataFrame(mcq['Country'].value_counts())\n",
        "# Create index to a new column\n",
        "con_df.reset_index(level=0, inplace=True)\n",
        "# Set column names\n",
        "con_df.columns = ['Country', 'Count']\n",
        "con_df.head(10)"
      ],
      "execution_count": 7,
      "outputs": [
        {
          "output_type": "execute_result",
          "data": {
            "text/html": [
              "<div>\n",
              "<style scoped>\n",
              "    .dataframe tbody tr th:only-of-type {\n",
              "        vertical-align: middle;\n",
              "    }\n",
              "\n",
              "    .dataframe tbody tr th {\n",
              "        vertical-align: top;\n",
              "    }\n",
              "\n",
              "    .dataframe thead th {\n",
              "        text-align: right;\n",
              "    }\n",
              "</style>\n",
              "<table border=\"1\" class=\"dataframe\">\n",
              "  <thead>\n",
              "    <tr style=\"text-align: right;\">\n",
              "      <th></th>\n",
              "      <th>Country</th>\n",
              "      <th>Count</th>\n",
              "    </tr>\n",
              "  </thead>\n",
              "  <tbody>\n",
              "    <tr>\n",
              "      <th>0</th>\n",
              "      <td>United States</td>\n",
              "      <td>4197</td>\n",
              "    </tr>\n",
              "    <tr>\n",
              "      <th>1</th>\n",
              "      <td>India</td>\n",
              "      <td>2704</td>\n",
              "    </tr>\n",
              "    <tr>\n",
              "      <th>2</th>\n",
              "      <td>Other</td>\n",
              "      <td>1023</td>\n",
              "    </tr>\n",
              "    <tr>\n",
              "      <th>3</th>\n",
              "      <td>Russia</td>\n",
              "      <td>578</td>\n",
              "    </tr>\n",
              "    <tr>\n",
              "      <th>4</th>\n",
              "      <td>United Kingdom</td>\n",
              "      <td>535</td>\n",
              "    </tr>\n",
              "    <tr>\n",
              "      <th>5</th>\n",
              "      <td>People 's Republic of China</td>\n",
              "      <td>471</td>\n",
              "    </tr>\n",
              "    <tr>\n",
              "      <th>6</th>\n",
              "      <td>Brazil</td>\n",
              "      <td>465</td>\n",
              "    </tr>\n",
              "    <tr>\n",
              "      <th>7</th>\n",
              "      <td>Germany</td>\n",
              "      <td>460</td>\n",
              "    </tr>\n",
              "    <tr>\n",
              "      <th>8</th>\n",
              "      <td>France</td>\n",
              "      <td>442</td>\n",
              "    </tr>\n",
              "    <tr>\n",
              "      <th>9</th>\n",
              "      <td>Canada</td>\n",
              "      <td>440</td>\n",
              "    </tr>\n",
              "  </tbody>\n",
              "</table>\n",
              "</div>"
            ],
            "text/plain": [
              "                       Country  Count\n",
              "0                United States   4197\n",
              "1                        India   2704\n",
              "2                        Other   1023\n",
              "3                       Russia    578\n",
              "4               United Kingdom    535\n",
              "5  People 's Republic of China    471\n",
              "6                       Brazil    465\n",
              "7                      Germany    460\n",
              "8                       France    442\n",
              "9                       Canada    440"
            ]
          },
          "metadata": {
            "tags": []
          },
          "execution_count": 7
        }
      ]
    },
    {
      "cell_type": "code",
      "metadata": {
        "id": "zqXvAnq0Yp0Q",
        "colab_type": "code",
        "outputId": "489803c2-7e1b-43cc-850a-f2c2386277bb",
        "colab": {
          "base_uri": "https://localhost:8080/",
          "height": 473
        }
      },
      "source": [
        "# Age information\n",
        "print(mcq['Age'].describe())\n",
        "\n",
        "# Draw graph\n",
        "# Cases where age is greater than 0\n",
        "sns.distplot(mcq[mcq['Age'] > 0]['Age'])\n",
        "\n",
        "# Get mean time spent gathering data of an 20 year old\n",
        "print('Time spent: {0}'.format(mcq[mcq['Age'] == 20]['TimeGatheringData'].mean()))"
      ],
      "execution_count": 8,
      "outputs": [
        {
          "output_type": "stream",
          "text": [
            "count    16385.000000\n",
            "mean        32.372841\n",
            "std         10.473487\n",
            "min          0.000000\n",
            "25%         25.000000\n",
            "50%         30.000000\n",
            "75%         37.000000\n",
            "max        100.000000\n",
            "Name: Age, dtype: float64\n",
            "Time spent: 34.82142857142857\n"
          ],
          "name": "stdout"
        },
        {
          "output_type": "display_data",
          "data": {
            "image/png": "[encoded data removed]",
            "text/plain": [
              "<Figure size 432x288 with 1 Axes>"
            ]
          },
          "metadata": {
            "tags": []
          }
        }
      ]
    },
    {
      "cell_type": "code",
      "metadata": {
        "id": "wM4x0zw2YrMX",
        "colab_type": "code",
        "outputId": "9e5b9873-259d-4e78-b38c-c8dc2fcb773b",
        "colab": {
          "base_uri": "https://localhost:8080/",
          "height": 359
        }
      },
      "source": [
        "# Major\n",
        "major_df = pd.DataFrame(mcq['MajorSelect'].value_counts())\n",
        "major_df['prop'] = pd.DataFrame(mcq['MajorSelect'].value_counts(normalize=True))\n",
        "major_df.reset_index(level=0, inplace=True)\n",
        "major_df.columns = ['Major', 'Count', 'Proportion']\n",
        "major_df.head(10)"
      ],
      "execution_count": 9,
      "outputs": [
        {
          "output_type": "execute_result",
          "data": {
            "text/html": [
              "<div>\n",
              "<style scoped>\n",
              "    .dataframe tbody tr th:only-of-type {\n",
              "        vertical-align: middle;\n",
              "    }\n",
              "\n",
              "    .dataframe tbody tr th {\n",
              "        vertical-align: top;\n",
              "    }\n",
              "\n",
              "    .dataframe thead th {\n",
              "        text-align: right;\n",
              "    }\n",
              "</style>\n",
              "<table border=\"1\" class=\"dataframe\">\n",
              "  <thead>\n",
              "    <tr style=\"text-align: right;\">\n",
              "      <th></th>\n",
              "      <th>Major</th>\n",
              "      <th>Count</th>\n",
              "      <th>Proportion</th>\n",
              "    </tr>\n",
              "  </thead>\n",
              "  <tbody>\n",
              "    <tr>\n",
              "      <th>0</th>\n",
              "      <td>Computer Science</td>\n",
              "      <td>4397</td>\n",
              "      <td>0.331074</td>\n",
              "    </tr>\n",
              "    <tr>\n",
              "      <th>1</th>\n",
              "      <td>Mathematics or statistics</td>\n",
              "      <td>2220</td>\n",
              "      <td>0.167156</td>\n",
              "    </tr>\n",
              "    <tr>\n",
              "      <th>2</th>\n",
              "      <td>Engineering (non-computer focused)</td>\n",
              "      <td>1339</td>\n",
              "      <td>0.100821</td>\n",
              "    </tr>\n",
              "    <tr>\n",
              "      <th>3</th>\n",
              "      <td>Electrical Engineering</td>\n",
              "      <td>1303</td>\n",
              "      <td>0.098110</td>\n",
              "    </tr>\n",
              "    <tr>\n",
              "      <th>4</th>\n",
              "      <td>Other</td>\n",
              "      <td>848</td>\n",
              "      <td>0.063851</td>\n",
              "    </tr>\n",
              "    <tr>\n",
              "      <th>5</th>\n",
              "      <td>Physics</td>\n",
              "      <td>830</td>\n",
              "      <td>0.062495</td>\n",
              "    </tr>\n",
              "    <tr>\n",
              "      <th>6</th>\n",
              "      <td>Information technology, networking, or system ...</td>\n",
              "      <td>693</td>\n",
              "      <td>0.052180</td>\n",
              "    </tr>\n",
              "    <tr>\n",
              "      <th>7</th>\n",
              "      <td>A social science</td>\n",
              "      <td>531</td>\n",
              "      <td>0.039982</td>\n",
              "    </tr>\n",
              "    <tr>\n",
              "      <th>8</th>\n",
              "      <td>Biology</td>\n",
              "      <td>274</td>\n",
              "      <td>0.020631</td>\n",
              "    </tr>\n",
              "    <tr>\n",
              "      <th>9</th>\n",
              "      <td>Management information systems</td>\n",
              "      <td>237</td>\n",
              "      <td>0.017845</td>\n",
              "    </tr>\n",
              "  </tbody>\n",
              "</table>\n",
              "</div>"
            ],
            "text/plain": [
              "                                               Major  Count  Proportion\n",
              "0                                   Computer Science   4397    0.331074\n",
              "1                          Mathematics or statistics   2220    0.167156\n",
              "2                 Engineering (non-computer focused)   1339    0.100821\n",
              "3                             Electrical Engineering   1303    0.098110\n",
              "4                                              Other    848    0.063851\n",
              "5                                            Physics    830    0.062495\n",
              "6  Information technology, networking, or system ...    693    0.052180\n",
              "7                                   A social science    531    0.039982\n",
              "8                                            Biology    274    0.020631\n",
              "9                     Management information systems    237    0.017845"
            ]
          },
          "metadata": {
            "tags": []
          },
          "execution_count": 9
        }
      ]
    },
    {
      "cell_type": "code",
      "metadata": {
        "id": "r7f13DbBYsVj",
        "colab_type": "code",
        "outputId": "0145f6c7-4b53-4975-ac9d-140b08c4114c",
        "colab": {
          "base_uri": "https://localhost:8080/",
          "height": 516
        }
      },
      "source": [
        "# Graph: Major\n",
        "plt.figure(figsize=(6, 8))\n",
        "sns.countplot(y='MajorSelect', data=mcq)"
      ],
      "execution_count": 10,
      "outputs": [
        {
          "output_type": "execute_result",
          "data": {
            "text/plain": [
              "<matplotlib.axes._subplots.AxesSubplot at 0x7f33139cd240>"
            ]
          },
          "metadata": {
            "tags": []
          },
          "execution_count": 10
        },
        {
          "output_type": "display_data",
          "data": {
            "image/png": "[encoded data removed]",
            "text/plain": [
              "<Figure size 432x576 with 1 Axes>"
            ]
          },
          "metadata": {
            "tags": []
          }
        }
      ]
    }
  ]
}