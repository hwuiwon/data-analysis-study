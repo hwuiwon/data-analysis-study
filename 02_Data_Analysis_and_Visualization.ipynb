{
  "nbformat": 4,
  "nbformat_minor": 0,
  "metadata": {
    "colab": {
      "name": "02. Data Analysis and Visualization",
      "provenance": [],
      "collapsed_sections": [],
      "authorship_tag": "ABX9TyO5DinqScUAk6enLl0/t217",
      "include_colab_link": true
    },
    "kernelspec": {
      "name": "ir",
      "display_name": "R"
    }
  },
  "cells": [
    {
      "cell_type": "markdown",
      "metadata": {
        "id": "view-in-github",
        "colab_type": "text"
      },
      "source": [
        "<a href=\"https://colab.research.google.com/github/hwuiwon/data-analysis-study/blob/master/02_Data_Analysis_and_Visualization.ipynb\" target=\"_parent\"><img src=\"https://colab.research.google.com/assets/colab-badge.svg\" alt=\"Open In Colab\"/></a>"
      ]
    },
    {
      "cell_type": "markdown",
      "metadata": {
        "id": "NpDcIz3uxJMO",
        "colab_type": "text"
      },
      "source": [
        "# **02-Data-Analysis-and-Visualization**"
      ]
    },
    {
      "cell_type": "markdown",
      "metadata": {
        "id": "YmnB_U7ZxoJT",
        "colab_type": "text"
      },
      "source": [
        "Click [this](https://colab.research.google.com/notebook#create=true&language=r) to create new R-Notebook."
      ]
    },
    {
      "cell_type": "code",
      "metadata": {
        "id": "GLlRzxG_xff7",
        "colab_type": "code",
        "colab": {}
      },
      "source": [
        "library(IRdisplay)"
      ],
      "execution_count": 0,
      "outputs": []
    },
    {
      "cell_type": "markdown",
      "metadata": {
        "id": "jgZP4IY2yWrV",
        "colab_type": "text"
      },
      "source": [
        "## **Analytical model**"
      ]
    },
    {
      "cell_type": "markdown",
      "metadata": {
        "id": "s-kJm2qHyrUF",
        "colab_type": "text"
      },
      "source": [
        "**Modeling**: the representation, often mathematical, of a relationship between variables"
      ]
    },
    {
      "cell_type": "markdown",
      "metadata": {
        "id": "NXom_KcEMOvB",
        "colab_type": "text"
      },
      "source": [
        "## **Loading Dataset**"
      ]
    },
    {
      "cell_type": "markdown",
      "metadata": {
        "id": "AevGSZGUMRog",
        "colab_type": "text"
      },
      "source": [
        "Data used in this example can be found [here](https://drive.google.com/open?id=17GRc4sLAe_gBR5ezJOUeU6Na5lX5OVby)."
      ]
    },
    {
      "cell_type": "code",
      "metadata": {
        "id": "aOCeZmZeMQ_t",
        "colab_type": "code",
        "colab": {}
      },
      "source": [
        "# Set working directory\n",
        "setwd('/content/r_data')"
      ],
      "execution_count": 0,
      "outputs": []
    },
    {
      "cell_type": "markdown",
      "metadata": {
        "id": "V2XiiPWZNuQU",
        "colab_type": "text"
      },
      "source": [
        "**utils::read.csv()** -> DataFrame object\n",
        "\n",
        "**readr::read_delim()** -> Tibble object, DataFrame object\n",
        "\n",
        "**data.table::fread()** -> Data.table object, DataFrame object"
      ]
    },
    {
      "cell_type": "code",
      "metadata": {
        "id": "3cntyA7kNkMA",
        "colab_type": "code",
        "colab": {
          "base_uri": "https://localhost:8080/",
          "height": 74
        },
        "outputId": "65a3c66d-d5ac-408b-8092-df13ce5a98ff"
      },
      "source": [
        "# Install 'data.table' package\n",
        "install.packages('data.table')\n",
        "library(data.table)"
      ],
      "execution_count": 6,
      "outputs": [
        {
          "output_type": "stream",
          "text": [
            "Installing package into ‘/usr/local/lib/R/site-library’\n",
            "(as ‘lib’ is unspecified)\n",
            "\n"
          ],
          "name": "stderr"
        }
      ]
    },
    {
      "cell_type": "code",
      "metadata": {
        "id": "m3DbmHWvNGwx",
        "colab_type": "code",
        "colab": {
          "base_uri": "https://localhost:8080/",
          "height": 511
        },
        "outputId": "25909e1e-c561-4918-d5cb-0c981bfee97f"
      },
      "source": [
        "my <- fread(input = 'tour.csv', header = TRUE, sep = ',',\n",
        "               stringsAsFactors = TRUE, strip.white = TRUE,\n",
        "               na.strings = c('.', '?', 'NA'))\n",
        "str(my)"
      ],
      "execution_count": 10,
      "outputs": [
        {
          "output_type": "stream",
          "text": [
            "Classes ‘data.table’ and 'data.frame':\t13841 obs. of  24 variables:\n",
            " $ id      : int  584 840 524 282 562 722 128 209 566 514 ...\n",
            " $ month   : int  3 11 6 2 8 2 4 5 12 3 ...\n",
            " $ gender  : int  2 1 1 1 1 2 2 2 2 2 ...\n",
            " $ edu     : int  1 2 3 2 3 3 2 2 3 2 ...\n",
            " $ job     : int  8 2 8 8 6 12 5 5 9 4 ...\n",
            " $ age     : int  0 3 1 1 2 1 1 1 1 1 ...\n",
            " $ nat     : int  1 4 13 9 9 8 9 NA NA 3 ...\n",
            " $ other   : int  NA 1 NA NA 1 NA NA NA NA 1 ...\n",
            " $ decision: int  1 5 4 2 2 12 6 6 5 1 ...\n",
            " $ object  : int  8 1 7 5 1 1 1 1 5 1 ...\n",
            " $ count   : int  1 18 1 2 1 2 1 1 1 4 ...\n",
            " $ member  : int  3 2 1 1 1 3 2 2 2 2 ...\n",
            " $ number  : int  2 4 1 1 1 2 9 2 2 2 ...\n",
            " $ period  : int  3 7 21 7 7 37 7 8 21 4 ...\n",
            " $ accom   : int  1 1 3 4 2 2 2 2 2 1 ...\n",
            " $ expense : num  481 647 561 509 409 ...\n",
            " $ card    : num  0 323 0 0 0 ...\n",
            " $ cash    : num  481 323 561 509 409 ...\n",
            " $ activity: int  19 18 22 1 17 11 21 22 1 1 ...\n",
            " $ overal  : int  5 5 4 5 4 5 5 5 4 5 ...\n",
            " $ bf_img  : int  5 3 3 5 4 5 4 4 3 4 ...\n",
            " $ af_img  : int  5 4 4 5 4 5 5 4 5 4 ...\n",
            " $ revisit : int  5 4 3 5 4 4 5 5 4 4 ...\n",
            " $ recom   : int  5 4 3 5 4 5 5 5 3 4 ...\n",
            " - attr(*, \".internal.selfref\")=<externalptr> \n"
          ],
          "name": "stdout"
        }
      ]
    },
    {
      "cell_type": "markdown",
      "metadata": {
        "id": "z07go4e9OPVC",
        "colab_type": "text"
      },
      "source": [
        "## **Exploring DataFrame**"
      ]
    },
    {
      "cell_type": "code",
      "metadata": {
        "id": "YPMLhdVZOUT6",
        "colab_type": "code",
        "colab": {
          "base_uri": "https://localhost:8080/",
          "height": 740
        },
        "outputId": "aea317a6-f16c-4436-b30b-48887c376e32"
      },
      "source": [
        "# install libraries that give statistical analysis\n",
        "install.packages(c('psych', 'Hmisc', 'skimr'))\n",
        "library(psych)\n",
        "library(Hmisc)\n",
        "library(skimr)"
      ],
      "execution_count": 23,
      "outputs": [
        {
          "output_type": "stream",
          "text": [
            "Installing packages into ‘/usr/local/lib/R/site-library’\n",
            "(as ‘lib’ is unspecified)\n",
            "\n",
            "also installing the dependencies ‘png’, ‘jpeg’, ‘checkmate’, ‘Formula’, ‘latticeExtra’, ‘acepack’, ‘gridExtra’, ‘htmlTable’, ‘viridis’\n",
            "\n",
            "\n",
            "Loading required package: lattice\n",
            "\n",
            "Loading required package: survival\n",
            "\n",
            "Loading required package: Formula\n",
            "\n",
            "Loading required package: ggplot2\n",
            "\n",
            "\n",
            "Attaching package: ‘ggplot2’\n",
            "\n",
            "\n",
            "The following objects are masked from ‘package:psych’:\n",
            "\n",
            "    %+%, alpha\n",
            "\n",
            "\n",
            "\n",
            "Attaching package: ‘Hmisc’\n",
            "\n",
            "\n",
            "The following object is masked from ‘package:psych’:\n",
            "\n",
            "    describe\n",
            "\n",
            "\n",
            "The following objects are masked from ‘package:base’:\n",
            "\n",
            "    format.pval, units\n",
            "\n",
            "\n"
          ],
          "name": "stderr"
        }
      ]
    },
    {
      "cell_type": "code",
      "metadata": {
        "id": "hCMkH9JoOtRR",
        "colab_type": "code",
        "colab": {
          "base_uri": "https://localhost:8080/",
          "height": 329
        },
        "outputId": "f7af1b89-ba41-4058-bc30-b3a2b32af838"
      },
      "source": [
        "headTail(my, 5, 5)"
      ],
      "execution_count": 13,
      "outputs": [
        {
          "output_type": "display_data",
          "data": {
            "text/plain": [
              "   id   month gender edu job age nat other decision object ⋯ accom expense\n",
              "1  584  3     2      1   8   0   1   NA    1        8      ⋯ 1     480.98 \n",
              "2  840  11    1      2   2   3   4   1     5        1      ⋯ 1     646.89 \n",
              "3  524  6     1      3   8   1   13  NA    4        7      ⋯ 3     560.65 \n",
              "4  282  2     1      2   8   1   9   NA    2        5      ⋯ 4     509.23 \n",
              "5  562  8     1      3   6   2   9   1     2        1      ⋯ 2     409    \n",
              "6  ...  ...   ...    ... ... ... ... ...   ...      ...    ⋯ ...   ...    \n",
              "7  7003 12    2      2   3   2   1   NA    3        1      ⋯ 1     711.92 \n",
              "8  7004 12    2      1   7   4   1   NA    2        1      ⋯ 1     854.3  \n",
              "9  7005 12    1      1   7   4   1   NA    1        1      ⋯ 2     311.46 \n",
              "10 7006 12    2      1   9   4   1   NA    2        1      ⋯ 1     649.63 \n",
              "11 7007 12    2      2   3   3   1   NA    2        1      ⋯ 1     783.11 \n",
              "   card   cash   activity overal bf_img af_img revisit recom\n",
              "1  0      480.98 19       5      5      5      5       5    \n",
              "2  323.44 323.44 18       5      3      4      4       4    \n",
              "3  0      560.65 22       4      3      4      3       3    \n",
              "4  0      509.23 1        5      5      5      5       5    \n",
              "5  0      409    17       4      4      4      4       4    \n",
              "6  ...    ...    ...      ...    ...    ...    ...     ...  \n",
              "7  133.49 578.43 18       4      3      4      4       4    \n",
              "8  177.98 676.32 18       4      4      4      4       4    \n",
              "9  0      311.46 18       4      4      4      4       4    \n",
              "10 0      649.63 2        5      4      5      5       5    \n",
              "11 0      783.11 7        4      4      4      4       4    "
            ],
            "text/latex": "A data.frame: 11 × 24\n\\begin{tabular}{lllllllllllllllllllll}\n id & month & gender & edu & job & age & nat & other & decision & object & ⋯ & accom & expense & card & cash & activity & overal & bf\\_img & af\\_img & revisit & recom\\\\\n <chr> & <chr> & <chr> & <chr> & <chr> & <chr> & <chr> & <chr> & <chr> & <chr> & ⋯ & <chr> & <chr> & <chr> & <chr> & <chr> & <chr> & <chr> & <chr> & <chr> & <chr>\\\\\n\\hline\n\t 584  & 3   & 2   & 1   & 8   & 0   & 1   & NA  & 1   & 8   & ⋯ & 1   & 480.98 & 0      & 480.98 & 19  & 5   & 5   & 5   & 5   & 5  \\\\\n\t 840  & 11  & 1   & 2   & 2   & 3   & 4   & 1   & 5   & 1   & ⋯ & 1   & 646.89 & 323.44 & 323.44 & 18  & 5   & 3   & 4   & 4   & 4  \\\\\n\t 524  & 6   & 1   & 3   & 8   & 1   & 13  & NA  & 4   & 7   & ⋯ & 3   & 560.65 & 0      & 560.65 & 22  & 4   & 3   & 4   & 3   & 3  \\\\\n\t 282  & 2   & 1   & 2   & 8   & 1   & 9   & NA  & 2   & 5   & ⋯ & 4   & 509.23 & 0      & 509.23 & 1   & 5   & 5   & 5   & 5   & 5  \\\\\n\t 562  & 8   & 1   & 3   & 6   & 2   & 9   & 1   & 2   & 1   & ⋯ & 2   & 409    & 0      & 409    & 17  & 4   & 4   & 4   & 4   & 4  \\\\\n\t ...  & ... & ... & ... & ... & ... & ... & ... & ... & ... & ⋯ & ... & ...    & ...    & ...    & ... & ... & ... & ... & ... & ...\\\\\n\t 7003 & 12  & 2   & 2   & 3   & 2   & 1   & NA  & 3   & 1   & ⋯ & 1   & 711.92 & 133.49 & 578.43 & 18  & 4   & 3   & 4   & 4   & 4  \\\\\n\t 7004 & 12  & 2   & 1   & 7   & 4   & 1   & NA  & 2   & 1   & ⋯ & 1   & 854.3  & 177.98 & 676.32 & 18  & 4   & 4   & 4   & 4   & 4  \\\\\n\t 7005 & 12  & 1   & 1   & 7   & 4   & 1   & NA  & 1   & 1   & ⋯ & 2   & 311.46 & 0      & 311.46 & 18  & 4   & 4   & 4   & 4   & 4  \\\\\n\t 7006 & 12  & 2   & 1   & 9   & 4   & 1   & NA  & 2   & 1   & ⋯ & 1   & 649.63 & 0      & 649.63 & 2   & 5   & 4   & 5   & 5   & 5  \\\\\n\t 7007 & 12  & 2   & 2   & 3   & 3   & 1   & NA  & 2   & 1   & ⋯ & 1   & 783.11 & 0      & 783.11 & 7   & 4   & 4   & 4   & 4   & 4  \\\\\n\\end{tabular}\n",
            "text/markdown": "\nA data.frame: 11 × 24\n\n| id &lt;chr&gt; | month &lt;chr&gt; | gender &lt;chr&gt; | edu &lt;chr&gt; | job &lt;chr&gt; | age &lt;chr&gt; | nat &lt;chr&gt; | other &lt;chr&gt; | decision &lt;chr&gt; | object &lt;chr&gt; | ⋯ ⋯ | accom &lt;chr&gt; | expense &lt;chr&gt; | card &lt;chr&gt; | cash &lt;chr&gt; | activity &lt;chr&gt; | overal &lt;chr&gt; | bf_img &lt;chr&gt; | af_img &lt;chr&gt; | revisit &lt;chr&gt; | recom &lt;chr&gt; |\n|---|---|---|---|---|---|---|---|---|---|---|---|---|---|---|---|---|---|---|---|---|\n| 584  | 3   | 2   | 1   | 8   | 0   | 1   | NA  | 1   | 8   | ⋯ | 1   | 480.98 | 0      | 480.98 | 19  | 5   | 5   | 5   | 5   | 5   |\n| 840  | 11  | 1   | 2   | 2   | 3   | 4   | 1   | 5   | 1   | ⋯ | 1   | 646.89 | 323.44 | 323.44 | 18  | 5   | 3   | 4   | 4   | 4   |\n| 524  | 6   | 1   | 3   | 8   | 1   | 13  | NA  | 4   | 7   | ⋯ | 3   | 560.65 | 0      | 560.65 | 22  | 4   | 3   | 4   | 3   | 3   |\n| 282  | 2   | 1   | 2   | 8   | 1   | 9   | NA  | 2   | 5   | ⋯ | 4   | 509.23 | 0      | 509.23 | 1   | 5   | 5   | 5   | 5   | 5   |\n| 562  | 8   | 1   | 3   | 6   | 2   | 9   | 1   | 2   | 1   | ⋯ | 2   | 409    | 0      | 409    | 17  | 4   | 4   | 4   | 4   | 4   |\n| ...  | ... | ... | ... | ... | ... | ... | ... | ... | ... | ⋯ | ... | ...    | ...    | ...    | ... | ... | ... | ... | ... | ... |\n| 7003 | 12  | 2   | 2   | 3   | 2   | 1   | NA  | 3   | 1   | ⋯ | 1   | 711.92 | 133.49 | 578.43 | 18  | 4   | 3   | 4   | 4   | 4   |\n| 7004 | 12  | 2   | 1   | 7   | 4   | 1   | NA  | 2   | 1   | ⋯ | 1   | 854.3  | 177.98 | 676.32 | 18  | 4   | 4   | 4   | 4   | 4   |\n| 7005 | 12  | 1   | 1   | 7   | 4   | 1   | NA  | 1   | 1   | ⋯ | 2   | 311.46 | 0      | 311.46 | 18  | 4   | 4   | 4   | 4   | 4   |\n| 7006 | 12  | 2   | 1   | 9   | 4   | 1   | NA  | 2   | 1   | ⋯ | 1   | 649.63 | 0      | 649.63 | 2   | 5   | 4   | 5   | 5   | 5   |\n| 7007 | 12  | 2   | 2   | 3   | 3   | 1   | NA  | 2   | 1   | ⋯ | 1   | 783.11 | 0      | 783.11 | 7   | 4   | 4   | 4   | 4   | 4   |\n\n",
            "text/html": [
              "<table>\n",
              "<caption>A data.frame: 11 × 24</caption>\n",
              "<thead>\n",
              "\t<tr><th scope=col>id</th><th scope=col>month</th><th scope=col>gender</th><th scope=col>edu</th><th scope=col>job</th><th scope=col>age</th><th scope=col>nat</th><th scope=col>other</th><th scope=col>decision</th><th scope=col>object</th><th scope=col>⋯</th><th scope=col>accom</th><th scope=col>expense</th><th scope=col>card</th><th scope=col>cash</th><th scope=col>activity</th><th scope=col>overal</th><th scope=col>bf_img</th><th scope=col>af_img</th><th scope=col>revisit</th><th scope=col>recom</th></tr>\n",
              "\t<tr><th scope=col>&lt;chr&gt;</th><th scope=col>&lt;chr&gt;</th><th scope=col>&lt;chr&gt;</th><th scope=col>&lt;chr&gt;</th><th scope=col>&lt;chr&gt;</th><th scope=col>&lt;chr&gt;</th><th scope=col>&lt;chr&gt;</th><th scope=col>&lt;chr&gt;</th><th scope=col>&lt;chr&gt;</th><th scope=col>&lt;chr&gt;</th><th scope=col>⋯</th><th scope=col>&lt;chr&gt;</th><th scope=col>&lt;chr&gt;</th><th scope=col>&lt;chr&gt;</th><th scope=col>&lt;chr&gt;</th><th scope=col>&lt;chr&gt;</th><th scope=col>&lt;chr&gt;</th><th scope=col>&lt;chr&gt;</th><th scope=col>&lt;chr&gt;</th><th scope=col>&lt;chr&gt;</th><th scope=col>&lt;chr&gt;</th></tr>\n",
              "</thead>\n",
              "<tbody>\n",
              "\t<tr><td>584 </td><td>3  </td><td>2  </td><td>1  </td><td>8  </td><td>0  </td><td>1  </td><td>NA </td><td>1  </td><td>8  </td><td>⋯</td><td>1  </td><td>480.98</td><td>0     </td><td>480.98</td><td>19 </td><td>5  </td><td>5  </td><td>5  </td><td>5  </td><td>5  </td></tr>\n",
              "\t<tr><td>840 </td><td>11 </td><td>1  </td><td>2  </td><td>2  </td><td>3  </td><td>4  </td><td>1  </td><td>5  </td><td>1  </td><td>⋯</td><td>1  </td><td>646.89</td><td>323.44</td><td>323.44</td><td>18 </td><td>5  </td><td>3  </td><td>4  </td><td>4  </td><td>4  </td></tr>\n",
              "\t<tr><td>524 </td><td>6  </td><td>1  </td><td>3  </td><td>8  </td><td>1  </td><td>13 </td><td>NA </td><td>4  </td><td>7  </td><td>⋯</td><td>3  </td><td>560.65</td><td>0     </td><td>560.65</td><td>22 </td><td>4  </td><td>3  </td><td>4  </td><td>3  </td><td>3  </td></tr>\n",
              "\t<tr><td>282 </td><td>2  </td><td>1  </td><td>2  </td><td>8  </td><td>1  </td><td>9  </td><td>NA </td><td>2  </td><td>5  </td><td>⋯</td><td>4  </td><td>509.23</td><td>0     </td><td>509.23</td><td>1  </td><td>5  </td><td>5  </td><td>5  </td><td>5  </td><td>5  </td></tr>\n",
              "\t<tr><td>562 </td><td>8  </td><td>1  </td><td>3  </td><td>6  </td><td>2  </td><td>9  </td><td>1  </td><td>2  </td><td>1  </td><td>⋯</td><td>2  </td><td>409   </td><td>0     </td><td>409   </td><td>17 </td><td>4  </td><td>4  </td><td>4  </td><td>4  </td><td>4  </td></tr>\n",
              "\t<tr><td>... </td><td>...</td><td>...</td><td>...</td><td>...</td><td>...</td><td>...</td><td>...</td><td>...</td><td>...</td><td>⋯</td><td>...</td><td>...   </td><td>...   </td><td>...   </td><td>...</td><td>...</td><td>...</td><td>...</td><td>...</td><td>...</td></tr>\n",
              "\t<tr><td>7003</td><td>12 </td><td>2  </td><td>2  </td><td>3  </td><td>2  </td><td>1  </td><td>NA </td><td>3  </td><td>1  </td><td>⋯</td><td>1  </td><td>711.92</td><td>133.49</td><td>578.43</td><td>18 </td><td>4  </td><td>3  </td><td>4  </td><td>4  </td><td>4  </td></tr>\n",
              "\t<tr><td>7004</td><td>12 </td><td>2  </td><td>1  </td><td>7  </td><td>4  </td><td>1  </td><td>NA </td><td>2  </td><td>1  </td><td>⋯</td><td>1  </td><td>854.3 </td><td>177.98</td><td>676.32</td><td>18 </td><td>4  </td><td>4  </td><td>4  </td><td>4  </td><td>4  </td></tr>\n",
              "\t<tr><td>7005</td><td>12 </td><td>1  </td><td>1  </td><td>7  </td><td>4  </td><td>1  </td><td>NA </td><td>1  </td><td>1  </td><td>⋯</td><td>2  </td><td>311.46</td><td>0     </td><td>311.46</td><td>18 </td><td>4  </td><td>4  </td><td>4  </td><td>4  </td><td>4  </td></tr>\n",
              "\t<tr><td>7006</td><td>12 </td><td>2  </td><td>1  </td><td>9  </td><td>4  </td><td>1  </td><td>NA </td><td>2  </td><td>1  </td><td>⋯</td><td>1  </td><td>649.63</td><td>0     </td><td>649.63</td><td>2  </td><td>5  </td><td>4  </td><td>5  </td><td>5  </td><td>5  </td></tr>\n",
              "\t<tr><td>7007</td><td>12 </td><td>2  </td><td>2  </td><td>3  </td><td>3  </td><td>1  </td><td>NA </td><td>2  </td><td>1  </td><td>⋯</td><td>1  </td><td>783.11</td><td>0     </td><td>783.11</td><td>7  </td><td>4  </td><td>4  </td><td>4  </td><td>4  </td><td>4  </td></tr>\n",
              "</tbody>\n",
              "</table>\n"
            ]
          },
          "metadata": {
            "tags": []
          }
        }
      ]
    },
    {
      "cell_type": "code",
      "metadata": {
        "id": "bd5EptPYPEqv",
        "colab_type": "code",
        "colab": {
          "base_uri": "https://localhost:8080/",
          "height": 102
        },
        "outputId": "454cb60c-8951-4a3c-b61d-38f403944f89"
      },
      "source": [
        "# See dimension of a dataset\n",
        "dim(my)\n",
        "\n",
        "sprintf('There are %d records and %d columns', dim(my)[1], dim(my)[2])\n",
        "colnames(my)"
      ],
      "execution_count": 18,
      "outputs": [
        {
          "output_type": "display_data",
          "data": {
            "text/plain": [
              "[1] 13841    24"
            ],
            "text/latex": "\\begin{enumerate*}\n\\item 13841\n\\item 24\n\\end{enumerate*}\n",
            "text/markdown": "1. 13841\n2. 24\n\n\n",
            "text/html": [
              "<style>\n",
              ".list-inline {list-style: none; margin:0; padding: 0}\n",
              ".list-inline>li {display: inline-block}\n",
              ".list-inline>li:not(:last-child)::after {content: \"\\00b7\"; padding: 0 .5ex}\n",
              "</style>\n",
              "<ol class=list-inline><li>13841</li><li>24</li></ol>\n"
            ]
          },
          "metadata": {
            "tags": []
          }
        },
        {
          "output_type": "display_data",
          "data": {
            "text/plain": [
              "[1] \"There are 13841 records and 24 columns\""
            ],
            "text/latex": "'There are 13841 records and 24 columns'",
            "text/markdown": "'There are 13841 records and 24 columns'",
            "text/html": [
              "'There are 13841 records and 24 columns'"
            ]
          },
          "metadata": {
            "tags": []
          }
        },
        {
          "output_type": "display_data",
          "data": {
            "text/plain": [
              " [1] \"id\"       \"month\"    \"gender\"   \"edu\"      \"job\"      \"age\"     \n",
              " [7] \"nat\"      \"other\"    \"decision\" \"object\"   \"count\"    \"member\"  \n",
              "[13] \"number\"   \"period\"   \"accom\"    \"expense\"  \"card\"     \"cash\"    \n",
              "[19] \"activity\" \"overal\"   \"bf_img\"   \"af_img\"   \"revisit\"  \"recom\"   "
            ],
            "text/latex": "\\begin{enumerate*}\n\\item 'id'\n\\item 'month'\n\\item 'gender'\n\\item 'edu'\n\\item 'job'\n\\item 'age'\n\\item 'nat'\n\\item 'other'\n\\item 'decision'\n\\item 'object'\n\\item 'count'\n\\item 'member'\n\\item 'number'\n\\item 'period'\n\\item 'accom'\n\\item 'expense'\n\\item 'card'\n\\item 'cash'\n\\item 'activity'\n\\item 'overal'\n\\item 'bf\\_img'\n\\item 'af\\_img'\n\\item 'revisit'\n\\item 'recom'\n\\end{enumerate*}\n",
            "text/markdown": "1. 'id'\n2. 'month'\n3. 'gender'\n4. 'edu'\n5. 'job'\n6. 'age'\n7. 'nat'\n8. 'other'\n9. 'decision'\n10. 'object'\n11. 'count'\n12. 'member'\n13. 'number'\n14. 'period'\n15. 'accom'\n16. 'expense'\n17. 'card'\n18. 'cash'\n19. 'activity'\n20. 'overal'\n21. 'bf_img'\n22. 'af_img'\n23. 'revisit'\n24. 'recom'\n\n\n",
            "text/html": [
              "<style>\n",
              ".list-inline {list-style: none; margin:0; padding: 0}\n",
              ".list-inline>li {display: inline-block}\n",
              ".list-inline>li:not(:last-child)::after {content: \"\\00b7\"; padding: 0 .5ex}\n",
              "</style>\n",
              "<ol class=list-inline><li>'id'</li><li>'month'</li><li>'gender'</li><li>'edu'</li><li>'job'</li><li>'age'</li><li>'nat'</li><li>'other'</li><li>'decision'</li><li>'object'</li><li>'count'</li><li>'member'</li><li>'number'</li><li>'period'</li><li>'accom'</li><li>'expense'</li><li>'card'</li><li>'cash'</li><li>'activity'</li><li>'overal'</li><li>'bf_img'</li><li>'af_img'</li><li>'revisit'</li><li>'recom'</li></ol>\n"
            ]
          },
          "metadata": {
            "tags": []
          }
        }
      ]
    },
    {
      "cell_type": "code",
      "metadata": {
        "id": "G7vHmcLoP7Hc",
        "colab_type": "code",
        "colab": {
          "base_uri": "https://localhost:8080/",
          "height": 1000
        },
        "outputId": "f918a3a5-55fb-40af-cc34-5ec6aca38dd0"
      },
      "source": [
        "# summary(): Show summary\n",
        "sprintf('Using psych'); psych::describe(my)\n",
        "sprintf('Using Hmisc'); Hmisc::describe(my)\n",
        "sprintf('Using skimr'); skimr::skim(my)"
      ],
      "execution_count": 25,
      "outputs": [
        {
          "output_type": "display_data",
          "data": {
            "text/plain": [
              "[1] \"Using psych\""
            ],
            "text/latex": "'Using psych'",
            "text/markdown": "'Using psych'",
            "text/html": [
              "'Using psych'"
            ]
          },
          "metadata": {
            "tags": []
          }
        },
        {
          "output_type": "display_data",
          "data": {
            "text/plain": [
              "         vars n     mean        sd           median  trimmed     mad     \n",
              "id        1   13841  689.287262 6.203003e+02  587.00  604.273368 444.7800\n",
              "month     2   13841    6.465790 3.451753e+00    6.00    6.461483   4.4478\n",
              "gender    3   13841    1.518098 4.996904e-01    2.00    1.522623   0.0000\n",
              "edu       4   13701    2.094446 6.510961e-01    2.00    2.091233   0.0000\n",
              "job       5   13789    5.344695 2.985273e+00    5.00    5.108493   2.9652\n",
              "age       6   13824    1.906322 1.211417e+00    2.00    1.802351   1.4826\n",
              "nat       7   13501    7.305014 5.713713e+00    6.00    6.743727   5.9304\n",
              "other     8    1112    4.053957 5.251271e+00    1.00    2.686517   0.0000\n",
              "decision  9   13841    3.356260 3.536150e+00    2.00    2.648334   1.4826\n",
              "object   10   13841    3.198252 2.352498e+00    1.00    3.043168   0.0000\n",
              "count    11   13837    3.608152 8.629460e+00    1.00    2.064673   0.0000\n",
              "member   12   13841    2.086843 9.955687e-01    2.00    1.986544   1.4826\n",
              "number   13   13841    2.980276 5.825247e+00    2.00    2.104940   1.4826\n",
              "period   14   13841   14.728488 3.453877e+01    5.00    6.529847   2.9652\n",
              "accom    15   13782    1.704470 1.320640e+00    1.00    1.386541   0.0000\n",
              "expense  16   13841 4733.141670 1.282897e+05 1015.68 1212.343500 757.2824\n",
              "card     17   13841 1939.344475 5.398629e+04  300.00  451.808343 444.7800\n",
              "cash     18   13841 2793.797195 7.920864e+04  500.00  586.393481 514.1657\n",
              "activity 19   13841    9.198685 7.679705e+00    7.00    8.804389   8.8956\n",
              "overal   20   13841    4.408063 5.902177e-01    4.00    4.448117   1.4826\n",
              "bf_img   21   13841    4.044939 6.802354e-01    4.00    4.065475   0.0000\n",
              "af_img   22   13841    4.378080 6.226986e-01    4.00    4.436919   1.4826\n",
              "revisit  23   13841    4.236110 7.796357e-01    4.00    4.337397   1.4826\n",
              "recom    24   13841    4.326349 6.632858e-01    4.00    4.408110   1.4826\n",
              "         min    max      range    skew        kurtosis      se          \n",
              "id       1.0000     7007     7006  3.60908323   24.15369794 5.272520e+00\n",
              "month    1.0000       12       11  0.00930144   -1.21587429 2.933972e-02\n",
              "gender   1.0000        2        1 -0.07243323   -1.99489754 4.247342e-03\n",
              "edu      1.0000        4        3  0.37044063    0.49957781 5.562486e-03\n",
              "job      1.0000       17       16  0.57914427   -0.29535301 2.542247e-02\n",
              "age      0.0000        5        5  0.68950068   -0.18717877 1.030331e-02\n",
              "nat      1.0000       19       18  0.64142506   -0.90788943 4.917399e-02\n",
              "other    1.0000       20       19  1.97428473    2.85126748 1.574751e-01\n",
              "decision 1.0000       72       71  4.41993083   43.34800504 3.005709e-02\n",
              "object   1.0000        8        7  0.28887587   -1.67408802 1.999611e-02\n",
              "count    1.0000      300      299 12.60964799  255.43649789 7.336056e-02\n",
              "member   1.0000        5        4  0.44026667   -0.90578207 8.462282e-03\n",
              "number   1.0000      301      300 20.63723038  794.96984279 4.951429e-02\n",
              "period   1.0000      365      364  5.31367479   33.37589484 2.935778e-01\n",
              "accom    1.0000        8        7  2.38872007    6.04770317 1.124937e-02\n",
              "expense  0.1013 13550000 13550000 88.40007573 9044.12567631 1.090456e+03\n",
              "card     0.0000  5550000  5550000 84.46468449 8239.37941505 4.588807e+02\n",
              "cash     0.0000  8000000  8000000 80.31811120 7655.70495959 6.732693e+02\n",
              "activity 1.0000       23       22  0.20437058   -1.66386363 6.527709e-02\n",
              "overal   1.0000        5        4 -0.52098299    0.03001572 5.016820e-03\n",
              "bf_img   1.0000        5        4 -0.21407406   -0.28496709 5.781966e-03\n",
              "af_img   1.0000        5        4 -0.61578558    0.21944082 5.292906e-03\n",
              "revisit  1.0000        5        4 -0.98686733    1.15051531 6.626863e-03\n",
              "recom    1.0000        5        4 -0.70101780    0.49354194 5.637894e-03"
            ],
            "text/latex": "A psych: 24 × 13\n\\begin{tabular}{r|lllllllllllll}\n  & vars & n & mean & sd & median & trimmed & mad & min & max & range & skew & kurtosis & se\\\\\n  & <int> & <dbl> & <dbl> & <dbl> & <dbl> & <dbl> & <dbl> & <dbl> & <dbl> & <dbl> & <dbl> & <dbl> & <dbl>\\\\\n\\hline\n\tid &  1 & 13841 &  689.287262 & 6.203003e+02 &  587.00 &  604.273368 & 444.7800 & 1.0000 &     7007 &     7006 &  3.60908323 &   24.15369794 & 5.272520e+00\\\\\n\tmonth &  2 & 13841 &    6.465790 & 3.451753e+00 &    6.00 &    6.461483 &   4.4478 & 1.0000 &       12 &       11 &  0.00930144 &   -1.21587429 & 2.933972e-02\\\\\n\tgender &  3 & 13841 &    1.518098 & 4.996904e-01 &    2.00 &    1.522623 &   0.0000 & 1.0000 &        2 &        1 & -0.07243323 &   -1.99489754 & 4.247342e-03\\\\\n\tedu &  4 & 13701 &    2.094446 & 6.510961e-01 &    2.00 &    2.091233 &   0.0000 & 1.0000 &        4 &        3 &  0.37044063 &    0.49957781 & 5.562486e-03\\\\\n\tjob &  5 & 13789 &    5.344695 & 2.985273e+00 &    5.00 &    5.108493 &   2.9652 & 1.0000 &       17 &       16 &  0.57914427 &   -0.29535301 & 2.542247e-02\\\\\n\tage &  6 & 13824 &    1.906322 & 1.211417e+00 &    2.00 &    1.802351 &   1.4826 & 0.0000 &        5 &        5 &  0.68950068 &   -0.18717877 & 1.030331e-02\\\\\n\tnat &  7 & 13501 &    7.305014 & 5.713713e+00 &    6.00 &    6.743727 &   5.9304 & 1.0000 &       19 &       18 &  0.64142506 &   -0.90788943 & 4.917399e-02\\\\\n\tother &  8 &  1112 &    4.053957 & 5.251271e+00 &    1.00 &    2.686517 &   0.0000 & 1.0000 &       20 &       19 &  1.97428473 &    2.85126748 & 1.574751e-01\\\\\n\tdecision &  9 & 13841 &    3.356260 & 3.536150e+00 &    2.00 &    2.648334 &   1.4826 & 1.0000 &       72 &       71 &  4.41993083 &   43.34800504 & 3.005709e-02\\\\\n\tobject & 10 & 13841 &    3.198252 & 2.352498e+00 &    1.00 &    3.043168 &   0.0000 & 1.0000 &        8 &        7 &  0.28887587 &   -1.67408802 & 1.999611e-02\\\\\n\tcount & 11 & 13837 &    3.608152 & 8.629460e+00 &    1.00 &    2.064673 &   0.0000 & 1.0000 &      300 &      299 & 12.60964799 &  255.43649789 & 7.336056e-02\\\\\n\tmember & 12 & 13841 &    2.086843 & 9.955687e-01 &    2.00 &    1.986544 &   1.4826 & 1.0000 &        5 &        4 &  0.44026667 &   -0.90578207 & 8.462282e-03\\\\\n\tnumber & 13 & 13841 &    2.980276 & 5.825247e+00 &    2.00 &    2.104940 &   1.4826 & 1.0000 &      301 &      300 & 20.63723038 &  794.96984279 & 4.951429e-02\\\\\n\tperiod & 14 & 13841 &   14.728488 & 3.453877e+01 &    5.00 &    6.529847 &   2.9652 & 1.0000 &      365 &      364 &  5.31367479 &   33.37589484 & 2.935778e-01\\\\\n\taccom & 15 & 13782 &    1.704470 & 1.320640e+00 &    1.00 &    1.386541 &   0.0000 & 1.0000 &        8 &        7 &  2.38872007 &    6.04770317 & 1.124937e-02\\\\\n\texpense & 16 & 13841 & 4733.141670 & 1.282897e+05 & 1015.68 & 1212.343500 & 757.2824 & 0.1013 & 13550000 & 13550000 & 88.40007573 & 9044.12567631 & 1.090456e+03\\\\\n\tcard & 17 & 13841 & 1939.344475 & 5.398629e+04 &  300.00 &  451.808343 & 444.7800 & 0.0000 &  5550000 &  5550000 & 84.46468449 & 8239.37941505 & 4.588807e+02\\\\\n\tcash & 18 & 13841 & 2793.797195 & 7.920864e+04 &  500.00 &  586.393481 & 514.1657 & 0.0000 &  8000000 &  8000000 & 80.31811120 & 7655.70495959 & 6.732693e+02\\\\\n\tactivity & 19 & 13841 &    9.198685 & 7.679705e+00 &    7.00 &    8.804389 &   8.8956 & 1.0000 &       23 &       22 &  0.20437058 &   -1.66386363 & 6.527709e-02\\\\\n\toveral & 20 & 13841 &    4.408063 & 5.902177e-01 &    4.00 &    4.448117 &   1.4826 & 1.0000 &        5 &        4 & -0.52098299 &    0.03001572 & 5.016820e-03\\\\\n\tbf\\_img & 21 & 13841 &    4.044939 & 6.802354e-01 &    4.00 &    4.065475 &   0.0000 & 1.0000 &        5 &        4 & -0.21407406 &   -0.28496709 & 5.781966e-03\\\\\n\taf\\_img & 22 & 13841 &    4.378080 & 6.226986e-01 &    4.00 &    4.436919 &   1.4826 & 1.0000 &        5 &        4 & -0.61578558 &    0.21944082 & 5.292906e-03\\\\\n\trevisit & 23 & 13841 &    4.236110 & 7.796357e-01 &    4.00 &    4.337397 &   1.4826 & 1.0000 &        5 &        4 & -0.98686733 &    1.15051531 & 6.626863e-03\\\\\n\trecom & 24 & 13841 &    4.326349 & 6.632858e-01 &    4.00 &    4.408110 &   1.4826 & 1.0000 &        5 &        4 & -0.70101780 &    0.49354194 & 5.637894e-03\\\\\n\\end{tabular}\n",
            "text/markdown": "\nA psych: 24 × 13\n\n| <!--/--> | vars &lt;int&gt; | n &lt;dbl&gt; | mean &lt;dbl&gt; | sd &lt;dbl&gt; | median &lt;dbl&gt; | trimmed &lt;dbl&gt; | mad &lt;dbl&gt; | min &lt;dbl&gt; | max &lt;dbl&gt; | range &lt;dbl&gt; | skew &lt;dbl&gt; | kurtosis &lt;dbl&gt; | se &lt;dbl&gt; |\n|---|---|---|---|---|---|---|---|---|---|---|---|---|---|\n| id |  1 | 13841 |  689.287262 | 6.203003e+02 |  587.00 |  604.273368 | 444.7800 | 1.0000 |     7007 |     7006 |  3.60908323 |   24.15369794 | 5.272520e+00 |\n| month |  2 | 13841 |    6.465790 | 3.451753e+00 |    6.00 |    6.461483 |   4.4478 | 1.0000 |       12 |       11 |  0.00930144 |   -1.21587429 | 2.933972e-02 |\n| gender |  3 | 13841 |    1.518098 | 4.996904e-01 |    2.00 |    1.522623 |   0.0000 | 1.0000 |        2 |        1 | -0.07243323 |   -1.99489754 | 4.247342e-03 |\n| edu |  4 | 13701 |    2.094446 | 6.510961e-01 |    2.00 |    2.091233 |   0.0000 | 1.0000 |        4 |        3 |  0.37044063 |    0.49957781 | 5.562486e-03 |\n| job |  5 | 13789 |    5.344695 | 2.985273e+00 |    5.00 |    5.108493 |   2.9652 | 1.0000 |       17 |       16 |  0.57914427 |   -0.29535301 | 2.542247e-02 |\n| age |  6 | 13824 |    1.906322 | 1.211417e+00 |    2.00 |    1.802351 |   1.4826 | 0.0000 |        5 |        5 |  0.68950068 |   -0.18717877 | 1.030331e-02 |\n| nat |  7 | 13501 |    7.305014 | 5.713713e+00 |    6.00 |    6.743727 |   5.9304 | 1.0000 |       19 |       18 |  0.64142506 |   -0.90788943 | 4.917399e-02 |\n| other |  8 |  1112 |    4.053957 | 5.251271e+00 |    1.00 |    2.686517 |   0.0000 | 1.0000 |       20 |       19 |  1.97428473 |    2.85126748 | 1.574751e-01 |\n| decision |  9 | 13841 |    3.356260 | 3.536150e+00 |    2.00 |    2.648334 |   1.4826 | 1.0000 |       72 |       71 |  4.41993083 |   43.34800504 | 3.005709e-02 |\n| object | 10 | 13841 |    3.198252 | 2.352498e+00 |    1.00 |    3.043168 |   0.0000 | 1.0000 |        8 |        7 |  0.28887587 |   -1.67408802 | 1.999611e-02 |\n| count | 11 | 13837 |    3.608152 | 8.629460e+00 |    1.00 |    2.064673 |   0.0000 | 1.0000 |      300 |      299 | 12.60964799 |  255.43649789 | 7.336056e-02 |\n| member | 12 | 13841 |    2.086843 | 9.955687e-01 |    2.00 |    1.986544 |   1.4826 | 1.0000 |        5 |        4 |  0.44026667 |   -0.90578207 | 8.462282e-03 |\n| number | 13 | 13841 |    2.980276 | 5.825247e+00 |    2.00 |    2.104940 |   1.4826 | 1.0000 |      301 |      300 | 20.63723038 |  794.96984279 | 4.951429e-02 |\n| period | 14 | 13841 |   14.728488 | 3.453877e+01 |    5.00 |    6.529847 |   2.9652 | 1.0000 |      365 |      364 |  5.31367479 |   33.37589484 | 2.935778e-01 |\n| accom | 15 | 13782 |    1.704470 | 1.320640e+00 |    1.00 |    1.386541 |   0.0000 | 1.0000 |        8 |        7 |  2.38872007 |    6.04770317 | 1.124937e-02 |\n| expense | 16 | 13841 | 4733.141670 | 1.282897e+05 | 1015.68 | 1212.343500 | 757.2824 | 0.1013 | 13550000 | 13550000 | 88.40007573 | 9044.12567631 | 1.090456e+03 |\n| card | 17 | 13841 | 1939.344475 | 5.398629e+04 |  300.00 |  451.808343 | 444.7800 | 0.0000 |  5550000 |  5550000 | 84.46468449 | 8239.37941505 | 4.588807e+02 |\n| cash | 18 | 13841 | 2793.797195 | 7.920864e+04 |  500.00 |  586.393481 | 514.1657 | 0.0000 |  8000000 |  8000000 | 80.31811120 | 7655.70495959 | 6.732693e+02 |\n| activity | 19 | 13841 |    9.198685 | 7.679705e+00 |    7.00 |    8.804389 |   8.8956 | 1.0000 |       23 |       22 |  0.20437058 |   -1.66386363 | 6.527709e-02 |\n| overal | 20 | 13841 |    4.408063 | 5.902177e-01 |    4.00 |    4.448117 |   1.4826 | 1.0000 |        5 |        4 | -0.52098299 |    0.03001572 | 5.016820e-03 |\n| bf_img | 21 | 13841 |    4.044939 | 6.802354e-01 |    4.00 |    4.065475 |   0.0000 | 1.0000 |        5 |        4 | -0.21407406 |   -0.28496709 | 5.781966e-03 |\n| af_img | 22 | 13841 |    4.378080 | 6.226986e-01 |    4.00 |    4.436919 |   1.4826 | 1.0000 |        5 |        4 | -0.61578558 |    0.21944082 | 5.292906e-03 |\n| revisit | 23 | 13841 |    4.236110 | 7.796357e-01 |    4.00 |    4.337397 |   1.4826 | 1.0000 |        5 |        4 | -0.98686733 |    1.15051531 | 6.626863e-03 |\n| recom | 24 | 13841 |    4.326349 | 6.632858e-01 |    4.00 |    4.408110 |   1.4826 | 1.0000 |        5 |        4 | -0.70101780 |    0.49354194 | 5.637894e-03 |\n\n",
            "text/html": [
              "<table>\n",
              "<caption>A psych: 24 × 13</caption>\n",
              "<thead>\n",
              "\t<tr><th></th><th scope=col>vars</th><th scope=col>n</th><th scope=col>mean</th><th scope=col>sd</th><th scope=col>median</th><th scope=col>trimmed</th><th scope=col>mad</th><th scope=col>min</th><th scope=col>max</th><th scope=col>range</th><th scope=col>skew</th><th scope=col>kurtosis</th><th scope=col>se</th></tr>\n",
              "\t<tr><th></th><th scope=col>&lt;int&gt;</th><th scope=col>&lt;dbl&gt;</th><th scope=col>&lt;dbl&gt;</th><th scope=col>&lt;dbl&gt;</th><th scope=col>&lt;dbl&gt;</th><th scope=col>&lt;dbl&gt;</th><th scope=col>&lt;dbl&gt;</th><th scope=col>&lt;dbl&gt;</th><th scope=col>&lt;dbl&gt;</th><th scope=col>&lt;dbl&gt;</th><th scope=col>&lt;dbl&gt;</th><th scope=col>&lt;dbl&gt;</th><th scope=col>&lt;dbl&gt;</th></tr>\n",
              "</thead>\n",
              "<tbody>\n",
              "\t<tr><th scope=row>id</th><td> 1</td><td>13841</td><td> 689.287262</td><td>6.203003e+02</td><td> 587.00</td><td> 604.273368</td><td>444.7800</td><td>1.0000</td><td>    7007</td><td>    7006</td><td> 3.60908323</td><td>  24.15369794</td><td>5.272520e+00</td></tr>\n",
              "\t<tr><th scope=row>month</th><td> 2</td><td>13841</td><td>   6.465790</td><td>3.451753e+00</td><td>   6.00</td><td>   6.461483</td><td>  4.4478</td><td>1.0000</td><td>      12</td><td>      11</td><td> 0.00930144</td><td>  -1.21587429</td><td>2.933972e-02</td></tr>\n",
              "\t<tr><th scope=row>gender</th><td> 3</td><td>13841</td><td>   1.518098</td><td>4.996904e-01</td><td>   2.00</td><td>   1.522623</td><td>  0.0000</td><td>1.0000</td><td>       2</td><td>       1</td><td>-0.07243323</td><td>  -1.99489754</td><td>4.247342e-03</td></tr>\n",
              "\t<tr><th scope=row>edu</th><td> 4</td><td>13701</td><td>   2.094446</td><td>6.510961e-01</td><td>   2.00</td><td>   2.091233</td><td>  0.0000</td><td>1.0000</td><td>       4</td><td>       3</td><td> 0.37044063</td><td>   0.49957781</td><td>5.562486e-03</td></tr>\n",
              "\t<tr><th scope=row>job</th><td> 5</td><td>13789</td><td>   5.344695</td><td>2.985273e+00</td><td>   5.00</td><td>   5.108493</td><td>  2.9652</td><td>1.0000</td><td>      17</td><td>      16</td><td> 0.57914427</td><td>  -0.29535301</td><td>2.542247e-02</td></tr>\n",
              "\t<tr><th scope=row>age</th><td> 6</td><td>13824</td><td>   1.906322</td><td>1.211417e+00</td><td>   2.00</td><td>   1.802351</td><td>  1.4826</td><td>0.0000</td><td>       5</td><td>       5</td><td> 0.68950068</td><td>  -0.18717877</td><td>1.030331e-02</td></tr>\n",
              "\t<tr><th scope=row>nat</th><td> 7</td><td>13501</td><td>   7.305014</td><td>5.713713e+00</td><td>   6.00</td><td>   6.743727</td><td>  5.9304</td><td>1.0000</td><td>      19</td><td>      18</td><td> 0.64142506</td><td>  -0.90788943</td><td>4.917399e-02</td></tr>\n",
              "\t<tr><th scope=row>other</th><td> 8</td><td> 1112</td><td>   4.053957</td><td>5.251271e+00</td><td>   1.00</td><td>   2.686517</td><td>  0.0000</td><td>1.0000</td><td>      20</td><td>      19</td><td> 1.97428473</td><td>   2.85126748</td><td>1.574751e-01</td></tr>\n",
              "\t<tr><th scope=row>decision</th><td> 9</td><td>13841</td><td>   3.356260</td><td>3.536150e+00</td><td>   2.00</td><td>   2.648334</td><td>  1.4826</td><td>1.0000</td><td>      72</td><td>      71</td><td> 4.41993083</td><td>  43.34800504</td><td>3.005709e-02</td></tr>\n",
              "\t<tr><th scope=row>object</th><td>10</td><td>13841</td><td>   3.198252</td><td>2.352498e+00</td><td>   1.00</td><td>   3.043168</td><td>  0.0000</td><td>1.0000</td><td>       8</td><td>       7</td><td> 0.28887587</td><td>  -1.67408802</td><td>1.999611e-02</td></tr>\n",
              "\t<tr><th scope=row>count</th><td>11</td><td>13837</td><td>   3.608152</td><td>8.629460e+00</td><td>   1.00</td><td>   2.064673</td><td>  0.0000</td><td>1.0000</td><td>     300</td><td>     299</td><td>12.60964799</td><td> 255.43649789</td><td>7.336056e-02</td></tr>\n",
              "\t<tr><th scope=row>member</th><td>12</td><td>13841</td><td>   2.086843</td><td>9.955687e-01</td><td>   2.00</td><td>   1.986544</td><td>  1.4826</td><td>1.0000</td><td>       5</td><td>       4</td><td> 0.44026667</td><td>  -0.90578207</td><td>8.462282e-03</td></tr>\n",
              "\t<tr><th scope=row>number</th><td>13</td><td>13841</td><td>   2.980276</td><td>5.825247e+00</td><td>   2.00</td><td>   2.104940</td><td>  1.4826</td><td>1.0000</td><td>     301</td><td>     300</td><td>20.63723038</td><td> 794.96984279</td><td>4.951429e-02</td></tr>\n",
              "\t<tr><th scope=row>period</th><td>14</td><td>13841</td><td>  14.728488</td><td>3.453877e+01</td><td>   5.00</td><td>   6.529847</td><td>  2.9652</td><td>1.0000</td><td>     365</td><td>     364</td><td> 5.31367479</td><td>  33.37589484</td><td>2.935778e-01</td></tr>\n",
              "\t<tr><th scope=row>accom</th><td>15</td><td>13782</td><td>   1.704470</td><td>1.320640e+00</td><td>   1.00</td><td>   1.386541</td><td>  0.0000</td><td>1.0000</td><td>       8</td><td>       7</td><td> 2.38872007</td><td>   6.04770317</td><td>1.124937e-02</td></tr>\n",
              "\t<tr><th scope=row>expense</th><td>16</td><td>13841</td><td>4733.141670</td><td>1.282897e+05</td><td>1015.68</td><td>1212.343500</td><td>757.2824</td><td>0.1013</td><td>13550000</td><td>13550000</td><td>88.40007573</td><td>9044.12567631</td><td>1.090456e+03</td></tr>\n",
              "\t<tr><th scope=row>card</th><td>17</td><td>13841</td><td>1939.344475</td><td>5.398629e+04</td><td> 300.00</td><td> 451.808343</td><td>444.7800</td><td>0.0000</td><td> 5550000</td><td> 5550000</td><td>84.46468449</td><td>8239.37941505</td><td>4.588807e+02</td></tr>\n",
              "\t<tr><th scope=row>cash</th><td>18</td><td>13841</td><td>2793.797195</td><td>7.920864e+04</td><td> 500.00</td><td> 586.393481</td><td>514.1657</td><td>0.0000</td><td> 8000000</td><td> 8000000</td><td>80.31811120</td><td>7655.70495959</td><td>6.732693e+02</td></tr>\n",
              "\t<tr><th scope=row>activity</th><td>19</td><td>13841</td><td>   9.198685</td><td>7.679705e+00</td><td>   7.00</td><td>   8.804389</td><td>  8.8956</td><td>1.0000</td><td>      23</td><td>      22</td><td> 0.20437058</td><td>  -1.66386363</td><td>6.527709e-02</td></tr>\n",
              "\t<tr><th scope=row>overal</th><td>20</td><td>13841</td><td>   4.408063</td><td>5.902177e-01</td><td>   4.00</td><td>   4.448117</td><td>  1.4826</td><td>1.0000</td><td>       5</td><td>       4</td><td>-0.52098299</td><td>   0.03001572</td><td>5.016820e-03</td></tr>\n",
              "\t<tr><th scope=row>bf_img</th><td>21</td><td>13841</td><td>   4.044939</td><td>6.802354e-01</td><td>   4.00</td><td>   4.065475</td><td>  0.0000</td><td>1.0000</td><td>       5</td><td>       4</td><td>-0.21407406</td><td>  -0.28496709</td><td>5.781966e-03</td></tr>\n",
              "\t<tr><th scope=row>af_img</th><td>22</td><td>13841</td><td>   4.378080</td><td>6.226986e-01</td><td>   4.00</td><td>   4.436919</td><td>  1.4826</td><td>1.0000</td><td>       5</td><td>       4</td><td>-0.61578558</td><td>   0.21944082</td><td>5.292906e-03</td></tr>\n",
              "\t<tr><th scope=row>revisit</th><td>23</td><td>13841</td><td>   4.236110</td><td>7.796357e-01</td><td>   4.00</td><td>   4.337397</td><td>  1.4826</td><td>1.0000</td><td>       5</td><td>       4</td><td>-0.98686733</td><td>   1.15051531</td><td>6.626863e-03</td></tr>\n",
              "\t<tr><th scope=row>recom</th><td>24</td><td>13841</td><td>   4.326349</td><td>6.632858e-01</td><td>   4.00</td><td>   4.408110</td><td>  1.4826</td><td>1.0000</td><td>       5</td><td>       4</td><td>-0.70101780</td><td>   0.49354194</td><td>5.637894e-03</td></tr>\n",
              "</tbody>\n",
              "</table>\n"
            ]
          },
          "metadata": {
            "tags": []
          }
        },
        {
          "output_type": "display_data",
          "data": {
            "text/plain": [
              "[1] \"Using Hmisc\""
            ],
            "text/latex": "'Using Hmisc'",
            "text/markdown": "'Using Hmisc'",
            "text/html": [
              "'Using Hmisc'"
            ]
          },
          "metadata": {
            "tags": []
          }
        },
        {
          "output_type": "display_data",
          "data": {
            "text/plain": [
              "my \n",
              "\n",
              " 24  Variables      13841  Observations\n",
              "--------------------------------------------------------------------------------\n",
              "id \n",
              "       n  missing distinct     Info     Mean      Gmd      .05      .10 \n",
              "   13841        0     1886        1    689.3    577.1       58      116 \n",
              "     .25      .50      .75      .90      .95 \n",
              "     289      587      890     1315     1767 \n",
              "\n",
              "lowest :    1    2    3    4    5, highest: 7003 7004 7005 7006 7007\n",
              "--------------------------------------------------------------------------------\n",
              "month \n",
              "       n  missing distinct     Info     Mean      Gmd      .05      .10 \n",
              "   13841        0       12    0.993    6.466    3.972        1        2 \n",
              "     .25      .50      .75      .90      .95 \n",
              "       3        6        9       11       12 \n",
              "\n",
              "lowest :  1  2  3  4  5, highest:  8  9 10 11 12\n",
              "                                                                            \n",
              "Value          1     2     3     4     5     6     7     8     9    10    11\n",
              "Frequency   1180  1162  1169  1150  1156  1150  1156  1158  1152  1143  1132\n",
              "Proportion 0.085 0.084 0.084 0.083 0.084 0.083 0.084 0.084 0.083 0.083 0.082\n",
              "                \n",
              "Value         12\n",
              "Frequency   1133\n",
              "Proportion 0.082\n",
              "--------------------------------------------------------------------------------\n",
              "gender \n",
              "       n  missing distinct     Info     Mean      Gmd \n",
              "   13841        0        2    0.749    1.518   0.4994 \n",
              "                      \n",
              "Value          1     2\n",
              "Frequency   6670  7171\n",
              "Proportion 0.482 0.518\n",
              "--------------------------------------------------------------------------------\n",
              "edu \n",
              "       n  missing distinct     Info     Mean      Gmd \n",
              "   13701      140        4    0.737    2.094   0.6378 \n",
              "                                  \n",
              "Value          1     2     3     4\n",
              "Frequency   2024  8653  2730   294\n",
              "Proportion 0.148 0.632 0.199 0.021\n",
              "--------------------------------------------------------------------------------\n",
              "job \n",
              "       n  missing distinct     Info     Mean      Gmd      .05      .10 \n",
              "   13789       52       15    0.985    5.345     3.34        1        2 \n",
              "     .25      .50      .75      .90      .95 \n",
              "       3        5        8        9       12 \n",
              "\n",
              "lowest :  1  2  3  4  5, highest: 11 12 13 14 17\n",
              "                                                                            \n",
              "Value          1     2     3     4     5     6     7     8     9    10    11\n",
              "Frequency    735  1951  2259  1461  1527   563  1481  2161   528   195   215\n",
              "Proportion 0.053 0.141 0.164 0.106 0.111 0.041 0.107 0.157 0.038 0.014 0.016\n",
              "                                  \n",
              "Value         12    13    14    17\n",
              "Frequency    672    11     4    26\n",
              "Proportion 0.049 0.001 0.000 0.002\n",
              "--------------------------------------------------------------------------------\n",
              "age \n",
              "       n  missing distinct     Info     Mean      Gmd \n",
              "   13824       17        6    0.916    1.906    1.306 \n",
              "\n",
              "lowest : 0 1 2 3 4, highest: 1 2 3 4 5\n",
              "                                              \n",
              "Value          0     1     2     3     4     5\n",
              "Frequency    933  5473  3511  2212  1253   442\n",
              "Proportion 0.067 0.396 0.254 0.160 0.091 0.032\n",
              "--------------------------------------------------------------------------------\n",
              "nat \n",
              "       n  missing distinct     Info     Mean      Gmd      .05      .10 \n",
              "   13501      340       19    0.987    7.305    6.353        1        1 \n",
              "     .25      .50      .75      .90      .95 \n",
              "       2        6       12       17       18 \n",
              "\n",
              "lowest :  1  2  3  4  5, highest: 15 16 17 18 19\n",
              "                                                                            \n",
              "Value          1     2     3     4     5     6     7     8     9    10    11\n",
              "Frequency   1543  2878   813   483   947   658   545   428   971   446   393\n",
              "Proportion 0.114 0.213 0.060 0.036 0.070 0.049 0.040 0.032 0.072 0.033 0.029\n",
              "                                                          \n",
              "Value         12    13    14    15    16    17    18    19\n",
              "Frequency    337   346   482   434   324   510   440   523\n",
              "Proportion 0.025 0.026 0.036 0.032 0.024 0.038 0.033 0.039\n",
              "--------------------------------------------------------------------------------\n",
              "other \n",
              "       n  missing distinct     Info     Mean      Gmd      .05      .10 \n",
              "    1112    12729       20    0.825    4.054    4.645        1        1 \n",
              "     .25      .50      .75      .90      .95 \n",
              "       1        1        5       13       19 \n",
              "\n",
              "lowest :  1  2  3  4  5, highest: 16 17 18 19 20\n",
              "                                                                            \n",
              "Value          1     2     3     4     5     6     7     8     9    10    11\n",
              "Frequency    620    93    32    34    67    83    11    21    26     8     2\n",
              "Proportion 0.558 0.084 0.029 0.031 0.060 0.075 0.010 0.019 0.023 0.007 0.002\n",
              "                                                                \n",
              "Value         12    13    14    15    16    17    18    19    20\n",
              "Frequency      2    10     3     7     4    11    17    22    39\n",
              "Proportion 0.002 0.009 0.003 0.006 0.004 0.010 0.015 0.020 0.035\n",
              "--------------------------------------------------------------------------------\n",
              "decision \n",
              "       n  missing distinct     Info     Mean      Gmd      .05      .10 \n",
              "   13841        0       30    0.946    3.356    3.031        1        1 \n",
              "     .25      .50      .75      .90      .95 \n",
              "       1        2        4        6       10 \n",
              "\n",
              "lowest :  1  2  3  4  5, highest: 36 48 50 60 72\n",
              "--------------------------------------------------------------------------------\n",
              "object \n",
              "       n  missing distinct     Info     Mean      Gmd \n",
              "   13841        0        8    0.858    3.198    2.504 \n",
              "\n",
              "lowest : 1 2 3 4 5, highest: 4 5 6 7 8\n",
              "                                                          \n",
              "Value          1     2     3     4     5     6     7     8\n",
              "Frequency   6981   193    64  1139  1514  3119   780    51\n",
              "Proportion 0.504 0.014 0.005 0.082 0.109 0.225 0.056 0.004\n",
              "--------------------------------------------------------------------------------\n",
              "count \n",
              "       n  missing distinct     Info     Mean      Gmd      .05      .10 \n",
              "   13837        4       48    0.865    3.608    4.222        1        1 \n",
              "     .25      .50      .75      .90      .95 \n",
              "       1        1        3        7       10 \n",
              "\n",
              "lowest :   1   2   3   4   5, highest: 120 150 200 210 300\n",
              "--------------------------------------------------------------------------------\n",
              "member \n",
              "       n  missing distinct     Info     Mean      Gmd \n",
              "   13841        0        5    0.912    2.087    1.088 \n",
              "\n",
              "lowest : 1 2 3 4 5, highest: 1 2 3 4 5\n",
              "                                        \n",
              "Value          1     2     3     4     5\n",
              "Frequency   4935  4120  3459  1303    24\n",
              "Proportion 0.357 0.298 0.250 0.094 0.002\n",
              "--------------------------------------------------------------------------------\n",
              "number \n",
              "       n  missing distinct     Info     Mean      Gmd      .05      .10 \n",
              "   13841        0       65     0.92     2.98    2.773        1        1 \n",
              "     .25      .50      .75      .90      .95 \n",
              "       1        2        3        5        7 \n",
              "\n",
              "lowest :   1   2   3   4   5, highest:  96 100 111 251 301\n",
              "--------------------------------------------------------------------------------\n",
              "period \n",
              "       n  missing distinct     Info     Mean      Gmd      .05      .10 \n",
              "   13841        0      167    0.984    14.73     19.2        3        3 \n",
              "     .25      .50      .75      .90      .95 \n",
              "       4        5        8       25       68 \n",
              "\n",
              "lowest :   1   2   3   4   5, highest: 331 341 345 361 365\n",
              "--------------------------------------------------------------------------------\n",
              "accom \n",
              "       n  missing distinct     Info     Mean      Gmd \n",
              "   13782       59        8      0.7    1.704    1.102 \n",
              "\n",
              "lowest : 1 2 3 4 5, highest: 4 5 6 7 8\n",
              "                                                          \n",
              "Value          1     2     3     4     5     6     7     8\n",
              "Frequency   9149  2618   267  1070   419     5   132   122\n",
              "Proportion 0.664 0.190 0.019 0.078 0.030 0.000 0.010 0.009\n",
              "--------------------------------------------------------------------------------\n",
              "expense \n",
              "       n  missing distinct     Info     Mean      Gmd      .05      .10 \n",
              "   13841        0     7932        1     4733     7819    230.0    350.8 \n",
              "     .25      .50      .75      .90      .95 \n",
              "   600.0   1015.7   1789.7   3439.2   5350.0 \n",
              "\n",
              "lowest : 1.013000e-01 2.222963e-01 3.375000e-01 4.544000e-01 5.279531e-01\n",
              "highest: 1.933360e+06 2.200000e+06 2.691120e+06 3.434400e+06 1.355000e+07\n",
              "\n",
              "0 (13793, 0.997), 1e+05 (16, 0.001), 2e+05 (5, 0.000), 3e+05 (7, 0.001), 4e+05\n",
              "(3, 0.000), 5e+05 (1, 0.000), 6e+05 (2, 0.000), 7e+05 (2, 0.000), 1e+06 (1,\n",
              "0.000), 1300000 (2, 0.000), 1400000 (2, 0.000), 1500000 (1, 0.000), 1700000 (1,\n",
              "0.000), 1900000 (1, 0.000), 2200000 (1, 0.000), 2700000 (1, 0.000), 3400000 (1,\n",
              "0.000), 13600000 (1, 0.000)\n",
              "\n",
              "For the frequency table, variable is rounded to the nearest 100000\n",
              "--------------------------------------------------------------------------------\n",
              "card \n",
              "       n  missing distinct     Info     Mean      Gmd      .05      .10 \n",
              "   13841        0     3939    0.954     1939     3431      0.0      0.0 \n",
              "     .25      .50      .75      .90      .95 \n",
              "     0.0    300.0    896.1   1900.0   3200.0 \n",
              "\n",
              "lowest : 0.000000e+00 7.500000e-02 1.709972e-01 2.436707e-01 2.564958e-01\n",
              "highest: 9.400000e+05 1.109025e+06 1.325880e+06 2.000000e+06 5.550000e+06\n",
              "                                                                          \n",
              "Value            0   50000  100000  200000  300000  350000  400000  450000\n",
              "Frequency    13809      13       2       4       2       1       1       1\n",
              "Proportion   0.998   0.001   0.000   0.000   0.000   0.000   0.000   0.000\n",
              "                                                          \n",
              "Value       500000  950000 1100000 1350000 2000000 5550000\n",
              "Frequency        3       1       1       1       1       1\n",
              "Proportion   0.000   0.000   0.000   0.000   0.000   0.000\n",
              "\n",
              "For the frequency table, variable is rounded to the nearest 50000\n",
              "--------------------------------------------------------------------------------\n",
              "cash \n",
              "       n  missing distinct     Info     Mean      Gmd      .05      .10 \n",
              "   13841        0     6080    0.999     2794     4883     0.00     0.88 \n",
              "     .25      .50      .75      .90      .95 \n",
              "  204.48   500.00   940.48  1779.39  2908.00 \n",
              "\n",
              "lowest : 0.000000e+00 2.625000e-02 5.129915e-02 1.545701e-01 2.842824e-01\n",
              "highest: 1.740096e+06 1.933360e+06 2.242600e+06 2.325375e+06 8.000000e+06\n",
              "                                                                          \n",
              "Value            0  100000  200000  300000  400000  500000  600000  800000\n",
              "Frequency    13799      17       5       6       2       2       2       1\n",
              "Proportion   0.997   0.001   0.000   0.000   0.000   0.000   0.000   0.000\n",
              "                                                                  \n",
              "Value       900000 1400000 1700000 1900000 2200000 2300000 8000000\n",
              "Frequency        1       1       1       1       1       1       1\n",
              "Proportion   0.000   0.000   0.000   0.000   0.000   0.000   0.000\n",
              "\n",
              "For the frequency table, variable is rounded to the nearest 100000\n",
              "--------------------------------------------------------------------------------\n",
              "activity \n",
              "       n  missing distinct     Info     Mean      Gmd      .05      .10 \n",
              "   13841        0       23    0.976    9.199    8.472        1        1 \n",
              "     .25      .50      .75      .90      .95 \n",
              "       1        7       17       18       20 \n",
              "\n",
              "lowest :  1  2  3  4  5, highest: 19 20 21 22 23\n",
              "--------------------------------------------------------------------------------\n",
              "overal \n",
              "       n  missing distinct     Info     Mean      Gmd \n",
              "   13841        0        5    0.783    4.408   0.5928 \n",
              "\n",
              "lowest : 1 2 3 4 5, highest: 1 2 3 4 5\n",
              "                                        \n",
              "Value          1     2     3     4     5\n",
              "Frequency      7    20   637  6831  6346\n",
              "Proportion 0.001 0.001 0.046 0.494 0.458\n",
              "--------------------------------------------------------------------------------\n",
              "bf_img \n",
              "       n  missing distinct     Info     Mean      Gmd \n",
              "   13841        0        5    0.804    4.045   0.7002 \n",
              "\n",
              "lowest : 1 2 3 4 5, highest: 1 2 3 4 5\n",
              "                                        \n",
              "Value          1     2     3     4     5\n",
              "Frequency      6    91  2596  7730  3418\n",
              "Proportion 0.000 0.007 0.188 0.558 0.247\n",
              "--------------------------------------------------------------------------------\n",
              "af_img \n",
              "       n  missing distinct     Info     Mean      Gmd \n",
              "   13841        0        5    0.796    4.378   0.6288 \n",
              "\n",
              "lowest : 1 2 3 4 5, highest: 1 2 3 4 5\n",
              "                                        \n",
              "Value          1     2     3     4     5\n",
              "Frequency      9    40   882  6688  6222\n",
              "Proportion 0.001 0.003 0.064 0.483 0.450\n",
              "--------------------------------------------------------------------------------\n",
              "revisit \n",
              "       n  missing distinct     Info     Mean      Gmd \n",
              "   13841        0        5    0.839    4.236   0.7929 \n",
              "\n",
              "lowest : 1 2 3 4 5, highest: 1 2 3 4 5\n",
              "                                        \n",
              "Value          1     2     3     4     5\n",
              "Frequency     66   336  1554  6193  5692\n",
              "Proportion 0.005 0.024 0.112 0.447 0.411\n",
              "--------------------------------------------------------------------------------\n",
              "recom \n",
              "       n  missing distinct     Info     Mean      Gmd \n",
              "   13841        0        5     0.81    4.326   0.6727 \n",
              "\n",
              "lowest : 1 2 3 4 5, highest: 1 2 3 4 5\n",
              "                                        \n",
              "Value          1     2     3     4     5\n",
              "Frequency     14    95  1154  6675  5903\n",
              "Proportion 0.001 0.007 0.083 0.482 0.426\n",
              "--------------------------------------------------------------------------------"
            ]
          },
          "metadata": {
            "tags": []
          }
        },
        {
          "output_type": "display_data",
          "data": {
            "text/plain": [
              "[1] \"Using skimr\""
            ],
            "text/latex": "'Using skimr'",
            "text/markdown": "'Using skimr'",
            "text/html": [
              "'Using skimr'"
            ]
          },
          "metadata": {
            "tags": []
          }
        },
        {
          "output_type": "stream",
          "text": [
            "── Data Summary ────────────────────────\n",
            "                           Values\n",
            "Name                       my    \n",
            "Number of rows             13841 \n",
            "Number of columns          24    \n",
            "_______________________          \n",
            "Column type frequency:           \n",
            "  numeric                  24    \n",
            "________________________         \n",
            "Group variables            None  \n",
            "\n",
            "── Variable type: numeric ──────────────────────────────────────────────────────\n",
            "   skim_variable n_missing complete_rate    mean         sd    p0   p25   p50\n",
            " 1 id                    0        1       689.      620.    1      289   587 \n",
            " 2 month                 0        1         6.47      3.45  1        3     6 \n",
            " 3 gender                0        1         1.52      0.500 1        1     2 \n",
            " 4 edu                 140        0.990     2.09      0.651 1        2     2 \n",
            " 5 job                  52        0.996     5.34      2.99  1        3     5 \n",
            " 6 age                  17        0.999     1.91      1.21  0        1     2 \n",
            " 7 nat                 340        0.975     7.31      5.71  1        2     6 \n",
            " 8 other             12729        0.0803    4.05      5.25  1        1     1 \n",
            " 9 decision              0        1         3.36      3.54  1        1     2 \n",
            "10 object                0        1         3.20      2.35  1        1     1 \n",
            "11 count                 4        1.00      3.61      8.63  1        1     1 \n",
            "12 member                0        1         2.09      0.996 1        1     2 \n",
            "13 number                0        1         2.98      5.83  1        1     2 \n",
            "14 period                0        1        14.7      34.5   1        4     5 \n",
            "15 accom                59        0.996     1.70      1.32  1        1     1 \n",
            "16 expense               0        1      4733.   128290.    0.101  600  1016.\n",
            "17 card                  0        1      1939.    53986.    0        0   300 \n",
            "18 cash                  0        1      2794.    79209.    0      204.  500 \n",
            "19 activity              0        1         9.20      7.68  1        1     7 \n",
            "20 overal                0        1         4.41      0.590 1        4     4 \n",
            "21 bf_img                0        1         4.04      0.680 1        4     4 \n",
            "22 af_img                0        1         4.38      0.623 1        4     4 \n",
            "23 revisit               0        1         4.24      0.780 1        4     4 \n",
            "24 recom                 0        1         4.33      0.663 1        4     4 \n",
            "     p75     p100 hist \n",
            " 1  890      7007 ▇▁▁▁▁\n",
            " 2    9        12 ▇▅▅▅▇\n",
            " 3    2         2 ▇▁▁▁▇\n",
            " 4    2         4 ▂▇▁▂▁\n",
            " 5    8        17 ▇▅▃▁▁\n",
            " 6    3         5 ▇▅▃▂▁\n",
            " 7   12        19 ▇▃▂▂▂\n",
            " 8    5        20 ▇▂▁▁▁\n",
            " 9    4        72 ▇▁▁▁▁\n",
            "10    6         8 ▇▁▃▃▁\n",
            "11    3       300 ▇▁▁▁▁\n",
            "12    3         5 ▇▇▆▂▁\n",
            "13    3       301 ▇▁▁▁▁\n",
            "14    8       365 ▇▁▁▁▁\n",
            "15    2         8 ▇▁▁▁▁\n",
            "16 1790. 13550000 ▇▁▁▁▁\n",
            "17  896.  5550000 ▇▁▁▁▁\n",
            "18  940.  8000000 ▇▁▁▁▁\n",
            "19   17        23 ▇▂▁▅▂\n",
            "20    5         5 ▁▁▁▇▇\n",
            "21    4         5 ▁▁▃▇▃\n",
            "22    5         5 ▁▁▁▇▇\n",
            "23    5         5 ▁▁▂▇▇\n",
            "24    5         5 ▁▁▂▇▇\n"
          ],
          "name": "stdout"
        }
      ]
    },
    {
      "cell_type": "markdown",
      "metadata": {
        "id": "w2QCeH42R1-M",
        "colab_type": "text"
      },
      "source": [
        "## **Visualizing data**"
      ]
    },
    {
      "cell_type": "code",
      "metadata": {
        "id": "_KEX-_GtR-Dc",
        "colab_type": "code",
        "colab": {
          "base_uri": "https://localhost:8080/",
          "height": 437
        },
        "outputId": "0852da98-6cad-4edf-eb84-f48b14b4620b"
      },
      "source": [
        "plot(my)"
      ],
      "execution_count": 26,
      "outputs": [
        {
          "output_type": "display_data",
          "data": {
            "image/png": "[encoded data removed]",
            "text/plain": [
              "plot without title"
            ]
          },
          "metadata": {
            "tags": [],
            "image/png": {
              "width": 420,
              "height": 420
            },
            "text/plain": {
              "width": 420,
              "height": 420
            }
          }
        }
      ]
    },
    {
      "cell_type": "markdown",
      "metadata": {
        "id": "DbKGTCI6Sv8N",
        "colab_type": "text"
      },
      "source": [
        "If we know the relationship between the variables, we can predict values.\n",
        "\n",
        "If the dataset is huge, we can create **subset** to improve readibility of a scatter matrix."
      ]
    },
    {
      "cell_type": "markdown",
      "metadata": {
        "id": "wGimG_qbTP2q",
        "colab_type": "text"
      },
      "source": [
        "### **Correlation Matrix**"
      ]
    },
    {
      "cell_type": "markdown",
      "metadata": {
        "id": "WN1jfqymTXMn",
        "colab_type": "text"
      },
      "source": [
        "As the value gets closer to **0**, it means there are weak correlation between those two variables given.\n",
        "\n",
        "However, close the value gets to **-1 or 1**, it means they have strong correlation.\n",
        "> +1 : Same direction<br>\n",
        "> -1 : Different direction\n",
        "\n",
        "Same as **heatmap**."
      ]
    },
    {
      "cell_type": "code",
      "metadata": {
        "id": "LV__jR4eT8V9",
        "colab_type": "code",
        "colab": {
          "base_uri": "https://localhost:8080/",
          "height": 1000
        },
        "outputId": "f14dfe80-bab1-40c2-f4c1-0d9f22c15a53"
      },
      "source": [
        "# cor: correlation\n",
        "# round(INPUT, VALUE): round up decimals\n",
        "round(cor(my), 3)\n",
        "\n",
        "# Remove NA value (Use complete dataset)\n",
        "round(cor(my, use = 'complete.obs'), 2)"
      ],
      "execution_count": 30,
      "outputs": [
        {
          "output_type": "display_data",
          "data": {
            "text/plain": [
              "         id     month  gender edu job age nat other decision object ⋯ accom\n",
              "id        1.000 -0.006 -0.005 NA  NA  NA  NA  NA    -0.048   -0.079 ⋯ NA   \n",
              "month    -0.006  1.000 -0.009 NA  NA  NA  NA  NA    -0.002    0.022 ⋯ NA   \n",
              "gender   -0.005 -0.009  1.000 NA  NA  NA  NA  NA     0.023   -0.199 ⋯ NA   \n",
              "edu          NA     NA     NA  1  NA  NA  NA  NA        NA       NA ⋯ NA   \n",
              "job          NA     NA     NA NA   1  NA  NA  NA        NA       NA ⋯ NA   \n",
              "age          NA     NA     NA NA  NA   1  NA  NA        NA       NA ⋯ NA   \n",
              "nat          NA     NA     NA NA  NA  NA   1  NA        NA       NA ⋯ NA   \n",
              "other        NA     NA     NA NA  NA  NA  NA   1        NA       NA ⋯ NA   \n",
              "decision -0.048 -0.002  0.023 NA  NA  NA  NA  NA     1.000    0.016 ⋯ NA   \n",
              "object   -0.079  0.022 -0.199 NA  NA  NA  NA  NA     0.016    1.000 ⋯ NA   \n",
              "count        NA     NA     NA NA  NA  NA  NA  NA        NA       NA ⋯ NA   \n",
              "member    0.075 -0.034  0.051 NA  NA  NA  NA  NA    -0.012   -0.153 ⋯ NA   \n",
              "number   -0.016 -0.014  0.004 NA  NA  NA  NA  NA     0.085   -0.044 ⋯ NA   \n",
              "period   -0.069  0.029 -0.004 NA  NA  NA  NA  NA     0.256    0.319 ⋯ NA   \n",
              "accom        NA     NA     NA NA  NA  NA  NA  NA        NA       NA ⋯  1   \n",
              "expense   0.002 -0.010  0.002 NA  NA  NA  NA  NA     0.008   -0.001 ⋯ NA   \n",
              "card      0.003 -0.007  0.000 NA  NA  NA  NA  NA     0.009    0.005 ⋯ NA   \n",
              "cash      0.000 -0.012  0.003 NA  NA  NA  NA  NA     0.007   -0.006 ⋯ NA   \n",
              "activity  0.061  0.018 -0.153 NA  NA  NA  NA  NA     0.089    0.132 ⋯ NA   \n",
              "overal   -0.037  0.015  0.016 NA  NA  NA  NA  NA     0.065    0.009 ⋯ NA   \n",
              "bf_img   -0.033 -0.016  0.065 NA  NA  NA  NA  NA     0.005   -0.037 ⋯ NA   \n",
              "af_img   -0.035  0.012  0.006 NA  NA  NA  NA  NA     0.057    0.004 ⋯ NA   \n",
              "revisit   0.030 -0.002  0.020 NA  NA  NA  NA  NA     0.017    0.051 ⋯ NA   \n",
              "recom    -0.014  0.017  0.029 NA  NA  NA  NA  NA     0.107   -0.023 ⋯ NA   \n",
              "         expense card   cash   activity overal bf_img af_img revisit recom \n",
              "id        0.002   0.003  0.000  0.061   -0.037 -0.033 -0.035  0.030  -0.014\n",
              "month    -0.010  -0.007 -0.012  0.018    0.015 -0.016  0.012 -0.002   0.017\n",
              "gender    0.002   0.000  0.003 -0.153    0.016  0.065  0.006  0.020   0.029\n",
              "edu          NA      NA     NA     NA       NA     NA     NA     NA      NA\n",
              "job          NA      NA     NA     NA       NA     NA     NA     NA      NA\n",
              "age          NA      NA     NA     NA       NA     NA     NA     NA      NA\n",
              "nat          NA      NA     NA     NA       NA     NA     NA     NA      NA\n",
              "other        NA      NA     NA     NA       NA     NA     NA     NA      NA\n",
              "decision  0.008   0.009  0.007  0.089    0.065  0.005  0.057  0.017   0.107\n",
              "object   -0.001   0.005 -0.006  0.132    0.009 -0.037  0.004  0.051  -0.023\n",
              "count        NA      NA     NA     NA       NA     NA     NA     NA      NA\n",
              "member   -0.003  -0.007  0.000 -0.080   -0.046 -0.043 -0.039 -0.077  -0.060\n",
              "number    0.001  -0.001  0.002  0.011   -0.017 -0.020 -0.005 -0.046  -0.008\n",
              "period    0.024   0.038  0.012  0.066    0.009  0.000  0.010  0.015   0.020\n",
              "accom        NA      NA     NA     NA       NA     NA     NA     NA      NA\n",
              "expense   1.000   0.946  0.975 -0.007    0.012 -0.007  0.011 -0.004   0.013\n",
              "card      0.946   1.000  0.850 -0.006    0.011 -0.010  0.008  0.000   0.012\n",
              "cash      0.975   0.850  1.000 -0.007    0.012 -0.005  0.011 -0.006   0.012\n",
              "activity -0.007  -0.006 -0.007  1.000    0.062 -0.037  0.065  0.031   0.065\n",
              "overal    0.012   0.011  0.012  0.062    1.000  0.285  0.585  0.410   0.534\n",
              "bf_img   -0.007  -0.010 -0.005 -0.037    0.285  1.000  0.448  0.297   0.333\n",
              "af_img    0.011   0.008  0.011  0.065    0.585  0.448  1.000  0.441   0.602\n",
              "revisit  -0.004   0.000 -0.006  0.031    0.410  0.297  0.441  1.000   0.583\n",
              "recom     0.013   0.012  0.012  0.065    0.534  0.333  0.602  0.583   1.000"
            ],
            "text/latex": "A matrix: 24 × 24 of type dbl\n\\begin{tabular}{r|lllllllllllllllllllll}\n  & id & month & gender & edu & job & age & nat & other & decision & object & ⋯ & accom & expense & card & cash & activity & overal & bf\\_img & af\\_img & revisit & recom\\\\\n\\hline\n\tid &  1.000 & -0.006 & -0.005 & NA & NA & NA & NA & NA & -0.048 & -0.079 & ⋯ & NA &  0.002 &  0.003 &  0.000 &  0.061 & -0.037 & -0.033 & -0.035 &  0.030 & -0.014\\\\\n\tmonth & -0.006 &  1.000 & -0.009 & NA & NA & NA & NA & NA & -0.002 &  0.022 & ⋯ & NA & -0.010 & -0.007 & -0.012 &  0.018 &  0.015 & -0.016 &  0.012 & -0.002 &  0.017\\\\\n\tgender & -0.005 & -0.009 &  1.000 & NA & NA & NA & NA & NA &  0.023 & -0.199 & ⋯ & NA &  0.002 &  0.000 &  0.003 & -0.153 &  0.016 &  0.065 &  0.006 &  0.020 &  0.029\\\\\n\tedu &     NA &     NA &     NA &  1 & NA & NA & NA & NA &     NA &     NA & ⋯ & NA &     NA &     NA &     NA &     NA &     NA &     NA &     NA &     NA &     NA\\\\\n\tjob &     NA &     NA &     NA & NA &  1 & NA & NA & NA &     NA &     NA & ⋯ & NA &     NA &     NA &     NA &     NA &     NA &     NA &     NA &     NA &     NA\\\\\n\tage &     NA &     NA &     NA & NA & NA &  1 & NA & NA &     NA &     NA & ⋯ & NA &     NA &     NA &     NA &     NA &     NA &     NA &     NA &     NA &     NA\\\\\n\tnat &     NA &     NA &     NA & NA & NA & NA &  1 & NA &     NA &     NA & ⋯ & NA &     NA &     NA &     NA &     NA &     NA &     NA &     NA &     NA &     NA\\\\\n\tother &     NA &     NA &     NA & NA & NA & NA & NA &  1 &     NA &     NA & ⋯ & NA &     NA &     NA &     NA &     NA &     NA &     NA &     NA &     NA &     NA\\\\\n\tdecision & -0.048 & -0.002 &  0.023 & NA & NA & NA & NA & NA &  1.000 &  0.016 & ⋯ & NA &  0.008 &  0.009 &  0.007 &  0.089 &  0.065 &  0.005 &  0.057 &  0.017 &  0.107\\\\\n\tobject & -0.079 &  0.022 & -0.199 & NA & NA & NA & NA & NA &  0.016 &  1.000 & ⋯ & NA & -0.001 &  0.005 & -0.006 &  0.132 &  0.009 & -0.037 &  0.004 &  0.051 & -0.023\\\\\n\tcount &     NA &     NA &     NA & NA & NA & NA & NA & NA &     NA &     NA & ⋯ & NA &     NA &     NA &     NA &     NA &     NA &     NA &     NA &     NA &     NA\\\\\n\tmember &  0.075 & -0.034 &  0.051 & NA & NA & NA & NA & NA & -0.012 & -0.153 & ⋯ & NA & -0.003 & -0.007 &  0.000 & -0.080 & -0.046 & -0.043 & -0.039 & -0.077 & -0.060\\\\\n\tnumber & -0.016 & -0.014 &  0.004 & NA & NA & NA & NA & NA &  0.085 & -0.044 & ⋯ & NA &  0.001 & -0.001 &  0.002 &  0.011 & -0.017 & -0.020 & -0.005 & -0.046 & -0.008\\\\\n\tperiod & -0.069 &  0.029 & -0.004 & NA & NA & NA & NA & NA &  0.256 &  0.319 & ⋯ & NA &  0.024 &  0.038 &  0.012 &  0.066 &  0.009 &  0.000 &  0.010 &  0.015 &  0.020\\\\\n\taccom &     NA &     NA &     NA & NA & NA & NA & NA & NA &     NA &     NA & ⋯ &  1 &     NA &     NA &     NA &     NA &     NA &     NA &     NA &     NA &     NA\\\\\n\texpense &  0.002 & -0.010 &  0.002 & NA & NA & NA & NA & NA &  0.008 & -0.001 & ⋯ & NA &  1.000 &  0.946 &  0.975 & -0.007 &  0.012 & -0.007 &  0.011 & -0.004 &  0.013\\\\\n\tcard &  0.003 & -0.007 &  0.000 & NA & NA & NA & NA & NA &  0.009 &  0.005 & ⋯ & NA &  0.946 &  1.000 &  0.850 & -0.006 &  0.011 & -0.010 &  0.008 &  0.000 &  0.012\\\\\n\tcash &  0.000 & -0.012 &  0.003 & NA & NA & NA & NA & NA &  0.007 & -0.006 & ⋯ & NA &  0.975 &  0.850 &  1.000 & -0.007 &  0.012 & -0.005 &  0.011 & -0.006 &  0.012\\\\\n\tactivity &  0.061 &  0.018 & -0.153 & NA & NA & NA & NA & NA &  0.089 &  0.132 & ⋯ & NA & -0.007 & -0.006 & -0.007 &  1.000 &  0.062 & -0.037 &  0.065 &  0.031 &  0.065\\\\\n\toveral & -0.037 &  0.015 &  0.016 & NA & NA & NA & NA & NA &  0.065 &  0.009 & ⋯ & NA &  0.012 &  0.011 &  0.012 &  0.062 &  1.000 &  0.285 &  0.585 &  0.410 &  0.534\\\\\n\tbf\\_img & -0.033 & -0.016 &  0.065 & NA & NA & NA & NA & NA &  0.005 & -0.037 & ⋯ & NA & -0.007 & -0.010 & -0.005 & -0.037 &  0.285 &  1.000 &  0.448 &  0.297 &  0.333\\\\\n\taf\\_img & -0.035 &  0.012 &  0.006 & NA & NA & NA & NA & NA &  0.057 &  0.004 & ⋯ & NA &  0.011 &  0.008 &  0.011 &  0.065 &  0.585 &  0.448 &  1.000 &  0.441 &  0.602\\\\\n\trevisit &  0.030 & -0.002 &  0.020 & NA & NA & NA & NA & NA &  0.017 &  0.051 & ⋯ & NA & -0.004 &  0.000 & -0.006 &  0.031 &  0.410 &  0.297 &  0.441 &  1.000 &  0.583\\\\\n\trecom & -0.014 &  0.017 &  0.029 & NA & NA & NA & NA & NA &  0.107 & -0.023 & ⋯ & NA &  0.013 &  0.012 &  0.012 &  0.065 &  0.534 &  0.333 &  0.602 &  0.583 &  1.000\\\\\n\\end{tabular}\n",
            "text/markdown": "\nA matrix: 24 × 24 of type dbl\n\n| <!--/--> | id | month | gender | edu | job | age | nat | other | decision | object | ⋯ | accom | expense | card | cash | activity | overal | bf_img | af_img | revisit | recom |\n|---|---|---|---|---|---|---|---|---|---|---|---|---|---|---|---|---|---|---|---|---|---|\n| id |  1.000 | -0.006 | -0.005 | NA | NA | NA | NA | NA | -0.048 | -0.079 | ⋯ | NA |  0.002 |  0.003 |  0.000 |  0.061 | -0.037 | -0.033 | -0.035 |  0.030 | -0.014 |\n| month | -0.006 |  1.000 | -0.009 | NA | NA | NA | NA | NA | -0.002 |  0.022 | ⋯ | NA | -0.010 | -0.007 | -0.012 |  0.018 |  0.015 | -0.016 |  0.012 | -0.002 |  0.017 |\n| gender | -0.005 | -0.009 |  1.000 | NA | NA | NA | NA | NA |  0.023 | -0.199 | ⋯ | NA |  0.002 |  0.000 |  0.003 | -0.153 |  0.016 |  0.065 |  0.006 |  0.020 |  0.029 |\n| edu |     NA |     NA |     NA |  1 | NA | NA | NA | NA |     NA |     NA | ⋯ | NA |     NA |     NA |     NA |     NA |     NA |     NA |     NA |     NA |     NA |\n| job |     NA |     NA |     NA | NA |  1 | NA | NA | NA |     NA |     NA | ⋯ | NA |     NA |     NA |     NA |     NA |     NA |     NA |     NA |     NA |     NA |\n| age |     NA |     NA |     NA | NA | NA |  1 | NA | NA |     NA |     NA | ⋯ | NA |     NA |     NA |     NA |     NA |     NA |     NA |     NA |     NA |     NA |\n| nat |     NA |     NA |     NA | NA | NA | NA |  1 | NA |     NA |     NA | ⋯ | NA |     NA |     NA |     NA |     NA |     NA |     NA |     NA |     NA |     NA |\n| other |     NA |     NA |     NA | NA | NA | NA | NA |  1 |     NA |     NA | ⋯ | NA |     NA |     NA |     NA |     NA |     NA |     NA |     NA |     NA |     NA |\n| decision | -0.048 | -0.002 |  0.023 | NA | NA | NA | NA | NA |  1.000 |  0.016 | ⋯ | NA |  0.008 |  0.009 |  0.007 |  0.089 |  0.065 |  0.005 |  0.057 |  0.017 |  0.107 |\n| object | -0.079 |  0.022 | -0.199 | NA | NA | NA | NA | NA |  0.016 |  1.000 | ⋯ | NA | -0.001 |  0.005 | -0.006 |  0.132 |  0.009 | -0.037 |  0.004 |  0.051 | -0.023 |\n| count |     NA |     NA |     NA | NA | NA | NA | NA | NA |     NA |     NA | ⋯ | NA |     NA |     NA |     NA |     NA |     NA |     NA |     NA |     NA |     NA |\n| member |  0.075 | -0.034 |  0.051 | NA | NA | NA | NA | NA | -0.012 | -0.153 | ⋯ | NA | -0.003 | -0.007 |  0.000 | -0.080 | -0.046 | -0.043 | -0.039 | -0.077 | -0.060 |\n| number | -0.016 | -0.014 |  0.004 | NA | NA | NA | NA | NA |  0.085 | -0.044 | ⋯ | NA |  0.001 | -0.001 |  0.002 |  0.011 | -0.017 | -0.020 | -0.005 | -0.046 | -0.008 |\n| period | -0.069 |  0.029 | -0.004 | NA | NA | NA | NA | NA |  0.256 |  0.319 | ⋯ | NA |  0.024 |  0.038 |  0.012 |  0.066 |  0.009 |  0.000 |  0.010 |  0.015 |  0.020 |\n| accom |     NA |     NA |     NA | NA | NA | NA | NA | NA |     NA |     NA | ⋯ |  1 |     NA |     NA |     NA |     NA |     NA |     NA |     NA |     NA |     NA |\n| expense |  0.002 | -0.010 |  0.002 | NA | NA | NA | NA | NA |  0.008 | -0.001 | ⋯ | NA |  1.000 |  0.946 |  0.975 | -0.007 |  0.012 | -0.007 |  0.011 | -0.004 |  0.013 |\n| card |  0.003 | -0.007 |  0.000 | NA | NA | NA | NA | NA |  0.009 |  0.005 | ⋯ | NA |  0.946 |  1.000 |  0.850 | -0.006 |  0.011 | -0.010 |  0.008 |  0.000 |  0.012 |\n| cash |  0.000 | -0.012 |  0.003 | NA | NA | NA | NA | NA |  0.007 | -0.006 | ⋯ | NA |  0.975 |  0.850 |  1.000 | -0.007 |  0.012 | -0.005 |  0.011 | -0.006 |  0.012 |\n| activity |  0.061 |  0.018 | -0.153 | NA | NA | NA | NA | NA |  0.089 |  0.132 | ⋯ | NA | -0.007 | -0.006 | -0.007 |  1.000 |  0.062 | -0.037 |  0.065 |  0.031 |  0.065 |\n| overal | -0.037 |  0.015 |  0.016 | NA | NA | NA | NA | NA |  0.065 |  0.009 | ⋯ | NA |  0.012 |  0.011 |  0.012 |  0.062 |  1.000 |  0.285 |  0.585 |  0.410 |  0.534 |\n| bf_img | -0.033 | -0.016 |  0.065 | NA | NA | NA | NA | NA |  0.005 | -0.037 | ⋯ | NA | -0.007 | -0.010 | -0.005 | -0.037 |  0.285 |  1.000 |  0.448 |  0.297 |  0.333 |\n| af_img | -0.035 |  0.012 |  0.006 | NA | NA | NA | NA | NA |  0.057 |  0.004 | ⋯ | NA |  0.011 |  0.008 |  0.011 |  0.065 |  0.585 |  0.448 |  1.000 |  0.441 |  0.602 |\n| revisit |  0.030 | -0.002 |  0.020 | NA | NA | NA | NA | NA |  0.017 |  0.051 | ⋯ | NA | -0.004 |  0.000 | -0.006 |  0.031 |  0.410 |  0.297 |  0.441 |  1.000 |  0.583 |\n| recom | -0.014 |  0.017 |  0.029 | NA | NA | NA | NA | NA |  0.107 | -0.023 | ⋯ | NA |  0.013 |  0.012 |  0.012 |  0.065 |  0.534 |  0.333 |  0.602 |  0.583 |  1.000 |\n\n",
            "text/html": [
              "<table>\n",
              "<caption>A matrix: 24 × 24 of type dbl</caption>\n",
              "<thead>\n",
              "\t<tr><th></th><th scope=col>id</th><th scope=col>month</th><th scope=col>gender</th><th scope=col>edu</th><th scope=col>job</th><th scope=col>age</th><th scope=col>nat</th><th scope=col>other</th><th scope=col>decision</th><th scope=col>object</th><th scope=col>⋯</th><th scope=col>accom</th><th scope=col>expense</th><th scope=col>card</th><th scope=col>cash</th><th scope=col>activity</th><th scope=col>overal</th><th scope=col>bf_img</th><th scope=col>af_img</th><th scope=col>revisit</th><th scope=col>recom</th></tr>\n",
              "</thead>\n",
              "<tbody>\n",
              "\t<tr><th scope=row>id</th><td> 1.000</td><td>-0.006</td><td>-0.005</td><td>NA</td><td>NA</td><td>NA</td><td>NA</td><td>NA</td><td>-0.048</td><td>-0.079</td><td>⋯</td><td>NA</td><td> 0.002</td><td> 0.003</td><td> 0.000</td><td> 0.061</td><td>-0.037</td><td>-0.033</td><td>-0.035</td><td> 0.030</td><td>-0.014</td></tr>\n",
              "\t<tr><th scope=row>month</th><td>-0.006</td><td> 1.000</td><td>-0.009</td><td>NA</td><td>NA</td><td>NA</td><td>NA</td><td>NA</td><td>-0.002</td><td> 0.022</td><td>⋯</td><td>NA</td><td>-0.010</td><td>-0.007</td><td>-0.012</td><td> 0.018</td><td> 0.015</td><td>-0.016</td><td> 0.012</td><td>-0.002</td><td> 0.017</td></tr>\n",
              "\t<tr><th scope=row>gender</th><td>-0.005</td><td>-0.009</td><td> 1.000</td><td>NA</td><td>NA</td><td>NA</td><td>NA</td><td>NA</td><td> 0.023</td><td>-0.199</td><td>⋯</td><td>NA</td><td> 0.002</td><td> 0.000</td><td> 0.003</td><td>-0.153</td><td> 0.016</td><td> 0.065</td><td> 0.006</td><td> 0.020</td><td> 0.029</td></tr>\n",
              "\t<tr><th scope=row>edu</th><td>    NA</td><td>    NA</td><td>    NA</td><td> 1</td><td>NA</td><td>NA</td><td>NA</td><td>NA</td><td>    NA</td><td>    NA</td><td>⋯</td><td>NA</td><td>    NA</td><td>    NA</td><td>    NA</td><td>    NA</td><td>    NA</td><td>    NA</td><td>    NA</td><td>    NA</td><td>    NA</td></tr>\n",
              "\t<tr><th scope=row>job</th><td>    NA</td><td>    NA</td><td>    NA</td><td>NA</td><td> 1</td><td>NA</td><td>NA</td><td>NA</td><td>    NA</td><td>    NA</td><td>⋯</td><td>NA</td><td>    NA</td><td>    NA</td><td>    NA</td><td>    NA</td><td>    NA</td><td>    NA</td><td>    NA</td><td>    NA</td><td>    NA</td></tr>\n",
              "\t<tr><th scope=row>age</th><td>    NA</td><td>    NA</td><td>    NA</td><td>NA</td><td>NA</td><td> 1</td><td>NA</td><td>NA</td><td>    NA</td><td>    NA</td><td>⋯</td><td>NA</td><td>    NA</td><td>    NA</td><td>    NA</td><td>    NA</td><td>    NA</td><td>    NA</td><td>    NA</td><td>    NA</td><td>    NA</td></tr>\n",
              "\t<tr><th scope=row>nat</th><td>    NA</td><td>    NA</td><td>    NA</td><td>NA</td><td>NA</td><td>NA</td><td> 1</td><td>NA</td><td>    NA</td><td>    NA</td><td>⋯</td><td>NA</td><td>    NA</td><td>    NA</td><td>    NA</td><td>    NA</td><td>    NA</td><td>    NA</td><td>    NA</td><td>    NA</td><td>    NA</td></tr>\n",
              "\t<tr><th scope=row>other</th><td>    NA</td><td>    NA</td><td>    NA</td><td>NA</td><td>NA</td><td>NA</td><td>NA</td><td> 1</td><td>    NA</td><td>    NA</td><td>⋯</td><td>NA</td><td>    NA</td><td>    NA</td><td>    NA</td><td>    NA</td><td>    NA</td><td>    NA</td><td>    NA</td><td>    NA</td><td>    NA</td></tr>\n",
              "\t<tr><th scope=row>decision</th><td>-0.048</td><td>-0.002</td><td> 0.023</td><td>NA</td><td>NA</td><td>NA</td><td>NA</td><td>NA</td><td> 1.000</td><td> 0.016</td><td>⋯</td><td>NA</td><td> 0.008</td><td> 0.009</td><td> 0.007</td><td> 0.089</td><td> 0.065</td><td> 0.005</td><td> 0.057</td><td> 0.017</td><td> 0.107</td></tr>\n",
              "\t<tr><th scope=row>object</th><td>-0.079</td><td> 0.022</td><td>-0.199</td><td>NA</td><td>NA</td><td>NA</td><td>NA</td><td>NA</td><td> 0.016</td><td> 1.000</td><td>⋯</td><td>NA</td><td>-0.001</td><td> 0.005</td><td>-0.006</td><td> 0.132</td><td> 0.009</td><td>-0.037</td><td> 0.004</td><td> 0.051</td><td>-0.023</td></tr>\n",
              "\t<tr><th scope=row>count</th><td>    NA</td><td>    NA</td><td>    NA</td><td>NA</td><td>NA</td><td>NA</td><td>NA</td><td>NA</td><td>    NA</td><td>    NA</td><td>⋯</td><td>NA</td><td>    NA</td><td>    NA</td><td>    NA</td><td>    NA</td><td>    NA</td><td>    NA</td><td>    NA</td><td>    NA</td><td>    NA</td></tr>\n",
              "\t<tr><th scope=row>member</th><td> 0.075</td><td>-0.034</td><td> 0.051</td><td>NA</td><td>NA</td><td>NA</td><td>NA</td><td>NA</td><td>-0.012</td><td>-0.153</td><td>⋯</td><td>NA</td><td>-0.003</td><td>-0.007</td><td> 0.000</td><td>-0.080</td><td>-0.046</td><td>-0.043</td><td>-0.039</td><td>-0.077</td><td>-0.060</td></tr>\n",
              "\t<tr><th scope=row>number</th><td>-0.016</td><td>-0.014</td><td> 0.004</td><td>NA</td><td>NA</td><td>NA</td><td>NA</td><td>NA</td><td> 0.085</td><td>-0.044</td><td>⋯</td><td>NA</td><td> 0.001</td><td>-0.001</td><td> 0.002</td><td> 0.011</td><td>-0.017</td><td>-0.020</td><td>-0.005</td><td>-0.046</td><td>-0.008</td></tr>\n",
              "\t<tr><th scope=row>period</th><td>-0.069</td><td> 0.029</td><td>-0.004</td><td>NA</td><td>NA</td><td>NA</td><td>NA</td><td>NA</td><td> 0.256</td><td> 0.319</td><td>⋯</td><td>NA</td><td> 0.024</td><td> 0.038</td><td> 0.012</td><td> 0.066</td><td> 0.009</td><td> 0.000</td><td> 0.010</td><td> 0.015</td><td> 0.020</td></tr>\n",
              "\t<tr><th scope=row>accom</th><td>    NA</td><td>    NA</td><td>    NA</td><td>NA</td><td>NA</td><td>NA</td><td>NA</td><td>NA</td><td>    NA</td><td>    NA</td><td>⋯</td><td> 1</td><td>    NA</td><td>    NA</td><td>    NA</td><td>    NA</td><td>    NA</td><td>    NA</td><td>    NA</td><td>    NA</td><td>    NA</td></tr>\n",
              "\t<tr><th scope=row>expense</th><td> 0.002</td><td>-0.010</td><td> 0.002</td><td>NA</td><td>NA</td><td>NA</td><td>NA</td><td>NA</td><td> 0.008</td><td>-0.001</td><td>⋯</td><td>NA</td><td> 1.000</td><td> 0.946</td><td> 0.975</td><td>-0.007</td><td> 0.012</td><td>-0.007</td><td> 0.011</td><td>-0.004</td><td> 0.013</td></tr>\n",
              "\t<tr><th scope=row>card</th><td> 0.003</td><td>-0.007</td><td> 0.000</td><td>NA</td><td>NA</td><td>NA</td><td>NA</td><td>NA</td><td> 0.009</td><td> 0.005</td><td>⋯</td><td>NA</td><td> 0.946</td><td> 1.000</td><td> 0.850</td><td>-0.006</td><td> 0.011</td><td>-0.010</td><td> 0.008</td><td> 0.000</td><td> 0.012</td></tr>\n",
              "\t<tr><th scope=row>cash</th><td> 0.000</td><td>-0.012</td><td> 0.003</td><td>NA</td><td>NA</td><td>NA</td><td>NA</td><td>NA</td><td> 0.007</td><td>-0.006</td><td>⋯</td><td>NA</td><td> 0.975</td><td> 0.850</td><td> 1.000</td><td>-0.007</td><td> 0.012</td><td>-0.005</td><td> 0.011</td><td>-0.006</td><td> 0.012</td></tr>\n",
              "\t<tr><th scope=row>activity</th><td> 0.061</td><td> 0.018</td><td>-0.153</td><td>NA</td><td>NA</td><td>NA</td><td>NA</td><td>NA</td><td> 0.089</td><td> 0.132</td><td>⋯</td><td>NA</td><td>-0.007</td><td>-0.006</td><td>-0.007</td><td> 1.000</td><td> 0.062</td><td>-0.037</td><td> 0.065</td><td> 0.031</td><td> 0.065</td></tr>\n",
              "\t<tr><th scope=row>overal</th><td>-0.037</td><td> 0.015</td><td> 0.016</td><td>NA</td><td>NA</td><td>NA</td><td>NA</td><td>NA</td><td> 0.065</td><td> 0.009</td><td>⋯</td><td>NA</td><td> 0.012</td><td> 0.011</td><td> 0.012</td><td> 0.062</td><td> 1.000</td><td> 0.285</td><td> 0.585</td><td> 0.410</td><td> 0.534</td></tr>\n",
              "\t<tr><th scope=row>bf_img</th><td>-0.033</td><td>-0.016</td><td> 0.065</td><td>NA</td><td>NA</td><td>NA</td><td>NA</td><td>NA</td><td> 0.005</td><td>-0.037</td><td>⋯</td><td>NA</td><td>-0.007</td><td>-0.010</td><td>-0.005</td><td>-0.037</td><td> 0.285</td><td> 1.000</td><td> 0.448</td><td> 0.297</td><td> 0.333</td></tr>\n",
              "\t<tr><th scope=row>af_img</th><td>-0.035</td><td> 0.012</td><td> 0.006</td><td>NA</td><td>NA</td><td>NA</td><td>NA</td><td>NA</td><td> 0.057</td><td> 0.004</td><td>⋯</td><td>NA</td><td> 0.011</td><td> 0.008</td><td> 0.011</td><td> 0.065</td><td> 0.585</td><td> 0.448</td><td> 1.000</td><td> 0.441</td><td> 0.602</td></tr>\n",
              "\t<tr><th scope=row>revisit</th><td> 0.030</td><td>-0.002</td><td> 0.020</td><td>NA</td><td>NA</td><td>NA</td><td>NA</td><td>NA</td><td> 0.017</td><td> 0.051</td><td>⋯</td><td>NA</td><td>-0.004</td><td> 0.000</td><td>-0.006</td><td> 0.031</td><td> 0.410</td><td> 0.297</td><td> 0.441</td><td> 1.000</td><td> 0.583</td></tr>\n",
              "\t<tr><th scope=row>recom</th><td>-0.014</td><td> 0.017</td><td> 0.029</td><td>NA</td><td>NA</td><td>NA</td><td>NA</td><td>NA</td><td> 0.107</td><td>-0.023</td><td>⋯</td><td>NA</td><td> 0.013</td><td> 0.012</td><td> 0.012</td><td> 0.065</td><td> 0.534</td><td> 0.333</td><td> 0.602</td><td> 0.583</td><td> 1.000</td></tr>\n",
              "</tbody>\n",
              "</table>\n"
            ]
          },
          "metadata": {
            "tags": []
          }
        },
        {
          "output_type": "display_data",
          "data": {
            "text/plain": [
              "         id    month gender edu   job   age   nat   other decision object ⋯\n",
              "id        1.00  0.07  0.03  -0.13 -0.03  0.03  0.02 -0.03 -0.03    -0.03  ⋯\n",
              "month     0.07  1.00 -0.06  -0.03 -0.03  0.05  0.09  0.05  0.03     0.04  ⋯\n",
              "gender    0.03 -0.06  1.00  -0.08  0.11 -0.11 -0.22 -0.07 -0.04    -0.05  ⋯\n",
              "edu      -0.13 -0.03 -0.08   1.00 -0.09  0.03  0.07  0.03  0.04     0.06  ⋯\n",
              "job      -0.03 -0.03  0.11  -0.09  1.00 -0.16 -0.06 -0.02  0.06     0.07  ⋯\n",
              "age       0.03  0.05 -0.11   0.03 -0.16  1.00  0.01 -0.01 -0.05    -0.05  ⋯\n",
              "nat       0.02  0.09 -0.22   0.07 -0.06  0.01  1.00  0.07  0.26     0.13  ⋯\n",
              "other    -0.03  0.05 -0.07   0.03 -0.02 -0.01  0.07  1.00  0.02     0.04  ⋯\n",
              "decision -0.03  0.03 -0.04   0.04  0.06 -0.05  0.26  0.02  1.00     0.16  ⋯\n",
              "object   -0.03  0.04 -0.05   0.06  0.07 -0.05  0.13  0.04  0.16     1.00  ⋯\n",
              "count    -0.03  0.00  0.02  -0.05 -0.01  0.08 -0.12 -0.02 -0.10     0.20  ⋯\n",
              "member    0.14 -0.08  0.06   0.00 -0.04  0.03 -0.11 -0.01 -0.12    -0.17  ⋯\n",
              "number   -0.01 -0.02 -0.03  -0.01  0.01  0.09  0.08 -0.04  0.01    -0.07  ⋯\n",
              "period   -0.07  0.09 -0.02   0.04  0.12 -0.15  0.12  0.12  0.35     0.45  ⋯\n",
              "accom    -0.05  0.03 -0.03  -0.01  0.05 -0.15  0.09  0.03  0.18     0.18  ⋯\n",
              "expense  -0.05  0.01  0.07   0.00  0.04  0.00 -0.10 -0.04 -0.04     0.11  ⋯\n",
              "card     -0.01 -0.02  0.06   0.02  0.02 -0.02 -0.15 -0.03 -0.07     0.12  ⋯\n",
              "cash     -0.05  0.02  0.05  -0.01  0.04  0.01 -0.03 -0.03 -0.01     0.05  ⋯\n",
              "activity  0.08  0.03 -0.16   0.03 -0.02  0.13  0.30  0.04  0.13     0.00  ⋯\n",
              "overal   -0.02  0.04 -0.02   0.04  0.03 -0.03  0.10 -0.04  0.07     0.00  ⋯\n",
              "bf_img   -0.01 -0.01  0.07   0.03  0.04 -0.05  0.05 -0.03  0.04    -0.01  ⋯\n",
              "af_img    0.00  0.08 -0.02   0.01  0.01 -0.02  0.11 -0.03  0.06    -0.01  ⋯\n",
              "revisit   0.02  0.10  0.00  -0.02 -0.02 -0.03  0.05 -0.01  0.03     0.10  ⋯\n",
              "recom    -0.01  0.13 -0.02   0.02 -0.02 -0.01  0.18 -0.02  0.11     0.05  ⋯\n",
              "         accom expense card  cash  activity overal bf_img af_img revisit recom\n",
              "id       -0.05 -0.05   -0.01 -0.05  0.08    -0.02  -0.01   0.00   0.02   -0.01\n",
              "month     0.03  0.01   -0.02  0.02  0.03     0.04  -0.01   0.08   0.10    0.13\n",
              "gender   -0.03  0.07    0.06  0.05 -0.16    -0.02   0.07  -0.02   0.00   -0.02\n",
              "edu      -0.01  0.00    0.02 -0.01  0.03     0.04   0.03   0.01  -0.02    0.02\n",
              "job       0.05  0.04    0.02  0.04 -0.02     0.03   0.04   0.01  -0.02   -0.02\n",
              "age      -0.15  0.00   -0.02  0.01  0.13    -0.03  -0.05  -0.02  -0.03   -0.01\n",
              "nat       0.09 -0.10   -0.15 -0.03  0.30     0.10   0.05   0.11   0.05    0.18\n",
              "other     0.03 -0.04   -0.03 -0.03  0.04    -0.04  -0.03  -0.03  -0.01   -0.02\n",
              "decision  0.18 -0.04   -0.07 -0.01  0.13     0.07   0.04   0.06   0.03    0.11\n",
              "object    0.18  0.11    0.12  0.05  0.00     0.00  -0.01  -0.01   0.10    0.05\n",
              "count     0.07  0.07    0.16 -0.02 -0.07     0.00   0.00   0.00   0.12    0.01\n",
              "member   -0.15 -0.06   -0.05 -0.04 -0.08    -0.10   0.00  -0.08  -0.08   -0.10\n",
              "number   -0.05 -0.06   -0.08 -0.02  0.03    -0.05   0.03  -0.01  -0.06   -0.06\n",
              "period    0.26  0.10    0.11  0.05  0.08     0.01  -0.01   0.01   0.07    0.07\n",
              "accom     1.00  0.00    0.00  0.00  0.05     0.04  -0.02  -0.01   0.06    0.08\n",
              "expense   0.00  1.00    0.54  0.87 -0.09     0.07   0.03   0.02   0.07    0.03\n",
              "card      0.00  0.54    1.00  0.05 -0.11     0.02   0.01   0.01   0.04   -0.04\n",
              "cash      0.00  0.87    0.05  1.00 -0.05     0.07   0.02   0.02   0.06    0.05\n",
              "activity  0.05 -0.09   -0.11 -0.05  1.00     0.11  -0.04   0.07   0.03    0.11\n",
              "overal    0.04  0.07    0.02  0.07  0.11     1.00   0.17   0.60   0.46    0.55\n",
              "bf_img   -0.02  0.03    0.01  0.02 -0.04     0.17   1.00   0.34   0.22    0.24\n",
              "af_img   -0.01  0.02    0.01  0.02  0.07     0.60   0.34   1.00   0.48    0.64\n",
              "revisit   0.06  0.07    0.04  0.06  0.03     0.46   0.22   0.48   1.00    0.63\n",
              "recom     0.08  0.03   -0.04  0.05  0.11     0.55   0.24   0.64   0.63    1.00"
            ],
            "text/latex": "A matrix: 24 × 24 of type dbl\n\\begin{tabular}{r|lllllllllllllllllllll}\n  & id & month & gender & edu & job & age & nat & other & decision & object & ⋯ & accom & expense & card & cash & activity & overal & bf\\_img & af\\_img & revisit & recom\\\\\n\\hline\n\tid &  1.00 &  0.07 &  0.03 & -0.13 & -0.03 &  0.03 &  0.02 & -0.03 & -0.03 & -0.03 & ⋯ & -0.05 & -0.05 & -0.01 & -0.05 &  0.08 & -0.02 & -0.01 &  0.00 &  0.02 & -0.01\\\\\n\tmonth &  0.07 &  1.00 & -0.06 & -0.03 & -0.03 &  0.05 &  0.09 &  0.05 &  0.03 &  0.04 & ⋯ &  0.03 &  0.01 & -0.02 &  0.02 &  0.03 &  0.04 & -0.01 &  0.08 &  0.10 &  0.13\\\\\n\tgender &  0.03 & -0.06 &  1.00 & -0.08 &  0.11 & -0.11 & -0.22 & -0.07 & -0.04 & -0.05 & ⋯ & -0.03 &  0.07 &  0.06 &  0.05 & -0.16 & -0.02 &  0.07 & -0.02 &  0.00 & -0.02\\\\\n\tedu & -0.13 & -0.03 & -0.08 &  1.00 & -0.09 &  0.03 &  0.07 &  0.03 &  0.04 &  0.06 & ⋯ & -0.01 &  0.00 &  0.02 & -0.01 &  0.03 &  0.04 &  0.03 &  0.01 & -0.02 &  0.02\\\\\n\tjob & -0.03 & -0.03 &  0.11 & -0.09 &  1.00 & -0.16 & -0.06 & -0.02 &  0.06 &  0.07 & ⋯ &  0.05 &  0.04 &  0.02 &  0.04 & -0.02 &  0.03 &  0.04 &  0.01 & -0.02 & -0.02\\\\\n\tage &  0.03 &  0.05 & -0.11 &  0.03 & -0.16 &  1.00 &  0.01 & -0.01 & -0.05 & -0.05 & ⋯ & -0.15 &  0.00 & -0.02 &  0.01 &  0.13 & -0.03 & -0.05 & -0.02 & -0.03 & -0.01\\\\\n\tnat &  0.02 &  0.09 & -0.22 &  0.07 & -0.06 &  0.01 &  1.00 &  0.07 &  0.26 &  0.13 & ⋯ &  0.09 & -0.10 & -0.15 & -0.03 &  0.30 &  0.10 &  0.05 &  0.11 &  0.05 &  0.18\\\\\n\tother & -0.03 &  0.05 & -0.07 &  0.03 & -0.02 & -0.01 &  0.07 &  1.00 &  0.02 &  0.04 & ⋯ &  0.03 & -0.04 & -0.03 & -0.03 &  0.04 & -0.04 & -0.03 & -0.03 & -0.01 & -0.02\\\\\n\tdecision & -0.03 &  0.03 & -0.04 &  0.04 &  0.06 & -0.05 &  0.26 &  0.02 &  1.00 &  0.16 & ⋯ &  0.18 & -0.04 & -0.07 & -0.01 &  0.13 &  0.07 &  0.04 &  0.06 &  0.03 &  0.11\\\\\n\tobject & -0.03 &  0.04 & -0.05 &  0.06 &  0.07 & -0.05 &  0.13 &  0.04 &  0.16 &  1.00 & ⋯ &  0.18 &  0.11 &  0.12 &  0.05 &  0.00 &  0.00 & -0.01 & -0.01 &  0.10 &  0.05\\\\\n\tcount & -0.03 &  0.00 &  0.02 & -0.05 & -0.01 &  0.08 & -0.12 & -0.02 & -0.10 &  0.20 & ⋯ &  0.07 &  0.07 &  0.16 & -0.02 & -0.07 &  0.00 &  0.00 &  0.00 &  0.12 &  0.01\\\\\n\tmember &  0.14 & -0.08 &  0.06 &  0.00 & -0.04 &  0.03 & -0.11 & -0.01 & -0.12 & -0.17 & ⋯ & -0.15 & -0.06 & -0.05 & -0.04 & -0.08 & -0.10 &  0.00 & -0.08 & -0.08 & -0.10\\\\\n\tnumber & -0.01 & -0.02 & -0.03 & -0.01 &  0.01 &  0.09 &  0.08 & -0.04 &  0.01 & -0.07 & ⋯ & -0.05 & -0.06 & -0.08 & -0.02 &  0.03 & -0.05 &  0.03 & -0.01 & -0.06 & -0.06\\\\\n\tperiod & -0.07 &  0.09 & -0.02 &  0.04 &  0.12 & -0.15 &  0.12 &  0.12 &  0.35 &  0.45 & ⋯ &  0.26 &  0.10 &  0.11 &  0.05 &  0.08 &  0.01 & -0.01 &  0.01 &  0.07 &  0.07\\\\\n\taccom & -0.05 &  0.03 & -0.03 & -0.01 &  0.05 & -0.15 &  0.09 &  0.03 &  0.18 &  0.18 & ⋯ &  1.00 &  0.00 &  0.00 &  0.00 &  0.05 &  0.04 & -0.02 & -0.01 &  0.06 &  0.08\\\\\n\texpense & -0.05 &  0.01 &  0.07 &  0.00 &  0.04 &  0.00 & -0.10 & -0.04 & -0.04 &  0.11 & ⋯ &  0.00 &  1.00 &  0.54 &  0.87 & -0.09 &  0.07 &  0.03 &  0.02 &  0.07 &  0.03\\\\\n\tcard & -0.01 & -0.02 &  0.06 &  0.02 &  0.02 & -0.02 & -0.15 & -0.03 & -0.07 &  0.12 & ⋯ &  0.00 &  0.54 &  1.00 &  0.05 & -0.11 &  0.02 &  0.01 &  0.01 &  0.04 & -0.04\\\\\n\tcash & -0.05 &  0.02 &  0.05 & -0.01 &  0.04 &  0.01 & -0.03 & -0.03 & -0.01 &  0.05 & ⋯ &  0.00 &  0.87 &  0.05 &  1.00 & -0.05 &  0.07 &  0.02 &  0.02 &  0.06 &  0.05\\\\\n\tactivity &  0.08 &  0.03 & -0.16 &  0.03 & -0.02 &  0.13 &  0.30 &  0.04 &  0.13 &  0.00 & ⋯ &  0.05 & -0.09 & -0.11 & -0.05 &  1.00 &  0.11 & -0.04 &  0.07 &  0.03 &  0.11\\\\\n\toveral & -0.02 &  0.04 & -0.02 &  0.04 &  0.03 & -0.03 &  0.10 & -0.04 &  0.07 &  0.00 & ⋯ &  0.04 &  0.07 &  0.02 &  0.07 &  0.11 &  1.00 &  0.17 &  0.60 &  0.46 &  0.55\\\\\n\tbf\\_img & -0.01 & -0.01 &  0.07 &  0.03 &  0.04 & -0.05 &  0.05 & -0.03 &  0.04 & -0.01 & ⋯ & -0.02 &  0.03 &  0.01 &  0.02 & -0.04 &  0.17 &  1.00 &  0.34 &  0.22 &  0.24\\\\\n\taf\\_img &  0.00 &  0.08 & -0.02 &  0.01 &  0.01 & -0.02 &  0.11 & -0.03 &  0.06 & -0.01 & ⋯ & -0.01 &  0.02 &  0.01 &  0.02 &  0.07 &  0.60 &  0.34 &  1.00 &  0.48 &  0.64\\\\\n\trevisit &  0.02 &  0.10 &  0.00 & -0.02 & -0.02 & -0.03 &  0.05 & -0.01 &  0.03 &  0.10 & ⋯ &  0.06 &  0.07 &  0.04 &  0.06 &  0.03 &  0.46 &  0.22 &  0.48 &  1.00 &  0.63\\\\\n\trecom & -0.01 &  0.13 & -0.02 &  0.02 & -0.02 & -0.01 &  0.18 & -0.02 &  0.11 &  0.05 & ⋯ &  0.08 &  0.03 & -0.04 &  0.05 &  0.11 &  0.55 &  0.24 &  0.64 &  0.63 &  1.00\\\\\n\\end{tabular}\n",
            "text/markdown": "\nA matrix: 24 × 24 of type dbl\n\n| <!--/--> | id | month | gender | edu | job | age | nat | other | decision | object | ⋯ | accom | expense | card | cash | activity | overal | bf_img | af_img | revisit | recom |\n|---|---|---|---|---|---|---|---|---|---|---|---|---|---|---|---|---|---|---|---|---|---|\n| id |  1.00 |  0.07 |  0.03 | -0.13 | -0.03 |  0.03 |  0.02 | -0.03 | -0.03 | -0.03 | ⋯ | -0.05 | -0.05 | -0.01 | -0.05 |  0.08 | -0.02 | -0.01 |  0.00 |  0.02 | -0.01 |\n| month |  0.07 |  1.00 | -0.06 | -0.03 | -0.03 |  0.05 |  0.09 |  0.05 |  0.03 |  0.04 | ⋯ |  0.03 |  0.01 | -0.02 |  0.02 |  0.03 |  0.04 | -0.01 |  0.08 |  0.10 |  0.13 |\n| gender |  0.03 | -0.06 |  1.00 | -0.08 |  0.11 | -0.11 | -0.22 | -0.07 | -0.04 | -0.05 | ⋯ | -0.03 |  0.07 |  0.06 |  0.05 | -0.16 | -0.02 |  0.07 | -0.02 |  0.00 | -0.02 |\n| edu | -0.13 | -0.03 | -0.08 |  1.00 | -0.09 |  0.03 |  0.07 |  0.03 |  0.04 |  0.06 | ⋯ | -0.01 |  0.00 |  0.02 | -0.01 |  0.03 |  0.04 |  0.03 |  0.01 | -0.02 |  0.02 |\n| job | -0.03 | -0.03 |  0.11 | -0.09 |  1.00 | -0.16 | -0.06 | -0.02 |  0.06 |  0.07 | ⋯ |  0.05 |  0.04 |  0.02 |  0.04 | -0.02 |  0.03 |  0.04 |  0.01 | -0.02 | -0.02 |\n| age |  0.03 |  0.05 | -0.11 |  0.03 | -0.16 |  1.00 |  0.01 | -0.01 | -0.05 | -0.05 | ⋯ | -0.15 |  0.00 | -0.02 |  0.01 |  0.13 | -0.03 | -0.05 | -0.02 | -0.03 | -0.01 |\n| nat |  0.02 |  0.09 | -0.22 |  0.07 | -0.06 |  0.01 |  1.00 |  0.07 |  0.26 |  0.13 | ⋯ |  0.09 | -0.10 | -0.15 | -0.03 |  0.30 |  0.10 |  0.05 |  0.11 |  0.05 |  0.18 |\n| other | -0.03 |  0.05 | -0.07 |  0.03 | -0.02 | -0.01 |  0.07 |  1.00 |  0.02 |  0.04 | ⋯ |  0.03 | -0.04 | -0.03 | -0.03 |  0.04 | -0.04 | -0.03 | -0.03 | -0.01 | -0.02 |\n| decision | -0.03 |  0.03 | -0.04 |  0.04 |  0.06 | -0.05 |  0.26 |  0.02 |  1.00 |  0.16 | ⋯ |  0.18 | -0.04 | -0.07 | -0.01 |  0.13 |  0.07 |  0.04 |  0.06 |  0.03 |  0.11 |\n| object | -0.03 |  0.04 | -0.05 |  0.06 |  0.07 | -0.05 |  0.13 |  0.04 |  0.16 |  1.00 | ⋯ |  0.18 |  0.11 |  0.12 |  0.05 |  0.00 |  0.00 | -0.01 | -0.01 |  0.10 |  0.05 |\n| count | -0.03 |  0.00 |  0.02 | -0.05 | -0.01 |  0.08 | -0.12 | -0.02 | -0.10 |  0.20 | ⋯ |  0.07 |  0.07 |  0.16 | -0.02 | -0.07 |  0.00 |  0.00 |  0.00 |  0.12 |  0.01 |\n| member |  0.14 | -0.08 |  0.06 |  0.00 | -0.04 |  0.03 | -0.11 | -0.01 | -0.12 | -0.17 | ⋯ | -0.15 | -0.06 | -0.05 | -0.04 | -0.08 | -0.10 |  0.00 | -0.08 | -0.08 | -0.10 |\n| number | -0.01 | -0.02 | -0.03 | -0.01 |  0.01 |  0.09 |  0.08 | -0.04 |  0.01 | -0.07 | ⋯ | -0.05 | -0.06 | -0.08 | -0.02 |  0.03 | -0.05 |  0.03 | -0.01 | -0.06 | -0.06 |\n| period | -0.07 |  0.09 | -0.02 |  0.04 |  0.12 | -0.15 |  0.12 |  0.12 |  0.35 |  0.45 | ⋯ |  0.26 |  0.10 |  0.11 |  0.05 |  0.08 |  0.01 | -0.01 |  0.01 |  0.07 |  0.07 |\n| accom | -0.05 |  0.03 | -0.03 | -0.01 |  0.05 | -0.15 |  0.09 |  0.03 |  0.18 |  0.18 | ⋯ |  1.00 |  0.00 |  0.00 |  0.00 |  0.05 |  0.04 | -0.02 | -0.01 |  0.06 |  0.08 |\n| expense | -0.05 |  0.01 |  0.07 |  0.00 |  0.04 |  0.00 | -0.10 | -0.04 | -0.04 |  0.11 | ⋯ |  0.00 |  1.00 |  0.54 |  0.87 | -0.09 |  0.07 |  0.03 |  0.02 |  0.07 |  0.03 |\n| card | -0.01 | -0.02 |  0.06 |  0.02 |  0.02 | -0.02 | -0.15 | -0.03 | -0.07 |  0.12 | ⋯ |  0.00 |  0.54 |  1.00 |  0.05 | -0.11 |  0.02 |  0.01 |  0.01 |  0.04 | -0.04 |\n| cash | -0.05 |  0.02 |  0.05 | -0.01 |  0.04 |  0.01 | -0.03 | -0.03 | -0.01 |  0.05 | ⋯ |  0.00 |  0.87 |  0.05 |  1.00 | -0.05 |  0.07 |  0.02 |  0.02 |  0.06 |  0.05 |\n| activity |  0.08 |  0.03 | -0.16 |  0.03 | -0.02 |  0.13 |  0.30 |  0.04 |  0.13 |  0.00 | ⋯ |  0.05 | -0.09 | -0.11 | -0.05 |  1.00 |  0.11 | -0.04 |  0.07 |  0.03 |  0.11 |\n| overal | -0.02 |  0.04 | -0.02 |  0.04 |  0.03 | -0.03 |  0.10 | -0.04 |  0.07 |  0.00 | ⋯ |  0.04 |  0.07 |  0.02 |  0.07 |  0.11 |  1.00 |  0.17 |  0.60 |  0.46 |  0.55 |\n| bf_img | -0.01 | -0.01 |  0.07 |  0.03 |  0.04 | -0.05 |  0.05 | -0.03 |  0.04 | -0.01 | ⋯ | -0.02 |  0.03 |  0.01 |  0.02 | -0.04 |  0.17 |  1.00 |  0.34 |  0.22 |  0.24 |\n| af_img |  0.00 |  0.08 | -0.02 |  0.01 |  0.01 | -0.02 |  0.11 | -0.03 |  0.06 | -0.01 | ⋯ | -0.01 |  0.02 |  0.01 |  0.02 |  0.07 |  0.60 |  0.34 |  1.00 |  0.48 |  0.64 |\n| revisit |  0.02 |  0.10 |  0.00 | -0.02 | -0.02 | -0.03 |  0.05 | -0.01 |  0.03 |  0.10 | ⋯ |  0.06 |  0.07 |  0.04 |  0.06 |  0.03 |  0.46 |  0.22 |  0.48 |  1.00 |  0.63 |\n| recom | -0.01 |  0.13 | -0.02 |  0.02 | -0.02 | -0.01 |  0.18 | -0.02 |  0.11 |  0.05 | ⋯ |  0.08 |  0.03 | -0.04 |  0.05 |  0.11 |  0.55 |  0.24 |  0.64 |  0.63 |  1.00 |\n\n",
            "text/html": [
              "<table>\n",
              "<caption>A matrix: 24 × 24 of type dbl</caption>\n",
              "<thead>\n",
              "\t<tr><th></th><th scope=col>id</th><th scope=col>month</th><th scope=col>gender</th><th scope=col>edu</th><th scope=col>job</th><th scope=col>age</th><th scope=col>nat</th><th scope=col>other</th><th scope=col>decision</th><th scope=col>object</th><th scope=col>⋯</th><th scope=col>accom</th><th scope=col>expense</th><th scope=col>card</th><th scope=col>cash</th><th scope=col>activity</th><th scope=col>overal</th><th scope=col>bf_img</th><th scope=col>af_img</th><th scope=col>revisit</th><th scope=col>recom</th></tr>\n",
              "</thead>\n",
              "<tbody>\n",
              "\t<tr><th scope=row>id</th><td> 1.00</td><td> 0.07</td><td> 0.03</td><td>-0.13</td><td>-0.03</td><td> 0.03</td><td> 0.02</td><td>-0.03</td><td>-0.03</td><td>-0.03</td><td>⋯</td><td>-0.05</td><td>-0.05</td><td>-0.01</td><td>-0.05</td><td> 0.08</td><td>-0.02</td><td>-0.01</td><td> 0.00</td><td> 0.02</td><td>-0.01</td></tr>\n",
              "\t<tr><th scope=row>month</th><td> 0.07</td><td> 1.00</td><td>-0.06</td><td>-0.03</td><td>-0.03</td><td> 0.05</td><td> 0.09</td><td> 0.05</td><td> 0.03</td><td> 0.04</td><td>⋯</td><td> 0.03</td><td> 0.01</td><td>-0.02</td><td> 0.02</td><td> 0.03</td><td> 0.04</td><td>-0.01</td><td> 0.08</td><td> 0.10</td><td> 0.13</td></tr>\n",
              "\t<tr><th scope=row>gender</th><td> 0.03</td><td>-0.06</td><td> 1.00</td><td>-0.08</td><td> 0.11</td><td>-0.11</td><td>-0.22</td><td>-0.07</td><td>-0.04</td><td>-0.05</td><td>⋯</td><td>-0.03</td><td> 0.07</td><td> 0.06</td><td> 0.05</td><td>-0.16</td><td>-0.02</td><td> 0.07</td><td>-0.02</td><td> 0.00</td><td>-0.02</td></tr>\n",
              "\t<tr><th scope=row>edu</th><td>-0.13</td><td>-0.03</td><td>-0.08</td><td> 1.00</td><td>-0.09</td><td> 0.03</td><td> 0.07</td><td> 0.03</td><td> 0.04</td><td> 0.06</td><td>⋯</td><td>-0.01</td><td> 0.00</td><td> 0.02</td><td>-0.01</td><td> 0.03</td><td> 0.04</td><td> 0.03</td><td> 0.01</td><td>-0.02</td><td> 0.02</td></tr>\n",
              "\t<tr><th scope=row>job</th><td>-0.03</td><td>-0.03</td><td> 0.11</td><td>-0.09</td><td> 1.00</td><td>-0.16</td><td>-0.06</td><td>-0.02</td><td> 0.06</td><td> 0.07</td><td>⋯</td><td> 0.05</td><td> 0.04</td><td> 0.02</td><td> 0.04</td><td>-0.02</td><td> 0.03</td><td> 0.04</td><td> 0.01</td><td>-0.02</td><td>-0.02</td></tr>\n",
              "\t<tr><th scope=row>age</th><td> 0.03</td><td> 0.05</td><td>-0.11</td><td> 0.03</td><td>-0.16</td><td> 1.00</td><td> 0.01</td><td>-0.01</td><td>-0.05</td><td>-0.05</td><td>⋯</td><td>-0.15</td><td> 0.00</td><td>-0.02</td><td> 0.01</td><td> 0.13</td><td>-0.03</td><td>-0.05</td><td>-0.02</td><td>-0.03</td><td>-0.01</td></tr>\n",
              "\t<tr><th scope=row>nat</th><td> 0.02</td><td> 0.09</td><td>-0.22</td><td> 0.07</td><td>-0.06</td><td> 0.01</td><td> 1.00</td><td> 0.07</td><td> 0.26</td><td> 0.13</td><td>⋯</td><td> 0.09</td><td>-0.10</td><td>-0.15</td><td>-0.03</td><td> 0.30</td><td> 0.10</td><td> 0.05</td><td> 0.11</td><td> 0.05</td><td> 0.18</td></tr>\n",
              "\t<tr><th scope=row>other</th><td>-0.03</td><td> 0.05</td><td>-0.07</td><td> 0.03</td><td>-0.02</td><td>-0.01</td><td> 0.07</td><td> 1.00</td><td> 0.02</td><td> 0.04</td><td>⋯</td><td> 0.03</td><td>-0.04</td><td>-0.03</td><td>-0.03</td><td> 0.04</td><td>-0.04</td><td>-0.03</td><td>-0.03</td><td>-0.01</td><td>-0.02</td></tr>\n",
              "\t<tr><th scope=row>decision</th><td>-0.03</td><td> 0.03</td><td>-0.04</td><td> 0.04</td><td> 0.06</td><td>-0.05</td><td> 0.26</td><td> 0.02</td><td> 1.00</td><td> 0.16</td><td>⋯</td><td> 0.18</td><td>-0.04</td><td>-0.07</td><td>-0.01</td><td> 0.13</td><td> 0.07</td><td> 0.04</td><td> 0.06</td><td> 0.03</td><td> 0.11</td></tr>\n",
              "\t<tr><th scope=row>object</th><td>-0.03</td><td> 0.04</td><td>-0.05</td><td> 0.06</td><td> 0.07</td><td>-0.05</td><td> 0.13</td><td> 0.04</td><td> 0.16</td><td> 1.00</td><td>⋯</td><td> 0.18</td><td> 0.11</td><td> 0.12</td><td> 0.05</td><td> 0.00</td><td> 0.00</td><td>-0.01</td><td>-0.01</td><td> 0.10</td><td> 0.05</td></tr>\n",
              "\t<tr><th scope=row>count</th><td>-0.03</td><td> 0.00</td><td> 0.02</td><td>-0.05</td><td>-0.01</td><td> 0.08</td><td>-0.12</td><td>-0.02</td><td>-0.10</td><td> 0.20</td><td>⋯</td><td> 0.07</td><td> 0.07</td><td> 0.16</td><td>-0.02</td><td>-0.07</td><td> 0.00</td><td> 0.00</td><td> 0.00</td><td> 0.12</td><td> 0.01</td></tr>\n",
              "\t<tr><th scope=row>member</th><td> 0.14</td><td>-0.08</td><td> 0.06</td><td> 0.00</td><td>-0.04</td><td> 0.03</td><td>-0.11</td><td>-0.01</td><td>-0.12</td><td>-0.17</td><td>⋯</td><td>-0.15</td><td>-0.06</td><td>-0.05</td><td>-0.04</td><td>-0.08</td><td>-0.10</td><td> 0.00</td><td>-0.08</td><td>-0.08</td><td>-0.10</td></tr>\n",
              "\t<tr><th scope=row>number</th><td>-0.01</td><td>-0.02</td><td>-0.03</td><td>-0.01</td><td> 0.01</td><td> 0.09</td><td> 0.08</td><td>-0.04</td><td> 0.01</td><td>-0.07</td><td>⋯</td><td>-0.05</td><td>-0.06</td><td>-0.08</td><td>-0.02</td><td> 0.03</td><td>-0.05</td><td> 0.03</td><td>-0.01</td><td>-0.06</td><td>-0.06</td></tr>\n",
              "\t<tr><th scope=row>period</th><td>-0.07</td><td> 0.09</td><td>-0.02</td><td> 0.04</td><td> 0.12</td><td>-0.15</td><td> 0.12</td><td> 0.12</td><td> 0.35</td><td> 0.45</td><td>⋯</td><td> 0.26</td><td> 0.10</td><td> 0.11</td><td> 0.05</td><td> 0.08</td><td> 0.01</td><td>-0.01</td><td> 0.01</td><td> 0.07</td><td> 0.07</td></tr>\n",
              "\t<tr><th scope=row>accom</th><td>-0.05</td><td> 0.03</td><td>-0.03</td><td>-0.01</td><td> 0.05</td><td>-0.15</td><td> 0.09</td><td> 0.03</td><td> 0.18</td><td> 0.18</td><td>⋯</td><td> 1.00</td><td> 0.00</td><td> 0.00</td><td> 0.00</td><td> 0.05</td><td> 0.04</td><td>-0.02</td><td>-0.01</td><td> 0.06</td><td> 0.08</td></tr>\n",
              "\t<tr><th scope=row>expense</th><td>-0.05</td><td> 0.01</td><td> 0.07</td><td> 0.00</td><td> 0.04</td><td> 0.00</td><td>-0.10</td><td>-0.04</td><td>-0.04</td><td> 0.11</td><td>⋯</td><td> 0.00</td><td> 1.00</td><td> 0.54</td><td> 0.87</td><td>-0.09</td><td> 0.07</td><td> 0.03</td><td> 0.02</td><td> 0.07</td><td> 0.03</td></tr>\n",
              "\t<tr><th scope=row>card</th><td>-0.01</td><td>-0.02</td><td> 0.06</td><td> 0.02</td><td> 0.02</td><td>-0.02</td><td>-0.15</td><td>-0.03</td><td>-0.07</td><td> 0.12</td><td>⋯</td><td> 0.00</td><td> 0.54</td><td> 1.00</td><td> 0.05</td><td>-0.11</td><td> 0.02</td><td> 0.01</td><td> 0.01</td><td> 0.04</td><td>-0.04</td></tr>\n",
              "\t<tr><th scope=row>cash</th><td>-0.05</td><td> 0.02</td><td> 0.05</td><td>-0.01</td><td> 0.04</td><td> 0.01</td><td>-0.03</td><td>-0.03</td><td>-0.01</td><td> 0.05</td><td>⋯</td><td> 0.00</td><td> 0.87</td><td> 0.05</td><td> 1.00</td><td>-0.05</td><td> 0.07</td><td> 0.02</td><td> 0.02</td><td> 0.06</td><td> 0.05</td></tr>\n",
              "\t<tr><th scope=row>activity</th><td> 0.08</td><td> 0.03</td><td>-0.16</td><td> 0.03</td><td>-0.02</td><td> 0.13</td><td> 0.30</td><td> 0.04</td><td> 0.13</td><td> 0.00</td><td>⋯</td><td> 0.05</td><td>-0.09</td><td>-0.11</td><td>-0.05</td><td> 1.00</td><td> 0.11</td><td>-0.04</td><td> 0.07</td><td> 0.03</td><td> 0.11</td></tr>\n",
              "\t<tr><th scope=row>overal</th><td>-0.02</td><td> 0.04</td><td>-0.02</td><td> 0.04</td><td> 0.03</td><td>-0.03</td><td> 0.10</td><td>-0.04</td><td> 0.07</td><td> 0.00</td><td>⋯</td><td> 0.04</td><td> 0.07</td><td> 0.02</td><td> 0.07</td><td> 0.11</td><td> 1.00</td><td> 0.17</td><td> 0.60</td><td> 0.46</td><td> 0.55</td></tr>\n",
              "\t<tr><th scope=row>bf_img</th><td>-0.01</td><td>-0.01</td><td> 0.07</td><td> 0.03</td><td> 0.04</td><td>-0.05</td><td> 0.05</td><td>-0.03</td><td> 0.04</td><td>-0.01</td><td>⋯</td><td>-0.02</td><td> 0.03</td><td> 0.01</td><td> 0.02</td><td>-0.04</td><td> 0.17</td><td> 1.00</td><td> 0.34</td><td> 0.22</td><td> 0.24</td></tr>\n",
              "\t<tr><th scope=row>af_img</th><td> 0.00</td><td> 0.08</td><td>-0.02</td><td> 0.01</td><td> 0.01</td><td>-0.02</td><td> 0.11</td><td>-0.03</td><td> 0.06</td><td>-0.01</td><td>⋯</td><td>-0.01</td><td> 0.02</td><td> 0.01</td><td> 0.02</td><td> 0.07</td><td> 0.60</td><td> 0.34</td><td> 1.00</td><td> 0.48</td><td> 0.64</td></tr>\n",
              "\t<tr><th scope=row>revisit</th><td> 0.02</td><td> 0.10</td><td> 0.00</td><td>-0.02</td><td>-0.02</td><td>-0.03</td><td> 0.05</td><td>-0.01</td><td> 0.03</td><td> 0.10</td><td>⋯</td><td> 0.06</td><td> 0.07</td><td> 0.04</td><td> 0.06</td><td> 0.03</td><td> 0.46</td><td> 0.22</td><td> 0.48</td><td> 1.00</td><td> 0.63</td></tr>\n",
              "\t<tr><th scope=row>recom</th><td>-0.01</td><td> 0.13</td><td>-0.02</td><td> 0.02</td><td>-0.02</td><td>-0.01</td><td> 0.18</td><td>-0.02</td><td> 0.11</td><td> 0.05</td><td>⋯</td><td> 0.08</td><td> 0.03</td><td>-0.04</td><td> 0.05</td><td> 0.11</td><td> 0.55</td><td> 0.24</td><td> 0.64</td><td> 0.63</td><td> 1.00</td></tr>\n",
              "</tbody>\n",
              "</table>\n"
            ]
          },
          "metadata": {
            "tags": []
          }
        }
      ]
    },
    {
      "cell_type": "markdown",
      "metadata": {
        "id": "bPSygQmyYLUF",
        "colab_type": "text"
      },
      "source": [
        "### **Scatter Matrix**"
      ]
    },
    {
      "cell_type": "code",
      "metadata": {
        "id": "grRIvH-tYQAF",
        "colab_type": "code",
        "colab": {
          "base_uri": "https://localhost:8080/",
          "height": 891
        },
        "outputId": "5b998d4b-90e5-4829-c108-1db8f71be9b5"
      },
      "source": [
        "plot(my$gender, my$age)\n",
        "# Correlation between gender and age\n",
        "cor(my$gender, my$age, method = 'spearman', use = 'complete.obs')\n",
        "\n",
        "plot(my$gender, my$object)\n",
        "# Correlation between gender and purpose of travel\n",
        "cor(my$gender, my$object, method = 'spearman')"
      ],
      "execution_count": 34,
      "outputs": [
        {
          "output_type": "display_data",
          "data": {
            "text/plain": [
              "[1] -0.1748387"
            ],
            "text/latex": "-0.174838718404804",
            "text/markdown": "-0.174838718404804",
            "text/html": [
              "-0.174838718404804"
            ]
          },
          "metadata": {
            "tags": []
          }
        },
        {
          "output_type": "display_data",
          "data": {
            "image/png": "[encoded data removed]",
            "text/plain": [
              "plot without title"
            ]
          },
          "metadata": {
            "tags": [],
            "image/png": {
              "width": 420,
              "height": 420
            },
            "text/plain": {
              "width": 420,
              "height": 420
            }
          }
        },
        {
          "output_type": "display_data",
          "data": {
            "text/plain": [
              "[1] -0.205762"
            ],
            "text/latex": "-0.205761978333609",
            "text/markdown": "-0.205761978333609",
            "text/html": [
              "-0.205761978333609"
            ]
          },
          "metadata": {
            "tags": []
          }
        },
        {
          "output_type": "display_data",
          "data": {
            "image/png": "[encoded data removed]",
            "text/plain": [
              "plot without title"
            ]
          },
          "metadata": {
            "tags": [],
            "image/png": {
              "width": 420,
              "height": 420
            },
            "text/plain": {
              "width": 420,
              "height": 420
            }
          }
        }
      ]
    },
    {
      "cell_type": "markdown",
      "metadata": {
        "id": "4cx7B_JSZ9Z9",
        "colab_type": "text"
      },
      "source": [
        "We can see that there are **no correlation** between gender & age, and gender & object."
      ]
    },
    {
      "cell_type": "code",
      "metadata": {
        "id": "3MoV3Yy8ZAQP",
        "colab_type": "code",
        "colab": {
          "base_uri": "https://localhost:8080/",
          "height": 656
        },
        "outputId": "f67e1a45-1025-4bbc-a2b0-59b57d233762"
      },
      "source": [
        "# Extract subsets\n",
        "setDF(my) #convert to 'data.frame'\n",
        "ctg <- my[c('gender', 'age', 'object', 'accom')]\n",
        "str(ctg)\n",
        "\n",
        "plot(ctg)\n",
        "cor(ctg, method = 'spearman', use = 'complete.obs')"
      ],
      "execution_count": 40,
      "outputs": [
        {
          "output_type": "stream",
          "text": [
            "'data.frame':\t13841 obs. of  4 variables:\n",
            " $ gender: int  2 1 1 1 1 2 2 2 2 2 ...\n",
            " $ age   : int  0 3 1 1 2 1 1 1 1 1 ...\n",
            " $ object: int  8 1 7 5 1 1 1 1 5 1 ...\n",
            " $ accom : int  1 1 3 4 2 2 2 2 2 1 ...\n"
          ],
          "name": "stdout"
        },
        {
          "output_type": "display_data",
          "data": {
            "text/plain": [
              "       gender      age        object      accom      \n",
              "gender  1.00000000 -0.1755577 -0.20614165  0.07490583\n",
              "age    -0.17555774  1.0000000  0.10376116 -0.20384497\n",
              "object -0.20614165  0.1037612  1.00000000  0.09306589\n",
              "accom   0.07490583 -0.2038450  0.09306589  1.00000000"
            ],
            "text/latex": "A matrix: 4 × 4 of type dbl\n\\begin{tabular}{r|llll}\n  & gender & age & object & accom\\\\\n\\hline\n\tgender &  1.00000000 & -0.1755577 & -0.20614165 &  0.07490583\\\\\n\tage & -0.17555774 &  1.0000000 &  0.10376116 & -0.20384497\\\\\n\tobject & -0.20614165 &  0.1037612 &  1.00000000 &  0.09306589\\\\\n\taccom &  0.07490583 & -0.2038450 &  0.09306589 &  1.00000000\\\\\n\\end{tabular}\n",
            "text/markdown": "\nA matrix: 4 × 4 of type dbl\n\n| <!--/--> | gender | age | object | accom |\n|---|---|---|---|---|\n| gender |  1.00000000 | -0.1755577 | -0.20614165 |  0.07490583 |\n| age | -0.17555774 |  1.0000000 |  0.10376116 | -0.20384497 |\n| object | -0.20614165 |  0.1037612 |  1.00000000 |  0.09306589 |\n| accom |  0.07490583 | -0.2038450 |  0.09306589 |  1.00000000 |\n\n",
            "text/html": [
              "<table>\n",
              "<caption>A matrix: 4 × 4 of type dbl</caption>\n",
              "<thead>\n",
              "\t<tr><th></th><th scope=col>gender</th><th scope=col>age</th><th scope=col>object</th><th scope=col>accom</th></tr>\n",
              "</thead>\n",
              "<tbody>\n",
              "\t<tr><th scope=row>gender</th><td> 1.00000000</td><td>-0.1755577</td><td>-0.20614165</td><td> 0.07490583</td></tr>\n",
              "\t<tr><th scope=row>age</th><td>-0.17555774</td><td> 1.0000000</td><td> 0.10376116</td><td>-0.20384497</td></tr>\n",
              "\t<tr><th scope=row>object</th><td>-0.20614165</td><td> 0.1037612</td><td> 1.00000000</td><td> 0.09306589</td></tr>\n",
              "\t<tr><th scope=row>accom</th><td> 0.07490583</td><td>-0.2038450</td><td> 0.09306589</td><td> 1.00000000</td></tr>\n",
              "</tbody>\n",
              "</table>\n"
            ]
          },
          "metadata": {
            "tags": []
          }
        },
        {
          "output_type": "display_data",
          "data": {
            "image/png": "[encoded data removed]",
            "text/plain": [
              "plot without title"
            ]
          },
          "metadata": {
            "tags": [],
            "image/png": {
              "width": 420,
              "height": 420
            },
            "text/plain": {
              "width": 420,
              "height": 420
            }
          }
        }
      ]
    }
  ]
}